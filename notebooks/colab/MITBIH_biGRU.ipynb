{
  "cells": [
    {
      "cell_type": "markdown",
      "metadata": {
        "id": "view-in-github",
        "colab_type": "text"
      },
      "source": [
        "<a href=\"https://colab.research.google.com/github/pszemraj/ml4hc-s22-project01/blob/sync-notebooks/notebooks/colab/MITBIH_biGRU.ipynb\" target=\"_parent\"><img src=\"https://colab.research.google.com/assets/colab-badge.svg\" alt=\"Open In Colab\"/></a>"
      ]
    },
    {
      "cell_type": "markdown",
      "metadata": {
        "id": "15a2bf69"
      },
      "source": [
        "# MITBIH Dataset\n"
      ],
      "id": "15a2bf69"
    },
    {
      "cell_type": "markdown",
      "source": [
        "In this notebook we trained various more or less complex models on the MITBIH dataset, made predictions and estimated their performance based on the accuracy and f1 score metrics "
      ],
      "metadata": {
        "id": "LAJxfOipltej"
      },
      "id": "LAJxfOipltej"
    },
    {
      "cell_type": "markdown",
      "source": [
        "## setup"
      ],
      "metadata": {
        "id": "wXLJIlYVDffL"
      },
      "id": "wXLJIlYVDffL"
    },
    {
      "cell_type": "code",
      "source": [
        "!nvidia-smi"
      ],
      "metadata": {
        "colab": {
          "base_uri": "https://localhost:8080/"
        },
        "id": "In_50y_iV5Pl",
        "outputId": "26ee80f2-b2cf-4c85-bffe-7c9a87eda852"
      },
      "id": "In_50y_iV5Pl",
      "execution_count": null,
      "outputs": [
        {
          "output_type": "stream",
          "name": "stdout",
          "text": [
            "Sat Mar 26 21:02:51 2022       \n",
            "+-----------------------------------------------------------------------------+\n",
            "| NVIDIA-SMI 460.32.03    Driver Version: 460.32.03    CUDA Version: 11.2     |\n",
            "|-------------------------------+----------------------+----------------------+\n",
            "| GPU  Name        Persistence-M| Bus-Id        Disp.A | Volatile Uncorr. ECC |\n",
            "| Fan  Temp  Perf  Pwr:Usage/Cap|         Memory-Usage | GPU-Util  Compute M. |\n",
            "|                               |                      |               MIG M. |\n",
            "|===============================+======================+======================|\n",
            "|   0  A100-SXM4-40GB      Off  | 00000000:00:04.0 Off |                    0 |\n",
            "| N/A   39C    P0    45W / 400W |      0MiB / 40536MiB |      0%      Default |\n",
            "|                               |                      |             Disabled |\n",
            "+-------------------------------+----------------------+----------------------+\n",
            "                                                                               \n",
            "+-----------------------------------------------------------------------------+\n",
            "| Processes:                                                                  |\n",
            "|  GPU   GI   CI        PID   Type   Process name                  GPU Memory |\n",
            "|        ID   ID                                                   Usage      |\n",
            "|=============================================================================|\n",
            "|  No running processes found                                                 |\n",
            "+-----------------------------------------------------------------------------+\n"
          ]
        }
      ]
    },
    {
      "cell_type": "code",
      "execution_count": null,
      "metadata": {
        "cellView": "form",
        "id": "LrDWdEzv3LaX"
      },
      "outputs": [],
      "source": [
        "#@markdown add auto-Colab formatting with `IPython.display`\n",
        "from IPython.display import HTML, display\n",
        "# colab formatting\n",
        "def set_css():\n",
        "    display(\n",
        "        HTML(\n",
        "            \"\"\"\n",
        "  <style>\n",
        "    pre {\n",
        "        white-space: pre-wrap;\n",
        "    }\n",
        "  </style>\n",
        "  \"\"\"\n",
        "        )\n",
        "    )\n",
        "\n",
        "get_ipython().events.register(\"pre_run_cell\", set_css)"
      ],
      "id": "LrDWdEzv3LaX"
    },
    {
      "cell_type": "code",
      "execution_count": null,
      "metadata": {
        "id": "e6b35d3d",
        "colab": {
          "base_uri": "https://localhost:8080/",
          "height": 17
        },
        "outputId": "52285104-9233-4fde-eb75-35d60efbb650"
      },
      "outputs": [
        {
          "output_type": "display_data",
          "data": {
            "text/plain": [
              "<IPython.core.display.HTML object>"
            ],
            "text/html": [
              "\n",
              "  <style>\n",
              "    pre {\n",
              "        white-space: pre-wrap;\n",
              "    }\n",
              "  </style>\n",
              "  "
            ]
          },
          "metadata": {}
        }
      ],
      "source": [
        "import numpy as np \n",
        "import pandas as pd\n",
        "import seaborn as sns\n",
        "import matplotlib.pyplot as plt\n",
        "import matplotlib.gridspec as gridspec\n",
        "\n",
        "from tensorflow.keras import optimizers, losses, activations, models\n",
        "from keras.callbacks import ModelCheckpoint, EarlyStopping, LearningRateScheduler, ReduceLROnPlateau\n",
        "from keras.layers import Dense, Input, Dropout, Convolution1D, MaxPool1D, GlobalMaxPool1D, GlobalAveragePooling1D,concatenate,Flatten,\\\n",
        "Dense,Dropout,LSTM,Masking,Bidirectional,Dropout,GRU,SimpleRNN,TimeDistributed, BatchNormalization, Activation, MaxPooling1D, GlobalMaxPooling1D, Conv1D\n",
        "from keras.models import Sequential,Model\n",
        "import h5py\n",
        "from sklearn.metrics import f1_score,accuracy_score, roc_auc_score, average_precision_score, classification_report\n",
        "from sklearn.model_selection import GridSearchCV\n",
        "from sklearn.neural_network import MLPClassifier\n",
        "import lightgbm as lgb\n",
        "from xgboost import XGBClassifier\n",
        "from sklearn.svm import SVC\n",
        "from sklearn.linear_model import LogisticRegression\n",
        "from sklearn.model_selection import train_test_split\n",
        "from sklearn.utils import class_weight\n",
        "import collections\n"
      ],
      "id": "e6b35d3d"
    },
    {
      "cell_type": "code",
      "source": [
        "#@title mount drive\n",
        "from pathlib import Path\n",
        "from google.colab import drive\n",
        "\n",
        "drive_base_str = '/content/drive'\n",
        "drive.mount(drive_base_str)\n"
      ],
      "metadata": {
        "colab": {
          "base_uri": "https://localhost:8080/",
          "height": 34
        },
        "id": "OhgWnXl6hi4z",
        "outputId": "768571ae-1ddb-441d-e390-9e0ea77db14c"
      },
      "execution_count": null,
      "outputs": [
        {
          "output_type": "display_data",
          "data": {
            "text/plain": [
              "<IPython.core.display.HTML object>"
            ],
            "text/html": [
              "\n",
              "  <style>\n",
              "    pre {\n",
              "        white-space: pre-wrap;\n",
              "    }\n",
              "  </style>\n",
              "  "
            ]
          },
          "metadata": {}
        },
        {
          "output_type": "stream",
          "name": "stdout",
          "text": [
            "Mounted at /content/drive\n"
          ]
        }
      ],
      "id": "OhgWnXl6hi4z"
    },
    {
      "cell_type": "code",
      "source": [
        "#@markdown determine root\n",
        "import os\n",
        "from pathlib import Path\n",
        "peter_base = Path('/content/drive/MyDrive/ETHZ-2022-S/ML-healthcare-projects/project1/')\n",
        "\n",
        "if peter_base.exists() and peter_base.is_dir():\n",
        "    path = str(peter_base.resolve())\n",
        "else:\n",
        "    # original\n",
        "    path = '/content/drive/MyDrive/ETH/'\n",
        "\n",
        "print(f\"base drive dir is:\\n{path}\")"
      ],
      "metadata": {
        "colab": {
          "base_uri": "https://localhost:8080/",
          "height": 51
        },
        "id": "X7kshRAnTUBC",
        "outputId": "b5ba3a53-f39c-43bc-b7cc-55d58596067c"
      },
      "id": "X7kshRAnTUBC",
      "execution_count": null,
      "outputs": [
        {
          "output_type": "display_data",
          "data": {
            "text/plain": [
              "<IPython.core.display.HTML object>"
            ],
            "text/html": [
              "\n",
              "  <style>\n",
              "    pre {\n",
              "        white-space: pre-wrap;\n",
              "    }\n",
              "  </style>\n",
              "  "
            ]
          },
          "metadata": {}
        },
        {
          "output_type": "stream",
          "name": "stdout",
          "text": [
            "base drive dir is:\n",
            "/content/drive/MyDrive/ETHZ-2022-S/ML-healthcare-projects/project1\n"
          ]
        }
      ]
    },
    {
      "cell_type": "markdown",
      "source": [
        "### define folder for outputs"
      ],
      "metadata": {
        "id": "ZzWEPEMbDqur"
      },
      "id": "ZzWEPEMbDqur"
    },
    {
      "cell_type": "code",
      "source": [
        "_out_dir_name = \"MITBIH_biGRU-outputs\" #@param {type:\"string\"}\n",
        "\n",
        "output_path = os.path.join(path, _out_dir_name)\n",
        "os.makedirs(output_path, exist_ok=True)\n",
        "print(f\"notebook outputs will be stored in:\\n{output_path}\")"
      ],
      "metadata": {
        "colab": {
          "base_uri": "https://localhost:8080/",
          "height": 51
        },
        "cellView": "form",
        "id": "T9tc9HEtDszM",
        "outputId": "0bf0db06-42f2-4abf-c6b9-27eda27bb5a6"
      },
      "id": "T9tc9HEtDszM",
      "execution_count": null,
      "outputs": [
        {
          "output_type": "display_data",
          "data": {
            "text/plain": [
              "<IPython.core.display.HTML object>"
            ],
            "text/html": [
              "\n",
              "  <style>\n",
              "    pre {\n",
              "        white-space: pre-wrap;\n",
              "    }\n",
              "  </style>\n",
              "  "
            ]
          },
          "metadata": {}
        },
        {
          "output_type": "stream",
          "name": "stdout",
          "text": [
            "notebook outputs will be stored in:\n",
            "/content/drive/MyDrive/ETHZ-2022-S/ML-healthcare-projects/project1/MITBIH_biGRU-outputs\n"
          ]
        }
      ]
    },
    {
      "cell_type": "markdown",
      "source": [
        "###load data"
      ],
      "metadata": {
        "id": "y1EAg45-Dl13"
      },
      "id": "y1EAg45-Dl13"
    },
    {
      "cell_type": "code",
      "source": [
        "def load_mitbih(base_path):\n",
        "    df_train = pd.read_csv(os.path.join(base_path,\"data/mitbih_train.csv\"),\n",
        "                           header=None)\n",
        "    df_train = df_train.sample(frac=1)\n",
        "    df_test = pd.read_csv(os.path.join(base_path,\"data/mitbih_test.csv\"),\n",
        "                          header=None)\n",
        "\n",
        "    Y = np.array(df_train[187].values).astype(np.int8)\n",
        "    X = np.array(df_train[list(range(187))].values)[..., np.newaxis]\n",
        "\n",
        "    Y_test = np.array(df_test[187].values).astype(np.int8)\n",
        "    X_test = np.array(df_test[list(range(187))].values)[..., np.newaxis]\n",
        "\n",
        "    return X, X_test, Y, Y_test"
      ],
      "metadata": {
        "id": "uhEy5DjZV4sk",
        "colab": {
          "base_uri": "https://localhost:8080/",
          "height": 17
        },
        "outputId": "92edff54-7ee6-43bc-c8f2-dcfeaf0aeaa0"
      },
      "id": "uhEy5DjZV4sk",
      "execution_count": null,
      "outputs": [
        {
          "output_type": "display_data",
          "data": {
            "text/plain": [
              "<IPython.core.display.HTML object>"
            ],
            "text/html": [
              "\n",
              "  <style>\n",
              "    pre {\n",
              "        white-space: pre-wrap;\n",
              "    }\n",
              "  </style>\n",
              "  "
            ]
          },
          "metadata": {}
        }
      ]
    },
    {
      "cell_type": "code",
      "source": [
        "backup_peter = '/content/drive/MyDrive/ETHZ-2022-S/ML-healthcare-projects/project1/project-handouts/'"
      ],
      "metadata": {
        "colab": {
          "base_uri": "https://localhost:8080/",
          "height": 17
        },
        "id": "8Q3cOuU6YNsF",
        "outputId": "01d5bf22-ab5a-4f9a-93c5-93612b80bd2d"
      },
      "id": "8Q3cOuU6YNsF",
      "execution_count": null,
      "outputs": [
        {
          "output_type": "display_data",
          "data": {
            "text/plain": [
              "<IPython.core.display.HTML object>"
            ],
            "text/html": [
              "\n",
              "  <style>\n",
              "    pre {\n",
              "        white-space: pre-wrap;\n",
              "    }\n",
              "  </style>\n",
              "  "
            ]
          },
          "metadata": {}
        }
      ]
    },
    {
      "cell_type": "code",
      "source": [
        "try:\n",
        "    X, X_test, Y, Y_test = load_mitbih(base_path=path)\n",
        "except Exception as e:\n",
        "    print(f\"unable to load data from base path in drive folder because:\\n\\t{e}\")\n",
        "    print(f\"\\ngoing to try backup:\\n\\t{backup_peter}\")\n",
        "    X, X_test, Y, Y_test = load_mitbih(base_path=backup_peter)\n"
      ],
      "metadata": {
        "id": "Df0QKXaRWCdC",
        "colab": {
          "base_uri": "https://localhost:8080/",
          "height": 17
        },
        "outputId": "53e600cb-5f48-4e87-ef6f-fac604d41caa"
      },
      "id": "Df0QKXaRWCdC",
      "execution_count": null,
      "outputs": [
        {
          "output_type": "display_data",
          "data": {
            "text/plain": [
              "<IPython.core.display.HTML object>"
            ],
            "text/html": [
              "\n",
              "  <style>\n",
              "    pre {\n",
              "        white-space: pre-wrap;\n",
              "    }\n",
              "  </style>\n",
              "  "
            ]
          },
          "metadata": {}
        }
      ]
    },
    {
      "cell_type": "markdown",
      "source": [
        "## Exploratory Data Analysis"
      ],
      "metadata": {
        "id": "KryUa7jFDdV3"
      },
      "id": "KryUa7jFDdV3"
    },
    {
      "cell_type": "code",
      "execution_count": null,
      "metadata": {
        "colab": {
          "base_uri": "https://localhost:8080/",
          "height": 103
        },
        "id": "465f7d7f",
        "outputId": "56540152-72d0-484a-da6e-9d92187041ed"
      },
      "outputs": [
        {
          "output_type": "display_data",
          "data": {
            "text/plain": [
              "<IPython.core.display.HTML object>"
            ],
            "text/html": [
              "\n",
              "  <style>\n",
              "    pre {\n",
              "        white-space: pre-wrap;\n",
              "    }\n",
              "  </style>\n",
              "  "
            ]
          },
          "metadata": {}
        },
        {
          "output_type": "stream",
          "name": "stdout",
          "text": [
            "Class 0 contains 72471 items and consists of 82.77% of the data\n",
            "Class 1 contains 2223 items and consists of 2.54% of the data\n",
            "Class 2 contains 5788 items and consists of 6.61% of the data\n",
            "Class 3 contains 641 items and consists of 0.73% of the data\n",
            "Class 4 contains 6431 items and consists of 7.35% of the data\n"
          ]
        }
      ],
      "source": [
        "frequencies=collections.Counter(Y)\n",
        "for label,frequency in sorted(frequencies.items()):\n",
        "  print(\"Class %i contains %i items and consists of %0.2f%s of the data\"%(label,frequency,frequency/len(Y)*100,'%'))"
      ],
      "id": "465f7d7f"
    },
    {
      "cell_type": "code",
      "execution_count": null,
      "metadata": {
        "colab": {
          "base_uri": "https://localhost:8080/",
          "height": 403
        },
        "id": "e929d5ad",
        "outputId": "103ece94-9b77-40ed-8985-fbf544f34bed",
        "scrolled": true
      },
      "outputs": [
        {
          "output_type": "display_data",
          "data": {
            "text/plain": [
              "<IPython.core.display.HTML object>"
            ],
            "text/html": [
              "\n",
              "  <style>\n",
              "    pre {\n",
              "        white-space: pre-wrap;\n",
              "    }\n",
              "  </style>\n",
              "  "
            ]
          },
          "metadata": {}
        },
        {
          "output_type": "stream",
          "name": "stderr",
          "text": [
            "/usr/local/lib/python3.7/dist-packages/seaborn/_decorators.py:43: FutureWarning: Pass the following variable as a keyword arg: x. From version 0.12, the only valid positional argument will be `data`, and passing other arguments without an explicit keyword will result in an error or misinterpretation.\n",
            "  FutureWarning\n"
          ]
        },
        {
          "output_type": "display_data",
          "data": {
            "text/plain": [
              "<Figure size 864x360 with 1 Axes>"
            ],
            "image/png": "[encoded data removed]"
          },
          "metadata": {
            "needs_background": "light"
          }
        }
      ],
      "source": [
        "plt.figure(figsize=(12,5))\n",
        "ax=sns.countplot(Y)\n",
        "ax.set_xlabel(\"Class\")\n",
        "for line in range(5):\n",
        "     ax.text(line-0.1, frequencies[line]+700,s=str(frequencies[line]), horizontalalignment='left', size='medium', color='black', weight='semibold')\n",
        "plt.show()"
      ],
      "id": "e929d5ad"
    },
    {
      "cell_type": "markdown",
      "source": [
        "We can see that the dataset is higly imbalance between class 0 (healthy controls) and the other minority classes."
      ],
      "metadata": {
        "id": "mRTYXxpQpvpu"
      },
      "id": "mRTYXxpQpvpu"
    },
    {
      "cell_type": "markdown",
      "source": [
        "---\n"
      ],
      "metadata": {
        "id": "6lvLexU0G6mC"
      },
      "id": "6lvLexU0G6mC"
    },
    {
      "cell_type": "markdown",
      "source": [
        "## Simple models\n",
        "\n",
        "We implemented the CNN baseline model, another simpler CNN model and a simple RNN"
      ],
      "metadata": {
        "id": "pxFrF1cDDVpe"
      },
      "id": "pxFrF1cDDVpe"
    },
    {
      "cell_type": "markdown",
      "metadata": {
        "id": "1ccfbd2d"
      },
      "source": [
        "### CNN BASELINE "
      ],
      "id": "1ccfbd2d"
    },
    {
      "cell_type": "code",
      "execution_count": null,
      "metadata": {
        "id": "DzG5oron2AOO",
        "colab": {
          "base_uri": "https://localhost:8080/",
          "height": 17
        },
        "outputId": "2a453a81-e2c9-4cc6-cde2-7d2d83dc1789"
      },
      "outputs": [
        {
          "output_type": "display_data",
          "data": {
            "text/plain": [
              "<IPython.core.display.HTML object>"
            ],
            "text/html": [
              "\n",
              "  <style>\n",
              "    pre {\n",
              "        white-space: pre-wrap;\n",
              "    }\n",
              "  </style>\n",
              "  "
            ]
          },
          "metadata": {}
        }
      ],
      "source": [
        "def get_CNN_baseline_model():\n",
        "    nclass = 5\n",
        "    inp = Input(shape=(187, 1))\n",
        "    img_1 = Convolution1D(16, kernel_size=5, activation=activations.relu, padding=\"valid\")(inp)\n",
        "    img_1 = Convolution1D(16, kernel_size=5, activation=activations.relu, padding=\"valid\")(img_1)\n",
        "    img_1 = MaxPool1D(pool_size=2)(img_1)\n",
        "    img_1 = Dropout(rate=0.1)(img_1)\n",
        "    img_1 = Convolution1D(32, kernel_size=3, activation=activations.relu, padding=\"valid\")(img_1)\n",
        "    img_1 = Convolution1D(32, kernel_size=3, activation=activations.relu, padding=\"valid\")(img_1)\n",
        "    img_1 = MaxPool1D(pool_size=2)(img_1)\n",
        "    img_1 = Dropout(rate=0.1)(img_1)\n",
        "    img_1 = Convolution1D(32, kernel_size=3, activation=activations.relu, padding=\"valid\")(img_1)\n",
        "    img_1 = Convolution1D(32, kernel_size=3, activation=activations.relu, padding=\"valid\")(img_1)\n",
        "    img_1 = MaxPool1D(pool_size=2)(img_1)\n",
        "    img_1 = Dropout(rate=0.1)(img_1)\n",
        "    img_1 = Convolution1D(256, kernel_size=3, activation=activations.relu, padding=\"valid\")(img_1)\n",
        "    img_1 = Convolution1D(256, kernel_size=3, activation=activations.relu, padding=\"valid\")(img_1)\n",
        "    img_1 = GlobalMaxPool1D()(img_1)\n",
        "    img_1 = Dropout(rate=0.2)(img_1)\n",
        "\n",
        "    dense_1 = Dense(64, activation=activations.relu, name=\"dense_1\")(img_1)\n",
        "    dense_1 = Dense(64, activation=activations.relu, name=\"dense_2\")(dense_1)\n",
        "    dense_1 = Dense(nclass, activation=activations.softmax, name=\"dense_3_mitbih\")(dense_1)\n",
        "\n",
        "    model = models.Model(inputs=inp, outputs=dense_1)\n",
        "    opt = optimizers.Adam(0.001)\n",
        "\n",
        "    model.compile(optimizer=opt, loss=losses.sparse_categorical_crossentropy, metrics=['acc'])\n",
        "    model.summary()\n",
        "    return model\n"
      ],
      "id": "DzG5oron2AOO"
    },
    {
      "cell_type": "code",
      "execution_count": null,
      "metadata": {
        "id": "EyhptHSz2Gu9",
        "colab": {
          "base_uri": "https://localhost:8080/",
          "height": 1000
        },
        "outputId": "6197fb2a-a5cf-4b5b-b91c-fa47ebe6f8b0"
      },
      "outputs": [
        {
          "output_type": "display_data",
          "data": {
            "text/plain": [
              "<IPython.core.display.HTML object>"
            ],
            "text/html": [
              "\n",
              "  <style>\n",
              "    pre {\n",
              "        white-space: pre-wrap;\n",
              "    }\n",
              "  </style>\n",
              "  "
            ]
          },
          "metadata": {}
        },
        {
          "output_type": "stream",
          "name": "stdout",
          "text": [
            "Model: \"model\"\n",
            "_________________________________________________________________\n",
            " Layer (type)                Output Shape              Param #   \n",
            "=================================================================\n",
            " input_1 (InputLayer)        [(None, 187, 1)]          0         \n",
            "                                                                 \n",
            " conv1d (Conv1D)             (None, 183, 16)           96        \n",
            "                                                                 \n",
            " conv1d_1 (Conv1D)           (None, 179, 16)           1296      \n",
            "                                                                 \n",
            " max_pooling1d (MaxPooling1D  (None, 89, 16)           0         \n",
            " )                                                               \n",
            "                                                                 \n",
            " dropout (Dropout)           (None, 89, 16)            0         \n",
            "                                                                 \n",
            " conv1d_2 (Conv1D)           (None, 87, 32)            1568      \n",
            "                                                                 \n",
            " conv1d_3 (Conv1D)           (None, 85, 32)            3104      \n",
            "                                                                 \n",
            " max_pooling1d_1 (MaxPooling  (None, 42, 32)           0         \n",
            " 1D)                                                             \n",
            "                                                                 \n",
            " dropout_1 (Dropout)         (None, 42, 32)            0         \n",
            "                                                                 \n",
            " conv1d_4 (Conv1D)           (None, 40, 32)            3104      \n",
            "                                                                 \n",
            " conv1d_5 (Conv1D)           (None, 38, 32)            3104      \n",
            "                                                                 \n",
            " max_pooling1d_2 (MaxPooling  (None, 19, 32)           0         \n",
            " 1D)                                                             \n",
            "                                                                 \n",
            " dropout_2 (Dropout)         (None, 19, 32)            0         \n",
            "                                                                 \n",
            " conv1d_6 (Conv1D)           (None, 17, 256)           24832     \n",
            "                                                                 \n",
            " conv1d_7 (Conv1D)           (None, 15, 256)           196864    \n",
            "                                                                 \n",
            " global_max_pooling1d (Globa  (None, 256)              0         \n",
            " lMaxPooling1D)                                                  \n",
            "                                                                 \n",
            " dropout_3 (Dropout)         (None, 256)               0         \n",
            "                                                                 \n",
            " dense_1 (Dense)             (None, 64)                16448     \n",
            "                                                                 \n",
            " dense_2 (Dense)             (None, 64)                4160      \n",
            "                                                                 \n",
            " dense_3_mitbih (Dense)      (None, 5)                 325       \n",
            "                                                                 \n",
            "=================================================================\n",
            "Total params: 254,901\n",
            "Trainable params: 254,901\n",
            "Non-trainable params: 0\n",
            "_________________________________________________________________\n"
          ]
        },
        {
          "output_type": "error",
          "ename": "OSError",
          "evalue": "ignored",
          "traceback": [
            "\u001b[0;31m---------------------------------------------------------------------------\u001b[0m",
            "\u001b[0;31mOSError\u001b[0m                                   Traceback (most recent call last)",
            "\u001b[0;32m<ipython-input-23-c7b4b2a0fb55>\u001b[0m in \u001b[0;36m<module>\u001b[0;34m()\u001b[0m\n\u001b[1;32m      7\u001b[0m \u001b[0;34m\u001b[0m\u001b[0m\n\u001b[1;32m      8\u001b[0m \u001b[0;31m#model.fit(X, Y, epochs=1000, verbose=2, callbacks=callbacks_list, validation_split=0.1)\u001b[0m\u001b[0;34m\u001b[0m\u001b[0;34m\u001b[0m\u001b[0;34m\u001b[0m\u001b[0m\n\u001b[0;32m----> 9\u001b[0;31m \u001b[0mmodel\u001b[0m\u001b[0;34m.\u001b[0m\u001b[0mload_weights\u001b[0m\u001b[0;34m(\u001b[0m\u001b[0mfile_path\u001b[0m\u001b[0;34m)\u001b[0m\u001b[0;34m\u001b[0m\u001b[0;34m\u001b[0m\u001b[0m\n\u001b[0m\u001b[1;32m     10\u001b[0m \u001b[0;34m\u001b[0m\u001b[0m\n\u001b[1;32m     11\u001b[0m \u001b[0mpred_test\u001b[0m \u001b[0;34m=\u001b[0m \u001b[0mmodel\u001b[0m\u001b[0;34m.\u001b[0m\u001b[0mpredict\u001b[0m\u001b[0;34m(\u001b[0m\u001b[0mX_test\u001b[0m\u001b[0;34m)\u001b[0m\u001b[0;34m\u001b[0m\u001b[0;34m\u001b[0m\u001b[0m\n",
            "\u001b[0;32m/usr/local/lib/python3.7/dist-packages/keras/utils/traceback_utils.py\u001b[0m in \u001b[0;36merror_handler\u001b[0;34m(*args, **kwargs)\u001b[0m\n\u001b[1;32m     65\u001b[0m     \u001b[0;32mexcept\u001b[0m \u001b[0mException\u001b[0m \u001b[0;32mas\u001b[0m \u001b[0me\u001b[0m\u001b[0;34m:\u001b[0m  \u001b[0;31m# pylint: disable=broad-except\u001b[0m\u001b[0;34m\u001b[0m\u001b[0;34m\u001b[0m\u001b[0m\n\u001b[1;32m     66\u001b[0m       \u001b[0mfiltered_tb\u001b[0m \u001b[0;34m=\u001b[0m \u001b[0m_process_traceback_frames\u001b[0m\u001b[0;34m(\u001b[0m\u001b[0me\u001b[0m\u001b[0;34m.\u001b[0m\u001b[0m__traceback__\u001b[0m\u001b[0;34m)\u001b[0m\u001b[0;34m\u001b[0m\u001b[0;34m\u001b[0m\u001b[0m\n\u001b[0;32m---> 67\u001b[0;31m       \u001b[0;32mraise\u001b[0m \u001b[0me\u001b[0m\u001b[0;34m.\u001b[0m\u001b[0mwith_traceback\u001b[0m\u001b[0;34m(\u001b[0m\u001b[0mfiltered_tb\u001b[0m\u001b[0;34m)\u001b[0m \u001b[0;32mfrom\u001b[0m \u001b[0;32mNone\u001b[0m\u001b[0;34m\u001b[0m\u001b[0;34m\u001b[0m\u001b[0m\n\u001b[0m\u001b[1;32m     68\u001b[0m     \u001b[0;32mfinally\u001b[0m\u001b[0;34m:\u001b[0m\u001b[0;34m\u001b[0m\u001b[0;34m\u001b[0m\u001b[0m\n\u001b[1;32m     69\u001b[0m       \u001b[0;32mdel\u001b[0m \u001b[0mfiltered_tb\u001b[0m\u001b[0;34m\u001b[0m\u001b[0;34m\u001b[0m\u001b[0m\n",
            "\u001b[0;32m/usr/local/lib/python3.7/dist-packages/h5py/_hl/files.py\u001b[0m in \u001b[0;36m__init__\u001b[0;34m(self, name, mode, driver, libver, userblock_size, swmr, rdcc_nslots, rdcc_nbytes, rdcc_w0, track_order, fs_strategy, fs_persist, fs_threshold, **kwds)\u001b[0m\n\u001b[1;32m    425\u001b[0m                                fapl, fcpl=make_fcpl(track_order=track_order, fs_strategy=fs_strategy,\n\u001b[1;32m    426\u001b[0m                                fs_persist=fs_persist, fs_threshold=fs_threshold),\n\u001b[0;32m--> 427\u001b[0;31m                                swmr=swmr)\n\u001b[0m\u001b[1;32m    428\u001b[0m \u001b[0;34m\u001b[0m\u001b[0m\n\u001b[1;32m    429\u001b[0m             \u001b[0;32mif\u001b[0m \u001b[0misinstance\u001b[0m\u001b[0;34m(\u001b[0m\u001b[0mlibver\u001b[0m\u001b[0;34m,\u001b[0m \u001b[0mtuple\u001b[0m\u001b[0;34m)\u001b[0m\u001b[0;34m:\u001b[0m\u001b[0;34m\u001b[0m\u001b[0;34m\u001b[0m\u001b[0m\n",
            "\u001b[0;32m/usr/local/lib/python3.7/dist-packages/h5py/_hl/files.py\u001b[0m in \u001b[0;36mmake_fid\u001b[0;34m(name, mode, userblock_size, fapl, fcpl, swmr)\u001b[0m\n\u001b[1;32m    188\u001b[0m         \u001b[0;32mif\u001b[0m \u001b[0mswmr\u001b[0m \u001b[0;32mand\u001b[0m \u001b[0mswmr_support\u001b[0m\u001b[0;34m:\u001b[0m\u001b[0;34m\u001b[0m\u001b[0;34m\u001b[0m\u001b[0m\n\u001b[1;32m    189\u001b[0m             \u001b[0mflags\u001b[0m \u001b[0;34m|=\u001b[0m \u001b[0mh5f\u001b[0m\u001b[0;34m.\u001b[0m\u001b[0mACC_SWMR_READ\u001b[0m\u001b[0;34m\u001b[0m\u001b[0;34m\u001b[0m\u001b[0m\n\u001b[0;32m--> 190\u001b[0;31m         \u001b[0mfid\u001b[0m \u001b[0;34m=\u001b[0m \u001b[0mh5f\u001b[0m\u001b[0;34m.\u001b[0m\u001b[0mopen\u001b[0m\u001b[0;34m(\u001b[0m\u001b[0mname\u001b[0m\u001b[0;34m,\u001b[0m \u001b[0mflags\u001b[0m\u001b[0;34m,\u001b[0m \u001b[0mfapl\u001b[0m\u001b[0;34m=\u001b[0m\u001b[0mfapl\u001b[0m\u001b[0;34m)\u001b[0m\u001b[0;34m\u001b[0m\u001b[0;34m\u001b[0m\u001b[0m\n\u001b[0m\u001b[1;32m    191\u001b[0m     \u001b[0;32melif\u001b[0m \u001b[0mmode\u001b[0m \u001b[0;34m==\u001b[0m \u001b[0;34m'r+'\u001b[0m\u001b[0;34m:\u001b[0m\u001b[0;34m\u001b[0m\u001b[0;34m\u001b[0m\u001b[0m\n\u001b[1;32m    192\u001b[0m         \u001b[0mfid\u001b[0m \u001b[0;34m=\u001b[0m \u001b[0mh5f\u001b[0m\u001b[0;34m.\u001b[0m\u001b[0mopen\u001b[0m\u001b[0;34m(\u001b[0m\u001b[0mname\u001b[0m\u001b[0;34m,\u001b[0m \u001b[0mh5f\u001b[0m\u001b[0;34m.\u001b[0m\u001b[0mACC_RDWR\u001b[0m\u001b[0;34m,\u001b[0m \u001b[0mfapl\u001b[0m\u001b[0;34m=\u001b[0m\u001b[0mfapl\u001b[0m\u001b[0;34m)\u001b[0m\u001b[0;34m\u001b[0m\u001b[0;34m\u001b[0m\u001b[0m\n",
            "\u001b[0;32mh5py/_objects.pyx\u001b[0m in \u001b[0;36mh5py._objects.with_phil.wrapper\u001b[0;34m()\u001b[0m\n",
            "\u001b[0;32mh5py/_objects.pyx\u001b[0m in \u001b[0;36mh5py._objects.with_phil.wrapper\u001b[0;34m()\u001b[0m\n",
            "\u001b[0;32mh5py/h5f.pyx\u001b[0m in \u001b[0;36mh5py.h5f.open\u001b[0;34m()\u001b[0m\n",
            "\u001b[0;31mOSError\u001b[0m: Unable to open file (unable to open file: name = '/content/drive/MyDrive/ETHZ-2022-S/ML-healthcare-projects/project1/MITBIH_biGRU-outputs/baseline_cnn_mitbih.h5', errno = 2, error message = 'No such file or directory', flags = 0, o_flags = 0)"
          ]
        }
      ],
      "source": [
        "model = get_CNN_baseline_model()\n",
        "file_path = os.path.join(output_path,\"baseline_cnn_mitbih.h5\")\n",
        "checkpoint = ModelCheckpoint(file_path, monitor='val_acc', verbose=1, save_best_only=True, mode='max')\n",
        "early = EarlyStopping(monitor=\"val_acc\", mode=\"max\", patience=5, verbose=1)\n",
        "redonplat = ReduceLROnPlateau(monitor=\"val_acc\", mode=\"max\", patience=3, verbose=2)\n",
        "callbacks_list = [checkpoint, early, redonplat]  # early\n",
        "\n",
        "#model.fit(X, Y, epochs=1000, verbose=2, callbacks=callbacks_list, validation_split=0.1)\n",
        "model.load_weights(file_path) # TODO: wtf is this?\n",
        "\n",
        "pred_test = model.predict(X_test)\n",
        "pred_test = np.argmax(pred_test, axis=-1)\n",
        "\n",
        "f1 = f1_score(Y_test, pred_test, average=\"macro\")\n",
        "\n",
        "print(\"Test f1 score : %s \"% f1)\n",
        "\n",
        "acc = accuracy_score(Y_test, pred_test)\n",
        "\n",
        "print(\"Test accuracy score : %s \"% acc)"
      ],
      "id": "EyhptHSz2Gu9"
    },
    {
      "cell_type": "markdown",
      "metadata": {
        "id": "N8NxcE7B-Dsm"
      },
      "source": [
        "### CNN"
      ],
      "id": "N8NxcE7B-Dsm"
    },
    {
      "cell_type": "code",
      "execution_count": null,
      "metadata": {
        "id": "PyZQ2wJ1-Cmr",
        "colab": {
          "base_uri": "https://localhost:8080/",
          "height": 312
        },
        "outputId": "808ef1a4-90e8-4867-e46a-71c3a15c5746"
      },
      "outputs": [
        {
          "output_type": "display_data",
          "data": {
            "text/plain": [
              "<IPython.core.display.HTML object>"
            ],
            "text/html": [
              "\n",
              "  <style>\n",
              "    pre {\n",
              "        white-space: pre-wrap;\n",
              "    }\n",
              "  </style>\n",
              "  "
            ]
          },
          "metadata": {}
        },
        {
          "output_type": "stream",
          "name": "stdout",
          "text": [
            "Model: \"sequential\"\n",
            "_________________________________________________________________\n",
            " Layer (type)                Output Shape              Param #   \n",
            "=================================================================\n",
            " conv1d_8 (Conv1D)           (None, 185, 64)           256       \n",
            "                                                                 \n",
            " conv1d_9 (Conv1D)           (None, 183, 32)           6176      \n",
            "                                                                 \n",
            " flatten (Flatten)           (None, 5856)              0         \n",
            "                                                                 \n",
            " dense (Dense)               (None, 5)                 29285     \n",
            "                                                                 \n",
            "=================================================================\n",
            "Total params: 35,717\n",
            "Trainable params: 35,717\n",
            "Non-trainable params: 0\n",
            "_________________________________________________________________\n"
          ]
        }
      ],
      "source": [
        "CNN_model = Sequential()\n",
        "CNN_model.add(Conv1D(64, kernel_size=3, activation='relu', input_shape=(187,1)))\n",
        "CNN_model.add(Conv1D(32, kernel_size=3, activation='relu'))\n",
        "CNN_model.add(Flatten())\n",
        "CNN_model.add(Dense(5, activation='softmax'))\n",
        "\n",
        "CNN_model.compile(optimizer='adam', loss='sparse_categorical_crossentropy', metrics=['accuracy'])\n",
        "CNN_model.summary()"
      ],
      "id": "PyZQ2wJ1-Cmr"
    },
    {
      "cell_type": "code",
      "execution_count": null,
      "metadata": {
        "id": "MGIFGXPd_jAT",
        "colab": {
          "base_uri": "https://localhost:8080/",
          "height": 1000
        },
        "outputId": "1d2852a1-d538-4a32-92e5-204e134aaa13"
      },
      "outputs": [
        {
          "output_type": "display_data",
          "data": {
            "text/plain": [
              "<IPython.core.display.HTML object>"
            ],
            "text/html": [
              "\n",
              "  <style>\n",
              "    pre {\n",
              "        white-space: pre-wrap;\n",
              "    }\n",
              "  </style>\n",
              "  "
            ]
          },
          "metadata": {}
        },
        {
          "output_type": "stream",
          "name": "stdout",
          "text": [
            "Model: \"sequential\"\n",
            "_________________________________________________________________\n",
            " Layer (type)                Output Shape              Param #   \n",
            "=================================================================\n",
            " conv1d_8 (Conv1D)           (None, 185, 64)           256       \n",
            "                                                                 \n",
            " conv1d_9 (Conv1D)           (None, 183, 32)           6176      \n",
            "                                                                 \n",
            " flatten (Flatten)           (None, 5856)              0         \n",
            "                                                                 \n",
            " dense (Dense)               (None, 5)                 29285     \n",
            "                                                                 \n",
            "=================================================================\n",
            "Total params: 35,717\n",
            "Trainable params: 35,717\n",
            "Non-trainable params: 0\n",
            "_________________________________________________________________\n",
            "Epoch 1/100\n",
            "\n",
            "Epoch 1: val_accuracy improved from -inf to 0.91172, saving model to /content/drive/MyDrive/ETHZ-2022-S/ML-healthcare-projects/project1/MITBIH_biGRU-outputs/CNN_mitbih.h5\n",
            "308/308 - 11s - loss: 0.4330 - accuracy: 0.8789 - val_loss: 0.2772 - val_accuracy: 0.9117 - lr: 0.0010 - 11s/epoch - 37ms/step\n",
            "Epoch 2/100\n",
            "\n",
            "Epoch 2: val_accuracy improved from 0.91172 to 0.94689, saving model to /content/drive/MyDrive/ETHZ-2022-S/ML-healthcare-projects/project1/MITBIH_biGRU-outputs/CNN_mitbih.h5\n",
            "308/308 - 1s - loss: 0.2337 - accuracy: 0.9349 - val_loss: 0.2062 - val_accuracy: 0.9469 - lr: 0.0010 - 869ms/epoch - 3ms/step\n",
            "Epoch 3/100\n",
            "\n",
            "Epoch 3: val_accuracy improved from 0.94689 to 0.95477, saving model to /content/drive/MyDrive/ETHZ-2022-S/ML-healthcare-projects/project1/MITBIH_biGRU-outputs/CNN_mitbih.h5\n",
            "308/308 - 1s - loss: 0.1853 - accuracy: 0.9504 - val_loss: 0.1737 - val_accuracy: 0.9548 - lr: 0.0010 - 837ms/epoch - 3ms/step\n",
            "Epoch 4/100\n",
            "\n",
            "Epoch 4: val_accuracy improved from 0.95477 to 0.95957, saving model to /content/drive/MyDrive/ETHZ-2022-S/ML-healthcare-projects/project1/MITBIH_biGRU-outputs/CNN_mitbih.h5\n",
            "308/308 - 1s - loss: 0.1631 - accuracy: 0.9564 - val_loss: 0.1545 - val_accuracy: 0.9596 - lr: 0.0010 - 848ms/epoch - 3ms/step\n",
            "Epoch 5/100\n",
            "\n",
            "Epoch 5: val_accuracy improved from 0.95957 to 0.96048, saving model to /content/drive/MyDrive/ETHZ-2022-S/ML-healthcare-projects/project1/MITBIH_biGRU-outputs/CNN_mitbih.h5\n",
            "308/308 - 1s - loss: 0.1514 - accuracy: 0.9593 - val_loss: 0.1439 - val_accuracy: 0.9605 - lr: 0.0010 - 850ms/epoch - 3ms/step\n",
            "Epoch 6/100\n",
            "\n",
            "Epoch 6: val_accuracy improved from 0.96048 to 0.96231, saving model to /content/drive/MyDrive/ETHZ-2022-S/ML-healthcare-projects/project1/MITBIH_biGRU-outputs/CNN_mitbih.h5\n",
            "308/308 - 1s - loss: 0.1426 - accuracy: 0.9614 - val_loss: 0.1417 - val_accuracy: 0.9623 - lr: 0.0010 - 835ms/epoch - 3ms/step\n",
            "Epoch 7/100\n",
            "\n",
            "Epoch 7: val_accuracy improved from 0.96231 to 0.96597, saving model to /content/drive/MyDrive/ETHZ-2022-S/ML-healthcare-projects/project1/MITBIH_biGRU-outputs/CNN_mitbih.h5\n",
            "308/308 - 1s - loss: 0.1360 - accuracy: 0.9632 - val_loss: 0.1339 - val_accuracy: 0.9660 - lr: 0.0010 - 835ms/epoch - 3ms/step\n",
            "Epoch 8/100\n",
            "\n",
            "Epoch 8: val_accuracy improved from 0.96597 to 0.96631, saving model to /content/drive/MyDrive/ETHZ-2022-S/ML-healthcare-projects/project1/MITBIH_biGRU-outputs/CNN_mitbih.h5\n",
            "308/308 - 1s - loss: 0.1284 - accuracy: 0.9654 - val_loss: 0.1275 - val_accuracy: 0.9663 - lr: 0.0010 - 843ms/epoch - 3ms/step\n",
            "Epoch 9/100\n",
            "\n",
            "Epoch 9: val_accuracy did not improve from 0.96631\n",
            "308/308 - 1s - loss: 0.1246 - accuracy: 0.9667 - val_loss: 0.1240 - val_accuracy: 0.9652 - lr: 0.0010 - 802ms/epoch - 3ms/step\n",
            "Epoch 10/100\n",
            "\n",
            "Epoch 10: val_accuracy improved from 0.96631 to 0.96722, saving model to /content/drive/MyDrive/ETHZ-2022-S/ML-healthcare-projects/project1/MITBIH_biGRU-outputs/CNN_mitbih.h5\n",
            "308/308 - 1s - loss: 0.1197 - accuracy: 0.9682 - val_loss: 0.1202 - val_accuracy: 0.9672 - lr: 0.0010 - 862ms/epoch - 3ms/step\n",
            "Epoch 11/100\n",
            "\n",
            "Epoch 11: val_accuracy improved from 0.96722 to 0.96939, saving model to /content/drive/MyDrive/ETHZ-2022-S/ML-healthcare-projects/project1/MITBIH_biGRU-outputs/CNN_mitbih.h5\n",
            "308/308 - 1s - loss: 0.1158 - accuracy: 0.9690 - val_loss: 0.1188 - val_accuracy: 0.9694 - lr: 0.0010 - 845ms/epoch - 3ms/step\n",
            "Epoch 12/100\n",
            "\n",
            "Epoch 12: val_accuracy did not improve from 0.96939\n",
            "308/308 - 1s - loss: 0.1127 - accuracy: 0.9698 - val_loss: 0.1148 - val_accuracy: 0.9680 - lr: 0.0010 - 819ms/epoch - 3ms/step\n",
            "Epoch 13/100\n",
            "\n",
            "Epoch 13: val_accuracy improved from 0.96939 to 0.96951, saving model to /content/drive/MyDrive/ETHZ-2022-S/ML-healthcare-projects/project1/MITBIH_biGRU-outputs/CNN_mitbih.h5\n",
            "308/308 - 1s - loss: 0.1091 - accuracy: 0.9705 - val_loss: 0.1109 - val_accuracy: 0.9695 - lr: 0.0010 - 837ms/epoch - 3ms/step\n",
            "Epoch 14/100\n",
            "\n",
            "Epoch 14: val_accuracy improved from 0.96951 to 0.97019, saving model to /content/drive/MyDrive/ETHZ-2022-S/ML-healthcare-projects/project1/MITBIH_biGRU-outputs/CNN_mitbih.h5\n",
            "308/308 - 1s - loss: 0.1059 - accuracy: 0.9709 - val_loss: 0.1089 - val_accuracy: 0.9702 - lr: 0.0010 - 850ms/epoch - 3ms/step\n",
            "Epoch 15/100\n",
            "\n",
            "Epoch 15: val_accuracy improved from 0.97019 to 0.97111, saving model to /content/drive/MyDrive/ETHZ-2022-S/ML-healthcare-projects/project1/MITBIH_biGRU-outputs/CNN_mitbih.h5\n",
            "308/308 - 1s - loss: 0.1023 - accuracy: 0.9720 - val_loss: 0.1083 - val_accuracy: 0.9711 - lr: 0.0010 - 859ms/epoch - 3ms/step\n",
            "Epoch 16/100\n",
            "\n",
            "Epoch 16: val_accuracy did not improve from 0.97111\n",
            "308/308 - 1s - loss: 0.1006 - accuracy: 0.9718 - val_loss: 0.1119 - val_accuracy: 0.9695 - lr: 0.0010 - 822ms/epoch - 3ms/step\n",
            "Epoch 17/100\n",
            "\n",
            "Epoch 17: val_accuracy improved from 0.97111 to 0.97133, saving model to /content/drive/MyDrive/ETHZ-2022-S/ML-healthcare-projects/project1/MITBIH_biGRU-outputs/CNN_mitbih.h5\n",
            "308/308 - 1s - loss: 0.0988 - accuracy: 0.9722 - val_loss: 0.1154 - val_accuracy: 0.9713 - lr: 0.0010 - 840ms/epoch - 3ms/step\n",
            "Epoch 18/100\n",
            "\n",
            "Epoch 18: val_accuracy improved from 0.97133 to 0.97213, saving model to /content/drive/MyDrive/ETHZ-2022-S/ML-healthcare-projects/project1/MITBIH_biGRU-outputs/CNN_mitbih.h5\n",
            "308/308 - 1s - loss: 0.0960 - accuracy: 0.9732 - val_loss: 0.1029 - val_accuracy: 0.9721 - lr: 0.0010 - 845ms/epoch - 3ms/step\n",
            "Epoch 19/100\n",
            "\n",
            "Epoch 19: val_accuracy did not improve from 0.97213\n",
            "308/308 - 1s - loss: 0.0935 - accuracy: 0.9741 - val_loss: 0.1065 - val_accuracy: 0.9702 - lr: 0.0010 - 813ms/epoch - 3ms/step\n",
            "Epoch 20/100\n",
            "\n",
            "Epoch 20: val_accuracy improved from 0.97213 to 0.97270, saving model to /content/drive/MyDrive/ETHZ-2022-S/ML-healthcare-projects/project1/MITBIH_biGRU-outputs/CNN_mitbih.h5\n",
            "308/308 - 1s - loss: 0.0909 - accuracy: 0.9745 - val_loss: 0.0989 - val_accuracy: 0.9727 - lr: 0.0010 - 838ms/epoch - 3ms/step\n",
            "Epoch 21/100\n",
            "\n",
            "Epoch 21: val_accuracy did not improve from 0.97270\n",
            "308/308 - 1s - loss: 0.0896 - accuracy: 0.9746 - val_loss: 0.1012 - val_accuracy: 0.9711 - lr: 0.0010 - 828ms/epoch - 3ms/step\n",
            "Epoch 22/100\n",
            "\n",
            "Epoch 22: val_accuracy improved from 0.97270 to 0.97293, saving model to /content/drive/MyDrive/ETHZ-2022-S/ML-healthcare-projects/project1/MITBIH_biGRU-outputs/CNN_mitbih.h5\n",
            "308/308 - 1s - loss: 0.0863 - accuracy: 0.9758 - val_loss: 0.0990 - val_accuracy: 0.9729 - lr: 0.0010 - 830ms/epoch - 3ms/step\n",
            "Epoch 23/100\n",
            "\n",
            "Epoch 23: val_accuracy did not improve from 0.97293\n",
            "308/308 - 1s - loss: 0.0849 - accuracy: 0.9759 - val_loss: 0.0979 - val_accuracy: 0.9729 - lr: 0.0010 - 806ms/epoch - 3ms/step\n",
            "Epoch 24/100\n",
            "\n",
            "Epoch 24: val_accuracy did not improve from 0.97293\n",
            "308/308 - 1s - loss: 0.0834 - accuracy: 0.9765 - val_loss: 0.0978 - val_accuracy: 0.9727 - lr: 0.0010 - 801ms/epoch - 3ms/step\n",
            "Epoch 25/100\n",
            "\n",
            "Epoch 25: val_accuracy improved from 0.97293 to 0.97476, saving model to /content/drive/MyDrive/ETHZ-2022-S/ML-healthcare-projects/project1/MITBIH_biGRU-outputs/CNN_mitbih.h5\n",
            "308/308 - 1s - loss: 0.0813 - accuracy: 0.9770 - val_loss: 0.0961 - val_accuracy: 0.9748 - lr: 0.0010 - 839ms/epoch - 3ms/step\n",
            "Epoch 26/100\n",
            "\n",
            "Epoch 26: val_accuracy did not improve from 0.97476\n",
            "308/308 - 1s - loss: 0.0808 - accuracy: 0.9770 - val_loss: 0.0974 - val_accuracy: 0.9735 - lr: 0.0010 - 830ms/epoch - 3ms/step\n",
            "Epoch 27/100\n",
            "\n",
            "Epoch 27: val_accuracy improved from 0.97476 to 0.97567, saving model to /content/drive/MyDrive/ETHZ-2022-S/ML-healthcare-projects/project1/MITBIH_biGRU-outputs/CNN_mitbih.h5\n",
            "308/308 - 1s - loss: 0.0780 - accuracy: 0.9776 - val_loss: 0.0961 - val_accuracy: 0.9757 - lr: 0.0010 - 845ms/epoch - 3ms/step\n",
            "Epoch 28/100\n",
            "\n",
            "Epoch 28: val_accuracy improved from 0.97567 to 0.97602, saving model to /content/drive/MyDrive/ETHZ-2022-S/ML-healthcare-projects/project1/MITBIH_biGRU-outputs/CNN_mitbih.h5\n",
            "308/308 - 1s - loss: 0.0776 - accuracy: 0.9775 - val_loss: 0.0940 - val_accuracy: 0.9760 - lr: 0.0010 - 858ms/epoch - 3ms/step\n",
            "Epoch 29/100\n",
            "\n",
            "Epoch 29: val_accuracy did not improve from 0.97602\n",
            "308/308 - 1s - loss: 0.0752 - accuracy: 0.9781 - val_loss: 0.0966 - val_accuracy: 0.9740 - lr: 0.0010 - 810ms/epoch - 3ms/step\n",
            "Epoch 30/100\n",
            "\n",
            "Epoch 30: val_accuracy did not improve from 0.97602\n",
            "308/308 - 1s - loss: 0.0735 - accuracy: 0.9785 - val_loss: 0.0948 - val_accuracy: 0.9751 - lr: 0.0010 - 799ms/epoch - 3ms/step\n",
            "Epoch 31/100\n",
            "\n",
            "Epoch 31: val_accuracy did not improve from 0.97602\n",
            "\n",
            "Epoch 31: ReduceLROnPlateau reducing learning rate to 0.00010000000474974513.\n",
            "308/308 - 1s - loss: 0.0724 - accuracy: 0.9792 - val_loss: 0.0990 - val_accuracy: 0.9742 - lr: 0.0010 - 807ms/epoch - 3ms/step\n",
            "Epoch 32/100\n",
            "\n",
            "Epoch 32: val_accuracy improved from 0.97602 to 0.97682, saving model to /content/drive/MyDrive/ETHZ-2022-S/ML-healthcare-projects/project1/MITBIH_biGRU-outputs/CNN_mitbih.h5\n",
            "308/308 - 1s - loss: 0.0649 - accuracy: 0.9814 - val_loss: 0.0900 - val_accuracy: 0.9768 - lr: 1.0000e-04 - 823ms/epoch - 3ms/step\n",
            "Epoch 33/100\n",
            "\n",
            "Epoch 33: val_accuracy improved from 0.97682 to 0.97750, saving model to /content/drive/MyDrive/ETHZ-2022-S/ML-healthcare-projects/project1/MITBIH_biGRU-outputs/CNN_mitbih.h5\n",
            "308/308 - 1s - loss: 0.0638 - accuracy: 0.9817 - val_loss: 0.0898 - val_accuracy: 0.9775 - lr: 1.0000e-04 - 848ms/epoch - 3ms/step\n",
            "Epoch 34/100\n",
            "\n",
            "Epoch 34: val_accuracy improved from 0.97750 to 0.97784, saving model to /content/drive/MyDrive/ETHZ-2022-S/ML-healthcare-projects/project1/MITBIH_biGRU-outputs/CNN_mitbih.h5\n",
            "308/308 - 1s - loss: 0.0635 - accuracy: 0.9818 - val_loss: 0.0900 - val_accuracy: 0.9778 - lr: 1.0000e-04 - 839ms/epoch - 3ms/step\n",
            "Epoch 35/100\n",
            "\n",
            "Epoch 35: val_accuracy did not improve from 0.97784\n",
            "308/308 - 1s - loss: 0.0632 - accuracy: 0.9818 - val_loss: 0.0899 - val_accuracy: 0.9772 - lr: 1.0000e-04 - 812ms/epoch - 3ms/step\n",
            "Epoch 36/100\n",
            "\n",
            "Epoch 36: val_accuracy did not improve from 0.97784\n",
            "308/308 - 1s - loss: 0.0630 - accuracy: 0.9819 - val_loss: 0.0895 - val_accuracy: 0.9769 - lr: 1.0000e-04 - 808ms/epoch - 3ms/step\n",
            "Epoch 37/100\n",
            "\n",
            "Epoch 37: val_accuracy did not improve from 0.97784\n",
            "\n",
            "Epoch 37: ReduceLROnPlateau reducing learning rate to 1.0000000474974514e-05.\n",
            "308/308 - 1s - loss: 0.0628 - accuracy: 0.9817 - val_loss: 0.0899 - val_accuracy: 0.9778 - lr: 1.0000e-04 - 819ms/epoch - 3ms/step\n",
            "Epoch 38/100\n",
            "\n",
            "Epoch 38: val_accuracy did not improve from 0.97784\n",
            "308/308 - 1s - loss: 0.0618 - accuracy: 0.9822 - val_loss: 0.0896 - val_accuracy: 0.9774 - lr: 1.0000e-05 - 819ms/epoch - 3ms/step\n",
            "Epoch 39/100\n",
            "\n",
            "Epoch 39: val_accuracy did not improve from 0.97784\n",
            "308/308 - 1s - loss: 0.0617 - accuracy: 0.9822 - val_loss: 0.0897 - val_accuracy: 0.9773 - lr: 1.0000e-05 - 822ms/epoch - 3ms/step\n",
            "Epoch 39: early stopping\n"
          ]
        },
        {
          "output_type": "execute_result",
          "data": {
            "text/plain": [
              "<keras.callbacks.History at 0x7f442c936050>"
            ]
          },
          "metadata": {},
          "execution_count": 25
        }
      ],
      "source": [
        "file_path = os.path.join(output_path,\"CNN_mitbih.h5\")\n",
        "checkpoint = ModelCheckpoint(file_path, monitor='val_accuracy', verbose=1, save_best_only=True, mode='max')\n",
        "early = EarlyStopping(monitor=\"val_accuracy\", mode=\"max\", patience=5, verbose=1)\n",
        "red = ReduceLROnPlateau(monitor=\"val_accuracy\", mode=\"max\", patience=3, verbose=2)\n",
        "callbacks_list = [checkpoint,early, red]\n",
        "\n",
        "CNN_model.compile(optimizer=optimizers.Adam(0.001), loss='sparse_categorical_crossentropy', metrics=['accuracy'])\n",
        "CNN_model.summary()\n",
        "\n",
        "CNN_model.fit(X, Y, epochs=100,batch_size=256, verbose=2, callbacks=callbacks_list, validation_split=0.1)"
      ],
      "id": "MGIFGXPd_jAT"
    },
    {
      "cell_type": "code",
      "execution_count": null,
      "metadata": {
        "colab": {
          "base_uri": "https://localhost:8080/",
          "height": 51
        },
        "id": "we7SKNarCx9j",
        "outputId": "3d0588e1-3707-43c5-facd-e52143de1917"
      },
      "outputs": [
        {
          "output_type": "display_data",
          "data": {
            "text/plain": [
              "<IPython.core.display.HTML object>"
            ],
            "text/html": [
              "\n",
              "  <style>\n",
              "    pre {\n",
              "        white-space: pre-wrap;\n",
              "    }\n",
              "  </style>\n",
              "  "
            ]
          },
          "metadata": {}
        },
        {
          "output_type": "stream",
          "name": "stdout",
          "text": [
            "Test accuracy score : 0.9757445642243742 \n",
            "f1_score : 0.9748805763079476\n"
          ]
        }
      ],
      "source": [
        "CNN_model.load_weights(file_path)\n",
        "pred_test = CNN_model.predict(X_test)\n",
        "pred_test = np.argmax(pred_test, axis=-1)\n",
        "\n",
        "acc = accuracy_score(Y_test, pred_test)\n",
        "f1 = f1_score(Y_test, pred_test, average='weighted')\n",
        "\n",
        "print(\"Test accuracy score : %s \"% acc)\n",
        "print(\"f1_score : %s\"% f1)"
      ],
      "id": "we7SKNarCx9j"
    },
    {
      "cell_type": "markdown",
      "metadata": {
        "id": "9aeddb17"
      },
      "source": [
        "### Simple RNN"
      ],
      "id": "9aeddb17"
    },
    {
      "cell_type": "code",
      "execution_count": null,
      "metadata": {
        "id": "5472e4d7"
      },
      "outputs": [],
      "source": [
        "RNN_model=Sequential()\n",
        "RNN_model.add(Masking(mask_value=0.,input_shape=(187,1)))\n",
        "RNN_model.add(SimpleRNN(64))\n",
        "RNN_model.add(Dense(5,activation='softmax'))\n",
        "\n",
        "file_path = os.path.join(output_path, \"RNN_mitbih.h5\")\n",
        "checkpoint = ModelCheckpoint(file_path, monitor='val_accuracy', verbose=1, save_best_only=True, mode='max')\n",
        "early = EarlyStopping(monitor=\"val_accuracy\", mode=\"max\", patience=5, verbose=1)\n",
        "red = ReduceLROnPlateau(monitor=\"val_accuracy\", mode=\"max\", patience=3, verbose=2)\n",
        "callbacks_list = [checkpoint,early, red]\n",
        "\n",
        "RNN_model.compile(optimizer=optimizers.Adam(0.001), loss='sparse_categorical_crossentropy', metrics=['accuracy'])\n",
        "RNN_model.summary()\n",
        "\n",
        "RNN_model.fit(X, Y, epochs=100,batch_size=256, verbose=2, callbacks=callbacks_list, validation_split=0.1)"
      ],
      "id": "5472e4d7"
    },
    {
      "cell_type": "code",
      "execution_count": null,
      "metadata": {
        "id": "5e4d116d"
      },
      "outputs": [],
      "source": [
        "RNN_model.load_weights(file_path)\n",
        "pred_test = RNN_model.predict(X_test)\n",
        "pred_test = np.argmax(pred_test, axis=-1)\n",
        "\n",
        "acc = accuracy_score(Y_test, pred_test)\n",
        "f1 = f1_score(Y_test, pred_test, average='weighted')\n",
        "\n",
        "print(\"Test accuracy score : %s \"% acc)\n",
        "print(\"f1_score : %s\"% f1)"
      ],
      "id": "5e4d116d"
    },
    {
      "cell_type": "markdown",
      "source": [
        "---\n"
      ],
      "metadata": {
        "id": "zE5sKW10GvzZ"
      },
      "id": "zE5sKW10GvzZ"
    },
    {
      "cell_type": "markdown",
      "source": [
        "## More advanced models\n",
        "\n",
        "Based on [1, 2], we have implemented simple LSTM, GRU and MLP models. \n",
        "Then, by trying to improve these models and looking at other studies [3], we build more complex models : Bidirectional LSTM and Bidirectional GRU.  \n",
        "\n"
      ],
      "metadata": {
        "id": "qpIRIVzzGspp"
      },
      "id": "qpIRIVzzGspp"
    },
    {
      "cell_type": "markdown",
      "source": [
        "### LSTM"
      ],
      "metadata": {
        "id": "ihjQzPnMY4ts"
      },
      "id": "ihjQzPnMY4ts"
    },
    {
      "cell_type": "code",
      "source": [
        "LSTM_model = Sequential()\n",
        "LSTM_model.add(Masking(mask_value=0.,input_shape=(187,1)))\n",
        "LSTM_model.add(BatchNormalization())\n",
        "LSTM_model.add(LSTM(64, dropout=0.2))\n",
        "LSTM_model.add(BatchNormalization())\n",
        "LSTM_model.add(Dense(128,activation='relu'))\n",
        "LSTM_model.add(BatchNormalization())\n",
        "LSTM_model.add(Dense(5,activation='softmax'))\n",
        "\n",
        "file_path = os.path.join(output_path, \"LTSM_mitbih.h5\")\n",
        "\n",
        "checkpoint = ModelCheckpoint(file_path, \n",
        "                             monitor='val_accuracy', \n",
        "                             verbose=1, \n",
        "                             save_best_only=True, \n",
        "                             mode='max')\n",
        "\n",
        "early = EarlyStopping(monitor=\"val_accuracy\", mode=\"max\", patience=5, verbose=1)\n",
        "red = ReduceLROnPlateau(monitor=\"val_accuracy\", mode=\"max\", patience=3, verbose=2)\n",
        "callbacks_list = [checkpoint,early, red]\n",
        "\n",
        "LSTM_model.compile(optimizer=optimizers.Adam(0.001), \n",
        "                   loss='sparse_categorical_crossentropy', metrics=['accuracy'])\n",
        "LSTM_model.summary()\n",
        "\n",
        "LSTM_model.fit(X, Y, epochs=100,batch_size=256, verbose=2, callbacks=callbacks_list, validation_split=0.1)"
      ],
      "metadata": {
        "id": "3_x8MI_JQZEL"
      },
      "id": "3_x8MI_JQZEL",
      "execution_count": null,
      "outputs": []
    },
    {
      "cell_type": "code",
      "source": [
        "LSTM_model.load_weights(file_path)\n",
        "pred_test = LSTM_model.predict(X_test)\n",
        "pred_test = np.argmax(pred_test, axis=-1)\n",
        "\n",
        "acc = accuracy_score(Y_test, pred_test)\n",
        "f1 = f1_score(Y_test, pred_test, average='weighted')\n",
        "\n",
        "print(\"Test accuracy score : %s \"% acc)\n",
        "print(\"f1_score : %s\"% f1)"
      ],
      "metadata": {
        "id": "9zlOe6nyYHHW"
      },
      "id": "9zlOe6nyYHHW",
      "execution_count": null,
      "outputs": []
    },
    {
      "cell_type": "markdown",
      "source": [
        "### GRU"
      ],
      "metadata": {
        "id": "ZxIIIrepc6iR"
      },
      "id": "ZxIIIrepc6iR"
    },
    {
      "cell_type": "code",
      "source": [
        "GRU_model=Sequential()\n",
        "GRU_model.add(Masking(mask_value=0.,input_shape=(187,1)))\n",
        "GRU_model.add(BatchNormalization())\n",
        "GRU_model.add(GRU(187))\n",
        "GRU_model.add(BatchNormalization())\n",
        "GRU_model.add(Dense(64,activation='relu'))\n",
        "GRU_model.add(BatchNormalization())\n",
        "GRU_model.add(Dense(5,activation='softmax'))\n",
        "\n",
        "file_path = os.path.join(output_path,  \"GRU_mitbih.h5\")\n",
        "checkpoint = ModelCheckpoint(file_path, monitor='acc', verbose=1, save_best_only=True, mode='max')\n",
        "early = EarlyStopping(monitor=\"acc\", mode=\"max\", patience=5, verbose=1)\n",
        "red = ReduceLROnPlateau(monitor=\"acc\", mode=\"max\", patience=3, verbose=2)\n",
        "callbacks_list = [checkpoint,early, red]\n",
        "\n",
        "GRU_model.compile(optimizer=optimizers.Adam(0.001), loss=losses.sparse_categorical_crossentropy, metrics=['acc'])\n",
        "GRU_model.summary()\n",
        "\n",
        "GRU_model.fit(X, Y, epochs=100,batch_size=256, verbose=2, callbacks=callbacks_list)"
      ],
      "metadata": {
        "colab": {
          "base_uri": "https://localhost:8080/"
        },
        "id": "Bjp8Du5ac_0d",
        "outputId": "bdf92b88-5f2b-407f-cb5a-4c56bb0bd438"
      },
      "id": "Bjp8Du5ac_0d",
      "execution_count": null,
      "outputs": [
        {
          "output_type": "stream",
          "name": "stdout",
          "text": [
            "Model: \"sequential_6\"\n",
            "_________________________________________________________________\n",
            " Layer (type)                Output Shape              Param #   \n",
            "=================================================================\n",
            " masking_5 (Masking)         (None, 187, 1)            0         \n",
            "                                                                 \n",
            " batch_normalization_12 (Bat  (None, 187, 1)           4         \n",
            " chNormalization)                                                \n",
            "                                                                 \n",
            " gru_3 (GRU)                 (None, 187)               106590    \n",
            "                                                                 \n",
            " batch_normalization_13 (Bat  (None, 187)              748       \n",
            " chNormalization)                                                \n",
            "                                                                 \n",
            " dense_10 (Dense)            (None, 64)                12032     \n",
            "                                                                 \n",
            " batch_normalization_14 (Bat  (None, 64)               256       \n",
            " chNormalization)                                                \n",
            "                                                                 \n",
            " dense_11 (Dense)            (None, 5)                 325       \n",
            "                                                                 \n",
            "=================================================================\n",
            "Total params: 119,955\n",
            "Trainable params: 119,451\n",
            "Non-trainable params: 504\n",
            "_________________________________________________________________\n",
            "Epoch 1/100\n",
            "\n",
            "Epoch 1: acc improved from -inf to 0.84150, saving model to /content/drive/MyDrive/ETH/GRU_mitbih.h5\n",
            "343/343 - 219s - loss: 0.6144 - acc: 0.8415 - lr: 0.0010 - 219s/epoch - 637ms/step\n",
            "Epoch 2/100\n",
            "\n",
            "Epoch 2: acc improved from 0.84150 to 0.91611, saving model to /content/drive/MyDrive/ETH/GRU_mitbih.h5\n",
            "343/343 - 213s - loss: 0.2808 - acc: 0.9161 - lr: 0.0010 - 213s/epoch - 621ms/step\n",
            "Epoch 3/100\n",
            "\n",
            "Epoch 3: acc improved from 0.91611 to 0.94383, saving model to /content/drive/MyDrive/ETH/GRU_mitbih.h5\n",
            "343/343 - 212s - loss: 0.1986 - acc: 0.9438 - lr: 0.0010 - 212s/epoch - 619ms/step\n",
            "Epoch 4/100\n",
            "\n",
            "Epoch 4: acc improved from 0.94383 to 0.96309, saving model to /content/drive/MyDrive/ETH/GRU_mitbih.h5\n",
            "343/343 - 212s - loss: 0.1425 - acc: 0.9631 - lr: 0.0010 - 212s/epoch - 617ms/step\n",
            "Epoch 5/100\n",
            "\n",
            "Epoch 5: acc improved from 0.96309 to 0.96955, saving model to /content/drive/MyDrive/ETH/GRU_mitbih.h5\n",
            "343/343 - 211s - loss: 0.1170 - acc: 0.9696 - lr: 0.0010 - 211s/epoch - 614ms/step\n",
            "Epoch 6/100\n",
            "\n",
            "Epoch 6: acc improved from 0.96955 to 0.97318, saving model to /content/drive/MyDrive/ETH/GRU_mitbih.h5\n",
            "343/343 - 211s - loss: 0.1019 - acc: 0.9732 - lr: 0.0010 - 211s/epoch - 614ms/step\n",
            "Epoch 7/100\n",
            "\n",
            "Epoch 7: acc improved from 0.97318 to 0.97595, saving model to /content/drive/MyDrive/ETH/GRU_mitbih.h5\n",
            "343/343 - 212s - loss: 0.0901 - acc: 0.9759 - lr: 0.0010 - 212s/epoch - 617ms/step\n",
            "Epoch 8/100\n",
            "\n",
            "Epoch 8: acc did not improve from 0.97595\n",
            "343/343 - 211s - loss: 0.1315 - acc: 0.9651 - lr: 0.0010 - 211s/epoch - 614ms/step\n",
            "Epoch 9/100\n",
            "\n",
            "Epoch 9: acc did not improve from 0.97595\n",
            "343/343 - 212s - loss: 0.0945 - acc: 0.9743 - lr: 0.0010 - 212s/epoch - 617ms/step\n",
            "Epoch 10/100\n",
            "\n",
            "Epoch 10: acc improved from 0.97595 to 0.97844, saving model to /content/drive/MyDrive/ETH/GRU_mitbih.h5\n",
            "343/343 - 211s - loss: 0.0788 - acc: 0.9784 - lr: 0.0010 - 211s/epoch - 616ms/step\n",
            "Epoch 11/100\n",
            "\n",
            "Epoch 11: acc did not improve from 0.97844\n",
            "343/343 - 212s - loss: 0.1768 - acc: 0.9527 - lr: 0.0010 - 212s/epoch - 619ms/step\n",
            "Epoch 12/100\n",
            "\n",
            "Epoch 12: acc did not improve from 0.97844\n",
            "343/343 - 212s - loss: 0.1023 - acc: 0.9721 - lr: 0.0010 - 212s/epoch - 617ms/step\n",
            "Epoch 13/100\n",
            "\n",
            "Epoch 13: acc did not improve from 0.97844\n",
            "\n",
            "Epoch 13: ReduceLROnPlateau reducing learning rate to 0.00010000000474974513.\n",
            "343/343 - 215s - loss: 0.0906 - acc: 0.9747 - lr: 0.0010 - 215s/epoch - 628ms/step\n",
            "Epoch 14/100\n",
            "\n",
            "Epoch 14: acc improved from 0.97844 to 0.97935, saving model to /content/drive/MyDrive/ETH/GRU_mitbih.h5\n",
            "343/343 - 214s - loss: 0.0725 - acc: 0.9793 - lr: 1.0000e-04 - 214s/epoch - 622ms/step\n",
            "Epoch 15/100\n",
            "\n",
            "Epoch 15: acc improved from 0.97935 to 0.98080, saving model to /content/drive/MyDrive/ETH/GRU_mitbih.h5\n",
            "343/343 - 214s - loss: 0.0673 - acc: 0.9808 - lr: 1.0000e-04 - 214s/epoch - 625ms/step\n",
            "Epoch 16/100\n",
            "\n",
            "Epoch 16: acc improved from 0.98080 to 0.98161, saving model to /content/drive/MyDrive/ETH/GRU_mitbih.h5\n",
            "343/343 - 217s - loss: 0.0653 - acc: 0.9816 - lr: 1.0000e-04 - 217s/epoch - 632ms/step\n",
            "Epoch 17/100\n",
            "\n",
            "Epoch 17: acc did not improve from 0.98161\n",
            "343/343 - 213s - loss: 0.0655 - acc: 0.9813 - lr: 1.0000e-04 - 213s/epoch - 620ms/step\n",
            "Epoch 18/100\n",
            "\n",
            "Epoch 18: acc did not improve from 0.98161\n",
            "343/343 - 211s - loss: 0.0639 - acc: 0.9815 - lr: 1.0000e-04 - 211s/epoch - 616ms/step\n",
            "Epoch 19/100\n",
            "\n",
            "Epoch 19: acc did not improve from 0.98161\n",
            "\n",
            "Epoch 19: ReduceLROnPlateau reducing learning rate to 1.0000000474974514e-05.\n",
            "343/343 - 213s - loss: 0.0726 - acc: 0.9793 - lr: 1.0000e-04 - 213s/epoch - 622ms/step\n",
            "Epoch 20/100\n",
            "\n",
            "Epoch 20: acc improved from 0.98161 to 0.98166, saving model to /content/drive/MyDrive/ETH/GRU_mitbih.h5\n",
            "343/343 - 213s - loss: 0.0644 - acc: 0.9817 - lr: 1.0000e-05 - 213s/epoch - 622ms/step\n",
            "Epoch 21/100\n",
            "\n",
            "Epoch 21: acc did not improve from 0.98166\n",
            "343/343 - 211s - loss: 0.0649 - acc: 0.9812 - lr: 1.0000e-05 - 211s/epoch - 616ms/step\n",
            "Epoch 22/100\n",
            "\n",
            "Epoch 22: acc improved from 0.98166 to 0.98175, saving model to /content/drive/MyDrive/ETH/GRU_mitbih.h5\n",
            "343/343 - 214s - loss: 0.0639 - acc: 0.9817 - lr: 1.0000e-05 - 214s/epoch - 625ms/step\n",
            "Epoch 23/100\n",
            "\n",
            "Epoch 23: acc improved from 0.98175 to 0.98187, saving model to /content/drive/MyDrive/ETH/GRU_mitbih.h5\n",
            "343/343 - 212s - loss: 0.0629 - acc: 0.9819 - lr: 1.0000e-05 - 212s/epoch - 620ms/step\n",
            "Epoch 24/100\n",
            "\n",
            "Epoch 24: acc improved from 0.98187 to 0.98221, saving model to /content/drive/MyDrive/ETH/GRU_mitbih.h5\n",
            "343/343 - 212s - loss: 0.0624 - acc: 0.9822 - lr: 1.0000e-05 - 212s/epoch - 618ms/step\n",
            "Epoch 25/100\n",
            "\n",
            "Epoch 25: acc did not improve from 0.98221\n",
            "343/343 - 210s - loss: 0.0626 - acc: 0.9819 - lr: 1.0000e-05 - 210s/epoch - 612ms/step\n",
            "Epoch 26/100\n",
            "\n",
            "Epoch 26: acc did not improve from 0.98221\n",
            "343/343 - 211s - loss: 0.0621 - acc: 0.9821 - lr: 1.0000e-05 - 211s/epoch - 614ms/step\n",
            "Epoch 27/100\n",
            "\n",
            "Epoch 27: acc improved from 0.98221 to 0.98234, saving model to /content/drive/MyDrive/ETH/GRU_mitbih.h5\n",
            "343/343 - 210s - loss: 0.0614 - acc: 0.9823 - lr: 1.0000e-05 - 210s/epoch - 612ms/step\n",
            "Epoch 28/100\n",
            "\n",
            "Epoch 28: acc did not improve from 0.98234\n",
            "343/343 - 210s - loss: 0.0619 - acc: 0.9821 - lr: 1.0000e-05 - 210s/epoch - 613ms/step\n",
            "Epoch 29/100\n",
            "\n",
            "Epoch 29: acc improved from 0.98234 to 0.98247, saving model to /content/drive/MyDrive/ETH/GRU_mitbih.h5\n",
            "343/343 - 211s - loss: 0.0613 - acc: 0.9825 - lr: 1.0000e-05 - 211s/epoch - 614ms/step\n",
            "Epoch 30/100\n",
            "\n",
            "Epoch 30: acc did not improve from 0.98247\n",
            "343/343 - 209s - loss: 0.0608 - acc: 0.9824 - lr: 1.0000e-05 - 209s/epoch - 610ms/step\n",
            "Epoch 31/100\n",
            "\n",
            "Epoch 31: acc did not improve from 0.98247\n",
            "343/343 - 210s - loss: 0.0606 - acc: 0.9824 - lr: 1.0000e-05 - 210s/epoch - 612ms/step\n",
            "Epoch 32/100\n",
            "\n",
            "Epoch 32: acc improved from 0.98247 to 0.98251, saving model to /content/drive/MyDrive/ETH/GRU_mitbih.h5\n",
            "\n",
            "Epoch 32: ReduceLROnPlateau reducing learning rate to 1.0000000656873453e-06.\n",
            "343/343 - 210s - loss: 0.0603 - acc: 0.9825 - lr: 1.0000e-05 - 210s/epoch - 613ms/step\n",
            "Epoch 33/100\n",
            "\n",
            "Epoch 33: acc improved from 0.98251 to 0.98265, saving model to /content/drive/MyDrive/ETH/GRU_mitbih.h5\n",
            "343/343 - 209s - loss: 0.0601 - acc: 0.9827 - lr: 1.0000e-06 - 209s/epoch - 610ms/step\n",
            "Epoch 34/100\n",
            "\n",
            "Epoch 34: acc did not improve from 0.98265\n",
            "343/343 - 210s - loss: 0.0600 - acc: 0.9826 - lr: 1.0000e-06 - 210s/epoch - 611ms/step\n",
            "Epoch 35/100\n",
            "\n",
            "Epoch 35: acc improved from 0.98265 to 0.98270, saving model to /content/drive/MyDrive/ETH/GRU_mitbih.h5\n",
            "343/343 - 209s - loss: 0.0598 - acc: 0.9827 - lr: 1.0000e-06 - 209s/epoch - 611ms/step\n",
            "Epoch 36/100\n",
            "\n",
            "Epoch 36: acc did not improve from 0.98270\n",
            "\n",
            "Epoch 36: ReduceLROnPlateau reducing learning rate to 1.0000001111620805e-07.\n",
            "343/343 - 210s - loss: 0.0601 - acc: 0.9826 - lr: 1.0000e-06 - 210s/epoch - 612ms/step\n",
            "Epoch 37/100\n",
            "\n",
            "Epoch 37: acc did not improve from 0.98270\n",
            "343/343 - 209s - loss: 0.0598 - acc: 0.9826 - lr: 1.0000e-07 - 209s/epoch - 610ms/step\n",
            "Epoch 38/100\n",
            "\n",
            "Epoch 38: acc improved from 0.98270 to 0.98275, saving model to /content/drive/MyDrive/ETH/GRU_mitbih.h5\n",
            "343/343 - 210s - loss: 0.0599 - acc: 0.9828 - lr: 1.0000e-07 - 210s/epoch - 613ms/step\n",
            "Epoch 39/100\n",
            "\n",
            "Epoch 39: acc improved from 0.98275 to 0.98304, saving model to /content/drive/MyDrive/ETH/GRU_mitbih.h5\n",
            "343/343 - 212s - loss: 0.0599 - acc: 0.9830 - lr: 1.0000e-07 - 212s/epoch - 618ms/step\n",
            "Epoch 40/100\n",
            "\n",
            "Epoch 40: acc did not improve from 0.98304\n",
            "343/343 - 213s - loss: 0.0596 - acc: 0.9828 - lr: 1.0000e-07 - 213s/epoch - 620ms/step\n",
            "Epoch 41/100\n",
            "\n",
            "Epoch 41: acc did not improve from 0.98304\n",
            "343/343 - 211s - loss: 0.0600 - acc: 0.9826 - lr: 1.0000e-07 - 211s/epoch - 616ms/step\n",
            "Epoch 42/100\n",
            "\n",
            "Epoch 42: acc did not improve from 0.98304\n",
            "\n",
            "Epoch 42: ReduceLROnPlateau reducing learning rate to 1.000000082740371e-08.\n",
            "343/343 - 213s - loss: 0.0599 - acc: 0.9829 - lr: 1.0000e-07 - 213s/epoch - 620ms/step\n",
            "Epoch 43/100\n",
            "\n",
            "Epoch 43: acc did not improve from 0.98304\n",
            "343/343 - 212s - loss: 0.0595 - acc: 0.9827 - lr: 1.0000e-08 - 212s/epoch - 617ms/step\n",
            "Epoch 44/100\n",
            "\n",
            "Epoch 44: acc did not improve from 0.98304\n",
            "343/343 - 211s - loss: 0.0594 - acc: 0.9828 - lr: 1.0000e-08 - 211s/epoch - 616ms/step\n",
            "Epoch 44: early stopping\n"
          ]
        },
        {
          "output_type": "execute_result",
          "data": {
            "text/plain": [
              "<keras.callbacks.History at 0x7f8646ac56d0>"
            ]
          },
          "metadata": {},
          "execution_count": 18
        }
      ]
    },
    {
      "cell_type": "code",
      "source": [
        "GRU_model.load_weights(file_path)\n",
        "\n",
        "pred_test = GRU_model.predict(X_test)\n",
        "pred_test = np.argmax(pred_test, axis=-1)\n",
        "\n",
        "acc = accuracy_score(Y_test, pred_test)\n",
        "f1 = f1_score(Y_test, pred_test, average='weighted')\n",
        "\n",
        "print(\"Test accuracy score : %s \"% acc)\n",
        "print(\"f1_score : %s\"% f1)"
      ],
      "metadata": {
        "colab": {
          "base_uri": "https://localhost:8080/"
        },
        "id": "abmdmGPfdn0_",
        "outputId": "709091d8-5452-45c1-c134-c6c9512e287d"
      },
      "id": "abmdmGPfdn0_",
      "execution_count": null,
      "outputs": [
        {
          "output_type": "stream",
          "name": "stdout",
          "text": [
            "Test accuracy score : 0.9789877580851453 \n",
            "f1_score : 0.9780362232328632\n"
          ]
        }
      ]
    },
    {
      "cell_type": "markdown",
      "source": [
        "### MLP"
      ],
      "metadata": {
        "id": "gIOJlT5xJOQl"
      },
      "id": "gIOJlT5xJOQl"
    },
    {
      "cell_type": "code",
      "source": [
        "train, test, y_train, y_test = load_mitbih(base_path=path)\n",
        "train, test = train[:,:,0], test[:,:,0]"
      ],
      "metadata": {
        "id": "YyLJurvOrDq4"
      },
      "id": "YyLJurvOrDq4",
      "execution_count": null,
      "outputs": []
    },
    {
      "cell_type": "code",
      "source": [
        "clf = MLPClassifier(hidden_layer_sizes=(200,), activation='tanh',\n",
        "                    random_state=1).fit(train,y_train)"
      ],
      "metadata": {
        "id": "alx6-07OQWa2",
        "colab": {
          "base_uri": "https://localhost:8080/",
          "height": 183
        },
        "outputId": "b9dd6031-3ddf-4b6d-ac75-03269fc8a952"
      },
      "id": "alx6-07OQWa2",
      "execution_count": null,
      "outputs": [
        {
          "output_type": "display_data",
          "data": {
            "text/plain": [
              "<IPython.core.display.HTML object>"
            ],
            "text/html": [
              "\n",
              "  <style>\n",
              "    pre {\n",
              "        white-space: pre-wrap;\n",
              "    }\n",
              "  </style>\n",
              "  "
            ]
          },
          "metadata": {}
        },
        {
          "output_type": "error",
          "ename": "NameError",
          "evalue": "ignored",
          "traceback": [
            "\u001b[0;31m---------------------------------------------------------------------------\u001b[0m",
            "\u001b[0;31mNameError\u001b[0m                                 Traceback (most recent call last)",
            "\u001b[0;32m<ipython-input-39-5ca9714cbfca>\u001b[0m in \u001b[0;36m<module>\u001b[0;34m()\u001b[0m\n\u001b[1;32m      1\u001b[0m clf = MLPClassifier(hidden_layer_sizes=(200,), activation='tanh',\n\u001b[0;32m----> 2\u001b[0;31m                     random_state=1).fit(train,y_train)\n\u001b[0m",
            "\u001b[0;31mNameError\u001b[0m: name 'train' is not defined"
          ]
        }
      ]
    },
    {
      "cell_type": "code",
      "source": [
        "pred_test = clf.predict(test)\n",
        "accuracy_score(y_test, pred_test)"
      ],
      "metadata": {
        "id": "8PLtZhaPQWds"
      },
      "id": "8PLtZhaPQWds",
      "execution_count": null,
      "outputs": []
    },
    {
      "cell_type": "markdown",
      "source": [
        "### Bidirectional GRU"
      ],
      "metadata": {
        "id": "cx99GY03aY6G"
      },
      "id": "cx99GY03aY6G"
    },
    {
      "cell_type": "code",
      "source": [
        "# biGRU_act = \"\" #@param {type:\"string\"}\n",
        "biGRU_batchsize = 1024 #@param {type:\"integer\"}\n"
      ],
      "metadata": {
        "colab": {
          "base_uri": "https://localhost:8080/",
          "height": 17
        },
        "id": "teSQm18mIvXH",
        "outputId": "a948f134-34b7-4223-c859-9d8d526cf0ea"
      },
      "id": "teSQm18mIvXH",
      "execution_count": null,
      "outputs": [
        {
          "output_type": "display_data",
          "data": {
            "text/plain": [
              "<IPython.core.display.HTML object>"
            ],
            "text/html": [
              "\n",
              "  <style>\n",
              "    pre {\n",
              "        white-space: pre-wrap;\n",
              "    }\n",
              "  </style>\n",
              "  "
            ]
          },
          "metadata": {}
        }
      ]
    },
    {
      "cell_type": "code",
      "source": [
        "BidirGRU_model=Sequential()\n",
        "BidirGRU_model.add(Masking(mask_value=0.,input_shape=(187,1)))\n",
        "BidirGRU_model.add(BatchNormalization())\n",
        "BidirGRU_model.add(Bidirectional(GRU(100,return_sequences=True)))\n",
        "BidirGRU_model.add(Dropout(0.3))\n",
        "BidirGRU_model.add(Bidirectional(GRU(100)))\n",
        "BidirGRU_model.add(Dropout(0.1))\n",
        "BidirGRU_model.add(BatchNormalization())\n",
        "BidirGRU_model.add(Dense(5,activation=activations.softmax))\n",
        "\n",
        "\n",
        "file_path = os.path.join(output_path,f'BidirGRU_BS={biGRU_batchsize}.h5')\n",
        "checkpoint = ModelCheckpoint(file_path, \n",
        "                             monitor='accuracy', \n",
        "                             verbose=1, \n",
        "                             save_best_only=True, \n",
        "                             mode='max'\n",
        "                             )\n",
        "early = EarlyStopping(monitor=\"accuracy\", mode=\"max\", patience=5, verbose=1)\n",
        "red = ReduceLROnPlateau(monitor=\"accuracy\", mode=\"max\", patience=3, verbose=2)\n",
        "callbacks_list = [checkpoint,early, red]\n",
        "\n",
        "BidirGRU_model.compile(optimizer=optimizers.Adam(0.001), \n",
        "                       loss='sparse_categorical_crossentropy', \n",
        "                       metrics=['accuracy'])\n",
        "BidirGRU_model.summary()\n",
        "\n",
        "BidirGRU_model.fit(X, Y, \n",
        "                   epochs=100, \n",
        "                   batch_size=biGRU_batchsize, \n",
        "                   verbose=2, \n",
        "                   callbacks=callbacks_list\n",
        "                   )"
      ],
      "metadata": {
        "colab": {
          "base_uri": "https://localhost:8080/",
          "height": 1000
        },
        "id": "oKp8VCm7nOv2",
        "outputId": "41f5dbb1-ea88-461d-b5a7-dd1198589d27"
      },
      "id": "oKp8VCm7nOv2",
      "execution_count": null,
      "outputs": [
        {
          "output_type": "display_data",
          "data": {
            "text/plain": [
              "<IPython.core.display.HTML object>"
            ],
            "text/html": [
              "\n",
              "  <style>\n",
              "    pre {\n",
              "        white-space: pre-wrap;\n",
              "    }\n",
              "  </style>\n",
              "  "
            ]
          },
          "metadata": {}
        },
        {
          "output_type": "stream",
          "name": "stdout",
          "text": [
            "Model: \"sequential_3\"\n",
            "_________________________________________________________________\n",
            " Layer (type)                Output Shape              Param #   \n",
            "=================================================================\n",
            " masking_2 (Masking)         (None, 187, 1)            0         \n",
            "                                                                 \n",
            " batch_normalization_2 (Batc  (None, 187, 1)           4         \n",
            " hNormalization)                                                 \n",
            "                                                                 \n",
            " bidirectional_2 (Bidirectio  (None, 187, 200)         61800     \n",
            " nal)                                                            \n",
            "                                                                 \n",
            " dropout_6 (Dropout)         (None, 187, 200)          0         \n",
            "                                                                 \n",
            " bidirectional_3 (Bidirectio  (None, 200)              181200    \n",
            " nal)                                                            \n",
            "                                                                 \n",
            " dropout_7 (Dropout)         (None, 200)               0         \n",
            "                                                                 \n",
            " batch_normalization_3 (Batc  (None, 200)              800       \n",
            " hNormalization)                                                 \n",
            "                                                                 \n",
            " dense_3 (Dense)             (None, 5)                 1005      \n",
            "                                                                 \n",
            "=================================================================\n",
            "Total params: 244,809\n",
            "Trainable params: 244,407\n",
            "Non-trainable params: 402\n",
            "_________________________________________________________________\n",
            "Epoch 1/100\n",
            "\n",
            "Epoch 1: accuracy improved from -inf to 0.74765, saving model to /content/drive/MyDrive/ETHZ-2022-S/ML-healthcare-projects/project1/MITBIH_biGRU-outputs/BidirGRU_BS=1024.h5\n",
            "86/86 - 113s - loss: 0.8845 - accuracy: 0.7477 - lr: 0.0010 - 113s/epoch - 1s/step\n",
            "Epoch 2/100\n",
            "\n",
            "Epoch 2: accuracy improved from 0.74765 to 0.92626, saving model to /content/drive/MyDrive/ETHZ-2022-S/ML-healthcare-projects/project1/MITBIH_biGRU-outputs/BidirGRU_BS=1024.h5\n",
            "86/86 - 98s - loss: 0.3023 - accuracy: 0.9263 - lr: 0.0010 - 98s/epoch - 1s/step\n",
            "Epoch 3/100\n",
            "\n",
            "Epoch 3: accuracy improved from 0.92626 to 0.93948, saving model to /content/drive/MyDrive/ETHZ-2022-S/ML-healthcare-projects/project1/MITBIH_biGRU-outputs/BidirGRU_BS=1024.h5\n",
            "86/86 - 99s - loss: 0.2305 - accuracy: 0.9395 - lr: 0.0010 - 99s/epoch - 1s/step\n",
            "Epoch 4/100\n",
            "\n",
            "Epoch 4: accuracy improved from 0.93948 to 0.95349, saving model to /content/drive/MyDrive/ETHZ-2022-S/ML-healthcare-projects/project1/MITBIH_biGRU-outputs/BidirGRU_BS=1024.h5\n",
            "86/86 - 98s - loss: 0.1789 - accuracy: 0.9535 - lr: 0.0010 - 98s/epoch - 1s/step\n",
            "Epoch 5/100\n",
            "\n",
            "Epoch 5: accuracy improved from 0.95349 to 0.96070, saving model to /content/drive/MyDrive/ETHZ-2022-S/ML-healthcare-projects/project1/MITBIH_biGRU-outputs/BidirGRU_BS=1024.h5\n",
            "86/86 - 98s - loss: 0.1517 - accuracy: 0.9607 - lr: 0.0010 - 98s/epoch - 1s/step\n",
            "Epoch 6/100\n",
            "\n",
            "Epoch 6: accuracy improved from 0.96070 to 0.96462, saving model to /content/drive/MyDrive/ETHZ-2022-S/ML-healthcare-projects/project1/MITBIH_biGRU-outputs/BidirGRU_BS=1024.h5\n",
            "86/86 - 98s - loss: 0.1370 - accuracy: 0.9646 - lr: 0.0010 - 98s/epoch - 1s/step\n",
            "Epoch 7/100\n",
            "\n",
            "Epoch 7: accuracy improved from 0.96462 to 0.96873, saving model to /content/drive/MyDrive/ETHZ-2022-S/ML-healthcare-projects/project1/MITBIH_biGRU-outputs/BidirGRU_BS=1024.h5\n",
            "86/86 - 99s - loss: 0.1228 - accuracy: 0.9687 - lr: 0.0010 - 99s/epoch - 1s/step\n",
            "Epoch 8/100\n",
            "\n",
            "Epoch 8: accuracy improved from 0.96873 to 0.97100, saving model to /content/drive/MyDrive/ETHZ-2022-S/ML-healthcare-projects/project1/MITBIH_biGRU-outputs/BidirGRU_BS=1024.h5\n",
            "86/86 - 99s - loss: 0.1121 - accuracy: 0.9710 - lr: 0.0010 - 99s/epoch - 1s/step\n",
            "Epoch 9/100\n",
            "\n",
            "Epoch 9: accuracy improved from 0.97100 to 0.97172, saving model to /content/drive/MyDrive/ETHZ-2022-S/ML-healthcare-projects/project1/MITBIH_biGRU-outputs/BidirGRU_BS=1024.h5\n",
            "86/86 - 98s - loss: 0.1072 - accuracy: 0.9717 - lr: 0.0010 - 98s/epoch - 1s/step\n",
            "Epoch 10/100\n",
            "\n",
            "Epoch 10: accuracy improved from 0.97172 to 0.97362, saving model to /content/drive/MyDrive/ETHZ-2022-S/ML-healthcare-projects/project1/MITBIH_biGRU-outputs/BidirGRU_BS=1024.h5\n",
            "86/86 - 100s - loss: 0.0983 - accuracy: 0.9736 - lr: 0.0010 - 100s/epoch - 1s/step\n",
            "Epoch 11/100\n",
            "\n",
            "Epoch 11: accuracy improved from 0.97362 to 0.97530, saving model to /content/drive/MyDrive/ETHZ-2022-S/ML-healthcare-projects/project1/MITBIH_biGRU-outputs/BidirGRU_BS=1024.h5\n",
            "86/86 - 98s - loss: 0.0924 - accuracy: 0.9753 - lr: 0.0010 - 98s/epoch - 1s/step\n",
            "Epoch 12/100\n",
            "\n",
            "Epoch 12: accuracy improved from 0.97530 to 0.97645, saving model to /content/drive/MyDrive/ETHZ-2022-S/ML-healthcare-projects/project1/MITBIH_biGRU-outputs/BidirGRU_BS=1024.h5\n",
            "86/86 - 98s - loss: 0.0845 - accuracy: 0.9764 - lr: 0.0010 - 98s/epoch - 1s/step\n",
            "Epoch 13/100\n",
            "\n",
            "Epoch 13: accuracy improved from 0.97645 to 0.97765, saving model to /content/drive/MyDrive/ETHZ-2022-S/ML-healthcare-projects/project1/MITBIH_biGRU-outputs/BidirGRU_BS=1024.h5\n",
            "86/86 - 99s - loss: 0.0803 - accuracy: 0.9776 - lr: 0.0010 - 99s/epoch - 1s/step\n",
            "Epoch 14/100\n",
            "\n",
            "Epoch 14: accuracy improved from 0.97765 to 0.97944, saving model to /content/drive/MyDrive/ETHZ-2022-S/ML-healthcare-projects/project1/MITBIH_biGRU-outputs/BidirGRU_BS=1024.h5\n",
            "86/86 - 98s - loss: 0.0735 - accuracy: 0.9794 - lr: 0.0010 - 98s/epoch - 1s/step\n",
            "Epoch 15/100\n",
            "\n",
            "Epoch 15: accuracy improved from 0.97944 to 0.97986, saving model to /content/drive/MyDrive/ETHZ-2022-S/ML-healthcare-projects/project1/MITBIH_biGRU-outputs/BidirGRU_BS=1024.h5\n",
            "86/86 - 98s - loss: 0.0706 - accuracy: 0.9799 - lr: 0.0010 - 98s/epoch - 1s/step\n",
            "Epoch 16/100\n",
            "\n",
            "Epoch 16: accuracy improved from 0.97986 to 0.98070, saving model to /content/drive/MyDrive/ETHZ-2022-S/ML-healthcare-projects/project1/MITBIH_biGRU-outputs/BidirGRU_BS=1024.h5\n",
            "86/86 - 98s - loss: 0.0673 - accuracy: 0.9807 - lr: 0.0010 - 98s/epoch - 1s/step\n",
            "Epoch 17/100\n",
            "\n",
            "Epoch 17: accuracy improved from 0.98070 to 0.98162, saving model to /content/drive/MyDrive/ETHZ-2022-S/ML-healthcare-projects/project1/MITBIH_biGRU-outputs/BidirGRU_BS=1024.h5\n",
            "86/86 - 98s - loss: 0.0639 - accuracy: 0.9816 - lr: 0.0010 - 98s/epoch - 1s/step\n",
            "Epoch 18/100\n",
            "\n",
            "Epoch 18: accuracy improved from 0.98162 to 0.98290, saving model to /content/drive/MyDrive/ETHZ-2022-S/ML-healthcare-projects/project1/MITBIH_biGRU-outputs/BidirGRU_BS=1024.h5\n",
            "86/86 - 98s - loss: 0.0595 - accuracy: 0.9829 - lr: 0.0010 - 98s/epoch - 1s/step\n",
            "Epoch 19/100\n",
            "\n",
            "Epoch 19: accuracy did not improve from 0.98290\n",
            "86/86 - 98s - loss: 0.0595 - accuracy: 0.9827 - lr: 0.0010 - 98s/epoch - 1s/step\n",
            "Epoch 20/100\n",
            "\n",
            "Epoch 20: accuracy improved from 0.98290 to 0.98394, saving model to /content/drive/MyDrive/ETHZ-2022-S/ML-healthcare-projects/project1/MITBIH_biGRU-outputs/BidirGRU_BS=1024.h5\n",
            "86/86 - 98s - loss: 0.0559 - accuracy: 0.9839 - lr: 0.0010 - 98s/epoch - 1s/step\n",
            "Epoch 21/100\n",
            "\n",
            "Epoch 21: accuracy improved from 0.98394 to 0.98454, saving model to /content/drive/MyDrive/ETHZ-2022-S/ML-healthcare-projects/project1/MITBIH_biGRU-outputs/BidirGRU_BS=1024.h5\n",
            "86/86 - 98s - loss: 0.0526 - accuracy: 0.9845 - lr: 0.0010 - 98s/epoch - 1s/step\n",
            "Epoch 22/100\n",
            "\n",
            "Epoch 22: accuracy improved from 0.98454 to 0.98484, saving model to /content/drive/MyDrive/ETHZ-2022-S/ML-healthcare-projects/project1/MITBIH_biGRU-outputs/BidirGRU_BS=1024.h5\n",
            "86/86 - 98s - loss: 0.0511 - accuracy: 0.9848 - lr: 0.0010 - 98s/epoch - 1s/step\n",
            "Epoch 23/100\n",
            "\n",
            "Epoch 23: accuracy improved from 0.98484 to 0.98496, saving model to /content/drive/MyDrive/ETHZ-2022-S/ML-healthcare-projects/project1/MITBIH_biGRU-outputs/BidirGRU_BS=1024.h5\n",
            "86/86 - 98s - loss: 0.0505 - accuracy: 0.9850 - lr: 0.0010 - 98s/epoch - 1s/step\n",
            "Epoch 24/100\n",
            "\n",
            "Epoch 24: accuracy improved from 0.98496 to 0.98632, saving model to /content/drive/MyDrive/ETHZ-2022-S/ML-healthcare-projects/project1/MITBIH_biGRU-outputs/BidirGRU_BS=1024.h5\n",
            "86/86 - 99s - loss: 0.0461 - accuracy: 0.9863 - lr: 0.0010 - 99s/epoch - 1s/step\n",
            "Epoch 25/100\n",
            "\n",
            "Epoch 25: accuracy did not improve from 0.98632\n",
            "86/86 - 98s - loss: 0.0462 - accuracy: 0.9861 - lr: 0.0010 - 98s/epoch - 1s/step\n",
            "Epoch 26/100\n",
            "\n",
            "Epoch 26: accuracy improved from 0.98632 to 0.98641, saving model to /content/drive/MyDrive/ETHZ-2022-S/ML-healthcare-projects/project1/MITBIH_biGRU-outputs/BidirGRU_BS=1024.h5\n",
            "86/86 - 99s - loss: 0.0454 - accuracy: 0.9864 - lr: 0.0010 - 99s/epoch - 1s/step\n",
            "Epoch 27/100\n",
            "\n",
            "Epoch 27: accuracy improved from 0.98641 to 0.98721, saving model to /content/drive/MyDrive/ETHZ-2022-S/ML-healthcare-projects/project1/MITBIH_biGRU-outputs/BidirGRU_BS=1024.h5\n",
            "86/86 - 99s - loss: 0.0431 - accuracy: 0.9872 - lr: 0.0010 - 99s/epoch - 1s/step\n",
            "Epoch 28/100\n",
            "\n",
            "Epoch 28: accuracy improved from 0.98721 to 0.98726, saving model to /content/drive/MyDrive/ETHZ-2022-S/ML-healthcare-projects/project1/MITBIH_biGRU-outputs/BidirGRU_BS=1024.h5\n",
            "86/86 - 98s - loss: 0.0416 - accuracy: 0.9873 - lr: 0.0010 - 98s/epoch - 1s/step\n",
            "Epoch 29/100\n",
            "\n",
            "Epoch 29: accuracy improved from 0.98726 to 0.98834, saving model to /content/drive/MyDrive/ETHZ-2022-S/ML-healthcare-projects/project1/MITBIH_biGRU-outputs/BidirGRU_BS=1024.h5\n",
            "86/86 - 99s - loss: 0.0379 - accuracy: 0.9883 - lr: 0.0010 - 99s/epoch - 1s/step\n",
            "Epoch 30/100\n",
            "\n",
            "Epoch 30: accuracy improved from 0.98834 to 0.98939, saving model to /content/drive/MyDrive/ETHZ-2022-S/ML-healthcare-projects/project1/MITBIH_biGRU-outputs/BidirGRU_BS=1024.h5\n",
            "86/86 - 99s - loss: 0.0356 - accuracy: 0.9894 - lr: 0.0010 - 99s/epoch - 1s/step\n",
            "Epoch 31/100\n",
            "\n",
            "Epoch 31: accuracy did not improve from 0.98939\n",
            "86/86 - 98s - loss: 0.0371 - accuracy: 0.9885 - lr: 0.0010 - 98s/epoch - 1s/step\n",
            "Epoch 32/100\n",
            "\n",
            "Epoch 32: accuracy did not improve from 0.98939\n",
            "86/86 - 99s - loss: 0.0361 - accuracy: 0.9889 - lr: 0.0010 - 99s/epoch - 1s/step\n",
            "Epoch 33/100\n",
            "\n",
            "Epoch 33: accuracy did not improve from 0.98939\n",
            "\n",
            "Epoch 33: ReduceLROnPlateau reducing learning rate to 0.00010000000474974513.\n",
            "86/86 - 99s - loss: 0.0362 - accuracy: 0.9887 - lr: 0.0010 - 99s/epoch - 1s/step\n",
            "Epoch 34/100\n",
            "\n",
            "Epoch 34: accuracy improved from 0.98939 to 0.99117, saving model to /content/drive/MyDrive/ETHZ-2022-S/ML-healthcare-projects/project1/MITBIH_biGRU-outputs/BidirGRU_BS=1024.h5\n",
            "86/86 - 99s - loss: 0.0289 - accuracy: 0.9912 - lr: 1.0000e-04 - 99s/epoch - 1s/step\n",
            "Epoch 35/100\n",
            "\n",
            "Epoch 35: accuracy improved from 0.99117 to 0.99196, saving model to /content/drive/MyDrive/ETHZ-2022-S/ML-healthcare-projects/project1/MITBIH_biGRU-outputs/BidirGRU_BS=1024.h5\n",
            "86/86 - 99s - loss: 0.0257 - accuracy: 0.9920 - lr: 1.0000e-04 - 99s/epoch - 1s/step\n",
            "Epoch 36/100\n",
            "\n",
            "Epoch 36: accuracy improved from 0.99196 to 0.99245, saving model to /content/drive/MyDrive/ETHZ-2022-S/ML-healthcare-projects/project1/MITBIH_biGRU-outputs/BidirGRU_BS=1024.h5\n",
            "86/86 - 99s - loss: 0.0252 - accuracy: 0.9925 - lr: 1.0000e-04 - 99s/epoch - 1s/step\n",
            "Epoch 37/100\n",
            "\n",
            "Epoch 37: accuracy did not improve from 0.99245\n",
            "86/86 - 99s - loss: 0.0253 - accuracy: 0.9922 - lr: 1.0000e-04 - 99s/epoch - 1s/step\n",
            "Epoch 38/100\n",
            "\n",
            "Epoch 38: accuracy improved from 0.99245 to 0.99251, saving model to /content/drive/MyDrive/ETHZ-2022-S/ML-healthcare-projects/project1/MITBIH_biGRU-outputs/BidirGRU_BS=1024.h5\n",
            "86/86 - 99s - loss: 0.0248 - accuracy: 0.9925 - lr: 1.0000e-04 - 99s/epoch - 1s/step\n",
            "Epoch 39/100\n",
            "\n",
            "Epoch 39: accuracy did not improve from 0.99251\n",
            "\n",
            "Epoch 39: ReduceLROnPlateau reducing learning rate to 1.0000000474974514e-05.\n",
            "86/86 - 99s - loss: 0.0243 - accuracy: 0.9924 - lr: 1.0000e-04 - 99s/epoch - 1s/step\n",
            "Epoch 40/100\n",
            "\n",
            "Epoch 40: accuracy improved from 0.99251 to 0.99315, saving model to /content/drive/MyDrive/ETHZ-2022-S/ML-healthcare-projects/project1/MITBIH_biGRU-outputs/BidirGRU_BS=1024.h5\n",
            "86/86 - 99s - loss: 0.0236 - accuracy: 0.9931 - lr: 1.0000e-05 - 99s/epoch - 1s/step\n",
            "Epoch 41/100\n",
            "\n",
            "Epoch 41: accuracy did not improve from 0.99315\n",
            "86/86 - 99s - loss: 0.0242 - accuracy: 0.9925 - lr: 1.0000e-05 - 99s/epoch - 1s/step\n",
            "Epoch 42/100\n",
            "\n",
            "Epoch 42: accuracy did not improve from 0.99315\n",
            "86/86 - 99s - loss: 0.0238 - accuracy: 0.9925 - lr: 1.0000e-05 - 99s/epoch - 1s/step\n",
            "Epoch 43/100\n",
            "\n",
            "Epoch 43: accuracy did not improve from 0.99315\n",
            "\n",
            "Epoch 43: ReduceLROnPlateau reducing learning rate to 1.0000000656873453e-06.\n",
            "86/86 - 99s - loss: 0.0240 - accuracy: 0.9926 - lr: 1.0000e-05 - 99s/epoch - 1s/step\n",
            "Epoch 44/100\n",
            "\n",
            "Epoch 44: accuracy did not improve from 0.99315\n",
            "86/86 - 99s - loss: 0.0231 - accuracy: 0.9929 - lr: 1.0000e-06 - 99s/epoch - 1s/step\n",
            "Epoch 45/100\n",
            "\n",
            "Epoch 45: accuracy did not improve from 0.99315\n",
            "86/86 - 99s - loss: 0.0230 - accuracy: 0.9930 - lr: 1.0000e-06 - 99s/epoch - 1s/step\n",
            "Epoch 45: early stopping\n"
          ]
        },
        {
          "output_type": "execute_result",
          "data": {
            "text/plain": [
              "<keras.callbacks.History at 0x7f42ebff8110>"
            ]
          },
          "metadata": {},
          "execution_count": 30
        }
      ]
    },
    {
      "cell_type": "code",
      "source": [
        "BidirGRU_model.load_weights(file_path)\n",
        "\n",
        "pred_test = BidirGRU_model.predict(X_test)\n",
        "pred_test = np.argmax(pred_test, axis=-1)\n",
        "\n",
        "acc = accuracy_score(Y_test, pred_test)\n",
        "\n",
        "print(\"Test accuracy score : %s \"% acc)"
      ],
      "metadata": {
        "colab": {
          "base_uri": "https://localhost:8080/",
          "height": 34
        },
        "id": "YK7J1I9n76Yz",
        "outputId": "aa4b2286-8783-404b-f9f5-fbad07c31f48"
      },
      "id": "YK7J1I9n76Yz",
      "execution_count": null,
      "outputs": [
        {
          "output_type": "display_data",
          "data": {
            "text/plain": [
              "<IPython.core.display.HTML object>"
            ],
            "text/html": [
              "\n",
              "  <style>\n",
              "    pre {\n",
              "        white-space: pre-wrap;\n",
              "    }\n",
              "  </style>\n",
              "  "
            ]
          },
          "metadata": {}
        },
        {
          "output_type": "stream",
          "name": "stdout",
          "text": [
            "Test accuracy score : 0.9871185821304587 \n"
          ]
        }
      ]
    },
    {
      "cell_type": "markdown",
      "source": [
        "### Bidirectional LSTM (187 Hidden Units)"
      ],
      "metadata": {
        "id": "MJpBIEnhVhhm"
      },
      "id": "MJpBIEnhVhhm"
    },
    {
      "cell_type": "code",
      "execution_count": null,
      "metadata": {
        "colab": {
          "base_uri": "https://localhost:8080/",
          "height": 798
        },
        "id": "IM2rpHfFPcD3",
        "outputId": "4c8c379b-2766-42f6-ded4-c917a2e9d67e"
      },
      "outputs": [
        {
          "output_type": "display_data",
          "data": {
            "text/plain": [
              "<IPython.core.display.HTML object>"
            ],
            "text/html": [
              "\n",
              "  <style>\n",
              "    pre {\n",
              "        white-space: pre-wrap;\n",
              "    }\n",
              "  </style>\n",
              "  "
            ]
          },
          "metadata": {}
        },
        {
          "output_type": "stream",
          "name": "stdout",
          "text": [
            "Model: \"sequential_5\"\n",
            "_________________________________________________________________\n",
            " Layer (type)                Output Shape              Param #   \n",
            "=================================================================\n",
            " bidirectional_5 (Bidirectio  (None, 374)              282744    \n",
            " nal)                                                            \n",
            "                                                                 \n",
            " dense_6 (Dense)             (None, 64)                24000     \n",
            "                                                                 \n",
            " dense_7 (Dense)             (None, 5)                 325       \n",
            "                                                                 \n",
            "=================================================================\n",
            "Total params: 307,069\n",
            "Trainable params: 307,069\n",
            "Non-trainable params: 0\n",
            "_________________________________________________________________\n",
            "Epoch 1/30\n",
            "\n",
            "Epoch 1: val_accuracy improved from -inf to 0.83360, saving model to /content/drive/MyDrive/ETHZ-2022-S/ML-healthcare-projects/project1/MITBIH_biGRU-outputs/BILSTM187_mitbih.h5\n",
            "39/39 - 6s - loss: 0.8083 - accuracy: 0.8075 - val_loss: 0.6379 - val_accuracy: 0.8336 - lr: 0.0010 - 6s/epoch - 166ms/step\n",
            "Epoch 2/30\n",
            "\n",
            "Epoch 2: val_accuracy did not improve from 0.83360\n",
            "39/39 - 3s - loss: 0.6578 - accuracy: 0.8271 - val_loss: 0.6339 - val_accuracy: 0.8336 - lr: 0.0010 - 3s/epoch - 74ms/step\n",
            "Epoch 3/30\n",
            "\n",
            "Epoch 3: val_accuracy did not improve from 0.83360\n",
            "39/39 - 3s - loss: 0.6453 - accuracy: 0.8272 - val_loss: 0.6001 - val_accuracy: 0.8336 - lr: 0.0010 - 3s/epoch - 73ms/step\n",
            "Epoch 4/30\n",
            "\n",
            "Epoch 4: val_accuracy did not improve from 0.83360\n",
            "\n",
            "Epoch 4: ReduceLROnPlateau reducing learning rate to 0.00010000000474974513.\n",
            "39/39 - 3s - loss: 0.6331 - accuracy: 0.8272 - val_loss: 0.5852 - val_accuracy: 0.8330 - lr: 0.0010 - 3s/epoch - 74ms/step\n",
            "Epoch 5/30\n",
            "\n",
            "Epoch 5: val_accuracy did not improve from 0.83360\n",
            "39/39 - 3s - loss: 0.5990 - accuracy: 0.8263 - val_loss: 0.5701 - val_accuracy: 0.8312 - lr: 1.0000e-04 - 3s/epoch - 73ms/step\n",
            "Epoch 6/30\n",
            "\n",
            "Epoch 6: val_accuracy did not improve from 0.83360\n",
            "39/39 - 3s - loss: 0.5833 - accuracy: 0.8251 - val_loss: 0.5544 - val_accuracy: 0.8296 - lr: 1.0000e-04 - 3s/epoch - 75ms/step\n",
            "Epoch 6: early stopping\n"
          ]
        },
        {
          "output_type": "execute_result",
          "data": {
            "text/plain": [
              "<keras.callbacks.History at 0x7f42ebc949d0>"
            ]
          },
          "metadata": {},
          "execution_count": 34
        }
      ],
      "source": [
        "BiLSTM_model = Sequential()\n",
        "BiLSTM_model.add(Bidirectional(LSTM(187), input_shape=(187, 1)))\n",
        "BiLSTM_model.add(Dense(64, activation='relu'))\n",
        "BiLSTM_model.add(Dense(5, activation='softmax'))\n",
        "\n",
        "file_path = os.path.join(output_path, \"BILSTM187_mitbih.h5\")\n",
        "checkpoint = ModelCheckpoint(file_path, monitor='val_accuracy', verbose=1, save_best_only=True, mode='max')\n",
        "early = EarlyStopping(monitor=\"val_accuracy\", mode=\"max\", patience=5, verbose=1)\n",
        "redonplat = ReduceLROnPlateau(monitor=\"val_accuracy\", mode=\"max\", patience=3, verbose=2)\n",
        "callbacks_list = [checkpoint,early, redonplat]\n",
        "\n",
        "BiLSTM_model.compile(optimizer=optimizers.Adam(0.001), loss='sparse_categorical_crossentropy', metrics=['accuracy'])\n",
        "BiLSTM_model.summary()\n",
        "\n",
        "BiLSTM_model.fit(X, Y, epochs=30,batch_size=2048, verbose=2, callbacks=callbacks_list, validation_split=0.1)"
      ],
      "id": "IM2rpHfFPcD3"
    },
    {
      "cell_type": "code",
      "execution_count": null,
      "metadata": {
        "colab": {
          "base_uri": "https://localhost:8080/",
          "height": 34
        },
        "id": "53iD-AFZPeuV",
        "outputId": "338efc2f-a06d-46c7-d4f2-c7210c70c277"
      },
      "outputs": [
        {
          "output_type": "display_data",
          "data": {
            "text/plain": [
              "<IPython.core.display.HTML object>"
            ],
            "text/html": [
              "\n",
              "  <style>\n",
              "    pre {\n",
              "        white-space: pre-wrap;\n",
              "    }\n",
              "  </style>\n",
              "  "
            ]
          },
          "metadata": {}
        },
        {
          "output_type": "stream",
          "name": "stdout",
          "text": [
            "Test accuracy score : 0.8276082587246483 \n"
          ]
        }
      ],
      "source": [
        "BiLSTM_model.load_weights(file_path)\n",
        "pred_test = BiLSTM_model.predict(X_test)\n",
        "pred_test = np.argmax(pred_test, axis=-1)\n",
        "\n",
        "acc = accuracy_score(Y_test, pred_test)\n",
        "\n",
        "print(\"Test accuracy score : %s \"% acc)"
      ],
      "id": "53iD-AFZPeuV"
    },
    {
      "cell_type": "code",
      "source": [
        "BiLSTM_model = Sequential()\n",
        "BiLSTM_model.add(Masking(mask_value=0.,input_shape=(187,1)))\n",
        "BiLSTM_model.add(BatchNormalization())\n",
        "BiLSTM_model.add(Bidirectional(LSTM(100, return_sequences=True)))\n",
        "BiLSTM_model.add(Dropout(0.3))\n",
        "BiLSTM_model.add(Bidirectional(LSTM(100)))\n",
        "BiLSTM_model.add(BatchNormalization())\n",
        "BiLSTM_model.add(Dense(64, activation='relu'))\n",
        "BiLSTM_model.add(Dense(5, activation='softmax'))\n",
        "\n",
        "file_path = os.path.join(output_path, \"BILSTM187_mitbih.h5\")\n",
        "checkpoint = ModelCheckpoint(file_path, monitor='val_accuracy', verbose=1, save_best_only=True, mode='max')\n",
        "early = EarlyStopping(monitor=\"val_accuracy\", mode=\"max\", patience=5, verbose=1)\n",
        "red = ReduceLROnPlateau(monitor=\"val_accuracy\", mode=\"max\", patience=3, verbose=2)\n",
        "callbacks_list = [checkpoint,early, red]\n",
        "\n",
        "BiLSTM_model.compile(optimizer=optimizers.Adam(0.001), loss='sparse_categorical_crossentropy', metrics=['accuracy'])\n",
        "BiLSTM_model.summary()\n",
        "\n",
        "BiLSTM_model.fit(X, Y, epochs=100,batch_size=2048, verbose=2, callbacks=callbacks_list, validation_split=0.1)"
      ],
      "metadata": {
        "colab": {
          "base_uri": "https://localhost:8080/",
          "height": 1000
        },
        "id": "8fFSsvt50wW9",
        "outputId": "4cc0e2ad-ee19-4f54-b101-0f007df2a7bc"
      },
      "id": "8fFSsvt50wW9",
      "execution_count": null,
      "outputs": [
        {
          "output_type": "display_data",
          "data": {
            "text/plain": [
              "<IPython.core.display.HTML object>"
            ],
            "text/html": [
              "\n",
              "  <style>\n",
              "    pre {\n",
              "        white-space: pre-wrap;\n",
              "    }\n",
              "  </style>\n",
              "  "
            ]
          },
          "metadata": {}
        },
        {
          "output_type": "stream",
          "name": "stdout",
          "text": [
            "Model: \"sequential_6\"\n",
            "_________________________________________________________________\n",
            " Layer (type)                Output Shape              Param #   \n",
            "=================================================================\n",
            " masking_3 (Masking)         (None, 187, 1)            0         \n",
            "                                                                 \n",
            " batch_normalization_4 (Batc  (None, 187, 1)           4         \n",
            " hNormalization)                                                 \n",
            "                                                                 \n",
            " bidirectional_6 (Bidirectio  (None, 187, 200)         81600     \n",
            " nal)                                                            \n",
            "                                                                 \n",
            " dropout_8 (Dropout)         (None, 187, 200)          0         \n",
            "                                                                 \n",
            " bidirectional_7 (Bidirectio  (None, 200)              240800    \n",
            " nal)                                                            \n",
            "                                                                 \n",
            " batch_normalization_5 (Batc  (None, 200)              800       \n",
            " hNormalization)                                                 \n",
            "                                                                 \n",
            " dense_8 (Dense)             (None, 64)                12864     \n",
            "                                                                 \n",
            " dense_9 (Dense)             (None, 5)                 325       \n",
            "                                                                 \n",
            "=================================================================\n",
            "Total params: 336,393\n",
            "Trainable params: 335,991\n",
            "Non-trainable params: 402\n",
            "_________________________________________________________________\n",
            "Epoch 1/100\n",
            "\n",
            "Epoch 1: val_accuracy improved from -inf to 0.83360, saving model to /content/drive/MyDrive/ETHZ-2022-S/ML-healthcare-projects/project1/MITBIH_biGRU-outputs/BILSTM187_mitbih.h5\n",
            "39/39 - 63s - loss: 0.4430 - accuracy: 0.8727 - val_loss: 1.1401 - val_accuracy: 0.8336 - lr: 0.0010 - 63s/epoch - 2s/step\n",
            "Epoch 2/100\n",
            "\n",
            "Epoch 2: val_accuracy did not improve from 0.83360\n",
            "39/39 - 44s - loss: 0.2304 - accuracy: 0.9397 - val_loss: 0.9754 - val_accuracy: 0.8336 - lr: 0.0010 - 44s/epoch - 1s/step\n",
            "Epoch 3/100\n",
            "\n",
            "Epoch 3: val_accuracy improved from 0.83360 to 0.84628, saving model to /content/drive/MyDrive/ETHZ-2022-S/ML-healthcare-projects/project1/MITBIH_biGRU-outputs/BILSTM187_mitbih.h5\n",
            "39/39 - 44s - loss: 0.1769 - accuracy: 0.9534 - val_loss: 0.8286 - val_accuracy: 0.8463 - lr: 0.0010 - 44s/epoch - 1s/step\n",
            "Epoch 4/100\n",
            "\n",
            "Epoch 4: val_accuracy improved from 0.84628 to 0.86329, saving model to /content/drive/MyDrive/ETHZ-2022-S/ML-healthcare-projects/project1/MITBIH_biGRU-outputs/BILSTM187_mitbih.h5\n",
            "39/39 - 44s - loss: 0.1435 - accuracy: 0.9615 - val_loss: 0.6985 - val_accuracy: 0.8633 - lr: 0.0010 - 44s/epoch - 1s/step\n",
            "Epoch 5/100\n",
            "\n",
            "Epoch 5: val_accuracy did not improve from 0.86329\n",
            "39/39 - 44s - loss: 0.1220 - accuracy: 0.9671 - val_loss: 0.5794 - val_accuracy: 0.8368 - lr: 0.0010 - 44s/epoch - 1s/step\n",
            "Epoch 6/100\n",
            "\n",
            "Epoch 6: val_accuracy improved from 0.86329 to 0.90144, saving model to /content/drive/MyDrive/ETHZ-2022-S/ML-healthcare-projects/project1/MITBIH_biGRU-outputs/BILSTM187_mitbih.h5\n",
            "39/39 - 44s - loss: 0.1084 - accuracy: 0.9702 - val_loss: 0.3894 - val_accuracy: 0.9014 - lr: 0.0010 - 44s/epoch - 1s/step\n",
            "Epoch 7/100\n",
            "\n",
            "Epoch 7: val_accuracy improved from 0.90144 to 0.91400, saving model to /content/drive/MyDrive/ETHZ-2022-S/ML-healthcare-projects/project1/MITBIH_biGRU-outputs/BILSTM187_mitbih.h5\n",
            "39/39 - 44s - loss: 0.0975 - accuracy: 0.9731 - val_loss: 0.3021 - val_accuracy: 0.9140 - lr: 0.0010 - 44s/epoch - 1s/step\n",
            "Epoch 8/100\n",
            "\n",
            "Epoch 8: val_accuracy improved from 0.91400 to 0.96014, saving model to /content/drive/MyDrive/ETHZ-2022-S/ML-healthcare-projects/project1/MITBIH_biGRU-outputs/BILSTM187_mitbih.h5\n",
            "39/39 - 44s - loss: 0.0902 - accuracy: 0.9747 - val_loss: 0.1592 - val_accuracy: 0.9601 - lr: 0.0010 - 44s/epoch - 1s/step\n",
            "Epoch 9/100\n",
            "\n",
            "Epoch 9: val_accuracy improved from 0.96014 to 0.97019, saving model to /content/drive/MyDrive/ETHZ-2022-S/ML-healthcare-projects/project1/MITBIH_biGRU-outputs/BILSTM187_mitbih.h5\n",
            "39/39 - 44s - loss: 0.0837 - accuracy: 0.9760 - val_loss: 0.1106 - val_accuracy: 0.9702 - lr: 0.0010 - 44s/epoch - 1s/step\n",
            "Epoch 10/100\n",
            "\n",
            "Epoch 10: val_accuracy improved from 0.97019 to 0.97305, saving model to /content/drive/MyDrive/ETHZ-2022-S/ML-healthcare-projects/project1/MITBIH_biGRU-outputs/BILSTM187_mitbih.h5\n",
            "39/39 - 44s - loss: 0.0769 - accuracy: 0.9779 - val_loss: 0.0913 - val_accuracy: 0.9730 - lr: 0.0010 - 44s/epoch - 1s/step\n",
            "Epoch 11/100\n",
            "\n",
            "Epoch 11: val_accuracy improved from 0.97305 to 0.97567, saving model to /content/drive/MyDrive/ETHZ-2022-S/ML-healthcare-projects/project1/MITBIH_biGRU-outputs/BILSTM187_mitbih.h5\n",
            "39/39 - 44s - loss: 0.0727 - accuracy: 0.9794 - val_loss: 0.0913 - val_accuracy: 0.9757 - lr: 0.0010 - 44s/epoch - 1s/step\n",
            "Epoch 12/100\n",
            "\n",
            "Epoch 12: val_accuracy improved from 0.97567 to 0.97921, saving model to /content/drive/MyDrive/ETHZ-2022-S/ML-healthcare-projects/project1/MITBIH_biGRU-outputs/BILSTM187_mitbih.h5\n",
            "39/39 - 44s - loss: 0.0666 - accuracy: 0.9807 - val_loss: 0.0747 - val_accuracy: 0.9792 - lr: 0.0010 - 44s/epoch - 1s/step\n",
            "Epoch 13/100\n",
            "\n",
            "Epoch 13: val_accuracy improved from 0.97921 to 0.98070, saving model to /content/drive/MyDrive/ETHZ-2022-S/ML-healthcare-projects/project1/MITBIH_biGRU-outputs/BILSTM187_mitbih.h5\n",
            "39/39 - 44s - loss: 0.0616 - accuracy: 0.9821 - val_loss: 0.0648 - val_accuracy: 0.9807 - lr: 0.0010 - 44s/epoch - 1s/step\n",
            "Epoch 14/100\n",
            "\n",
            "Epoch 14: val_accuracy did not improve from 0.98070\n",
            "39/39 - 44s - loss: 0.0596 - accuracy: 0.9822 - val_loss: 0.0665 - val_accuracy: 0.9800 - lr: 0.0010 - 44s/epoch - 1s/step\n",
            "Epoch 15/100\n",
            "\n",
            "Epoch 15: val_accuracy improved from 0.98070 to 0.98127, saving model to /content/drive/MyDrive/ETHZ-2022-S/ML-healthcare-projects/project1/MITBIH_biGRU-outputs/BILSTM187_mitbih.h5\n",
            "39/39 - 44s - loss: 0.0576 - accuracy: 0.9827 - val_loss: 0.0642 - val_accuracy: 0.9813 - lr: 0.0010 - 44s/epoch - 1s/step\n",
            "Epoch 16/100\n",
            "\n",
            "Epoch 16: val_accuracy improved from 0.98127 to 0.98241, saving model to /content/drive/MyDrive/ETHZ-2022-S/ML-healthcare-projects/project1/MITBIH_biGRU-outputs/BILSTM187_mitbih.h5\n",
            "39/39 - 44s - loss: 0.0547 - accuracy: 0.9837 - val_loss: 0.0585 - val_accuracy: 0.9824 - lr: 0.0010 - 44s/epoch - 1s/step\n",
            "Epoch 17/100\n",
            "\n",
            "Epoch 17: val_accuracy improved from 0.98241 to 0.98527, saving model to /content/drive/MyDrive/ETHZ-2022-S/ML-healthcare-projects/project1/MITBIH_biGRU-outputs/BILSTM187_mitbih.h5\n",
            "39/39 - 44s - loss: 0.0514 - accuracy: 0.9841 - val_loss: 0.0521 - val_accuracy: 0.9853 - lr: 0.0010 - 44s/epoch - 1s/step\n",
            "Epoch 18/100\n",
            "\n",
            "Epoch 18: val_accuracy did not improve from 0.98527\n",
            "39/39 - 44s - loss: 0.0479 - accuracy: 0.9853 - val_loss: 0.0566 - val_accuracy: 0.9834 - lr: 0.0010 - 44s/epoch - 1s/step\n",
            "Epoch 19/100\n",
            "\n",
            "Epoch 19: val_accuracy did not improve from 0.98527\n",
            "39/39 - 44s - loss: 0.0470 - accuracy: 0.9857 - val_loss: 0.0559 - val_accuracy: 0.9846 - lr: 0.0010 - 44s/epoch - 1s/step\n",
            "Epoch 20/100\n",
            "\n",
            "Epoch 20: val_accuracy did not improve from 0.98527\n",
            "\n",
            "Epoch 20: ReduceLROnPlateau reducing learning rate to 0.00010000000474974513.\n",
            "39/39 - 44s - loss: 0.0458 - accuracy: 0.9858 - val_loss: 0.0559 - val_accuracy: 0.9826 - lr: 0.0010 - 44s/epoch - 1s/step\n",
            "Epoch 21/100\n",
            "\n",
            "Epoch 21: val_accuracy improved from 0.98527 to 0.98550, saving model to /content/drive/MyDrive/ETHZ-2022-S/ML-healthcare-projects/project1/MITBIH_biGRU-outputs/BILSTM187_mitbih.h5\n",
            "39/39 - 44s - loss: 0.0377 - accuracy: 0.9883 - val_loss: 0.0463 - val_accuracy: 0.9855 - lr: 1.0000e-04 - 44s/epoch - 1s/step\n",
            "Epoch 22/100\n",
            "\n",
            "Epoch 22: val_accuracy did not improve from 0.98550\n",
            "39/39 - 44s - loss: 0.0341 - accuracy: 0.9895 - val_loss: 0.0452 - val_accuracy: 0.9855 - lr: 1.0000e-04 - 44s/epoch - 1s/step\n",
            "Epoch 23/100\n",
            "\n",
            "Epoch 23: val_accuracy improved from 0.98550 to 0.98675, saving model to /content/drive/MyDrive/ETHZ-2022-S/ML-healthcare-projects/project1/MITBIH_biGRU-outputs/BILSTM187_mitbih.h5\n",
            "39/39 - 44s - loss: 0.0333 - accuracy: 0.9899 - val_loss: 0.0441 - val_accuracy: 0.9868 - lr: 1.0000e-04 - 44s/epoch - 1s/step\n",
            "Epoch 24/100\n",
            "\n",
            "Epoch 24: val_accuracy improved from 0.98675 to 0.98687, saving model to /content/drive/MyDrive/ETHZ-2022-S/ML-healthcare-projects/project1/MITBIH_biGRU-outputs/BILSTM187_mitbih.h5\n",
            "39/39 - 44s - loss: 0.0326 - accuracy: 0.9898 - val_loss: 0.0433 - val_accuracy: 0.9869 - lr: 1.0000e-04 - 44s/epoch - 1s/step\n",
            "Epoch 25/100\n",
            "\n",
            "Epoch 25: val_accuracy did not improve from 0.98687\n",
            "39/39 - 44s - loss: 0.0323 - accuracy: 0.9900 - val_loss: 0.0442 - val_accuracy: 0.9868 - lr: 1.0000e-04 - 44s/epoch - 1s/step\n",
            "Epoch 26/100\n",
            "\n",
            "Epoch 26: val_accuracy improved from 0.98687 to 0.98698, saving model to /content/drive/MyDrive/ETHZ-2022-S/ML-healthcare-projects/project1/MITBIH_biGRU-outputs/BILSTM187_mitbih.h5\n",
            "39/39 - 44s - loss: 0.0320 - accuracy: 0.9902 - val_loss: 0.0436 - val_accuracy: 0.9870 - lr: 1.0000e-04 - 44s/epoch - 1s/step\n",
            "Epoch 27/100\n",
            "\n",
            "Epoch 27: val_accuracy did not improve from 0.98698\n",
            "39/39 - 44s - loss: 0.0314 - accuracy: 0.9904 - val_loss: 0.0437 - val_accuracy: 0.9870 - lr: 1.0000e-04 - 44s/epoch - 1s/step\n",
            "Epoch 28/100\n",
            "\n",
            "Epoch 28: val_accuracy did not improve from 0.98698\n",
            "39/39 - 44s - loss: 0.0312 - accuracy: 0.9903 - val_loss: 0.0439 - val_accuracy: 0.9869 - lr: 1.0000e-04 - 44s/epoch - 1s/step\n",
            "Epoch 29/100\n",
            "\n",
            "Epoch 29: val_accuracy did not improve from 0.98698\n",
            "\n",
            "Epoch 29: ReduceLROnPlateau reducing learning rate to 1.0000000474974514e-05.\n",
            "39/39 - 44s - loss: 0.0312 - accuracy: 0.9903 - val_loss: 0.0435 - val_accuracy: 0.9870 - lr: 1.0000e-04 - 44s/epoch - 1s/step\n",
            "Epoch 30/100\n",
            "\n",
            "Epoch 30: val_accuracy improved from 0.98698 to 0.98732, saving model to /content/drive/MyDrive/ETHZ-2022-S/ML-healthcare-projects/project1/MITBIH_biGRU-outputs/BILSTM187_mitbih.h5\n",
            "39/39 - 44s - loss: 0.0300 - accuracy: 0.9907 - val_loss: 0.0433 - val_accuracy: 0.9873 - lr: 1.0000e-05 - 44s/epoch - 1s/step\n",
            "Epoch 31/100\n",
            "\n",
            "Epoch 31: val_accuracy did not improve from 0.98732\n",
            "39/39 - 44s - loss: 0.0298 - accuracy: 0.9910 - val_loss: 0.0432 - val_accuracy: 0.9873 - lr: 1.0000e-05 - 44s/epoch - 1s/step\n",
            "Epoch 32/100\n",
            "\n",
            "Epoch 32: val_accuracy did not improve from 0.98732\n",
            "39/39 - 44s - loss: 0.0296 - accuracy: 0.9908 - val_loss: 0.0432 - val_accuracy: 0.9870 - lr: 1.0000e-05 - 44s/epoch - 1s/step\n",
            "Epoch 33/100\n",
            "\n",
            "Epoch 33: val_accuracy did not improve from 0.98732\n",
            "\n",
            "Epoch 33: ReduceLROnPlateau reducing learning rate to 1.0000000656873453e-06.\n",
            "39/39 - 44s - loss: 0.0296 - accuracy: 0.9907 - val_loss: 0.0431 - val_accuracy: 0.9871 - lr: 1.0000e-05 - 44s/epoch - 1s/step\n",
            "Epoch 34/100\n",
            "\n",
            "Epoch 34: val_accuracy did not improve from 0.98732\n",
            "39/39 - 44s - loss: 0.0295 - accuracy: 0.9908 - val_loss: 0.0431 - val_accuracy: 0.9871 - lr: 1.0000e-06 - 44s/epoch - 1s/step\n",
            "Epoch 35/100\n",
            "\n",
            "Epoch 35: val_accuracy did not improve from 0.98732\n",
            "39/39 - 44s - loss: 0.0295 - accuracy: 0.9910 - val_loss: 0.0431 - val_accuracy: 0.9871 - lr: 1.0000e-06 - 44s/epoch - 1s/step\n",
            "Epoch 35: early stopping\n"
          ]
        },
        {
          "output_type": "execute_result",
          "data": {
            "text/plain": [
              "<keras.callbacks.History at 0x7f42eaf402d0>"
            ]
          },
          "metadata": {},
          "execution_count": 36
        }
      ]
    },
    {
      "cell_type": "markdown",
      "source": [
        "### Parameters estimation\n",
        "We trained and tested our models with several different parameters, increasing or decreasing the number of hidden units or the batch size and modifying the architecture by adding or removing some layers. We then made choices by trying to combine good performance in terms of metrics (accuracy, f1_score) and computational cost."
      ],
      "metadata": {
        "id": "zcSG4KXbtuiV"
      },
      "id": "zcSG4KXbtuiV"
    },
    {
      "cell_type": "markdown",
      "source": [
        "### References\n"
      ],
      "metadata": {
        "id": "dHW_8cnQqsOL"
      },
      "id": "dHW_8cnQqsOL"
    },
    {
      "cell_type": "markdown",
      "source": [
        "[1] Zahra Ebrahimi, Mohammad Loni, Masoud Daneshtalab, Arash Gharehbaghi - A review on deep learning methods for ECG arrhythmia classification\n"
      ],
      "metadata": {
        "id": "gv_t2A5uu9GE"
      },
      "id": "gv_t2A5uu9GE"
    },
    {
      "cell_type": "markdown",
      "source": [
        "[2] Chung, Gulcehre, Cho,& Bengio, 2014  Empirical evaluation of gated recurrent neural networks on sequence modeling. arXiv preprint arXiv:1412.3555.\n"
      ],
      "metadata": {
        "id": "mRe3umK6qsT9"
      },
      "id": "mRe3umK6qsT9"
    },
    {
      "cell_type": "markdown",
      "source": [
        "[3]  Ö Yildirim - A novel wavelet sequence based on deep bidirectional LSTM network model for ECG signal classification\n",
        "\n",
        "\n"
      ],
      "metadata": {
        "id": "INjgsmbRtFw-"
      },
      "id": "INjgsmbRtFw-"
    }
  ],
  "metadata": {
    "accelerator": "GPU",
    "colab": {
      "name": "MITBIH_biGRU.ipynb",
      "provenance": [],
      "collapsed_sections": [
        "9aeddb17",
        "ihjQzPnMY4ts",
        "ZxIIIrepc6iR",
        "j1A4AKqzLRH8",
        "MJpBIEnhVhhm",
        "-YLyWiOLX7Eg",
        "gIOJlT5xJOQl",
        "3cVkPfrn-INK",
        "NS29sFHxY29r",
        "kQA1kwegY8oh",
        "lcU9m0dyYDEJ",
        "3oRmse5wbbFZ"
      ],
      "background_execution": "on",
      "include_colab_link": true
    },
    "kernelspec": {
      "display_name": "Python 3",
      "language": "python",
      "name": "python3"
    },
    "language_info": {
      "codemirror_mode": {
        "name": "ipython",
        "version": 3
      },
      "file_extension": ".py",
      "mimetype": "text/x-python",
      "name": "python",
      "nbconvert_exporter": "python",
      "pygments_lexer": "ipython3",
      "version": "3.6.8"
    }
  },
  "nbformat": 4,
  "nbformat_minor": 5
}