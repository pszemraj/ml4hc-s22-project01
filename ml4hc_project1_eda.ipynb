{
 "cells": [
  {
   "cell_type": "code",
   "execution_count": null,
   "metadata": {},
   "outputs": [],
   "source": [
    "# ml4hc - project 1 eda"
   ]
  }
 ],
 "metadata": {
  "interpreter": {
   "hash": "37c69d8ae01911ffdb9f387368f2ad842ca66d52a1eb5bffdfbf93eb395794ec"
  },
  "kernelspec": {
   "display_name": "Python 3.9.7 ('eda')",
   "language": "python",
   "name": "python3"
  },
  "language_info": {
   "name": "python",
   "version": "3.9.7"
  },
  "orig_nbformat": 4
 },
 "nbformat": 4,
 "nbformat_minor": 2
}
