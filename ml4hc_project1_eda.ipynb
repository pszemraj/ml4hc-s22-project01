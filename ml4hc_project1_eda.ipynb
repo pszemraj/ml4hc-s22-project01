{
 "cells": [
  {
   "cell_type": "markdown",
   "metadata": {},
   "source": [
    "# ml4hc - project 1 eda\n",
    "\n",
    "> purpose: explore the data and identify the features that are most relevant to the problem as well as the features that are least relevant to the problem, and what the columns mean etc"
   ]
  },
  {
   "cell_type": "code",
   "execution_count": 1,
   "metadata": {},
   "outputs": [
    {
     "name": "stdout",
     "output_type": "stream",
     "text": [
      "Found 4 files in c:\\Users\\peter\\Dropbox\\ETH Zurich - Stats MSc\\Spring 2022\\ml-healthcare\\PROJECTS\\project-1\\data\n"
     ]
    }
   ],
   "source": [
    "import pandas as pd\n",
    "from pathlib import Path\n",
    "\n",
    "_root =Path.cwd()\n",
    "\n",
    "_data_dir = _root / 'data'\n",
    "\n",
    "# list of all files in the data directory\n",
    "_files = [f for f in _data_dir.iterdir() if f.is_file()]\n",
    "print(f'Found {len(_files)} files in {_data_dir}')"
   ]
  },
  {
   "cell_type": "code",
   "execution_count": 2,
   "metadata": {},
   "outputs": [],
   "source": [
    "eda_dir = _root / 'eda'\n",
    "eda_dir.mkdir(exist_ok=True)"
   ]
  },
  {
   "cell_type": "markdown",
   "metadata": {},
   "source": [
    "## pandas profiling - ptbdb"
   ]
  },
  {
   "cell_type": "code",
   "execution_count": 3,
   "metadata": {},
   "outputs": [
    {
     "name": "stderr",
     "output_type": "stream",
     "text": [
      "Summarize dataset: 100%|██████████| 194/194 [00:05<00:00, 36.48it/s, Completed]                                     \n",
      "Generate report structure: 100%|██████████| 1/1 [00:37<00:00, 37.22s/it]\n",
      "Render HTML: 100%|██████████| 1/1 [00:03<00:00,  3.58s/it]\n",
      "Export report to file: 100%|██████████| 1/1 [00:00<00:00, 41.81it/s]\n"
     ]
    }
   ],
   "source": [
    "from pandas_profiling import ProfileReport\n",
    "ptbdb_ab = pd.read_csv(_data_dir / 'ptbdb_abnormal.csv').convert_dtypes()\n",
    "ptbdb_norm = pd.read_csv(_data_dir / 'ptbdb_normal.csv').convert_dtypes()\n",
    "\n",
    "ptbdb_ab_profile = ProfileReport(ptbdb_ab, minimal=True, title='ptbdb_abnormal.csv')\n",
    "ptbdb_ab_profile.to_file(output_file=eda_dir / 'ptbdb_abnormal_profile.html')"
   ]
  },
  {
   "cell_type": "code",
   "execution_count": 4,
   "metadata": {},
   "outputs": [
    {
     "name": "stderr",
     "output_type": "stream",
     "text": [
      "Summarize dataset: 100%|██████████| 194/194 [00:03<00:00, 60.05it/s, Completed]                                    \n",
      "Generate report structure: 100%|██████████| 1/1 [00:48<00:00, 48.63s/it]\n",
      "Render HTML: 100%|██████████| 1/1 [00:03<00:00,  3.96s/it]\n",
      "Export report to file: 100%|██████████| 1/1 [00:00<00:00, 41.38it/s]\n"
     ]
    }
   ],
   "source": [
    "ptabdb_norm_profile = ProfileReport(ptbdb_norm, minimal=True, title='ptbdb_normal.csv')\n",
    "ptabdb_norm_profile.to_file(output_file=eda_dir / 'ptbdb_normal_profile.html')"
   ]
  },
  {
   "cell_type": "markdown",
   "metadata": {},
   "source": [
    "describe last columns of each"
   ]
  },
  {
   "cell_type": "code",
   "execution_count": 9,
   "metadata": {},
   "outputs": [
    {
     "data": {
      "text/plain": [
       "1    10505\n",
       "Name: 1.000000000000000000e+00.1, dtype: Int64"
      ]
     },
     "execution_count": 9,
     "metadata": {},
     "output_type": "execute_result"
    }
   ],
   "source": [
    "ptabdb_ab_last_col = ptbdb_ab.iloc[:, -1]\n",
    "ptabdb_ab_last_col.value_counts()"
   ]
  },
  {
   "cell_type": "code",
   "execution_count": 10,
   "metadata": {},
   "outputs": [
    {
     "data": {
      "text/plain": [
       "0    4045\n",
       "Name: 0.000000000000000000e+00.65, dtype: Int64"
      ]
     },
     "execution_count": 10,
     "metadata": {},
     "output_type": "execute_result"
    }
   ],
   "source": [
    "ptadb_norm_last_col = ptbdb_norm.iloc[:, -1]\n",
    "ptadb_norm_last_col.value_counts()"
   ]
  },
  {
   "cell_type": "markdown",
   "metadata": {},
   "source": [
    "## pandas profiling - mitbih"
   ]
  },
  {
   "cell_type": "code",
   "execution_count": 5,
   "metadata": {},
   "outputs": [
    {
     "name": "stderr",
     "output_type": "stream",
     "text": [
      "Summarize dataset: 100%|██████████| 194/194 [00:34<00:00,  5.60it/s, Completed]                                    \n",
      "Generate report structure: 100%|██████████| 1/1 [00:43<00:00, 43.76s/it]\n",
      "Render HTML: 100%|██████████| 1/1 [00:03<00:00,  3.83s/it]\n",
      "Export report to file: 100%|██████████| 1/1 [00:00<00:00, 55.23it/s]\n"
     ]
    }
   ],
   "source": [
    "mitbih_train = pd.read_csv(_data_dir / 'mitbih_train.csv').convert_dtypes()\n",
    "mitbih_test = pd.read_csv(_data_dir / 'mitbih_test.csv').convert_dtypes()\n",
    "\n",
    "mitbih_train_profile = ProfileReport(mitbih_train, minimal=True, title='mitbih_train.csv')\n",
    "mitbih_train_profile.to_file(output_file=eda_dir / 'mitbih_train_profile.html')\n"
   ]
  },
  {
   "cell_type": "code",
   "execution_count": 6,
   "metadata": {},
   "outputs": [
    {
     "name": "stderr",
     "output_type": "stream",
     "text": [
      "Summarize dataset: 100%|██████████| 194/194 [00:09<00:00, 20.16it/s, Completed]                                    \n",
      "Generate report structure: 100%|██████████| 1/1 [00:42<00:00, 42.46s/it]\n",
      "Render HTML: 100%|██████████| 1/1 [00:04<00:00,  4.46s/it]\n",
      "Export report to file: 100%|██████████| 1/1 [00:00<00:00, 56.64it/s]\n"
     ]
    }
   ],
   "source": [
    "mitbih_test_profile = ProfileReport(mitbih_test, minimal=True, title='mitbih_test.csv')\n",
    "mitbih_test_profile.to_file(output_file=eda_dir / 'mitbih_test_profile.html')"
   ]
  },
  {
   "cell_type": "markdown",
   "metadata": {},
   "source": [
    "describe last columns of each"
   ]
  },
  {
   "cell_type": "code",
   "execution_count": 11,
   "metadata": {},
   "outputs": [
    {
     "data": {
      "text/plain": [
       "0    72470\n",
       "4     6431\n",
       "2     5788\n",
       "1     2223\n",
       "3      641\n",
       "Name: 0.000000000000000000e+00.88, dtype: Int64"
      ]
     },
     "execution_count": 11,
     "metadata": {},
     "output_type": "execute_result"
    }
   ],
   "source": [
    "mitbih_train_last_col = mitbih_train.iloc[:, -1]\n",
    "mitbih_train_last_col.value_counts()"
   ]
  },
  {
   "cell_type": "code",
   "execution_count": null,
   "metadata": {},
   "outputs": [],
   "source": []
  }
 ],
 "metadata": {
  "interpreter": {
   "hash": "37c69d8ae01911ffdb9f387368f2ad842ca66d52a1eb5bffdfbf93eb395794ec"
  },
  "kernelspec": {
   "display_name": "Python 3.9.7 ('eda')",
   "language": "python",
   "name": "python3"
  },
  "language_info": {
   "codemirror_mode": {
    "name": "ipython",
    "version": 3
   },
   "file_extension": ".py",
   "mimetype": "text/x-python",
   "name": "python",
   "nbconvert_exporter": "python",
   "pygments_lexer": "ipython3",
   "version": "3.9.7"
  },
  "orig_nbformat": 4
 },
 "nbformat": 4,
 "nbformat_minor": 2
}
