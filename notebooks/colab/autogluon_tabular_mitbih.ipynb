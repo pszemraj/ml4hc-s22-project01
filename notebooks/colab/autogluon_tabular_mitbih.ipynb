{
  "cells": [
    {
      "cell_type": "markdown",
      "metadata": {
        "id": "view-in-github",
        "colab_type": "text"
      },
      "source": [
        "<a href=\"https://colab.research.google.com/github/pszemraj/ml4hc-s22-project01/blob/update-notebooks-2/notebooks/colab/autogluon_tabular_mitbih.ipynb\" target=\"_parent\"><img src=\"https://colab.research.google.com/assets/colab-badge.svg\" alt=\"Open In Colab\"/></a>"
      ]
    },
    {
      "cell_type": "markdown",
      "metadata": {
        "id": "CIL08BghY2R_"
      },
      "source": [
        "# <center> autogluon for MIT-BIH dataset <center>\n",
        "\n",
        "- see how autoML does on MIT-BIH dataset\n",
        "- docs can be found [here](https://auto.gluon.ai/stable/tutorials/tabular_prediction/tabular-quickstart.html)\n",
        "\n",
        "\n",
        "---\n",
        "\n"
      ]
    },
    {
      "cell_type": "markdown",
      "metadata": {
        "id": "__2Cz9lIti4y"
      },
      "source": [
        "## setup"
      ]
    },
    {
      "cell_type": "code",
      "execution_count": 1,
      "metadata": {
        "cellView": "form",
        "id": "LrDWdEzv3LaX"
      },
      "outputs": [],
      "source": [
        "#@markdown add auto-Colab formatting with `IPython.display`\n",
        "from IPython.display import HTML, display\n",
        "# colab formatting\n",
        "def set_css():\n",
        "    display(\n",
        "        HTML(\n",
        "            \"\"\"\n",
        "  <style>\n",
        "    pre {\n",
        "        white-space: pre-wrap;\n",
        "    }\n",
        "  </style>\n",
        "  \"\"\"\n",
        "        )\n",
        "    )\n",
        "\n",
        "get_ipython().events.register(\"pre_run_cell\", set_css)"
      ]
    },
    {
      "cell_type": "code",
      "execution_count": 2,
      "metadata": {
        "cellView": "form",
        "colab": {
          "base_uri": "https://localhost:8080/",
          "height": 374
        },
        "id": "mIZn1aQe1rYk",
        "outputId": "d7afe811-7772-4e0f-a9f2-2361d133d5a9"
      },
      "outputs": [
        {
          "output_type": "display_data",
          "data": {
            "text/plain": [
              "<IPython.core.display.HTML object>"
            ],
            "text/html": [
              "\n",
              "  <style>\n",
              "    pre {\n",
              "        white-space: pre-wrap;\n",
              "    }\n",
              "  </style>\n",
              "  "
            ]
          },
          "metadata": {}
        },
        {
          "output_type": "stream",
          "name": "stdout",
          "text": [
            "Sun Mar 27 20:46:29 2022       \n",
            "+-----------------------------------------------------------------------------+\n",
            "| NVIDIA-SMI 460.32.03    Driver Version: 460.32.03    CUDA Version: 11.2     |\n",
            "|-------------------------------+----------------------+----------------------+\n",
            "| GPU  Name        Persistence-M| Bus-Id        Disp.A | Volatile Uncorr. ECC |\n",
            "| Fan  Temp  Perf  Pwr:Usage/Cap|         Memory-Usage | GPU-Util  Compute M. |\n",
            "|                               |                      |               MIG M. |\n",
            "|===============================+======================+======================|\n",
            "|   0  Tesla V100-SXM2...  Off  | 00000000:00:04.0 Off |                    0 |\n",
            "| N/A   31C    P0    24W / 300W |      0MiB / 16160MiB |      0%      Default |\n",
            "|                               |                      |                  N/A |\n",
            "+-------------------------------+----------------------+----------------------+\n",
            "                                                                               \n",
            "+-----------------------------------------------------------------------------+\n",
            "| Processes:                                                                  |\n",
            "|  GPU   GI   CI        PID   Type   Process name                  GPU Memory |\n",
            "|        ID   ID                                                   Usage      |\n",
            "|=============================================================================|\n",
            "|  No running processes found                                                 |\n",
            "+-----------------------------------------------------------------------------+\n"
          ]
        }
      ],
      "source": [
        "#@title print out GPU info\n",
        "#@markdown this is the Colab-allocated GPU. If the output here says it fails, no\n",
        "#@markdown GPU is being used. go to runtime at the top of your colab to set runtime to GPU.\n",
        "\n",
        "\n",
        "!nvidia-smi"
      ]
    },
    {
      "cell_type": "code",
      "execution_count": 3,
      "metadata": {
        "colab": {
          "base_uri": "https://localhost:8080/",
          "height": 1000
        },
        "id": "Wtovw8wMXGnF",
        "outputId": "e4430fad-ac9e-42a9-cc1d-8ead37761dc3"
      },
      "outputs": [
        {
          "output_type": "display_data",
          "data": {
            "text/plain": [
              "<IPython.core.display.HTML object>"
            ],
            "text/html": [
              "\n",
              "  <style>\n",
              "    pre {\n",
              "        white-space: pre-wrap;\n",
              "    }\n",
              "  </style>\n",
              "  "
            ]
          },
          "metadata": {}
        },
        {
          "output_type": "stream",
          "name": "stdout",
          "text": [
            "\u001b[K     |████████████████████████████████| 188 kB 14.5 MB/s \n",
            "\u001b[K     |████████████████████████████████| 133 kB 71.8 MB/s \n",
            "\u001b[K     |████████████████████████████████| 48 kB 6.4 MB/s \n",
            "\u001b[K     |████████████████████████████████| 59 kB 6.2 MB/s \n",
            "\u001b[K     |████████████████████████████████| 267 kB 52.5 MB/s \n",
            "\u001b[K     |████████████████████████████████| 802 kB 47.5 MB/s \n",
            "\u001b[K     |████████████████████████████████| 38.1 MB 1.7 MB/s \n",
            "\u001b[K     |████████████████████████████████| 132 kB 53.5 MB/s \n",
            "\u001b[K     |████████████████████████████████| 1.0 MB 44.5 MB/s \n",
            "\u001b[K     |████████████████████████████████| 54.7 MB 1.2 MB/s \n",
            "\u001b[K     |████████████████████████████████| 296 kB 70.6 MB/s \n",
            "\u001b[K     |████████████████████████████████| 76.1 MB 1.2 MB/s \n",
            "\u001b[K     |████████████████████████████████| 187 kB 73.6 MB/s \n",
            "\u001b[K     |████████████████████████████████| 166.7 MB 18 kB/s \n",
            "\u001b[K     |████████████████████████████████| 2.0 MB 58.2 MB/s \n",
            "\u001b[K     |████████████████████████████████| 4.3 MB 51.2 MB/s \n",
            "\u001b[K     |████████████████████████████████| 527 kB 59.6 MB/s \n",
            "\u001b[K     |████████████████████████████████| 248 kB 71.9 MB/s \n",
            "\u001b[?25h  Installing build dependencies ... \u001b[?25l\u001b[?25hdone\n",
            "  Getting requirements to build wheel ... \u001b[?25l\u001b[?25hdone\n",
            "  Installing backend dependencies ... \u001b[?25l\u001b[?25hdone\n",
            "    Preparing wheel metadata ... \u001b[?25l\u001b[?25hdone\n",
            "\u001b[K     |████████████████████████████████| 431 kB 16.3 MB/s \n",
            "\u001b[K     |████████████████████████████████| 398 kB 73.9 MB/s \n",
            "\u001b[K     |████████████████████████████████| 1.2 MB 52.0 MB/s \n",
            "\u001b[K     |████████████████████████████████| 13.5 MB 21.5 MB/s \n",
            "\u001b[K     |████████████████████████████████| 157 kB 66.3 MB/s \n",
            "\u001b[K     |████████████████████████████████| 74 kB 4.3 MB/s \n",
            "\u001b[K     |████████████████████████████████| 3.5 MB 52.7 MB/s \n",
            "\u001b[K     |████████████████████████████████| 90 kB 12.1 MB/s \n",
            "\u001b[K     |████████████████████████████████| 1.2 MB 59.1 MB/s \n",
            "\u001b[K     |████████████████████████████████| 895 kB 67.1 MB/s \n",
            "\u001b[K     |████████████████████████████████| 6.5 MB 57.3 MB/s \n",
            "\u001b[K     |████████████████████████████████| 64 kB 3.3 MB/s \n",
            "\u001b[K     |████████████████████████████████| 1.3 MB 52.0 MB/s \n",
            "\u001b[K     |████████████████████████████████| 134 kB 74.2 MB/s \n",
            "\u001b[K     |████████████████████████████████| 56 kB 5.8 MB/s \n",
            "\u001b[K     |████████████████████████████████| 45 kB 4.0 MB/s \n",
            "\u001b[K     |████████████████████████████████| 112 kB 78.1 MB/s \n",
            "\u001b[K     |████████████████████████████████| 596 kB 62.5 MB/s \n",
            "\u001b[K     |████████████████████████████████| 829 kB 57.8 MB/s \n",
            "\u001b[K     |████████████████████████████████| 952 kB 49.2 MB/s \n",
            "\u001b[K     |████████████████████████████████| 1.1 MB 56.8 MB/s \n",
            "\u001b[K     |████████████████████████████████| 225 kB 73.1 MB/s \n",
            "\u001b[K     |████████████████████████████████| 67 kB 7.0 MB/s \n",
            "\u001b[K     |████████████████████████████████| 94 kB 4.3 MB/s \n",
            "\u001b[K     |████████████████████████████████| 271 kB 71.4 MB/s \n",
            "\u001b[K     |████████████████████████████████| 144 kB 71.9 MB/s \n",
            "\u001b[K     |████████████████████████████████| 79 kB 9.5 MB/s \n",
            "\u001b[K     |████████████████████████████████| 8.6 MB 55.3 MB/s \n",
            "\u001b[K     |████████████████████████████████| 127 kB 70.5 MB/s \n",
            "\u001b[K     |████████████████████████████████| 116 kB 74.4 MB/s \n",
            "\u001b[K     |████████████████████████████████| 69 kB 9.2 MB/s \n",
            "\u001b[K     |████████████████████████████████| 64 kB 2.9 MB/s \n",
            "\u001b[K     |████████████████████████████████| 73 kB 2.2 MB/s \n",
            "\u001b[K     |████████████████████████████████| 68 kB 9.1 MB/s \n",
            "\u001b[K     |████████████████████████████████| 41 kB 729 kB/s \n",
            "\u001b[?25h  Building wheel for fairscale (PEP 517) ... \u001b[?25l\u001b[?25hdone\n",
            "  Building wheel for antlr4-python3-runtime (setup.py) ... \u001b[?25l\u001b[?25hdone\n",
            "  Building wheel for future (setup.py) ... \u001b[?25l\u001b[?25hdone\n",
            "  Building wheel for contextvars (setup.py) ... \u001b[?25l\u001b[?25hdone\n",
            "\u001b[31mERROR: pip's dependency resolver does not currently take into account all the packages that are installed. This behaviour is the source of the following dependency conflicts.\n",
            "tensorflow 2.8.0 requires tf-estimator-nightly==2.8.0.dev2021122109, which is not installed.\n",
            "gym 0.17.3 requires cloudpickle<1.7.0,>=1.2.0, but you have cloudpickle 2.0.0 which is incompatible.\n",
            "datascience 0.10.6 requires folium==0.2.1, but you have folium 0.8.3 which is incompatible.\n",
            "albumentations 0.1.12 requires imgaug<0.2.7,>=0.2.5, but you have imgaug 0.2.9 which is incompatible.\u001b[0m\n"
          ]
        }
      ],
      "source": [
        "!pip install autogluon -q "
      ]
    },
    {
      "cell_type": "code",
      "execution_count": 4,
      "metadata": {
        "cellView": "form",
        "colab": {
          "base_uri": "https://localhost:8080/",
          "height": 17
        },
        "id": "OeLdsRpQwarZ",
        "outputId": "dbbde651-7b17-4657-e6ea-79b55731b9ac"
      },
      "outputs": [
        {
          "output_type": "display_data",
          "data": {
            "text/plain": [
              "<IPython.core.display.HTML object>"
            ],
            "text/html": [
              "\n",
              "  <style>\n",
              "    pre {\n",
              "        white-space: pre-wrap;\n",
              "    }\n",
              "  </style>\n",
              "  "
            ]
          },
          "metadata": {}
        }
      ],
      "source": [
        "#@title define source data parameters\n",
        "\n",
        "#@markdown - these can also be loaded from gdrive, but I am lazy and `wget` does not require login\n",
        "\n",
        "mitbih_train_url = \"https://www.dropbox.com/s/2ks8s82tm7jvhse/torchfmt_mitbih_train.csv?dl=1\" #@param {type:\"string\"}\n",
        "mitbih_train_filename = \"mitbih_train.csv\" #@param {type:\"string\"}\n",
        "mitbih_test_url = \"https://www.dropbox.com/s/nbaxenoehvqmqnm/torchfmt_mitbih_test.csv?dl=1\" #@param {type:\"string\"}\n",
        "mitbih_test_filename = \"mitbih_test.csv\" #@param {type:\"string\"}"
      ]
    },
    {
      "cell_type": "code",
      "execution_count": 5,
      "metadata": {
        "cellView": "form",
        "colab": {
          "base_uri": "https://localhost:8080/",
          "height": 17
        },
        "id": "F_W9K8KuYYV5",
        "outputId": "6c743504-c5fd-45f1-8443-645047152f4f"
      },
      "outputs": [
        {
          "output_type": "display_data",
          "data": {
            "text/plain": [
              "<IPython.core.display.HTML object>"
            ],
            "text/html": [
              "\n",
              "  <style>\n",
              "    pre {\n",
              "        white-space: pre-wrap;\n",
              "    }\n",
              "  </style>\n",
              "  "
            ]
          },
          "metadata": {}
        }
      ],
      "source": [
        "#@title autogluon parameters \n",
        "\n",
        "#@markdown - `max_time_fitting` is in seconds\n",
        "\n",
        "max_time_fitting =  10800#@param {type:\"integer\"}\n",
        "fit_preset = \"best_quality\" #@param [\"best_quality\", \"high_quality\"]\n",
        "metric = 'accuracy'  #@param [\"roc_auc\", \"accuracy\", \"f1\"]\n",
        "\n"
      ]
    },
    {
      "cell_type": "markdown",
      "source": [
        "### util functions"
      ],
      "metadata": {
        "id": "nCrKx11CDhSr"
      }
    },
    {
      "cell_type": "code",
      "source": [
        "from pathlib import Path\n",
        "import os\n",
        "def scour_for_file(\n",
        "                    file_name:str, \n",
        "                    search_root=None, \n",
        "                    return_first=True, \n",
        "                    verbose=False,\n",
        "                ):\n",
        "    \"\"\"\n",
        "    scour_for_file - search every possible location for a file name recursively.\n",
        "     Return the full path to file(s)\n",
        "    \"\"\"\n",
        "    search_root = Path.cwd() if search_root is None else Path(search_root)\n",
        "    matches = []\n",
        "    for root, dirs, files in os.walk(search_root.resolve()):\n",
        "        if file_name in files:\n",
        "            _path2file = Path(root) / file_name\n",
        "            if return_first:\n",
        "                return _path2file.resolve()\n",
        "            else:\n",
        "                matches.append(_path2file.resolve())\n",
        "    if len(matches) < 1:\n",
        "        print(f\"NOTE: zero matches found for {file_name} in {search_root}\")\n",
        "        return None\n",
        "    else:\n",
        "        print(f\"{len(matches)} matches found for {file_name} in {search_root}\")\n",
        "\n",
        "        if verbose:\n",
        "            print(f\"matched paths are as follows:\\n{matches}\")\n",
        "            if return_first: print(\"will return only topmost path\")\n",
        "        return matches[0] if return_first else matches\n"
      ],
      "metadata": {
        "colab": {
          "base_uri": "https://localhost:8080/",
          "height": 17
        },
        "id": "BffdwYBqDiB_",
        "outputId": "63a4723c-d013-413f-a044-3be1ca51f787"
      },
      "execution_count": 6,
      "outputs": [
        {
          "output_type": "display_data",
          "data": {
            "text/plain": [
              "<IPython.core.display.HTML object>"
            ],
            "text/html": [
              "\n",
              "  <style>\n",
              "    pre {\n",
              "        white-space: pre-wrap;\n",
              "    }\n",
              "  </style>\n",
              "  "
            ]
          },
          "metadata": {}
        }
      ]
    },
    {
      "cell_type": "code",
      "source": [
        "from google.colab import files\n",
        "from pathlib import Path\n",
        "import pathlib\n",
        "import time\n",
        "import warnings\n",
        "from tqdm.auto import tqdm\n",
        "\n",
        "def download_colab(my_files):\n",
        "    \"\"\"\n",
        "    helper function to download things out of colab. \n",
        "    \n",
        "    input can be a list, string, or Path() that refers to the file.\n",
        "    \"\"\"\n",
        "    if my_files is None:\n",
        "        warnings.warn(message=f\"received {my_files}, nothing to DL\")\n",
        "        return None\n",
        "\n",
        "    \n",
        "    if isinstance(my_files, list):\n",
        "        filepaths = [f for f in my_files if Path(f).exists() and Path(f).is_file()]\n",
        "        pbar = tqdm(total=len(filepaths), desc=\"downloading files..\")\n",
        "        for filepath in filepaths:\n",
        "            files.download(filepath)\n",
        "            pbar.update(1)\n",
        "            time.sleep(3) # prevent browsers auto-blocking downloads\n",
        "        pbar.close()\n",
        "    else:\n",
        "        assert isinstance(my_files, str) or isinstance(my_files, pathlib.Path), \"non-list needs to be str or Path()\"\n",
        "        single_file = Path(my_files)\n",
        "        files.download(single_file)\n",
        "\n",
        "\n"
      ],
      "metadata": {
        "colab": {
          "base_uri": "https://localhost:8080/",
          "height": 17
        },
        "id": "g6JQj8osEdZy",
        "outputId": "929ebfe6-a8dc-43af-f7c7-49a052646fdb"
      },
      "execution_count": 13,
      "outputs": [
        {
          "output_type": "display_data",
          "data": {
            "text/plain": [
              "<IPython.core.display.HTML object>"
            ],
            "text/html": [
              "\n",
              "  <style>\n",
              "    pre {\n",
              "        white-space: pre-wrap;\n",
              "    }\n",
              "  </style>\n",
              "  "
            ]
          },
          "metadata": {}
        }
      ]
    },
    {
      "cell_type": "markdown",
      "metadata": {
        "id": "LmhjOOpMtn6U"
      },
      "source": [
        "### data"
      ]
    },
    {
      "cell_type": "code",
      "execution_count": 8,
      "metadata": {
        "colab": {
          "base_uri": "https://localhost:8080/",
          "height": 17
        },
        "id": "backed-render",
        "outputId": "295e1a9b-1167-4036-d965-8c6dc6a57c42"
      },
      "outputs": [
        {
          "output_type": "display_data",
          "data": {
            "text/plain": [
              "<IPython.core.display.HTML object>"
            ],
            "text/html": [
              "\n",
              "  <style>\n",
              "    pre {\n",
              "        white-space: pre-wrap;\n",
              "    }\n",
              "  </style>\n",
              "  "
            ]
          },
          "metadata": {}
        }
      ],
      "source": [
        "\n",
        "!wget $mitbih_train_url -O $mitbih_train_filename -q\n",
        "!wget $mitbih_test_url -O $mitbih_test_filename -q"
      ]
    },
    {
      "cell_type": "code",
      "execution_count": 9,
      "metadata": {
        "colab": {
          "base_uri": "https://localhost:8080/",
          "height": 53
        },
        "id": "8Enc_pKGYSR7",
        "outputId": "e7510bc4-d361-4200-d56b-4faff7af7dc5"
      },
      "outputs": [
        {
          "output_type": "display_data",
          "data": {
            "text/plain": [
              "<IPython.core.display.HTML object>"
            ],
            "text/html": [
              "\n",
              "  <style>\n",
              "    pre {\n",
              "        white-space: pre-wrap;\n",
              "    }\n",
              "  </style>\n",
              "  "
            ]
          },
          "metadata": {}
        },
        {
          "output_type": "stream",
          "name": "stdout",
          "text": [
            "the target colname is class_label and\n",
            "the predictor colnames 5 of 187 are ['feat_0', 'feat_1', 'feat_2', 'feat_3', 'feat_4']\n"
          ]
        }
      ],
      "source": [
        "import pandas as pd\n",
        "example_df = pd.read_csv(mitbih_train_filename)\n",
        "data_cols = list(example_df.columns)\n",
        "_target = data_cols[-1]\n",
        "data_cols.pop()\n",
        "_predictors = data_cols # all other columns are numerical predictors\n",
        "\n",
        "print(f\"the target colname is {_target} and\\nthe predictor colnames 5 of {len(_predictors)} are {_predictors[:5]}\")"
      ]
    },
    {
      "cell_type": "markdown",
      "metadata": {
        "id": "POoVU2rQtqKy"
      },
      "source": [
        "## fit model"
      ]
    },
    {
      "cell_type": "code",
      "execution_count": 10,
      "metadata": {
        "colab": {
          "base_uri": "https://localhost:8080/",
          "height": 1000
        },
        "id": "4Hqk56tMWg0p",
        "outputId": "0db316b4-001f-439d-aeeb-c30b1a6f81de"
      },
      "outputs": [
        {
          "output_type": "display_data",
          "data": {
            "text/plain": [
              "<IPython.core.display.HTML object>"
            ],
            "text/html": [
              "\n",
              "  <style>\n",
              "    pre {\n",
              "        white-space: pre-wrap;\n",
              "    }\n",
              "  </style>\n",
              "  "
            ]
          },
          "metadata": {}
        },
        {
          "output_type": "stream",
          "name": "stderr",
          "text": [
            "No path specified. Models will be saved in: \"AutogluonModels/ag-20220327_204858/\"\n",
            "Presets specified: ['best_quality']\n",
            "Beginning AutoGluon training ... Time limit = 10800s\n",
            "AutoGluon will save models to \"AutogluonModels/ag-20220327_204858/\"\n",
            "AutoGluon Version:  0.4.0\n",
            "Python Version:     3.7.13\n",
            "Operating System:   Linux\n",
            "Train Data Rows:    87554\n",
            "Train Data Columns: 187\n",
            "Label Column: class_label\n",
            "Preprocessing data ...\n",
            "AutoGluon infers your prediction problem is: 'multiclass' (because dtype of label-column == object).\n",
            "\t5 unique label values:  ['N', 'S', 'V', 'F', 'Q']\n",
            "\tIf 'multiclass' is not the correct problem_type, please manually specify the problem_type parameter during predictor init (You may specify problem_type as one of: ['binary', 'multiclass', 'regression'])\n",
            "Train Data Class Count: 5\n",
            "Using Feature Generators to preprocess the data ...\n",
            "Fitting AutoMLPipelineFeatureGenerator...\n",
            "\tAvailable Memory:                    11927.32 MB\n",
            "\tTrain Data (Original)  Memory Usage: 130.98 MB (1.1% of available memory)\n",
            "\tInferring data type of each feature based on column values. Set feature_metadata_in to manually specify special dtypes of the features.\n",
            "\tStage 1 Generators:\n",
            "\t\tFitting AsTypeFeatureGenerator...\n",
            "\tStage 2 Generators:\n",
            "\t\tFitting FillNaFeatureGenerator...\n",
            "\tStage 3 Generators:\n",
            "\t\tFitting IdentityFeatureGenerator...\n",
            "\tStage 4 Generators:\n",
            "\t\tFitting DropUniqueFeatureGenerator...\n",
            "\tTypes of features in original data (raw dtype, special dtypes):\n",
            "\t\t('float', []) : 187 | ['feat_0', 'feat_1', 'feat_2', 'feat_3', 'feat_4', ...]\n",
            "\tTypes of features in processed data (raw dtype, special dtypes):\n",
            "\t\t('float', []) : 187 | ['feat_0', 'feat_1', 'feat_2', 'feat_3', 'feat_4', ...]\n",
            "\t1.7s = Fit runtime\n",
            "\t187 features in original data used to generate 187 features in processed data.\n",
            "\tTrain Data (Processed) Memory Usage: 130.98 MB (1.1% of available memory)\n",
            "Data preprocessing and feature engineering runtime = 2.27s ...\n",
            "AutoGluon will gauge predictive performance using evaluation metric: 'accuracy'\n",
            "\tTo change this, specify the eval_metric parameter of Predictor()\n",
            "AutoGluon will fit 2 stack levels (L1 to L2) ...\n",
            "Fitting 13 L1 models ...\n",
            "Fitting model: KNeighborsUnif_BAG_L1 ... Training model for up to 7196.67s of the 10797.7s of remaining time.\n",
            "\t0.9749\t = Validation score   (accuracy)\n",
            "\t0.74s\t = Training   runtime\n",
            "\t287.24s\t = Validation runtime\n",
            "Fitting model: KNeighborsDist_BAG_L1 ... Training model for up to 6906.19s of the 10507.21s of remaining time.\n",
            "\t0.9757\t = Validation score   (accuracy)\n",
            "\t0.73s\t = Training   runtime\n",
            "\t282.98s\t = Validation runtime\n",
            "Fitting model: NeuralNetFastAI_BAG_L1 ... Training model for up to 6620.22s of the 10221.24s of remaining time.\n",
            "\tFitting 8 child models (S1F1 - S1F8) | Fitting with ParallelLocalFoldFittingStrategy\n",
            "\t0.9861\t = Validation score   (accuracy)\n",
            "\t614.67s\t = Training   runtime\n",
            "\t3.54s\t = Validation runtime\n",
            "Fitting model: LightGBMXT_BAG_L1 ... Training model for up to 5999.49s of the 9600.51s of remaining time.\n",
            "\tFitting 8 child models (S1F1 - S1F8) | Fitting with ParallelLocalFoldFittingStrategy\n",
            "\t0.9855\t = Validation score   (accuracy)\n",
            "\t3563.8s\t = Training   runtime\n",
            "\t96.74s\t = Validation runtime\n",
            "Fitting model: LightGBM_BAG_L1 ... Training model for up to 2420.13s of the 6021.16s of remaining time.\n",
            "\tFitting 8 child models (S1F1 - S1F8) | Fitting with ParallelLocalFoldFittingStrategy\n",
            "\t0.9833\t = Validation score   (accuracy)\n",
            "\t1845.96s\t = Training   runtime\n",
            "\t45.26s\t = Validation runtime\n",
            "Fitting model: RandomForestGini_BAG_L1 ... Training model for up to 566.31s of the 4167.34s of remaining time.\n",
            "\t0.9761\t = Validation score   (accuracy)\n",
            "\t301.14s\t = Training   runtime\n",
            "\t11.45s\t = Validation runtime\n",
            "Fitting model: RandomForestEntr_BAG_L1 ... Training model for up to 252.53s of the 3853.55s of remaining time.\n",
            "\tWarning: Reducing model 'n_estimators' from 300 -> 211 due to low time. Expected time usage reduced from 358.1s -> 252.5s...\n",
            "\t0.9765\t = Validation score   (accuracy)\n",
            "\t244.44s\t = Training   runtime\n",
            "\t7.03s\t = Validation runtime\n",
            "Fitting model: CatBoost_BAG_L1 ... Training model for up to 0.34s of the 3601.37s of remaining time.\n",
            "\tFitting 8 child models (S1F1 - S1F8) | Fitting with ParallelLocalFoldFittingStrategy\n",
            "\tTime limit exceeded... Skipping CatBoost_BAG_L1.\n",
            "Completed 1/20 k-fold bagging repeats ...\n",
            "Fitting model: WeightedEnsemble_L2 ... Training model for up to 719.67s of the 3600.28s of remaining time.\n",
            "\t0.9867\t = Validation score   (accuracy)\n",
            "\t9.27s\t = Training   runtime\n",
            "\t0.01s\t = Validation runtime\n",
            "Fitting 11 L2 models ...\n",
            "Fitting model: NeuralNetFastAI_BAG_L2 ... Training model for up to 3590.97s of the 3590.87s of remaining time.\n",
            "\tFitting 8 child models (S1F1 - S1F8) | Fitting with ParallelLocalFoldFittingStrategy\n",
            "\t0.9875\t = Validation score   (accuracy)\n",
            "\t614.15s\t = Training   runtime\n",
            "\t3.83s\t = Validation runtime\n",
            "Fitting model: LightGBMXT_BAG_L2 ... Training model for up to 2972.43s of the 2972.31s of remaining time.\n",
            "\tFitting 8 child models (S1F1 - S1F8) | Fitting with ParallelLocalFoldFittingStrategy\n",
            "\t0.9872\t = Validation score   (accuracy)\n",
            "\t631.02s\t = Training   runtime\n",
            "\t12.51s\t = Validation runtime\n",
            "Fitting model: LightGBM_BAG_L2 ... Training model for up to 2336.28s of the 2336.18s of remaining time.\n",
            "\tFitting 8 child models (S1F1 - S1F8) | Fitting with ParallelLocalFoldFittingStrategy\n",
            "\t0.9875\t = Validation score   (accuracy)\n",
            "\t259.46s\t = Training   runtime\n",
            "\t1.79s\t = Validation runtime\n",
            "Fitting model: RandomForestGini_BAG_L2 ... Training model for up to 2071.83s of the 2071.72s of remaining time.\n",
            "\t0.9873\t = Validation score   (accuracy)\n",
            "\t292.29s\t = Training   runtime\n",
            "\t12.31s\t = Validation runtime\n",
            "Fitting model: RandomForestEntr_BAG_L2 ... Training model for up to 1766.19s of the 1766.09s of remaining time.\n",
            "\t0.9874\t = Validation score   (accuracy)\n",
            "\t271.9s\t = Training   runtime\n",
            "\t11.79s\t = Validation runtime\n",
            "Fitting model: CatBoost_BAG_L2 ... Training model for up to 1481.62s of the 1481.51s of remaining time.\n",
            "\tFitting 8 child models (S1F1 - S1F8) | Fitting with ParallelLocalFoldFittingStrategy\n",
            "2022-03-27 23:24:25,517\tWARNING worker.py:1228 -- A worker died or was killed while executing a task by an unexpected system error. To troubleshoot the problem, check the logs for the dead worker. RayTask ID: 50cfa61d2a192374a7ea394b55177bb224796403ff514eb1 Worker ID: a5eb108be13d9521a784927e37eb36863449752dbae7fa006806b4e4 Node ID: 72f29f41b3a8d14a8de2a6be366ad5ec70bfb24d7a4a2f4eead7a25e Worker IP address: 172.28.0.2 Worker port: 36917 Worker PID: 2724\n",
            "2022-03-27 23:24:25,520\tWARNING worker.py:1228 -- 3 retries left for task 21711c35be2858f6ffffffffffffffffffffffff01000000, attempting to resubmit.\n",
            "\t0.987\t = Validation score   (accuracy)\n",
            "\t51.29s\t = Training   runtime\n",
            "\t0.42s\t = Validation runtime\n",
            "Fitting model: ExtraTreesGini_BAG_L2 ... Training model for up to 1426.69s of the 1426.58s of remaining time.\n",
            "\t0.9871\t = Validation score   (accuracy)\n",
            "\t43.68s\t = Training   runtime\n",
            "\t12.4s\t = Validation runtime\n",
            "Fitting model: ExtraTreesEntr_BAG_L2 ... Training model for up to 1369.36s of the 1369.25s of remaining time.\n",
            "\t0.987\t = Validation score   (accuracy)\n",
            "\t36.67s\t = Training   runtime\n",
            "\t12.17s\t = Validation runtime\n",
            "Fitting model: XGBoost_BAG_L2 ... Training model for up to 1319.55s of the 1319.44s of remaining time.\n",
            "\tFitting 8 child models (S1F1 - S1F8) | Fitting with ParallelLocalFoldFittingStrategy\n",
            "\t0.9875\t = Validation score   (accuracy)\n",
            "\t43.45s\t = Training   runtime\n",
            "\t1.88s\t = Validation runtime\n",
            "Fitting model: NeuralNetTorch_BAG_L2 ... Training model for up to 1271.53s of the 1271.43s of remaining time.\n",
            "\tFitting 8 child models (S1F1 - S1F8) | Fitting with ParallelLocalFoldFittingStrategy\n",
            "\t0.9836\t = Validation score   (accuracy)\n",
            "\t821.93s\t = Training   runtime\n",
            "\t7.65s\t = Validation runtime\n",
            "Fitting model: LightGBMLarge_BAG_L2 ... Training model for up to 445.29s of the 445.18s of remaining time.\n",
            "\tFitting 8 child models (S1F1 - S1F8) | Fitting with ParallelLocalFoldFittingStrategy\n",
            "\t0.9872\t = Validation score   (accuracy)\n",
            "\t377.42s\t = Training   runtime\n",
            "\t3.0s\t = Validation runtime\n",
            "Completed 1/20 k-fold bagging repeats ...\n",
            "Fitting model: WeightedEnsemble_L3 ... Training model for up to 360.0s of the 63.25s of remaining time.\n",
            "\t0.9878\t = Validation score   (accuracy)\n",
            "\t12.09s\t = Training   runtime\n",
            "\t0.01s\t = Validation runtime\n",
            "AutoGluon training complete, total runtime = 10749.06s ... Best model: \"WeightedEnsemble_L3\"\n",
            "TabularPredictor saved. To load, use: predictor = TabularPredictor.load(\"AutogluonModels/ag-20220327_204858/\")\n"
          ]
        }
      ],
      "source": [
        "import torch\n",
        "from autogluon.tabular import TabularDataset, TabularPredictor\n",
        "train_data = TabularDataset(mitbih_train_filename)\n",
        "test_data = TabularDataset(mitbih_test_filename)\n",
        "predictor = TabularPredictor(\n",
        "                            label=_target,\n",
        "                             eval_metric=metric,\n",
        "                             ).fit(\n",
        "                                    train_data, \n",
        "                                    time_limit=max_time_fitting,\n",
        "                                    presets=fit_preset,\n",
        "                                   ag_args_fit={'num_gpus': torch.cuda.device_count()}\n",
        "                                   )  \n"
      ]
    },
    {
      "cell_type": "code",
      "execution_count": 11,
      "metadata": {
        "colab": {
          "base_uri": "https://localhost:8080/",
          "height": 1000
        },
        "id": "o42mli2QbI_r",
        "outputId": "2745eb0b-b95b-4c9b-8ffe-d69c9c0536be"
      },
      "outputs": [
        {
          "output_type": "display_data",
          "data": {
            "text/plain": [
              "<IPython.core.display.HTML object>"
            ],
            "text/html": [
              "\n",
              "  <style>\n",
              "    pre {\n",
              "        white-space: pre-wrap;\n",
              "    }\n",
              "  </style>\n",
              "  "
            ]
          },
          "metadata": {}
        },
        {
          "output_type": "stream",
          "name": "stdout",
          "text": [
            "*** Summary of fit() ***\n",
            "Estimated performance of each model:\n",
            "                      model  score_val  pred_time_val     fit_time  pred_time_val_marginal  fit_time_marginal  stack_level  can_infer  fit_order\n",
            "0       WeightedEnsemble_L3   0.987756     790.527368  8732.493713                0.007183          12.085104            3       True         20\n",
            "1           LightGBM_BAG_L2   0.987505     736.025195  6830.926788                1.786115         259.455806            2       True         11\n",
            "2            XGBoost_BAG_L2   0.987493     736.120318  6614.919820                1.881239          43.448839            2       True         17\n",
            "3    NeuralNetFastAI_BAG_L2   0.987471     738.069256  7185.616762                3.830176         614.145781            2       True          9\n",
            "4   RandomForestEntr_BAG_L2   0.987402     746.033134  6843.372016               11.794054         271.901035            2       True         13\n",
            "5   RandomForestGini_BAG_L2   0.987254     746.547559  6863.764176               12.308479         292.293195            2       True         12\n",
            "6         LightGBMXT_BAG_L2   0.987208     746.745532  7202.495298               12.506452         631.024317            2       True         10\n",
            "7      LightGBMLarge_BAG_L2   0.987185     737.240386  6948.895061                3.001307         377.424080            2       True         19\n",
            "8     ExtraTreesGini_BAG_L2   0.987094     746.634367  6615.154789               12.395287          43.683808            2       True         15\n",
            "9           CatBoost_BAG_L2   0.987025     734.654867  6622.765036                0.415787          51.294055            2       True         14\n",
            "10    ExtraTreesEntr_BAG_L2   0.987025     746.413669  6608.139637               12.174590          36.668655            2       True         16\n",
            "11      WeightedEnsemble_L2   0.986705     100.285594  4187.730900                0.006827           9.266780            2       True          8\n",
            "12   NeuralNetFastAI_BAG_L1   0.986089       3.543592   614.665289                3.543592         614.665289            1       True          3\n",
            "13        LightGBMXT_BAG_L1   0.985472      96.735175  3563.798831               96.735175        3563.798831            1       True          4\n",
            "14    NeuralNetTorch_BAG_L2   0.983610     741.887149  7393.397926                7.648069         821.926945            2       True         18\n",
            "15          LightGBM_BAG_L1   0.983267      45.257354  1845.956032               45.257354        1845.956032            1       True          5\n",
            "16  RandomForestEntr_BAG_L1   0.976495       7.034265   244.436713                7.034265         244.436713            1       True          7\n",
            "17  RandomForestGini_BAG_L1   0.976060      11.449831   301.144790               11.449831         301.144790            1       True          6\n",
            "18    KNeighborsDist_BAG_L1   0.975706     282.981212     0.727440              282.981212           0.727440            1       True          2\n",
            "19    KNeighborsUnif_BAG_L1   0.974918     287.237650     0.741886              287.237650           0.741886            1       True          1\n",
            "Number of models trained: 20\n",
            "Types of models trained:\n",
            "{'StackerEnsembleModel_KNN', 'StackerEnsembleModel_RF', 'WeightedEnsembleModel', 'StackerEnsembleModel_XT', 'StackerEnsembleModel_NNFastAiTabular', 'StackerEnsembleModel_LGB', 'StackerEnsembleModel_TabularNeuralNetTorch', 'StackerEnsembleModel_CatBoost', 'StackerEnsembleModel_XGBoost'}\n",
            "Bagging used: True  (with 8 folds)\n",
            "Multi-layer stack-ensembling used: True  (with 3 levels)\n",
            "Feature Metadata (Processed):\n",
            "(raw dtype, special dtypes):\n",
            "('float', []) : 187 | ['feat_0', 'feat_1', 'feat_2', 'feat_3', 'feat_4', ...]\n",
            "Plot summary of models saved to file: AutogluonModels/ag-20220327_204858/SummaryOfModels.html\n",
            "*** End of fit() summary ***\n"
          ]
        }
      ],
      "source": [
        "results = predictor.fit_summary(show_plot=True)\n"
      ]
    },
    {
      "cell_type": "code",
      "source": [
        "summary_report = scour_for_file('SummaryOfModels.html')\n",
        "download_colab(summary_report)"
      ],
      "metadata": {
        "colab": {
          "base_uri": "https://localhost:8080/",
          "height": 17
        },
        "id": "AAG0RiO0EZnA",
        "outputId": "0b9c523b-28df-4c30-96b7-da1f026d64de"
      },
      "execution_count": 14,
      "outputs": [
        {
          "output_type": "display_data",
          "data": {
            "text/plain": [
              "<IPython.core.display.HTML object>"
            ],
            "text/html": [
              "\n",
              "  <style>\n",
              "    pre {\n",
              "        white-space: pre-wrap;\n",
              "    }\n",
              "  </style>\n",
              "  "
            ]
          },
          "metadata": {}
        },
        {
          "output_type": "display_data",
          "data": {
            "text/plain": [
              "<IPython.core.display.Javascript object>"
            ],
            "application/javascript": [
              "\n",
              "    async function download(id, filename, size) {\n",
              "      if (!google.colab.kernel.accessAllowed) {\n",
              "        return;\n",
              "      }\n",
              "      const div = document.createElement('div');\n",
              "      const label = document.createElement('label');\n",
              "      label.textContent = `Downloading \"${filename}\": `;\n",
              "      div.appendChild(label);\n",
              "      const progress = document.createElement('progress');\n",
              "      progress.max = size;\n",
              "      div.appendChild(progress);\n",
              "      document.body.appendChild(div);\n",
              "\n",
              "      const buffers = [];\n",
              "      let downloaded = 0;\n",
              "\n",
              "      const channel = await google.colab.kernel.comms.open(id);\n",
              "      // Send a message to notify the kernel that we're ready.\n",
              "      channel.send({})\n",
              "\n",
              "      for await (const message of channel.messages) {\n",
              "        // Send a message to notify the kernel that we're ready.\n",
              "        channel.send({})\n",
              "        if (message.buffers) {\n",
              "          for (const buffer of message.buffers) {\n",
              "            buffers.push(buffer);\n",
              "            downloaded += buffer.byteLength;\n",
              "            progress.value = downloaded;\n",
              "          }\n",
              "        }\n",
              "      }\n",
              "      const blob = new Blob(buffers, {type: 'application/binary'});\n",
              "      const a = document.createElement('a');\n",
              "      a.href = window.URL.createObjectURL(blob);\n",
              "      a.download = filename;\n",
              "      div.appendChild(a);\n",
              "      a.click();\n",
              "      div.remove();\n",
              "    }\n",
              "  "
            ]
          },
          "metadata": {}
        },
        {
          "output_type": "display_data",
          "data": {
            "text/plain": [
              "<IPython.core.display.Javascript object>"
            ],
            "application/javascript": [
              "download(\"download_47f4065a-45e4-4f95-af2b-4d9dee62ee5b\", \"SummaryOfModels.html\", 13008)"
            ]
          },
          "metadata": {}
        }
      ]
    },
    {
      "cell_type": "code",
      "execution_count": 15,
      "metadata": {
        "colab": {
          "base_uri": "https://localhost:8080/",
          "height": 1000
        },
        "id": "vGowP8mTZcj2",
        "outputId": "dd8cfa5a-51b2-4187-f084-d9427a3abd6f"
      },
      "outputs": [
        {
          "output_type": "display_data",
          "data": {
            "text/plain": [
              "<IPython.core.display.HTML object>"
            ],
            "text/html": [
              "\n",
              "  <style>\n",
              "    pre {\n",
              "        white-space: pre-wrap;\n",
              "    }\n",
              "  </style>\n",
              "  "
            ]
          },
          "metadata": {}
        },
        {
          "output_type": "stream",
          "name": "stdout",
          "text": [
            "                      model  score_test  score_val  pred_time_test  pred_time_val     fit_time  pred_time_test_marginal  pred_time_val_marginal  fit_time_marginal  stack_level  can_infer  fit_order\n",
            "0   RandomForestGini_BAG_L2    0.987347   0.987254      364.362037     746.547559  6863.764176                 1.035578               12.308479         292.293195            2       True         12\n",
            "1   RandomForestEntr_BAG_L2    0.987256   0.987402      364.258731     746.033134  6843.372016                 0.932272               11.794054         271.901035            2       True         13\n",
            "2       WeightedEnsemble_L3    0.987164   0.987756      389.968791     790.527368  8732.493713                 0.012632                0.007183          12.085104            3       True         20\n",
            "3           LightGBM_BAG_L2    0.987073   0.987505      365.506774     736.025195  6830.926788                 2.180315                1.786115         259.455806            2       True         11\n",
            "4    NeuralNetFastAI_BAG_L2    0.987027   0.987471      368.599604     738.069256  7185.616762                 5.273145                3.830176         614.145781            2       True          9\n",
            "5     ExtraTreesEntr_BAG_L2    0.986890   0.987025      364.553864     746.413669  6608.139637                 1.227406               12.174590          36.668655            2       True         16\n",
            "6     ExtraTreesGini_BAG_L2    0.986845   0.987094      364.638156     746.634367  6615.154789                 1.311697               12.395287          43.683808            2       True         15\n",
            "7            XGBoost_BAG_L2    0.986479   0.987493      365.984499     736.120318  6614.919820                 2.658040                1.881239          43.448839            2       True         17\n",
            "8       WeightedEnsemble_L2    0.986342   0.986705      109.982093     100.285594  4187.730900                 0.005897                0.006827           9.266780            2       True          8\n",
            "9           CatBoost_BAG_L2    0.986342   0.987025      363.798291     734.654867  6622.765036                 0.471832                0.415787          51.294055            2       True         14\n",
            "10        LightGBMXT_BAG_L2    0.986251   0.987208      376.649403     746.745532  7202.495298                13.322944               12.506452         631.024317            2       True         10\n",
            "11     LightGBMLarge_BAG_L2    0.986159   0.987185      366.880490     737.240386  6948.895061                 3.554031                3.001307         377.424080            2       True         19\n",
            "12   NeuralNetFastAI_BAG_L1    0.985840   0.986089        4.277881       3.543592   614.665289                 4.277881                3.543592         614.665289            1       True          3\n",
            "13        LightGBMXT_BAG_L1    0.985017   0.985472      105.698315      96.735175  3563.798831               105.698315               96.735175        3563.798831            1       True          4\n",
            "14          LightGBM_BAG_L1    0.983099   0.983267       49.844082      45.257354  1845.956032                49.844082               45.257354        1845.956032            1       True          5\n",
            "15    NeuralNetTorch_BAG_L2    0.982505   0.983610      377.052270     741.887149  7393.397926                13.725812                7.648069         821.926945            2       True         18\n",
            "16  RandomForestEntr_BAG_L1    0.975151   0.976495        0.964989       7.034265   244.436713                 0.964989                7.034265         244.436713            1       True          7\n",
            "17    KNeighborsDist_BAG_L1    0.974694   0.975706      101.278888     282.981212     0.727440               101.278888              282.981212           0.727440            1       True          2\n",
            "18  RandomForestGini_BAG_L1    0.974329   0.976060        1.568443      11.449831   301.144790                 1.568443               11.449831         301.144790            1       True          6\n",
            "19    KNeighborsUnif_BAG_L1    0.973780   0.974918       99.693861     287.237650     0.741886                99.693861              287.237650           0.741886            1       True          1\n"
          ]
        },
        {
          "output_type": "execute_result",
          "data": {
            "text/plain": [
              "                      model  score_test  score_val  pred_time_test  \\\n",
              "0   RandomForestGini_BAG_L2    0.987347   0.987254      364.362037   \n",
              "1   RandomForestEntr_BAG_L2    0.987256   0.987402      364.258731   \n",
              "2       WeightedEnsemble_L3    0.987164   0.987756      389.968791   \n",
              "3           LightGBM_BAG_L2    0.987073   0.987505      365.506774   \n",
              "4    NeuralNetFastAI_BAG_L2    0.987027   0.987471      368.599604   \n",
              "5     ExtraTreesEntr_BAG_L2    0.986890   0.987025      364.553864   \n",
              "6     ExtraTreesGini_BAG_L2    0.986845   0.987094      364.638156   \n",
              "7            XGBoost_BAG_L2    0.986479   0.987493      365.984499   \n",
              "8       WeightedEnsemble_L2    0.986342   0.986705      109.982093   \n",
              "9           CatBoost_BAG_L2    0.986342   0.987025      363.798291   \n",
              "10        LightGBMXT_BAG_L2    0.986251   0.987208      376.649403   \n",
              "11     LightGBMLarge_BAG_L2    0.986159   0.987185      366.880490   \n",
              "12   NeuralNetFastAI_BAG_L1    0.985840   0.986089        4.277881   \n",
              "13        LightGBMXT_BAG_L1    0.985017   0.985472      105.698315   \n",
              "14          LightGBM_BAG_L1    0.983099   0.983267       49.844082   \n",
              "15    NeuralNetTorch_BAG_L2    0.982505   0.983610      377.052270   \n",
              "16  RandomForestEntr_BAG_L1    0.975151   0.976495        0.964989   \n",
              "17    KNeighborsDist_BAG_L1    0.974694   0.975706      101.278888   \n",
              "18  RandomForestGini_BAG_L1    0.974329   0.976060        1.568443   \n",
              "19    KNeighborsUnif_BAG_L1    0.973780   0.974918       99.693861   \n",
              "\n",
              "    pred_time_val     fit_time  pred_time_test_marginal  \\\n",
              "0      746.547559  6863.764176                 1.035578   \n",
              "1      746.033134  6843.372016                 0.932272   \n",
              "2      790.527368  8732.493713                 0.012632   \n",
              "3      736.025195  6830.926788                 2.180315   \n",
              "4      738.069256  7185.616762                 5.273145   \n",
              "5      746.413669  6608.139637                 1.227406   \n",
              "6      746.634367  6615.154789                 1.311697   \n",
              "7      736.120318  6614.919820                 2.658040   \n",
              "8      100.285594  4187.730900                 0.005897   \n",
              "9      734.654867  6622.765036                 0.471832   \n",
              "10     746.745532  7202.495298                13.322944   \n",
              "11     737.240386  6948.895061                 3.554031   \n",
              "12       3.543592   614.665289                 4.277881   \n",
              "13      96.735175  3563.798831               105.698315   \n",
              "14      45.257354  1845.956032                49.844082   \n",
              "15     741.887149  7393.397926                13.725812   \n",
              "16       7.034265   244.436713                 0.964989   \n",
              "17     282.981212     0.727440               101.278888   \n",
              "18      11.449831   301.144790                 1.568443   \n",
              "19     287.237650     0.741886                99.693861   \n",
              "\n",
              "    pred_time_val_marginal  fit_time_marginal  stack_level  can_infer  \\\n",
              "0                12.308479         292.293195            2       True   \n",
              "1                11.794054         271.901035            2       True   \n",
              "2                 0.007183          12.085104            3       True   \n",
              "3                 1.786115         259.455806            2       True   \n",
              "4                 3.830176         614.145781            2       True   \n",
              "5                12.174590          36.668655            2       True   \n",
              "6                12.395287          43.683808            2       True   \n",
              "7                 1.881239          43.448839            2       True   \n",
              "8                 0.006827           9.266780            2       True   \n",
              "9                 0.415787          51.294055            2       True   \n",
              "10               12.506452         631.024317            2       True   \n",
              "11                3.001307         377.424080            2       True   \n",
              "12                3.543592         614.665289            1       True   \n",
              "13               96.735175        3563.798831            1       True   \n",
              "14               45.257354        1845.956032            1       True   \n",
              "15                7.648069         821.926945            2       True   \n",
              "16                7.034265         244.436713            1       True   \n",
              "17              282.981212           0.727440            1       True   \n",
              "18               11.449831         301.144790            1       True   \n",
              "19              287.237650           0.741886            1       True   \n",
              "\n",
              "    fit_order  \n",
              "0          12  \n",
              "1          13  \n",
              "2          20  \n",
              "3          11  \n",
              "4           9  \n",
              "5          16  \n",
              "6          15  \n",
              "7          17  \n",
              "8           8  \n",
              "9          14  \n",
              "10         10  \n",
              "11         19  \n",
              "12          3  \n",
              "13          4  \n",
              "14          5  \n",
              "15         18  \n",
              "16          7  \n",
              "17          2  \n",
              "18          6  \n",
              "19          1  "
            ],
            "text/html": [
              "\n",
              "  <div id=\"df-63c095b5-e3d0-4296-8afa-0aafb3700e5f\">\n",
              "    <div class=\"colab-df-container\">\n",
              "      <div>\n",
              "<style scoped>\n",
              "    .dataframe tbody tr th:only-of-type {\n",
              "        vertical-align: middle;\n",
              "    }\n",
              "\n",
              "    .dataframe tbody tr th {\n",
              "        vertical-align: top;\n",
              "    }\n",
              "\n",
              "    .dataframe thead th {\n",
              "        text-align: right;\n",
              "    }\n",
              "</style>\n",
              "<table border=\"1\" class=\"dataframe\">\n",
              "  <thead>\n",
              "    <tr style=\"text-align: right;\">\n",
              "      <th></th>\n",
              "      <th>model</th>\n",
              "      <th>score_test</th>\n",
              "      <th>score_val</th>\n",
              "      <th>pred_time_test</th>\n",
              "      <th>pred_time_val</th>\n",
              "      <th>fit_time</th>\n",
              "      <th>pred_time_test_marginal</th>\n",
              "      <th>pred_time_val_marginal</th>\n",
              "      <th>fit_time_marginal</th>\n",
              "      <th>stack_level</th>\n",
              "      <th>can_infer</th>\n",
              "      <th>fit_order</th>\n",
              "    </tr>\n",
              "  </thead>\n",
              "  <tbody>\n",
              "    <tr>\n",
              "      <th>0</th>\n",
              "      <td>RandomForestGini_BAG_L2</td>\n",
              "      <td>0.987347</td>\n",
              "      <td>0.987254</td>\n",
              "      <td>364.362037</td>\n",
              "      <td>746.547559</td>\n",
              "      <td>6863.764176</td>\n",
              "      <td>1.035578</td>\n",
              "      <td>12.308479</td>\n",
              "      <td>292.293195</td>\n",
              "      <td>2</td>\n",
              "      <td>True</td>\n",
              "      <td>12</td>\n",
              "    </tr>\n",
              "    <tr>\n",
              "      <th>1</th>\n",
              "      <td>RandomForestEntr_BAG_L2</td>\n",
              "      <td>0.987256</td>\n",
              "      <td>0.987402</td>\n",
              "      <td>364.258731</td>\n",
              "      <td>746.033134</td>\n",
              "      <td>6843.372016</td>\n",
              "      <td>0.932272</td>\n",
              "      <td>11.794054</td>\n",
              "      <td>271.901035</td>\n",
              "      <td>2</td>\n",
              "      <td>True</td>\n",
              "      <td>13</td>\n",
              "    </tr>\n",
              "    <tr>\n",
              "      <th>2</th>\n",
              "      <td>WeightedEnsemble_L3</td>\n",
              "      <td>0.987164</td>\n",
              "      <td>0.987756</td>\n",
              "      <td>389.968791</td>\n",
              "      <td>790.527368</td>\n",
              "      <td>8732.493713</td>\n",
              "      <td>0.012632</td>\n",
              "      <td>0.007183</td>\n",
              "      <td>12.085104</td>\n",
              "      <td>3</td>\n",
              "      <td>True</td>\n",
              "      <td>20</td>\n",
              "    </tr>\n",
              "    <tr>\n",
              "      <th>3</th>\n",
              "      <td>LightGBM_BAG_L2</td>\n",
              "      <td>0.987073</td>\n",
              "      <td>0.987505</td>\n",
              "      <td>365.506774</td>\n",
              "      <td>736.025195</td>\n",
              "      <td>6830.926788</td>\n",
              "      <td>2.180315</td>\n",
              "      <td>1.786115</td>\n",
              "      <td>259.455806</td>\n",
              "      <td>2</td>\n",
              "      <td>True</td>\n",
              "      <td>11</td>\n",
              "    </tr>\n",
              "    <tr>\n",
              "      <th>4</th>\n",
              "      <td>NeuralNetFastAI_BAG_L2</td>\n",
              "      <td>0.987027</td>\n",
              "      <td>0.987471</td>\n",
              "      <td>368.599604</td>\n",
              "      <td>738.069256</td>\n",
              "      <td>7185.616762</td>\n",
              "      <td>5.273145</td>\n",
              "      <td>3.830176</td>\n",
              "      <td>614.145781</td>\n",
              "      <td>2</td>\n",
              "      <td>True</td>\n",
              "      <td>9</td>\n",
              "    </tr>\n",
              "    <tr>\n",
              "      <th>5</th>\n",
              "      <td>ExtraTreesEntr_BAG_L2</td>\n",
              "      <td>0.986890</td>\n",
              "      <td>0.987025</td>\n",
              "      <td>364.553864</td>\n",
              "      <td>746.413669</td>\n",
              "      <td>6608.139637</td>\n",
              "      <td>1.227406</td>\n",
              "      <td>12.174590</td>\n",
              "      <td>36.668655</td>\n",
              "      <td>2</td>\n",
              "      <td>True</td>\n",
              "      <td>16</td>\n",
              "    </tr>\n",
              "    <tr>\n",
              "      <th>6</th>\n",
              "      <td>ExtraTreesGini_BAG_L2</td>\n",
              "      <td>0.986845</td>\n",
              "      <td>0.987094</td>\n",
              "      <td>364.638156</td>\n",
              "      <td>746.634367</td>\n",
              "      <td>6615.154789</td>\n",
              "      <td>1.311697</td>\n",
              "      <td>12.395287</td>\n",
              "      <td>43.683808</td>\n",
              "      <td>2</td>\n",
              "      <td>True</td>\n",
              "      <td>15</td>\n",
              "    </tr>\n",
              "    <tr>\n",
              "      <th>7</th>\n",
              "      <td>XGBoost_BAG_L2</td>\n",
              "      <td>0.986479</td>\n",
              "      <td>0.987493</td>\n",
              "      <td>365.984499</td>\n",
              "      <td>736.120318</td>\n",
              "      <td>6614.919820</td>\n",
              "      <td>2.658040</td>\n",
              "      <td>1.881239</td>\n",
              "      <td>43.448839</td>\n",
              "      <td>2</td>\n",
              "      <td>True</td>\n",
              "      <td>17</td>\n",
              "    </tr>\n",
              "    <tr>\n",
              "      <th>8</th>\n",
              "      <td>WeightedEnsemble_L2</td>\n",
              "      <td>0.986342</td>\n",
              "      <td>0.986705</td>\n",
              "      <td>109.982093</td>\n",
              "      <td>100.285594</td>\n",
              "      <td>4187.730900</td>\n",
              "      <td>0.005897</td>\n",
              "      <td>0.006827</td>\n",
              "      <td>9.266780</td>\n",
              "      <td>2</td>\n",
              "      <td>True</td>\n",
              "      <td>8</td>\n",
              "    </tr>\n",
              "    <tr>\n",
              "      <th>9</th>\n",
              "      <td>CatBoost_BAG_L2</td>\n",
              "      <td>0.986342</td>\n",
              "      <td>0.987025</td>\n",
              "      <td>363.798291</td>\n",
              "      <td>734.654867</td>\n",
              "      <td>6622.765036</td>\n",
              "      <td>0.471832</td>\n",
              "      <td>0.415787</td>\n",
              "      <td>51.294055</td>\n",
              "      <td>2</td>\n",
              "      <td>True</td>\n",
              "      <td>14</td>\n",
              "    </tr>\n",
              "    <tr>\n",
              "      <th>10</th>\n",
              "      <td>LightGBMXT_BAG_L2</td>\n",
              "      <td>0.986251</td>\n",
              "      <td>0.987208</td>\n",
              "      <td>376.649403</td>\n",
              "      <td>746.745532</td>\n",
              "      <td>7202.495298</td>\n",
              "      <td>13.322944</td>\n",
              "      <td>12.506452</td>\n",
              "      <td>631.024317</td>\n",
              "      <td>2</td>\n",
              "      <td>True</td>\n",
              "      <td>10</td>\n",
              "    </tr>\n",
              "    <tr>\n",
              "      <th>11</th>\n",
              "      <td>LightGBMLarge_BAG_L2</td>\n",
              "      <td>0.986159</td>\n",
              "      <td>0.987185</td>\n",
              "      <td>366.880490</td>\n",
              "      <td>737.240386</td>\n",
              "      <td>6948.895061</td>\n",
              "      <td>3.554031</td>\n",
              "      <td>3.001307</td>\n",
              "      <td>377.424080</td>\n",
              "      <td>2</td>\n",
              "      <td>True</td>\n",
              "      <td>19</td>\n",
              "    </tr>\n",
              "    <tr>\n",
              "      <th>12</th>\n",
              "      <td>NeuralNetFastAI_BAG_L1</td>\n",
              "      <td>0.985840</td>\n",
              "      <td>0.986089</td>\n",
              "      <td>4.277881</td>\n",
              "      <td>3.543592</td>\n",
              "      <td>614.665289</td>\n",
              "      <td>4.277881</td>\n",
              "      <td>3.543592</td>\n",
              "      <td>614.665289</td>\n",
              "      <td>1</td>\n",
              "      <td>True</td>\n",
              "      <td>3</td>\n",
              "    </tr>\n",
              "    <tr>\n",
              "      <th>13</th>\n",
              "      <td>LightGBMXT_BAG_L1</td>\n",
              "      <td>0.985017</td>\n",
              "      <td>0.985472</td>\n",
              "      <td>105.698315</td>\n",
              "      <td>96.735175</td>\n",
              "      <td>3563.798831</td>\n",
              "      <td>105.698315</td>\n",
              "      <td>96.735175</td>\n",
              "      <td>3563.798831</td>\n",
              "      <td>1</td>\n",
              "      <td>True</td>\n",
              "      <td>4</td>\n",
              "    </tr>\n",
              "    <tr>\n",
              "      <th>14</th>\n",
              "      <td>LightGBM_BAG_L1</td>\n",
              "      <td>0.983099</td>\n",
              "      <td>0.983267</td>\n",
              "      <td>49.844082</td>\n",
              "      <td>45.257354</td>\n",
              "      <td>1845.956032</td>\n",
              "      <td>49.844082</td>\n",
              "      <td>45.257354</td>\n",
              "      <td>1845.956032</td>\n",
              "      <td>1</td>\n",
              "      <td>True</td>\n",
              "      <td>5</td>\n",
              "    </tr>\n",
              "    <tr>\n",
              "      <th>15</th>\n",
              "      <td>NeuralNetTorch_BAG_L2</td>\n",
              "      <td>0.982505</td>\n",
              "      <td>0.983610</td>\n",
              "      <td>377.052270</td>\n",
              "      <td>741.887149</td>\n",
              "      <td>7393.397926</td>\n",
              "      <td>13.725812</td>\n",
              "      <td>7.648069</td>\n",
              "      <td>821.926945</td>\n",
              "      <td>2</td>\n",
              "      <td>True</td>\n",
              "      <td>18</td>\n",
              "    </tr>\n",
              "    <tr>\n",
              "      <th>16</th>\n",
              "      <td>RandomForestEntr_BAG_L1</td>\n",
              "      <td>0.975151</td>\n",
              "      <td>0.976495</td>\n",
              "      <td>0.964989</td>\n",
              "      <td>7.034265</td>\n",
              "      <td>244.436713</td>\n",
              "      <td>0.964989</td>\n",
              "      <td>7.034265</td>\n",
              "      <td>244.436713</td>\n",
              "      <td>1</td>\n",
              "      <td>True</td>\n",
              "      <td>7</td>\n",
              "    </tr>\n",
              "    <tr>\n",
              "      <th>17</th>\n",
              "      <td>KNeighborsDist_BAG_L1</td>\n",
              "      <td>0.974694</td>\n",
              "      <td>0.975706</td>\n",
              "      <td>101.278888</td>\n",
              "      <td>282.981212</td>\n",
              "      <td>0.727440</td>\n",
              "      <td>101.278888</td>\n",
              "      <td>282.981212</td>\n",
              "      <td>0.727440</td>\n",
              "      <td>1</td>\n",
              "      <td>True</td>\n",
              "      <td>2</td>\n",
              "    </tr>\n",
              "    <tr>\n",
              "      <th>18</th>\n",
              "      <td>RandomForestGini_BAG_L1</td>\n",
              "      <td>0.974329</td>\n",
              "      <td>0.976060</td>\n",
              "      <td>1.568443</td>\n",
              "      <td>11.449831</td>\n",
              "      <td>301.144790</td>\n",
              "      <td>1.568443</td>\n",
              "      <td>11.449831</td>\n",
              "      <td>301.144790</td>\n",
              "      <td>1</td>\n",
              "      <td>True</td>\n",
              "      <td>6</td>\n",
              "    </tr>\n",
              "    <tr>\n",
              "      <th>19</th>\n",
              "      <td>KNeighborsUnif_BAG_L1</td>\n",
              "      <td>0.973780</td>\n",
              "      <td>0.974918</td>\n",
              "      <td>99.693861</td>\n",
              "      <td>287.237650</td>\n",
              "      <td>0.741886</td>\n",
              "      <td>99.693861</td>\n",
              "      <td>287.237650</td>\n",
              "      <td>0.741886</td>\n",
              "      <td>1</td>\n",
              "      <td>True</td>\n",
              "      <td>1</td>\n",
              "    </tr>\n",
              "  </tbody>\n",
              "</table>\n",
              "</div>\n",
              "      <button class=\"colab-df-convert\" onclick=\"convertToInteractive('df-63c095b5-e3d0-4296-8afa-0aafb3700e5f')\"\n",
              "              title=\"Convert this dataframe to an interactive table.\"\n",
              "              style=\"display:none;\">\n",
              "        \n",
              "  <svg xmlns=\"http://www.w3.org/2000/svg\" height=\"24px\"viewBox=\"0 0 24 24\"\n",
              "       width=\"24px\">\n",
              "    <path d=\"M0 0h24v24H0V0z\" fill=\"none\"/>\n",
              "    <path d=\"M18.56 5.44l.94 2.06.94-2.06 2.06-.94-2.06-.94-.94-2.06-.94 2.06-2.06.94zm-11 1L8.5 8.5l.94-2.06 2.06-.94-2.06-.94L8.5 2.5l-.94 2.06-2.06.94zm10 10l.94 2.06.94-2.06 2.06-.94-2.06-.94-.94-2.06-.94 2.06-2.06.94z\"/><path d=\"M17.41 7.96l-1.37-1.37c-.4-.4-.92-.59-1.43-.59-.52 0-1.04.2-1.43.59L10.3 9.45l-7.72 7.72c-.78.78-.78 2.05 0 2.83L4 21.41c.39.39.9.59 1.41.59.51 0 1.02-.2 1.41-.59l7.78-7.78 2.81-2.81c.8-.78.8-2.07 0-2.86zM5.41 20L4 18.59l7.72-7.72 1.47 1.35L5.41 20z\"/>\n",
              "  </svg>\n",
              "      </button>\n",
              "      \n",
              "  <style>\n",
              "    .colab-df-container {\n",
              "      display:flex;\n",
              "      flex-wrap:wrap;\n",
              "      gap: 12px;\n",
              "    }\n",
              "\n",
              "    .colab-df-convert {\n",
              "      background-color: #E8F0FE;\n",
              "      border: none;\n",
              "      border-radius: 50%;\n",
              "      cursor: pointer;\n",
              "      display: none;\n",
              "      fill: #1967D2;\n",
              "      height: 32px;\n",
              "      padding: 0 0 0 0;\n",
              "      width: 32px;\n",
              "    }\n",
              "\n",
              "    .colab-df-convert:hover {\n",
              "      background-color: #E2EBFA;\n",
              "      box-shadow: 0px 1px 2px rgba(60, 64, 67, 0.3), 0px 1px 3px 1px rgba(60, 64, 67, 0.15);\n",
              "      fill: #174EA6;\n",
              "    }\n",
              "\n",
              "    [theme=dark] .colab-df-convert {\n",
              "      background-color: #3B4455;\n",
              "      fill: #D2E3FC;\n",
              "    }\n",
              "\n",
              "    [theme=dark] .colab-df-convert:hover {\n",
              "      background-color: #434B5C;\n",
              "      box-shadow: 0px 1px 3px 1px rgba(0, 0, 0, 0.15);\n",
              "      filter: drop-shadow(0px 1px 2px rgba(0, 0, 0, 0.3));\n",
              "      fill: #FFFFFF;\n",
              "    }\n",
              "  </style>\n",
              "\n",
              "      <script>\n",
              "        const buttonEl =\n",
              "          document.querySelector('#df-63c095b5-e3d0-4296-8afa-0aafb3700e5f button.colab-df-convert');\n",
              "        buttonEl.style.display =\n",
              "          google.colab.kernel.accessAllowed ? 'block' : 'none';\n",
              "\n",
              "        async function convertToInteractive(key) {\n",
              "          const element = document.querySelector('#df-63c095b5-e3d0-4296-8afa-0aafb3700e5f');\n",
              "          const dataTable =\n",
              "            await google.colab.kernel.invokeFunction('convertToInteractive',\n",
              "                                                     [key], {});\n",
              "          if (!dataTable) return;\n",
              "\n",
              "          const docLinkHtml = 'Like what you see? Visit the ' +\n",
              "            '<a target=\"_blank\" href=https://colab.research.google.com/notebooks/data_table.ipynb>data table notebook</a>'\n",
              "            + ' to learn more about interactive tables.';\n",
              "          element.innerHTML = '';\n",
              "          dataTable['output_type'] = 'display_data';\n",
              "          await google.colab.output.renderOutput(dataTable, element);\n",
              "          const docLink = document.createElement('div');\n",
              "          docLink.innerHTML = docLinkHtml;\n",
              "          element.appendChild(docLink);\n",
              "        }\n",
              "      </script>\n",
              "    </div>\n",
              "  </div>\n",
              "  "
            ]
          },
          "metadata": {},
          "execution_count": 15
        }
      ],
      "source": [
        "\n",
        "leaderboard = predictor.leaderboard(test_data,)\n",
        "\n",
        "leaderboard"
      ]
    },
    {
      "cell_type": "code",
      "source": [
        "best_model = TabularPredictor.load(\"/content/AutogluonModels/ag-20220327_204858\")"
      ],
      "metadata": {
        "colab": {
          "base_uri": "https://localhost:8080/",
          "height": 17
        },
        "id": "knCnCrLgLJ6K",
        "outputId": "191fc910-42bf-4bd6-da1a-a87f69e3dc49"
      },
      "execution_count": 31,
      "outputs": [
        {
          "output_type": "display_data",
          "data": {
            "text/plain": [
              "<IPython.core.display.HTML object>"
            ],
            "text/html": [
              "\n",
              "  <style>\n",
              "    pre {\n",
              "        white-space: pre-wrap;\n",
              "    }\n",
              "  </style>\n",
              "  "
            ]
          },
          "metadata": {}
        }
      ]
    },
    {
      "cell_type": "code",
      "source": [
        "feat_importance = best_model.feature_importance(\n",
        "                                                test_data,\n",
        "                                               time_limit=600,\n",
        "                    )\n",
        "feat_importance"
      ],
      "metadata": {
        "colab": {
          "base_uri": "https://localhost:8080/",
          "height": 53
        },
        "id": "RrIOu8aA7N3B",
        "outputId": "a4165f4a-8d72-4517-fbfc-74a850185d72"
      },
      "execution_count": null,
      "outputs": [
        {
          "output_type": "display_data",
          "data": {
            "text/plain": [
              "<IPython.core.display.HTML object>"
            ],
            "text/html": [
              "\n",
              "  <style>\n",
              "    pre {\n",
              "        white-space: pre-wrap;\n",
              "    }\n",
              "  </style>\n",
              "  "
            ]
          },
          "metadata": {}
        },
        {
          "output_type": "stream",
          "name": "stderr",
          "text": [
            "Computing feature importance via permutation shuffling for 187 features using 1000 rows with 10 shuffle sets... Time limit: 600s...\n",
            "\t47064.84s\t= Expected runtime (4706.48s per shuffle set)\n"
          ]
        }
      ]
    },
    {
      "cell_type": "code",
      "source": [
        "type(feat_importance)"
      ],
      "metadata": {
        "id": "JfwT4_LnBz2e"
      },
      "execution_count": null,
      "outputs": []
    },
    {
      "cell_type": "markdown",
      "metadata": {
        "id": "eGQ0CXL-tuo1"
      },
      "source": [
        "## export results"
      ]
    },
    {
      "cell_type": "code",
      "execution_count": 16,
      "metadata": {
        "colab": {
          "base_uri": "https://localhost:8080/",
          "height": 17
        },
        "id": "dlm8uQHocsU8",
        "outputId": "01d2e24b-70af-44bf-dfb3-ceabf62dcbd0"
      },
      "outputs": [
        {
          "output_type": "display_data",
          "data": {
            "text/plain": [
              "<IPython.core.display.HTML object>"
            ],
            "text/html": [
              "\n",
              "  <style>\n",
              "    pre {\n",
              "        white-space: pre-wrap;\n",
              "    }\n",
              "  </style>\n",
              "  "
            ]
          },
          "metadata": {}
        }
      ],
      "source": [
        "!pip install openpyxl -q"
      ]
    },
    {
      "cell_type": "code",
      "execution_count": 17,
      "metadata": {
        "colab": {
          "base_uri": "https://localhost:8080/",
          "height": 17
        },
        "id": "ubdzxFaRq4NN",
        "outputId": "e2598a22-84fb-488f-8b54-8f971c17c66c"
      },
      "outputs": [
        {
          "output_type": "display_data",
          "data": {
            "text/plain": [
              "<IPython.core.display.HTML object>"
            ],
            "text/html": [
              "\n",
              "  <style>\n",
              "    pre {\n",
              "        white-space: pre-wrap;\n",
              "    }\n",
              "  </style>\n",
              "  "
            ]
          },
          "metadata": {}
        }
      ],
      "source": [
        "from google.colab import files\n",
        "import pandas as pd\n",
        "from pathlib import Path\n",
        "\n",
        "_cwd = Path.cwd()\n",
        "\n",
        "csv_path = _cwd / \"mitbih_autogluon_results.csv\"\n",
        "xlsx_path = _cwd / \"mitbih_autogluon_results.xlsx\"\n",
        "\n",
        "leaderboard.to_csv(csv_path)\n",
        "leaderboard.to_excel(xlsx_path)\n"
      ]
    },
    {
      "cell_type": "code",
      "source": [
        "download_colab([csv_path, xlsx_path])\n"
      ],
      "metadata": {
        "colab": {
          "base_uri": "https://localhost:8080/",
          "height": 49,
          "referenced_widgets": [
            "fb4cd246aa6a4b56a70841ed7a760b42",
            "644068b0c7a74c3db8601e0bb310309c",
            "613ec4aa947c45868251ee0d9ddac6b1",
            "ecf367db616d4ef0a94f1dfeb3f1b33d",
            "0e55ca9abf92492e8b1a69292b8ddf2f",
            "b52c6f42712047c6b35d2db39d0bd83a",
            "ffb394b8ce5e4d668c8afb2f9cdb4d47",
            "e0125c16373d42ccb282503ef0669d7e",
            "ee1d0509b3bf4160935ec8b112a1a188",
            "dd42d4066a2541c2b7cbb2d6d079943e",
            "44b5263ef29445ac9ff1a38e58afb7b7"
          ]
        },
        "id": "1pxe8LEzIGd5",
        "outputId": "67f8d259-74ca-475f-ac6e-ddde46cd97b8"
      },
      "execution_count": 18,
      "outputs": [
        {
          "output_type": "display_data",
          "data": {
            "text/plain": [
              "<IPython.core.display.HTML object>"
            ],
            "text/html": [
              "\n",
              "  <style>\n",
              "    pre {\n",
              "        white-space: pre-wrap;\n",
              "    }\n",
              "  </style>\n",
              "  "
            ]
          },
          "metadata": {}
        },
        {
          "output_type": "display_data",
          "data": {
            "text/plain": [
              "downloading files..:   0%|          | 0/2 [00:00<?, ?it/s]"
            ],
            "application/vnd.jupyter.widget-view+json": {
              "version_major": 2,
              "version_minor": 0,
              "model_id": "fb4cd246aa6a4b56a70841ed7a760b42"
            }
          },
          "metadata": {}
        },
        {
          "output_type": "display_data",
          "data": {
            "text/plain": [
              "<IPython.core.display.Javascript object>"
            ],
            "application/javascript": [
              "\n",
              "    async function download(id, filename, size) {\n",
              "      if (!google.colab.kernel.accessAllowed) {\n",
              "        return;\n",
              "      }\n",
              "      const div = document.createElement('div');\n",
              "      const label = document.createElement('label');\n",
              "      label.textContent = `Downloading \"${filename}\": `;\n",
              "      div.appendChild(label);\n",
              "      const progress = document.createElement('progress');\n",
              "      progress.max = size;\n",
              "      div.appendChild(progress);\n",
              "      document.body.appendChild(div);\n",
              "\n",
              "      const buffers = [];\n",
              "      let downloaded = 0;\n",
              "\n",
              "      const channel = await google.colab.kernel.comms.open(id);\n",
              "      // Send a message to notify the kernel that we're ready.\n",
              "      channel.send({})\n",
              "\n",
              "      for await (const message of channel.messages) {\n",
              "        // Send a message to notify the kernel that we're ready.\n",
              "        channel.send({})\n",
              "        if (message.buffers) {\n",
              "          for (const buffer of message.buffers) {\n",
              "            buffers.push(buffer);\n",
              "            downloaded += buffer.byteLength;\n",
              "            progress.value = downloaded;\n",
              "          }\n",
              "        }\n",
              "      }\n",
              "      const blob = new Blob(buffers, {type: 'application/binary'});\n",
              "      const a = document.createElement('a');\n",
              "      a.href = window.URL.createObjectURL(blob);\n",
              "      a.download = filename;\n",
              "      div.appendChild(a);\n",
              "      a.click();\n",
              "      div.remove();\n",
              "    }\n",
              "  "
            ]
          },
          "metadata": {}
        },
        {
          "output_type": "display_data",
          "data": {
            "text/plain": [
              "<IPython.core.display.Javascript object>"
            ],
            "application/javascript": [
              "download(\"download_d1c9ac36-532c-4225-99a5-05720d0d8004\", \"mitbih_autogluon_results.csv\", 3793)"
            ]
          },
          "metadata": {}
        },
        {
          "output_type": "display_data",
          "data": {
            "text/plain": [
              "<IPython.core.display.Javascript object>"
            ],
            "application/javascript": [
              "\n",
              "    async function download(id, filename, size) {\n",
              "      if (!google.colab.kernel.accessAllowed) {\n",
              "        return;\n",
              "      }\n",
              "      const div = document.createElement('div');\n",
              "      const label = document.createElement('label');\n",
              "      label.textContent = `Downloading \"${filename}\": `;\n",
              "      div.appendChild(label);\n",
              "      const progress = document.createElement('progress');\n",
              "      progress.max = size;\n",
              "      div.appendChild(progress);\n",
              "      document.body.appendChild(div);\n",
              "\n",
              "      const buffers = [];\n",
              "      let downloaded = 0;\n",
              "\n",
              "      const channel = await google.colab.kernel.comms.open(id);\n",
              "      // Send a message to notify the kernel that we're ready.\n",
              "      channel.send({})\n",
              "\n",
              "      for await (const message of channel.messages) {\n",
              "        // Send a message to notify the kernel that we're ready.\n",
              "        channel.send({})\n",
              "        if (message.buffers) {\n",
              "          for (const buffer of message.buffers) {\n",
              "            buffers.push(buffer);\n",
              "            downloaded += buffer.byteLength;\n",
              "            progress.value = downloaded;\n",
              "          }\n",
              "        }\n",
              "      }\n",
              "      const blob = new Blob(buffers, {type: 'application/binary'});\n",
              "      const a = document.createElement('a');\n",
              "      a.href = window.URL.createObjectURL(blob);\n",
              "      a.download = filename;\n",
              "      div.appendChild(a);\n",
              "      a.click();\n",
              "      div.remove();\n",
              "    }\n",
              "  "
            ]
          },
          "metadata": {}
        },
        {
          "output_type": "display_data",
          "data": {
            "text/plain": [
              "<IPython.core.display.Javascript object>"
            ],
            "application/javascript": [
              "download(\"download_27827150-4e06-4a5c-8b70-557ee0a9bea8\", \"mitbih_autogluon_results.xlsx\", 7699)"
            ]
          },
          "metadata": {}
        }
      ]
    },
    {
      "cell_type": "code",
      "source": [
        "def export_model_files():\n",
        "    learner_path = Path(scour_for_file(\"learner.pkl\", verbose=True))\n",
        "    predictor_path = Path(scour_for_file(\"predictor.pkl\", verbose=True))\n",
        "\n",
        "    learner_renamed_path = learner_path.parent / f\"mitbih_{learner_path.name}\"\n",
        "    predictor_renamed_path = predictor_path.parent / f\"mitbih_{predictor_path.name}\"\n",
        "    old_paths = [learner_path, predictor_path]\n",
        "    new_paths = [learner_renamed_path, predictor_renamed_path]\n",
        "\n",
        "    for old, new in zip(old_paths, new_paths):\n",
        "        os.rename(old, new)\n",
        "\n",
        "    download_colab(new_paths)\n"
      ],
      "metadata": {
        "colab": {
          "base_uri": "https://localhost:8080/",
          "height": 17
        },
        "id": "HmyA_m6u3TZl",
        "outputId": "5f6a719f-7059-4bd3-867e-1334b209fd17"
      },
      "execution_count": 19,
      "outputs": [
        {
          "output_type": "display_data",
          "data": {
            "text/plain": [
              "<IPython.core.display.HTML object>"
            ],
            "text/html": [
              "\n",
              "  <style>\n",
              "    pre {\n",
              "        white-space: pre-wrap;\n",
              "    }\n",
              "  </style>\n",
              "  "
            ]
          },
          "metadata": {}
        }
      ]
    },
    {
      "cell_type": "code",
      "source": [
        "export_model_files()"
      ],
      "metadata": {
        "colab": {
          "base_uri": "https://localhost:8080/",
          "height": 49,
          "referenced_widgets": [
            "927dd47c88ed4310a16d00c0247453ae",
            "8cc84e1ea8e7441e831225fcb21902fd",
            "7b9bc5ab6a4c470c8665e30a358ca6fb",
            "c376dc4ecfba4df581f96d3563cf4de4",
            "81d39da10ade4adeb27a0b7dc5dfe506",
            "78306158b761476b8f4728da82cc7866",
            "f1de591b651744cdaabd2f4f16b1cfa4",
            "6fa8f53b3eed44bea7f34c7ad312d9ef",
            "870b21c913d54e34bc560c0d35c27b14",
            "6c60a3c41c114e8d9bc1eb7a1c0d7566",
            "b914bc9bf2614c0980dacfbcc97712b3"
          ]
        },
        "id": "ZoYVyp4H3Wfi",
        "outputId": "4f8bae27-399d-43d6-9e2a-a2895662c53d"
      },
      "execution_count": 21,
      "outputs": [
        {
          "output_type": "display_data",
          "data": {
            "text/plain": [
              "<IPython.core.display.HTML object>"
            ],
            "text/html": [
              "\n",
              "  <style>\n",
              "    pre {\n",
              "        white-space: pre-wrap;\n",
              "    }\n",
              "  </style>\n",
              "  "
            ]
          },
          "metadata": {}
        },
        {
          "output_type": "display_data",
          "data": {
            "text/plain": [
              "downloading files..:   0%|          | 0/2 [00:00<?, ?it/s]"
            ],
            "application/vnd.jupyter.widget-view+json": {
              "version_major": 2,
              "version_minor": 0,
              "model_id": "927dd47c88ed4310a16d00c0247453ae"
            }
          },
          "metadata": {}
        },
        {
          "output_type": "display_data",
          "data": {
            "text/plain": [
              "<IPython.core.display.Javascript object>"
            ],
            "application/javascript": [
              "\n",
              "    async function download(id, filename, size) {\n",
              "      if (!google.colab.kernel.accessAllowed) {\n",
              "        return;\n",
              "      }\n",
              "      const div = document.createElement('div');\n",
              "      const label = document.createElement('label');\n",
              "      label.textContent = `Downloading \"${filename}\": `;\n",
              "      div.appendChild(label);\n",
              "      const progress = document.createElement('progress');\n",
              "      progress.max = size;\n",
              "      div.appendChild(progress);\n",
              "      document.body.appendChild(div);\n",
              "\n",
              "      const buffers = [];\n",
              "      let downloaded = 0;\n",
              "\n",
              "      const channel = await google.colab.kernel.comms.open(id);\n",
              "      // Send a message to notify the kernel that we're ready.\n",
              "      channel.send({})\n",
              "\n",
              "      for await (const message of channel.messages) {\n",
              "        // Send a message to notify the kernel that we're ready.\n",
              "        channel.send({})\n",
              "        if (message.buffers) {\n",
              "          for (const buffer of message.buffers) {\n",
              "            buffers.push(buffer);\n",
              "            downloaded += buffer.byteLength;\n",
              "            progress.value = downloaded;\n",
              "          }\n",
              "        }\n",
              "      }\n",
              "      const blob = new Blob(buffers, {type: 'application/binary'});\n",
              "      const a = document.createElement('a');\n",
              "      a.href = window.URL.createObjectURL(blob);\n",
              "      a.download = filename;\n",
              "      div.appendChild(a);\n",
              "      a.click();\n",
              "      div.remove();\n",
              "    }\n",
              "  "
            ]
          },
          "metadata": {}
        },
        {
          "output_type": "display_data",
          "data": {
            "text/plain": [
              "<IPython.core.display.Javascript object>"
            ],
            "application/javascript": [
              "download(\"download_cbacfd7b-5728-4071-a603-ab50fcd1413a\", \"mitbih_learner.pkl\", 63478)"
            ]
          },
          "metadata": {}
        },
        {
          "output_type": "display_data",
          "data": {
            "text/plain": [
              "<IPython.core.display.Javascript object>"
            ],
            "application/javascript": [
              "\n",
              "    async function download(id, filename, size) {\n",
              "      if (!google.colab.kernel.accessAllowed) {\n",
              "        return;\n",
              "      }\n",
              "      const div = document.createElement('div');\n",
              "      const label = document.createElement('label');\n",
              "      label.textContent = `Downloading \"${filename}\": `;\n",
              "      div.appendChild(label);\n",
              "      const progress = document.createElement('progress');\n",
              "      progress.max = size;\n",
              "      div.appendChild(progress);\n",
              "      document.body.appendChild(div);\n",
              "\n",
              "      const buffers = [];\n",
              "      let downloaded = 0;\n",
              "\n",
              "      const channel = await google.colab.kernel.comms.open(id);\n",
              "      // Send a message to notify the kernel that we're ready.\n",
              "      channel.send({})\n",
              "\n",
              "      for await (const message of channel.messages) {\n",
              "        // Send a message to notify the kernel that we're ready.\n",
              "        channel.send({})\n",
              "        if (message.buffers) {\n",
              "          for (const buffer of message.buffers) {\n",
              "            buffers.push(buffer);\n",
              "            downloaded += buffer.byteLength;\n",
              "            progress.value = downloaded;\n",
              "          }\n",
              "        }\n",
              "      }\n",
              "      const blob = new Blob(buffers, {type: 'application/binary'});\n",
              "      const a = document.createElement('a');\n",
              "      a.href = window.URL.createObjectURL(blob);\n",
              "      a.download = filename;\n",
              "      div.appendChild(a);\n",
              "      a.click();\n",
              "      div.remove();\n",
              "    }\n",
              "  "
            ]
          },
          "metadata": {}
        },
        {
          "output_type": "display_data",
          "data": {
            "text/plain": [
              "<IPython.core.display.Javascript object>"
            ],
            "application/javascript": [
              "download(\"download_c35e7f14-9b7c-4852-8663-ac4ff8b87f87\", \"mitbih_predictor.pkl\", 742)"
            ]
          },
          "metadata": {}
        }
      ]
    },
    {
      "cell_type": "code",
      "source": [
        ""
      ],
      "metadata": {
        "id": "BOPUbFc43Z8X"
      },
      "execution_count": null,
      "outputs": []
    }
  ],
  "metadata": {
    "accelerator": "GPU",
    "colab": {
      "collapsed_sections": [],
      "name": "autogluon-tabular-mitbih.ipynb",
      "provenance": [],
      "mount_file_id": "1Pu_86N0I5PGh6H8rKF1nMz1KDMUnVsWo",
      "authorship_tag": "ABX9TyOHELK24KdYZn6XoifW35eb",
      "include_colab_link": true
    },
    "kernelspec": {
      "display_name": "Python 3",
      "name": "python3"
    },
    "language_info": {
      "name": "python"
    },
    "widgets": {
      "application/vnd.jupyter.widget-state+json": {
        "fb4cd246aa6a4b56a70841ed7a760b42": {
          "model_module": "@jupyter-widgets/controls",
          "model_name": "HBoxModel",
          "model_module_version": "1.5.0",
          "state": {
            "_dom_classes": [],
            "_model_module": "@jupyter-widgets/controls",
            "_model_module_version": "1.5.0",
            "_model_name": "HBoxModel",
            "_view_count": null,
            "_view_module": "@jupyter-widgets/controls",
            "_view_module_version": "1.5.0",
            "_view_name": "HBoxView",
            "box_style": "",
            "children": [
              "IPY_MODEL_644068b0c7a74c3db8601e0bb310309c",
              "IPY_MODEL_613ec4aa947c45868251ee0d9ddac6b1",
              "IPY_MODEL_ecf367db616d4ef0a94f1dfeb3f1b33d"
            ],
            "layout": "IPY_MODEL_0e55ca9abf92492e8b1a69292b8ddf2f"
          }
        },
        "644068b0c7a74c3db8601e0bb310309c": {
          "model_module": "@jupyter-widgets/controls",
          "model_name": "HTMLModel",
          "model_module_version": "1.5.0",
          "state": {
            "_dom_classes": [],
            "_model_module": "@jupyter-widgets/controls",
            "_model_module_version": "1.5.0",
            "_model_name": "HTMLModel",
            "_view_count": null,
            "_view_module": "@jupyter-widgets/controls",
            "_view_module_version": "1.5.0",
            "_view_name": "HTMLView",
            "description": "",
            "description_tooltip": null,
            "layout": "IPY_MODEL_b52c6f42712047c6b35d2db39d0bd83a",
            "placeholder": "​",
            "style": "IPY_MODEL_ffb394b8ce5e4d668c8afb2f9cdb4d47",
            "value": "downloading files..: 100%"
          }
        },
        "613ec4aa947c45868251ee0d9ddac6b1": {
          "model_module": "@jupyter-widgets/controls",
          "model_name": "FloatProgressModel",
          "model_module_version": "1.5.0",
          "state": {
            "_dom_classes": [],
            "_model_module": "@jupyter-widgets/controls",
            "_model_module_version": "1.5.0",
            "_model_name": "FloatProgressModel",
            "_view_count": null,
            "_view_module": "@jupyter-widgets/controls",
            "_view_module_version": "1.5.0",
            "_view_name": "ProgressView",
            "bar_style": "success",
            "description": "",
            "description_tooltip": null,
            "layout": "IPY_MODEL_e0125c16373d42ccb282503ef0669d7e",
            "max": 2,
            "min": 0,
            "orientation": "horizontal",
            "style": "IPY_MODEL_ee1d0509b3bf4160935ec8b112a1a188",
            "value": 2
          }
        },
        "ecf367db616d4ef0a94f1dfeb3f1b33d": {
          "model_module": "@jupyter-widgets/controls",
          "model_name": "HTMLModel",
          "model_module_version": "1.5.0",
          "state": {
            "_dom_classes": [],
            "_model_module": "@jupyter-widgets/controls",
            "_model_module_version": "1.5.0",
            "_model_name": "HTMLModel",
            "_view_count": null,
            "_view_module": "@jupyter-widgets/controls",
            "_view_module_version": "1.5.0",
            "_view_name": "HTMLView",
            "description": "",
            "description_tooltip": null,
            "layout": "IPY_MODEL_dd42d4066a2541c2b7cbb2d6d079943e",
            "placeholder": "​",
            "style": "IPY_MODEL_44b5263ef29445ac9ff1a38e58afb7b7",
            "value": " 2/2 [00:06&lt;00:00,  1.52s/it]"
          }
        },
        "0e55ca9abf92492e8b1a69292b8ddf2f": {
          "model_module": "@jupyter-widgets/base",
          "model_name": "LayoutModel",
          "model_module_version": "1.2.0",
          "state": {
            "_model_module": "@jupyter-widgets/base",
            "_model_module_version": "1.2.0",
            "_model_name": "LayoutModel",
            "_view_count": null,
            "_view_module": "@jupyter-widgets/base",
            "_view_module_version": "1.2.0",
            "_view_name": "LayoutView",
            "align_content": null,
            "align_items": null,
            "align_self": null,
            "border": null,
            "bottom": null,
            "display": null,
            "flex": null,
            "flex_flow": null,
            "grid_area": null,
            "grid_auto_columns": null,
            "grid_auto_flow": null,
            "grid_auto_rows": null,
            "grid_column": null,
            "grid_gap": null,
            "grid_row": null,
            "grid_template_areas": null,
            "grid_template_columns": null,
            "grid_template_rows": null,
            "height": null,
            "justify_content": null,
            "justify_items": null,
            "left": null,
            "margin": null,
            "max_height": null,
            "max_width": null,
            "min_height": null,
            "min_width": null,
            "object_fit": null,
            "object_position": null,
            "order": null,
            "overflow": null,
            "overflow_x": null,
            "overflow_y": null,
            "padding": null,
            "right": null,
            "top": null,
            "visibility": null,
            "width": null
          }
        },
        "b52c6f42712047c6b35d2db39d0bd83a": {
          "model_module": "@jupyter-widgets/base",
          "model_name": "LayoutModel",
          "model_module_version": "1.2.0",
          "state": {
            "_model_module": "@jupyter-widgets/base",
            "_model_module_version": "1.2.0",
            "_model_name": "LayoutModel",
            "_view_count": null,
            "_view_module": "@jupyter-widgets/base",
            "_view_module_version": "1.2.0",
            "_view_name": "LayoutView",
            "align_content": null,
            "align_items": null,
            "align_self": null,
            "border": null,
            "bottom": null,
            "display": null,
            "flex": null,
            "flex_flow": null,
            "grid_area": null,
            "grid_auto_columns": null,
            "grid_auto_flow": null,
            "grid_auto_rows": null,
            "grid_column": null,
            "grid_gap": null,
            "grid_row": null,
            "grid_template_areas": null,
            "grid_template_columns": null,
            "grid_template_rows": null,
            "height": null,
            "justify_content": null,
            "justify_items": null,
            "left": null,
            "margin": null,
            "max_height": null,
            "max_width": null,
            "min_height": null,
            "min_width": null,
            "object_fit": null,
            "object_position": null,
            "order": null,
            "overflow": null,
            "overflow_x": null,
            "overflow_y": null,
            "padding": null,
            "right": null,
            "top": null,
            "visibility": null,
            "width": null
          }
        },
        "ffb394b8ce5e4d668c8afb2f9cdb4d47": {
          "model_module": "@jupyter-widgets/controls",
          "model_name": "DescriptionStyleModel",
          "model_module_version": "1.5.0",
          "state": {
            "_model_module": "@jupyter-widgets/controls",
            "_model_module_version": "1.5.0",
            "_model_name": "DescriptionStyleModel",
            "_view_count": null,
            "_view_module": "@jupyter-widgets/base",
            "_view_module_version": "1.2.0",
            "_view_name": "StyleView",
            "description_width": ""
          }
        },
        "e0125c16373d42ccb282503ef0669d7e": {
          "model_module": "@jupyter-widgets/base",
          "model_name": "LayoutModel",
          "model_module_version": "1.2.0",
          "state": {
            "_model_module": "@jupyter-widgets/base",
            "_model_module_version": "1.2.0",
            "_model_name": "LayoutModel",
            "_view_count": null,
            "_view_module": "@jupyter-widgets/base",
            "_view_module_version": "1.2.0",
            "_view_name": "LayoutView",
            "align_content": null,
            "align_items": null,
            "align_self": null,
            "border": null,
            "bottom": null,
            "display": null,
            "flex": null,
            "flex_flow": null,
            "grid_area": null,
            "grid_auto_columns": null,
            "grid_auto_flow": null,
            "grid_auto_rows": null,
            "grid_column": null,
            "grid_gap": null,
            "grid_row": null,
            "grid_template_areas": null,
            "grid_template_columns": null,
            "grid_template_rows": null,
            "height": null,
            "justify_content": null,
            "justify_items": null,
            "left": null,
            "margin": null,
            "max_height": null,
            "max_width": null,
            "min_height": null,
            "min_width": null,
            "object_fit": null,
            "object_position": null,
            "order": null,
            "overflow": null,
            "overflow_x": null,
            "overflow_y": null,
            "padding": null,
            "right": null,
            "top": null,
            "visibility": null,
            "width": null
          }
        },
        "ee1d0509b3bf4160935ec8b112a1a188": {
          "model_module": "@jupyter-widgets/controls",
          "model_name": "ProgressStyleModel",
          "model_module_version": "1.5.0",
          "state": {
            "_model_module": "@jupyter-widgets/controls",
            "_model_module_version": "1.5.0",
            "_model_name": "ProgressStyleModel",
            "_view_count": null,
            "_view_module": "@jupyter-widgets/base",
            "_view_module_version": "1.2.0",
            "_view_name": "StyleView",
            "bar_color": null,
            "description_width": ""
          }
        },
        "dd42d4066a2541c2b7cbb2d6d079943e": {
          "model_module": "@jupyter-widgets/base",
          "model_name": "LayoutModel",
          "model_module_version": "1.2.0",
          "state": {
            "_model_module": "@jupyter-widgets/base",
            "_model_module_version": "1.2.0",
            "_model_name": "LayoutModel",
            "_view_count": null,
            "_view_module": "@jupyter-widgets/base",
            "_view_module_version": "1.2.0",
            "_view_name": "LayoutView",
            "align_content": null,
            "align_items": null,
            "align_self": null,
            "border": null,
            "bottom": null,
            "display": null,
            "flex": null,
            "flex_flow": null,
            "grid_area": null,
            "grid_auto_columns": null,
            "grid_auto_flow": null,
            "grid_auto_rows": null,
            "grid_column": null,
            "grid_gap": null,
            "grid_row": null,
            "grid_template_areas": null,
            "grid_template_columns": null,
            "grid_template_rows": null,
            "height": null,
            "justify_content": null,
            "justify_items": null,
            "left": null,
            "margin": null,
            "max_height": null,
            "max_width": null,
            "min_height": null,
            "min_width": null,
            "object_fit": null,
            "object_position": null,
            "order": null,
            "overflow": null,
            "overflow_x": null,
            "overflow_y": null,
            "padding": null,
            "right": null,
            "top": null,
            "visibility": null,
            "width": null
          }
        },
        "44b5263ef29445ac9ff1a38e58afb7b7": {
          "model_module": "@jupyter-widgets/controls",
          "model_name": "DescriptionStyleModel",
          "model_module_version": "1.5.0",
          "state": {
            "_model_module": "@jupyter-widgets/controls",
            "_model_module_version": "1.5.0",
            "_model_name": "DescriptionStyleModel",
            "_view_count": null,
            "_view_module": "@jupyter-widgets/base",
            "_view_module_version": "1.2.0",
            "_view_name": "StyleView",
            "description_width": ""
          }
        },
        "927dd47c88ed4310a16d00c0247453ae": {
          "model_module": "@jupyter-widgets/controls",
          "model_name": "HBoxModel",
          "model_module_version": "1.5.0",
          "state": {
            "_dom_classes": [],
            "_model_module": "@jupyter-widgets/controls",
            "_model_module_version": "1.5.0",
            "_model_name": "HBoxModel",
            "_view_count": null,
            "_view_module": "@jupyter-widgets/controls",
            "_view_module_version": "1.5.0",
            "_view_name": "HBoxView",
            "box_style": "",
            "children": [
              "IPY_MODEL_8cc84e1ea8e7441e831225fcb21902fd",
              "IPY_MODEL_7b9bc5ab6a4c470c8665e30a358ca6fb",
              "IPY_MODEL_c376dc4ecfba4df581f96d3563cf4de4"
            ],
            "layout": "IPY_MODEL_81d39da10ade4adeb27a0b7dc5dfe506"
          }
        },
        "8cc84e1ea8e7441e831225fcb21902fd": {
          "model_module": "@jupyter-widgets/controls",
          "model_name": "HTMLModel",
          "model_module_version": "1.5.0",
          "state": {
            "_dom_classes": [],
            "_model_module": "@jupyter-widgets/controls",
            "_model_module_version": "1.5.0",
            "_model_name": "HTMLModel",
            "_view_count": null,
            "_view_module": "@jupyter-widgets/controls",
            "_view_module_version": "1.5.0",
            "_view_name": "HTMLView",
            "description": "",
            "description_tooltip": null,
            "layout": "IPY_MODEL_78306158b761476b8f4728da82cc7866",
            "placeholder": "​",
            "style": "IPY_MODEL_f1de591b651744cdaabd2f4f16b1cfa4",
            "value": "downloading files..: 100%"
          }
        },
        "7b9bc5ab6a4c470c8665e30a358ca6fb": {
          "model_module": "@jupyter-widgets/controls",
          "model_name": "FloatProgressModel",
          "model_module_version": "1.5.0",
          "state": {
            "_dom_classes": [],
            "_model_module": "@jupyter-widgets/controls",
            "_model_module_version": "1.5.0",
            "_model_name": "FloatProgressModel",
            "_view_count": null,
            "_view_module": "@jupyter-widgets/controls",
            "_view_module_version": "1.5.0",
            "_view_name": "ProgressView",
            "bar_style": "success",
            "description": "",
            "description_tooltip": null,
            "layout": "IPY_MODEL_6fa8f53b3eed44bea7f34c7ad312d9ef",
            "max": 2,
            "min": 0,
            "orientation": "horizontal",
            "style": "IPY_MODEL_870b21c913d54e34bc560c0d35c27b14",
            "value": 2
          }
        },
        "c376dc4ecfba4df581f96d3563cf4de4": {
          "model_module": "@jupyter-widgets/controls",
          "model_name": "HTMLModel",
          "model_module_version": "1.5.0",
          "state": {
            "_dom_classes": [],
            "_model_module": "@jupyter-widgets/controls",
            "_model_module_version": "1.5.0",
            "_model_name": "HTMLModel",
            "_view_count": null,
            "_view_module": "@jupyter-widgets/controls",
            "_view_module_version": "1.5.0",
            "_view_name": "HTMLView",
            "description": "",
            "description_tooltip": null,
            "layout": "IPY_MODEL_6c60a3c41c114e8d9bc1eb7a1c0d7566",
            "placeholder": "​",
            "style": "IPY_MODEL_b914bc9bf2614c0980dacfbcc97712b3",
            "value": " 2/2 [00:06&lt;00:00,  1.54s/it]"
          }
        },
        "81d39da10ade4adeb27a0b7dc5dfe506": {
          "model_module": "@jupyter-widgets/base",
          "model_name": "LayoutModel",
          "model_module_version": "1.2.0",
          "state": {
            "_model_module": "@jupyter-widgets/base",
            "_model_module_version": "1.2.0",
            "_model_name": "LayoutModel",
            "_view_count": null,
            "_view_module": "@jupyter-widgets/base",
            "_view_module_version": "1.2.0",
            "_view_name": "LayoutView",
            "align_content": null,
            "align_items": null,
            "align_self": null,
            "border": null,
            "bottom": null,
            "display": null,
            "flex": null,
            "flex_flow": null,
            "grid_area": null,
            "grid_auto_columns": null,
            "grid_auto_flow": null,
            "grid_auto_rows": null,
            "grid_column": null,
            "grid_gap": null,
            "grid_row": null,
            "grid_template_areas": null,
            "grid_template_columns": null,
            "grid_template_rows": null,
            "height": null,
            "justify_content": null,
            "justify_items": null,
            "left": null,
            "margin": null,
            "max_height": null,
            "max_width": null,
            "min_height": null,
            "min_width": null,
            "object_fit": null,
            "object_position": null,
            "order": null,
            "overflow": null,
            "overflow_x": null,
            "overflow_y": null,
            "padding": null,
            "right": null,
            "top": null,
            "visibility": null,
            "width": null
          }
        },
        "78306158b761476b8f4728da82cc7866": {
          "model_module": "@jupyter-widgets/base",
          "model_name": "LayoutModel",
          "model_module_version": "1.2.0",
          "state": {
            "_model_module": "@jupyter-widgets/base",
            "_model_module_version": "1.2.0",
            "_model_name": "LayoutModel",
            "_view_count": null,
            "_view_module": "@jupyter-widgets/base",
            "_view_module_version": "1.2.0",
            "_view_name": "LayoutView",
            "align_content": null,
            "align_items": null,
            "align_self": null,
            "border": null,
            "bottom": null,
            "display": null,
            "flex": null,
            "flex_flow": null,
            "grid_area": null,
            "grid_auto_columns": null,
            "grid_auto_flow": null,
            "grid_auto_rows": null,
            "grid_column": null,
            "grid_gap": null,
            "grid_row": null,
            "grid_template_areas": null,
            "grid_template_columns": null,
            "grid_template_rows": null,
            "height": null,
            "justify_content": null,
            "justify_items": null,
            "left": null,
            "margin": null,
            "max_height": null,
            "max_width": null,
            "min_height": null,
            "min_width": null,
            "object_fit": null,
            "object_position": null,
            "order": null,
            "overflow": null,
            "overflow_x": null,
            "overflow_y": null,
            "padding": null,
            "right": null,
            "top": null,
            "visibility": null,
            "width": null
          }
        },
        "f1de591b651744cdaabd2f4f16b1cfa4": {
          "model_module": "@jupyter-widgets/controls",
          "model_name": "DescriptionStyleModel",
          "model_module_version": "1.5.0",
          "state": {
            "_model_module": "@jupyter-widgets/controls",
            "_model_module_version": "1.5.0",
            "_model_name": "DescriptionStyleModel",
            "_view_count": null,
            "_view_module": "@jupyter-widgets/base",
            "_view_module_version": "1.2.0",
            "_view_name": "StyleView",
            "description_width": ""
          }
        },
        "6fa8f53b3eed44bea7f34c7ad312d9ef": {
          "model_module": "@jupyter-widgets/base",
          "model_name": "LayoutModel",
          "model_module_version": "1.2.0",
          "state": {
            "_model_module": "@jupyter-widgets/base",
            "_model_module_version": "1.2.0",
            "_model_name": "LayoutModel",
            "_view_count": null,
            "_view_module": "@jupyter-widgets/base",
            "_view_module_version": "1.2.0",
            "_view_name": "LayoutView",
            "align_content": null,
            "align_items": null,
            "align_self": null,
            "border": null,
            "bottom": null,
            "display": null,
            "flex": null,
            "flex_flow": null,
            "grid_area": null,
            "grid_auto_columns": null,
            "grid_auto_flow": null,
            "grid_auto_rows": null,
            "grid_column": null,
            "grid_gap": null,
            "grid_row": null,
            "grid_template_areas": null,
            "grid_template_columns": null,
            "grid_template_rows": null,
            "height": null,
            "justify_content": null,
            "justify_items": null,
            "left": null,
            "margin": null,
            "max_height": null,
            "max_width": null,
            "min_height": null,
            "min_width": null,
            "object_fit": null,
            "object_position": null,
            "order": null,
            "overflow": null,
            "overflow_x": null,
            "overflow_y": null,
            "padding": null,
            "right": null,
            "top": null,
            "visibility": null,
            "width": null
          }
        },
        "870b21c913d54e34bc560c0d35c27b14": {
          "model_module": "@jupyter-widgets/controls",
          "model_name": "ProgressStyleModel",
          "model_module_version": "1.5.0",
          "state": {
            "_model_module": "@jupyter-widgets/controls",
            "_model_module_version": "1.5.0",
            "_model_name": "ProgressStyleModel",
            "_view_count": null,
            "_view_module": "@jupyter-widgets/base",
            "_view_module_version": "1.2.0",
            "_view_name": "StyleView",
            "bar_color": null,
            "description_width": ""
          }
        },
        "6c60a3c41c114e8d9bc1eb7a1c0d7566": {
          "model_module": "@jupyter-widgets/base",
          "model_name": "LayoutModel",
          "model_module_version": "1.2.0",
          "state": {
            "_model_module": "@jupyter-widgets/base",
            "_model_module_version": "1.2.0",
            "_model_name": "LayoutModel",
            "_view_count": null,
            "_view_module": "@jupyter-widgets/base",
            "_view_module_version": "1.2.0",
            "_view_name": "LayoutView",
            "align_content": null,
            "align_items": null,
            "align_self": null,
            "border": null,
            "bottom": null,
            "display": null,
            "flex": null,
            "flex_flow": null,
            "grid_area": null,
            "grid_auto_columns": null,
            "grid_auto_flow": null,
            "grid_auto_rows": null,
            "grid_column": null,
            "grid_gap": null,
            "grid_row": null,
            "grid_template_areas": null,
            "grid_template_columns": null,
            "grid_template_rows": null,
            "height": null,
            "justify_content": null,
            "justify_items": null,
            "left": null,
            "margin": null,
            "max_height": null,
            "max_width": null,
            "min_height": null,
            "min_width": null,
            "object_fit": null,
            "object_position": null,
            "order": null,
            "overflow": null,
            "overflow_x": null,
            "overflow_y": null,
            "padding": null,
            "right": null,
            "top": null,
            "visibility": null,
            "width": null
          }
        },
        "b914bc9bf2614c0980dacfbcc97712b3": {
          "model_module": "@jupyter-widgets/controls",
          "model_name": "DescriptionStyleModel",
          "model_module_version": "1.5.0",
          "state": {
            "_model_module": "@jupyter-widgets/controls",
            "_model_module_version": "1.5.0",
            "_model_name": "DescriptionStyleModel",
            "_view_count": null,
            "_view_module": "@jupyter-widgets/base",
            "_view_module_version": "1.2.0",
            "_view_name": "StyleView",
            "description_width": ""
          }
        }
      }
    }
  },
  "nbformat": 4,
  "nbformat_minor": 0
}