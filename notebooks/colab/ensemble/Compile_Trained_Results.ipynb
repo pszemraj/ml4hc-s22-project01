{
  "nbformat": 4,
  "nbformat_minor": 0,
  "metadata": {
    "colab": {
      "name": "Compile Trained Results.ipynb",
      "provenance": [],
      "collapsed_sections": [],
      "toc_visible": true,
      "machine_shape": "hm",
      "authorship_tag": "ABX9TyM/fTi91jrx3WYfy55OkXmA",
      "include_colab_link": true
    },
    "kernelspec": {
      "name": "python3",
      "display_name": "Python 3"
    },
    "language_info": {
      "name": "python"
    },
    "widgets": {
      "application/vnd.jupyter.widget-state+json": {
        "2beb0c2f6f2344e5b039057cecaffc13": {
          "model_module": "@jupyter-widgets/controls",
          "model_name": "HBoxModel",
          "model_module_version": "1.5.0",
          "state": {
            "_dom_classes": [],
            "_model_module": "@jupyter-widgets/controls",
            "_model_module_version": "1.5.0",
            "_model_name": "HBoxModel",
            "_view_count": null,
            "_view_module": "@jupyter-widgets/controls",
            "_view_module_version": "1.5.0",
            "_view_name": "HBoxView",
            "box_style": "",
            "children": [
              "IPY_MODEL_bfdd642171cd422ca79da8bb776217bc",
              "IPY_MODEL_998bd35bea7b41698f1bc9e180800b0f",
              "IPY_MODEL_8902b77033c54a6cb730c712c462058b"
            ],
            "layout": "IPY_MODEL_ce319adf66c74fe9a71a413cdd606fca"
          }
        },
        "bfdd642171cd422ca79da8bb776217bc": {
          "model_module": "@jupyter-widgets/controls",
          "model_name": "HTMLModel",
          "model_module_version": "1.5.0",
          "state": {
            "_dom_classes": [],
            "_model_module": "@jupyter-widgets/controls",
            "_model_module_version": "1.5.0",
            "_model_name": "HTMLModel",
            "_view_count": null,
            "_view_module": "@jupyter-widgets/controls",
            "_view_module_version": "1.5.0",
            "_view_name": "HTMLView",
            "description": "",
            "description_tooltip": null,
            "layout": "IPY_MODEL_9bbba3ba05b7493aa4eaa6ebeda2bcc7",
            "placeholder": "​",
            "style": "IPY_MODEL_a1c04cf5876245bcb45b5030d390387a",
            "value": "computing model predictions: 100%"
          }
        },
        "998bd35bea7b41698f1bc9e180800b0f": {
          "model_module": "@jupyter-widgets/controls",
          "model_name": "FloatProgressModel",
          "model_module_version": "1.5.0",
          "state": {
            "_dom_classes": [],
            "_model_module": "@jupyter-widgets/controls",
            "_model_module_version": "1.5.0",
            "_model_name": "FloatProgressModel",
            "_view_count": null,
            "_view_module": "@jupyter-widgets/controls",
            "_view_module_version": "1.5.0",
            "_view_name": "ProgressView",
            "bar_style": "success",
            "description": "",
            "description_tooltip": null,
            "layout": "IPY_MODEL_c470c7e884da48a4aa97eaeb395c4bc4",
            "max": 18,
            "min": 0,
            "orientation": "horizontal",
            "style": "IPY_MODEL_b95698c3a02848a0ab45c447be9d44cb",
            "value": 18
          }
        },
        "8902b77033c54a6cb730c712c462058b": {
          "model_module": "@jupyter-widgets/controls",
          "model_name": "HTMLModel",
          "model_module_version": "1.5.0",
          "state": {
            "_dom_classes": [],
            "_model_module": "@jupyter-widgets/controls",
            "_model_module_version": "1.5.0",
            "_model_name": "HTMLModel",
            "_view_count": null,
            "_view_module": "@jupyter-widgets/controls",
            "_view_module_version": "1.5.0",
            "_view_name": "HTMLView",
            "description": "",
            "description_tooltip": null,
            "layout": "IPY_MODEL_017f1f5c546245c6b8d3422cb1e25a3d",
            "placeholder": "​",
            "style": "IPY_MODEL_78b615ba81854171ac24b739aad51028",
            "value": " 18/18 [09:56&lt;00:00, 33.74s/it]"
          }
        },
        "ce319adf66c74fe9a71a413cdd606fca": {
          "model_module": "@jupyter-widgets/base",
          "model_name": "LayoutModel",
          "model_module_version": "1.2.0",
          "state": {
            "_model_module": "@jupyter-widgets/base",
            "_model_module_version": "1.2.0",
            "_model_name": "LayoutModel",
            "_view_count": null,
            "_view_module": "@jupyter-widgets/base",
            "_view_module_version": "1.2.0",
            "_view_name": "LayoutView",
            "align_content": null,
            "align_items": null,
            "align_self": null,
            "border": null,
            "bottom": null,
            "display": null,
            "flex": null,
            "flex_flow": null,
            "grid_area": null,
            "grid_auto_columns": null,
            "grid_auto_flow": null,
            "grid_auto_rows": null,
            "grid_column": null,
            "grid_gap": null,
            "grid_row": null,
            "grid_template_areas": null,
            "grid_template_columns": null,
            "grid_template_rows": null,
            "height": null,
            "justify_content": null,
            "justify_items": null,
            "left": null,
            "margin": null,
            "max_height": null,
            "max_width": null,
            "min_height": null,
            "min_width": null,
            "object_fit": null,
            "object_position": null,
            "order": null,
            "overflow": null,
            "overflow_x": null,
            "overflow_y": null,
            "padding": null,
            "right": null,
            "top": null,
            "visibility": null,
            "width": null
          }
        },
        "9bbba3ba05b7493aa4eaa6ebeda2bcc7": {
          "model_module": "@jupyter-widgets/base",
          "model_name": "LayoutModel",
          "model_module_version": "1.2.0",
          "state": {
            "_model_module": "@jupyter-widgets/base",
            "_model_module_version": "1.2.0",
            "_model_name": "LayoutModel",
            "_view_count": null,
            "_view_module": "@jupyter-widgets/base",
            "_view_module_version": "1.2.0",
            "_view_name": "LayoutView",
            "align_content": null,
            "align_items": null,
            "align_self": null,
            "border": null,
            "bottom": null,
            "display": null,
            "flex": null,
            "flex_flow": null,
            "grid_area": null,
            "grid_auto_columns": null,
            "grid_auto_flow": null,
            "grid_auto_rows": null,
            "grid_column": null,
            "grid_gap": null,
            "grid_row": null,
            "grid_template_areas": null,
            "grid_template_columns": null,
            "grid_template_rows": null,
            "height": null,
            "justify_content": null,
            "justify_items": null,
            "left": null,
            "margin": null,
            "max_height": null,
            "max_width": null,
            "min_height": null,
            "min_width": null,
            "object_fit": null,
            "object_position": null,
            "order": null,
            "overflow": null,
            "overflow_x": null,
            "overflow_y": null,
            "padding": null,
            "right": null,
            "top": null,
            "visibility": null,
            "width": null
          }
        },
        "a1c04cf5876245bcb45b5030d390387a": {
          "model_module": "@jupyter-widgets/controls",
          "model_name": "DescriptionStyleModel",
          "model_module_version": "1.5.0",
          "state": {
            "_model_module": "@jupyter-widgets/controls",
            "_model_module_version": "1.5.0",
            "_model_name": "DescriptionStyleModel",
            "_view_count": null,
            "_view_module": "@jupyter-widgets/base",
            "_view_module_version": "1.2.0",
            "_view_name": "StyleView",
            "description_width": ""
          }
        },
        "c470c7e884da48a4aa97eaeb395c4bc4": {
          "model_module": "@jupyter-widgets/base",
          "model_name": "LayoutModel",
          "model_module_version": "1.2.0",
          "state": {
            "_model_module": "@jupyter-widgets/base",
            "_model_module_version": "1.2.0",
            "_model_name": "LayoutModel",
            "_view_count": null,
            "_view_module": "@jupyter-widgets/base",
            "_view_module_version": "1.2.0",
            "_view_name": "LayoutView",
            "align_content": null,
            "align_items": null,
            "align_self": null,
            "border": null,
            "bottom": null,
            "display": null,
            "flex": null,
            "flex_flow": null,
            "grid_area": null,
            "grid_auto_columns": null,
            "grid_auto_flow": null,
            "grid_auto_rows": null,
            "grid_column": null,
            "grid_gap": null,
            "grid_row": null,
            "grid_template_areas": null,
            "grid_template_columns": null,
            "grid_template_rows": null,
            "height": null,
            "justify_content": null,
            "justify_items": null,
            "left": null,
            "margin": null,
            "max_height": null,
            "max_width": null,
            "min_height": null,
            "min_width": null,
            "object_fit": null,
            "object_position": null,
            "order": null,
            "overflow": null,
            "overflow_x": null,
            "overflow_y": null,
            "padding": null,
            "right": null,
            "top": null,
            "visibility": null,
            "width": null
          }
        },
        "b95698c3a02848a0ab45c447be9d44cb": {
          "model_module": "@jupyter-widgets/controls",
          "model_name": "ProgressStyleModel",
          "model_module_version": "1.5.0",
          "state": {
            "_model_module": "@jupyter-widgets/controls",
            "_model_module_version": "1.5.0",
            "_model_name": "ProgressStyleModel",
            "_view_count": null,
            "_view_module": "@jupyter-widgets/base",
            "_view_module_version": "1.2.0",
            "_view_name": "StyleView",
            "bar_color": null,
            "description_width": ""
          }
        },
        "017f1f5c546245c6b8d3422cb1e25a3d": {
          "model_module": "@jupyter-widgets/base",
          "model_name": "LayoutModel",
          "model_module_version": "1.2.0",
          "state": {
            "_model_module": "@jupyter-widgets/base",
            "_model_module_version": "1.2.0",
            "_model_name": "LayoutModel",
            "_view_count": null,
            "_view_module": "@jupyter-widgets/base",
            "_view_module_version": "1.2.0",
            "_view_name": "LayoutView",
            "align_content": null,
            "align_items": null,
            "align_self": null,
            "border": null,
            "bottom": null,
            "display": null,
            "flex": null,
            "flex_flow": null,
            "grid_area": null,
            "grid_auto_columns": null,
            "grid_auto_flow": null,
            "grid_auto_rows": null,
            "grid_column": null,
            "grid_gap": null,
            "grid_row": null,
            "grid_template_areas": null,
            "grid_template_columns": null,
            "grid_template_rows": null,
            "height": null,
            "justify_content": null,
            "justify_items": null,
            "left": null,
            "margin": null,
            "max_height": null,
            "max_width": null,
            "min_height": null,
            "min_width": null,
            "object_fit": null,
            "object_position": null,
            "order": null,
            "overflow": null,
            "overflow_x": null,
            "overflow_y": null,
            "padding": null,
            "right": null,
            "top": null,
            "visibility": null,
            "width": null
          }
        },
        "78b615ba81854171ac24b739aad51028": {
          "model_module": "@jupyter-widgets/controls",
          "model_name": "DescriptionStyleModel",
          "model_module_version": "1.5.0",
          "state": {
            "_model_module": "@jupyter-widgets/controls",
            "_model_module_version": "1.5.0",
            "_model_name": "DescriptionStyleModel",
            "_view_count": null,
            "_view_module": "@jupyter-widgets/base",
            "_view_module_version": "1.2.0",
            "_view_name": "StyleView",
            "description_width": ""
          }
        },
        "6bd46e91ec3d4ad49c1ebfbb0895e412": {
          "model_module": "@jupyter-widgets/controls",
          "model_name": "HBoxModel",
          "model_module_version": "1.5.0",
          "state": {
            "_dom_classes": [],
            "_model_module": "@jupyter-widgets/controls",
            "_model_module_version": "1.5.0",
            "_model_name": "HBoxModel",
            "_view_count": null,
            "_view_module": "@jupyter-widgets/controls",
            "_view_module_version": "1.5.0",
            "_view_name": "HBoxView",
            "box_style": "",
            "children": [
              "IPY_MODEL_e14e5cbef7bb4631abb1bc257fffdc27",
              "IPY_MODEL_0d4098f1edea4c349fa55066c769be80",
              "IPY_MODEL_36cb71c1c9f546a0980666c95722adf7"
            ],
            "layout": "IPY_MODEL_02bab37536fb47bbb62bea56a67ad451"
          }
        },
        "e14e5cbef7bb4631abb1bc257fffdc27": {
          "model_module": "@jupyter-widgets/controls",
          "model_name": "HTMLModel",
          "model_module_version": "1.5.0",
          "state": {
            "_dom_classes": [],
            "_model_module": "@jupyter-widgets/controls",
            "_model_module_version": "1.5.0",
            "_model_name": "HTMLModel",
            "_view_count": null,
            "_view_module": "@jupyter-widgets/controls",
            "_view_module_version": "1.5.0",
            "_view_name": "HTMLView",
            "description": "",
            "description_tooltip": null,
            "layout": "IPY_MODEL_227f5c32d32b4321b45896973a6eeb2c",
            "placeholder": "​",
            "style": "IPY_MODEL_415ca97563494d8bb343b5e24a1c53ef",
            "value": "computing model predictions: 100%"
          }
        },
        "0d4098f1edea4c349fa55066c769be80": {
          "model_module": "@jupyter-widgets/controls",
          "model_name": "FloatProgressModel",
          "model_module_version": "1.5.0",
          "state": {
            "_dom_classes": [],
            "_model_module": "@jupyter-widgets/controls",
            "_model_module_version": "1.5.0",
            "_model_name": "FloatProgressModel",
            "_view_count": null,
            "_view_module": "@jupyter-widgets/controls",
            "_view_module_version": "1.5.0",
            "_view_name": "ProgressView",
            "bar_style": "success",
            "description": "",
            "description_tooltip": null,
            "layout": "IPY_MODEL_ff76d209225b4aeda7a404c24ca066bb",
            "max": 5,
            "min": 0,
            "orientation": "horizontal",
            "style": "IPY_MODEL_6c735c07e9b54243b756b18e212c566c",
            "value": 5
          }
        },
        "36cb71c1c9f546a0980666c95722adf7": {
          "model_module": "@jupyter-widgets/controls",
          "model_name": "HTMLModel",
          "model_module_version": "1.5.0",
          "state": {
            "_dom_classes": [],
            "_model_module": "@jupyter-widgets/controls",
            "_model_module_version": "1.5.0",
            "_model_name": "HTMLModel",
            "_view_count": null,
            "_view_module": "@jupyter-widgets/controls",
            "_view_module_version": "1.5.0",
            "_view_name": "HTMLView",
            "description": "",
            "description_tooltip": null,
            "layout": "IPY_MODEL_d1d00e0efa50472c8f93d035bce5ad39",
            "placeholder": "​",
            "style": "IPY_MODEL_7c0e330dd1d84417ac1861d128dd2f09",
            "value": " 5/5 [00:47&lt;00:00,  7.06s/it]"
          }
        },
        "02bab37536fb47bbb62bea56a67ad451": {
          "model_module": "@jupyter-widgets/base",
          "model_name": "LayoutModel",
          "model_module_version": "1.2.0",
          "state": {
            "_model_module": "@jupyter-widgets/base",
            "_model_module_version": "1.2.0",
            "_model_name": "LayoutModel",
            "_view_count": null,
            "_view_module": "@jupyter-widgets/base",
            "_view_module_version": "1.2.0",
            "_view_name": "LayoutView",
            "align_content": null,
            "align_items": null,
            "align_self": null,
            "border": null,
            "bottom": null,
            "display": null,
            "flex": null,
            "flex_flow": null,
            "grid_area": null,
            "grid_auto_columns": null,
            "grid_auto_flow": null,
            "grid_auto_rows": null,
            "grid_column": null,
            "grid_gap": null,
            "grid_row": null,
            "grid_template_areas": null,
            "grid_template_columns": null,
            "grid_template_rows": null,
            "height": null,
            "justify_content": null,
            "justify_items": null,
            "left": null,
            "margin": null,
            "max_height": null,
            "max_width": null,
            "min_height": null,
            "min_width": null,
            "object_fit": null,
            "object_position": null,
            "order": null,
            "overflow": null,
            "overflow_x": null,
            "overflow_y": null,
            "padding": null,
            "right": null,
            "top": null,
            "visibility": null,
            "width": null
          }
        },
        "227f5c32d32b4321b45896973a6eeb2c": {
          "model_module": "@jupyter-widgets/base",
          "model_name": "LayoutModel",
          "model_module_version": "1.2.0",
          "state": {
            "_model_module": "@jupyter-widgets/base",
            "_model_module_version": "1.2.0",
            "_model_name": "LayoutModel",
            "_view_count": null,
            "_view_module": "@jupyter-widgets/base",
            "_view_module_version": "1.2.0",
            "_view_name": "LayoutView",
            "align_content": null,
            "align_items": null,
            "align_self": null,
            "border": null,
            "bottom": null,
            "display": null,
            "flex": null,
            "flex_flow": null,
            "grid_area": null,
            "grid_auto_columns": null,
            "grid_auto_flow": null,
            "grid_auto_rows": null,
            "grid_column": null,
            "grid_gap": null,
            "grid_row": null,
            "grid_template_areas": null,
            "grid_template_columns": null,
            "grid_template_rows": null,
            "height": null,
            "justify_content": null,
            "justify_items": null,
            "left": null,
            "margin": null,
            "max_height": null,
            "max_width": null,
            "min_height": null,
            "min_width": null,
            "object_fit": null,
            "object_position": null,
            "order": null,
            "overflow": null,
            "overflow_x": null,
            "overflow_y": null,
            "padding": null,
            "right": null,
            "top": null,
            "visibility": null,
            "width": null
          }
        },
        "415ca97563494d8bb343b5e24a1c53ef": {
          "model_module": "@jupyter-widgets/controls",
          "model_name": "DescriptionStyleModel",
          "model_module_version": "1.5.0",
          "state": {
            "_model_module": "@jupyter-widgets/controls",
            "_model_module_version": "1.5.0",
            "_model_name": "DescriptionStyleModel",
            "_view_count": null,
            "_view_module": "@jupyter-widgets/base",
            "_view_module_version": "1.2.0",
            "_view_name": "StyleView",
            "description_width": ""
          }
        },
        "ff76d209225b4aeda7a404c24ca066bb": {
          "model_module": "@jupyter-widgets/base",
          "model_name": "LayoutModel",
          "model_module_version": "1.2.0",
          "state": {
            "_model_module": "@jupyter-widgets/base",
            "_model_module_version": "1.2.0",
            "_model_name": "LayoutModel",
            "_view_count": null,
            "_view_module": "@jupyter-widgets/base",
            "_view_module_version": "1.2.0",
            "_view_name": "LayoutView",
            "align_content": null,
            "align_items": null,
            "align_self": null,
            "border": null,
            "bottom": null,
            "display": null,
            "flex": null,
            "flex_flow": null,
            "grid_area": null,
            "grid_auto_columns": null,
            "grid_auto_flow": null,
            "grid_auto_rows": null,
            "grid_column": null,
            "grid_gap": null,
            "grid_row": null,
            "grid_template_areas": null,
            "grid_template_columns": null,
            "grid_template_rows": null,
            "height": null,
            "justify_content": null,
            "justify_items": null,
            "left": null,
            "margin": null,
            "max_height": null,
            "max_width": null,
            "min_height": null,
            "min_width": null,
            "object_fit": null,
            "object_position": null,
            "order": null,
            "overflow": null,
            "overflow_x": null,
            "overflow_y": null,
            "padding": null,
            "right": null,
            "top": null,
            "visibility": null,
            "width": null
          }
        },
        "6c735c07e9b54243b756b18e212c566c": {
          "model_module": "@jupyter-widgets/controls",
          "model_name": "ProgressStyleModel",
          "model_module_version": "1.5.0",
          "state": {
            "_model_module": "@jupyter-widgets/controls",
            "_model_module_version": "1.5.0",
            "_model_name": "ProgressStyleModel",
            "_view_count": null,
            "_view_module": "@jupyter-widgets/base",
            "_view_module_version": "1.2.0",
            "_view_name": "StyleView",
            "bar_color": null,
            "description_width": ""
          }
        },
        "d1d00e0efa50472c8f93d035bce5ad39": {
          "model_module": "@jupyter-widgets/base",
          "model_name": "LayoutModel",
          "model_module_version": "1.2.0",
          "state": {
            "_model_module": "@jupyter-widgets/base",
            "_model_module_version": "1.2.0",
            "_model_name": "LayoutModel",
            "_view_count": null,
            "_view_module": "@jupyter-widgets/base",
            "_view_module_version": "1.2.0",
            "_view_name": "LayoutView",
            "align_content": null,
            "align_items": null,
            "align_self": null,
            "border": null,
            "bottom": null,
            "display": null,
            "flex": null,
            "flex_flow": null,
            "grid_area": null,
            "grid_auto_columns": null,
            "grid_auto_flow": null,
            "grid_auto_rows": null,
            "grid_column": null,
            "grid_gap": null,
            "grid_row": null,
            "grid_template_areas": null,
            "grid_template_columns": null,
            "grid_template_rows": null,
            "height": null,
            "justify_content": null,
            "justify_items": null,
            "left": null,
            "margin": null,
            "max_height": null,
            "max_width": null,
            "min_height": null,
            "min_width": null,
            "object_fit": null,
            "object_position": null,
            "order": null,
            "overflow": null,
            "overflow_x": null,
            "overflow_y": null,
            "padding": null,
            "right": null,
            "top": null,
            "visibility": null,
            "width": null
          }
        },
        "7c0e330dd1d84417ac1861d128dd2f09": {
          "model_module": "@jupyter-widgets/controls",
          "model_name": "DescriptionStyleModel",
          "model_module_version": "1.5.0",
          "state": {
            "_model_module": "@jupyter-widgets/controls",
            "_model_module_version": "1.5.0",
            "_model_name": "DescriptionStyleModel",
            "_view_count": null,
            "_view_module": "@jupyter-widgets/base",
            "_view_module_version": "1.2.0",
            "_view_name": "StyleView",
            "description_width": ""
          }
        }
      }
    }
  },
  "cells": [
    {
      "cell_type": "markdown",
      "metadata": {
        "id": "view-in-github",
        "colab_type": "text"
      },
      "source": [
        "<a href=\"https://colab.research.google.com/github/pszemraj/ml4hc-s22-project01/blob/add-results-p1/notebooks/colab/ensemble/Compile_Trained_Results.ipynb\" target=\"_parent\"><img src=\"https://colab.research.google.com/assets/colab-badge.svg\" alt=\"Open In Colab\"/></a>"
      ]
    },
    {
      "cell_type": "markdown",
      "source": [
        "# Analyze Trained Results\n",
        "\n",
        "> PURPOSE: this notebook re-loads all of the generated `.h5` files in the model training notebook. It then generates predictions on the test sets, and saves all the predictions for each model as a column in a dataframe & exports that.\n",
        "\n",
        "- TODO: add systematic metric computation for all the models\n",
        "\n",
        "---\n"
      ],
      "metadata": {
        "id": "rC0eNTZ3Rtgz"
      }
    },
    {
      "cell_type": "markdown",
      "source": [
        "**Notes on required metrics:**\n",
        "\n",
        "- For the binary one, report accuracy, AUROC and AUPRC.\n",
        "- For the non-binary one, report accuracy.\n",
        "\n",
        "**Notes on classification in general:**\n",
        "\n",
        "- sklearn.metrics docs [here](https://scikit-learn.org/stable/modules/model_evaluation.html#classification-metrics)\n",
        "- (_outside of requirements_) a useful guide on what to use in classification and when is [here](https://neptune.ai/blog/evaluation-metrics-binary-classification#:~:text=Simply%20put%20a%20classification%20metric,to%20classes%3A%20positive%20and%20negative.) I think it's great"
      ],
      "metadata": {
        "id": "yNP4cyFzS3We"
      }
    },
    {
      "cell_type": "markdown",
      "source": [
        "# setup"
      ],
      "metadata": {
        "id": "wXLJIlYVDffL"
      }
    },
    {
      "cell_type": "code",
      "execution_count": 2,
      "metadata": {
        "cellView": "form",
        "id": "LrDWdEzv3LaX"
      },
      "outputs": [],
      "source": [
        "#@markdown add auto-Colab formatting with `IPython.display`\n",
        "from IPython.display import HTML, display\n",
        "# colab formatting\n",
        "def set_css():\n",
        "    display(\n",
        "        HTML(\n",
        "            \"\"\"\n",
        "  <style>\n",
        "    pre {\n",
        "        white-space: pre-wrap;\n",
        "    }\n",
        "  </style>\n",
        "  \"\"\"\n",
        "        )\n",
        "    )\n",
        "\n",
        "get_ipython().events.register(\"pre_run_cell\", set_css)"
      ]
    },
    {
      "cell_type": "code",
      "source": [
        "!nvidia-smi"
      ],
      "metadata": {
        "colab": {
          "base_uri": "https://localhost:8080/",
          "height": 0
        },
        "id": "In_50y_iV5Pl",
        "outputId": "2ce25600-26d7-4daf-9f7c-276b1da9fad8"
      },
      "execution_count": 1,
      "outputs": [
        {
          "output_type": "stream",
          "name": "stdout",
          "text": [
            "NVIDIA-SMI has failed because it couldn't communicate with the NVIDIA driver. Make sure that the latest NVIDIA driver is installed and running.\n",
            "\n"
          ]
        }
      ]
    },
    {
      "cell_type": "code",
      "source": [
        "!pip install -U plotly orca kaleido -q\n",
        "import plotly.express as px"
      ],
      "metadata": {
        "colab": {
          "base_uri": "https://localhost:8080/",
          "height": 86
        },
        "id": "6G8rwRO5cgwZ",
        "outputId": "ca9613c1-c73f-41c8-925d-27838bd822d7"
      },
      "execution_count": 3,
      "outputs": [
        {
          "output_type": "display_data",
          "data": {
            "text/plain": [
              "<IPython.core.display.HTML object>"
            ],
            "text/html": [
              "\n",
              "  <style>\n",
              "    pre {\n",
              "        white-space: pre-wrap;\n",
              "    }\n",
              "  </style>\n",
              "  "
            ]
          },
          "metadata": {}
        },
        {
          "output_type": "stream",
          "name": "stdout",
          "text": [
            "\u001b[K     |████████████████████████████████| 27.7 MB 1.2 MB/s \n",
            "\u001b[K     |████████████████████████████████| 244 kB 78.7 MB/s \n",
            "\u001b[K     |████████████████████████████████| 79.9 MB 187 kB/s \n",
            "\u001b[K     |████████████████████████████████| 4.3 MB 43.0 MB/s \n",
            "\u001b[?25h"
          ]
        }
      ]
    },
    {
      "cell_type": "code",
      "execution_count": 4,
      "metadata": {
        "id": "e6b35d3d",
        "colab": {
          "base_uri": "https://localhost:8080/",
          "height": 17
        },
        "outputId": "fc73fdce-18c5-4183-f85a-bb78cb83d3e1"
      },
      "outputs": [
        {
          "output_type": "display_data",
          "data": {
            "text/plain": [
              "<IPython.core.display.HTML object>"
            ],
            "text/html": [
              "\n",
              "  <style>\n",
              "    pre {\n",
              "        white-space: pre-wrap;\n",
              "    }\n",
              "  </style>\n",
              "  "
            ]
          },
          "metadata": {}
        }
      ],
      "source": [
        "import numpy as np \n",
        "import pandas as pd\n",
        "import seaborn as sns\n",
        "import matplotlib.pyplot as plt\n",
        "import matplotlib.gridspec as gridspec\n",
        "\n",
        "from tensorflow.keras import optimizers, losses, activations, models\n",
        "from keras.callbacks import ModelCheckpoint, EarlyStopping, LearningRateScheduler, ReduceLROnPlateau\n",
        "from keras.layers import Dense, Input, Dropout, Convolution1D, MaxPool1D, GlobalMaxPool1D, GlobalAveragePooling1D,concatenate,Flatten,\\\n",
        "Dense,Dropout,LSTM,Masking,Bidirectional,Dropout,GRU,SimpleRNN,TimeDistributed, BatchNormalization, Activation, MaxPooling1D, GlobalMaxPooling1D, Conv1D\n",
        "from keras.models import Sequential,Model\n",
        "import h5py\n",
        "from sklearn.metrics import f1_score,accuracy_score, roc_auc_score, average_precision_score, classification_report\n",
        "from sklearn.model_selection import GridSearchCV\n",
        "from sklearn.neural_network import MLPClassifier\n",
        "import lightgbm as lgb\n",
        "from xgboost import XGBClassifier\n",
        "from sklearn.svm import SVC\n",
        "from sklearn.linear_model import LogisticRegression\n",
        "from sklearn.model_selection import train_test_split\n",
        "from sklearn.utils import class_weight\n",
        "import collections\n"
      ]
    },
    {
      "cell_type": "code",
      "source": [
        "#@title mount drive\n",
        "from pathlib import Path\n",
        "from google.colab import drive\n",
        "\n",
        "drive_base_str = '/content/drive'\n",
        "drive.mount(drive_base_str)\n"
      ],
      "metadata": {
        "colab": {
          "base_uri": "https://localhost:8080/",
          "height": 34
        },
        "cellView": "form",
        "id": "OhgWnXl6hi4z",
        "outputId": "8730760c-9300-42e2-a7c5-833df3bd3692"
      },
      "execution_count": 5,
      "outputs": [
        {
          "output_type": "display_data",
          "data": {
            "text/plain": [
              "<IPython.core.display.HTML object>"
            ],
            "text/html": [
              "\n",
              "  <style>\n",
              "    pre {\n",
              "        white-space: pre-wrap;\n",
              "    }\n",
              "  </style>\n",
              "  "
            ]
          },
          "metadata": {}
        },
        {
          "output_type": "stream",
          "name": "stdout",
          "text": [
            "Mounted at /content/drive\n"
          ]
        }
      ]
    },
    {
      "cell_type": "code",
      "source": [
        "#@markdown determine root\n",
        "import os\n",
        "from pathlib import Path\n",
        "peter_base = Path('/content/drive/MyDrive/ETHZ-2022-S/ML-healthcare-projects/project1/')\n",
        "\n",
        "if peter_base.exists() and peter_base.is_dir():\n",
        "    path = str(peter_base.resolve())\n",
        "else:\n",
        "    # original\n",
        "    path = '/content/drive/MyDrive/ETH/'\n",
        "\n",
        "print(f\"base drive dir is:\\n{path}\")"
      ],
      "metadata": {
        "colab": {
          "base_uri": "https://localhost:8080/",
          "height": 51
        },
        "id": "X7kshRAnTUBC",
        "outputId": "5c3bfff7-eb1b-47a1-acc3-a72bd5186698",
        "cellView": "form"
      },
      "execution_count": 6,
      "outputs": [
        {
          "output_type": "display_data",
          "data": {
            "text/plain": [
              "<IPython.core.display.HTML object>"
            ],
            "text/html": [
              "\n",
              "  <style>\n",
              "    pre {\n",
              "        white-space: pre-wrap;\n",
              "    }\n",
              "  </style>\n",
              "  "
            ]
          },
          "metadata": {}
        },
        {
          "output_type": "stream",
          "name": "stdout",
          "text": [
            "base drive dir is:\n",
            "/content/drive/MyDrive/ETHZ-2022-S/ML-healthcare-projects/project1\n"
          ]
        }
      ]
    },
    {
      "cell_type": "markdown",
      "source": [
        "## define folder for outputs"
      ],
      "metadata": {
        "id": "ZzWEPEMbDqur"
      }
    },
    {
      "cell_type": "code",
      "source": [
        "_out_dir_name = \"Trained-Results-Analysis\" #@param {type:\"string\"}\n",
        "\n",
        "output_path = os.path.join(path, _out_dir_name)\n",
        "os.makedirs(output_path, exist_ok=True)\n",
        "print(f\"notebook outputs will be stored in:\\n{output_path}\")"
      ],
      "metadata": {
        "colab": {
          "base_uri": "https://localhost:8080/",
          "height": 51
        },
        "id": "T9tc9HEtDszM",
        "outputId": "f519f903-646a-478b-e683-ab4ff95e4985"
      },
      "execution_count": 7,
      "outputs": [
        {
          "output_type": "display_data",
          "data": {
            "text/plain": [
              "<IPython.core.display.HTML object>"
            ],
            "text/html": [
              "\n",
              "  <style>\n",
              "    pre {\n",
              "        white-space: pre-wrap;\n",
              "    }\n",
              "  </style>\n",
              "  "
            ]
          },
          "metadata": {}
        },
        {
          "output_type": "stream",
          "name": "stdout",
          "text": [
            "notebook outputs will be stored in:\n",
            "/content/drive/MyDrive/ETHZ-2022-S/ML-healthcare-projects/project1/Trained-Results-Analysis\n"
          ]
        }
      ]
    },
    {
      "cell_type": "code",
      "source": [
        "#@markdown create output directory for re-computed performance metrics\n",
        "\n",
        "metric_comparison_dir = Path(output_path) / \"single-model-performance\"\n",
        "metric_comparison_dir.mkdir(exist_ok=True)\n",
        "\n",
        "print(f\"computed model metrics will be stored in:\\n\\t{metric_comparison_dir.resolve()}\")\n"
      ],
      "metadata": {
        "colab": {
          "base_uri": "https://localhost:8080/",
          "height": 51
        },
        "cellView": "form",
        "id": "C7PmvJqZZwAC",
        "outputId": "6262167f-9b40-4216-a97d-6d14747bd976"
      },
      "execution_count": 10,
      "outputs": [
        {
          "output_type": "display_data",
          "data": {
            "text/plain": [
              "<IPython.core.display.HTML object>"
            ],
            "text/html": [
              "\n",
              "  <style>\n",
              "    pre {\n",
              "        white-space: pre-wrap;\n",
              "    }\n",
              "  </style>\n",
              "  "
            ]
          },
          "metadata": {}
        },
        {
          "output_type": "stream",
          "name": "stdout",
          "text": [
            "computed model metrics will be stored in:\n",
            "\t/content/drive/MyDrive/ETHZ-2022-S/ML-healthcare-projects/project1/Trained-Results-Analysis/single-model-performance\n"
          ]
        }
      ]
    },
    {
      "cell_type": "markdown",
      "source": [
        "##load data"
      ],
      "metadata": {
        "id": "y1EAg45-Dl13"
      }
    },
    {
      "cell_type": "code",
      "source": [
        "def load_mitbih(base_path):\n",
        "    df_train = pd.read_csv(os.path.join(base_path,\"data/mitbih_train.csv\"),\n",
        "                           header=None)\n",
        "    df_train = df_train.sample(frac=1)\n",
        "    df_test = pd.read_csv(os.path.join(base_path,\"data/mitbih_test.csv\"),\n",
        "                          header=None)\n",
        "\n",
        "    Y = np.array(df_train[187].values).astype(np.int8)\n",
        "    X = np.array(df_train[list(range(187))].values)[..., np.newaxis]\n",
        "\n",
        "    Y_test = np.array(df_test[187].values).astype(np.int8)\n",
        "    X_test = np.array(df_test[list(range(187))].values)[..., np.newaxis]\n",
        "\n",
        "    return X, X_test, Y, Y_test"
      ],
      "metadata": {
        "id": "uhEy5DjZV4sk",
        "colab": {
          "base_uri": "https://localhost:8080/",
          "height": 17
        },
        "outputId": "c187aa1b-230b-4697-e631-c4fd03d137de"
      },
      "execution_count": 11,
      "outputs": [
        {
          "output_type": "display_data",
          "data": {
            "text/plain": [
              "<IPython.core.display.HTML object>"
            ],
            "text/html": [
              "\n",
              "  <style>\n",
              "    pre {\n",
              "        white-space: pre-wrap;\n",
              "    }\n",
              "  </style>\n",
              "  "
            ]
          },
          "metadata": {}
        }
      ]
    },
    {
      "cell_type": "code",
      "source": [
        "backup_peter = '/content/drive/MyDrive/ETHZ-2022-S/ML-healthcare-projects/project1/project-handouts/'"
      ],
      "metadata": {
        "colab": {
          "base_uri": "https://localhost:8080/",
          "height": 17
        },
        "id": "8Q3cOuU6YNsF",
        "outputId": "2d29f76d-d195-43f7-e274-88f388f26434"
      },
      "execution_count": 12,
      "outputs": [
        {
          "output_type": "display_data",
          "data": {
            "text/plain": [
              "<IPython.core.display.HTML object>"
            ],
            "text/html": [
              "\n",
              "  <style>\n",
              "    pre {\n",
              "        white-space: pre-wrap;\n",
              "    }\n",
              "  </style>\n",
              "  "
            ]
          },
          "metadata": {}
        }
      ]
    },
    {
      "cell_type": "code",
      "source": [
        "try:\n",
        "    X, X_test, Y, Y_test = load_mitbih(base_path=path)\n",
        "except Exception as e:\n",
        "    print(f\"unable to load data from base path in drive folder because:\\n\\t{e}\")\n",
        "    print(f\"\\ngoing to try backup:\\n\\t{backup_peter}\")\n",
        "    X, X_test, Y, Y_test = load_mitbih(base_path=backup_peter)"
      ],
      "metadata": {
        "id": "Df0QKXaRWCdC",
        "colab": {
          "base_uri": "https://localhost:8080/",
          "height": 17
        },
        "outputId": "75e4698a-3372-4830-f16e-1d4cd010bb9f"
      },
      "execution_count": 13,
      "outputs": [
        {
          "output_type": "display_data",
          "data": {
            "text/plain": [
              "<IPython.core.display.HTML object>"
            ],
            "text/html": [
              "\n",
              "  <style>\n",
              "    pre {\n",
              "        white-space: pre-wrap;\n",
              "    }\n",
              "  </style>\n",
              "  "
            ]
          },
          "metadata": {}
        }
      ]
    },
    {
      "cell_type": "markdown",
      "source": [
        "## load directories with trained models"
      ],
      "metadata": {
        "id": "MEUNU1cERMsW"
      }
    },
    {
      "cell_type": "code",
      "source": [
        "import pprint as pp\n",
        "project_root = Path(path)\n",
        "weight_dirs = [d for d in project_root.iterdir() if d.is_dir() and \"weight\" in d.name]\n",
        "\n",
        "pp.pprint(weight_dirs)"
      ],
      "metadata": {
        "colab": {
          "base_uri": "https://localhost:8080/",
          "height": 69
        },
        "id": "XkeKckQsRO53",
        "outputId": "7299901b-1975-4402-9660-cdf6075af0fd"
      },
      "execution_count": 14,
      "outputs": [
        {
          "output_type": "display_data",
          "data": {
            "text/plain": [
              "<IPython.core.display.HTML object>"
            ],
            "text/html": [
              "\n",
              "  <style>\n",
              "    pre {\n",
              "        white-space: pre-wrap;\n",
              "    }\n",
              "  </style>\n",
              "  "
            ]
          },
          "metadata": {}
        },
        {
          "output_type": "stream",
          "name": "stdout",
          "text": [
            "[PosixPath('/content/drive/MyDrive/ETHZ-2022-S/ML-healthcare-projects/project1/MITBIH_weights'),\n",
            " PosixPath('/content/drive/MyDrive/ETHZ-2022-S/ML-healthcare-projects/project1/PTB_weights'),\n",
            " PosixPath('/content/drive/MyDrive/ETHZ-2022-S/ML-healthcare-projects/project1/MITBIH_biGRU_weights')]\n"
          ]
        }
      ]
    },
    {
      "cell_type": "markdown",
      "source": [
        "# get predictions for all MITBIH models"
      ],
      "metadata": {
        "id": "hXbBhV6tSJ5u"
      }
    },
    {
      "cell_type": "code",
      "source": [
        "mit_out_path = Path(output_path) / \"MIT_ensemble\"\n",
        "mit_out_path.mkdir(exist_ok=True)"
      ],
      "metadata": {
        "colab": {
          "base_uri": "https://localhost:8080/",
          "height": 17
        },
        "id": "JF2DOlfcSi69",
        "outputId": "f853f6bc-29d6-479a-e399-44acc2849c9b"
      },
      "execution_count": 15,
      "outputs": [
        {
          "output_type": "display_data",
          "data": {
            "text/plain": [
              "<IPython.core.display.HTML object>"
            ],
            "text/html": [
              "\n",
              "  <style>\n",
              "    pre {\n",
              "        white-space: pre-wrap;\n",
              "    }\n",
              "  </style>\n",
              "  "
            ]
          },
          "metadata": {}
        }
      ]
    },
    {
      "cell_type": "code",
      "source": [
        "MIT_df = pd.DataFrame(Y_test, columns=['actual_class'])\n",
        "MIT_df.head()"
      ],
      "metadata": {
        "colab": {
          "base_uri": "https://localhost:8080/",
          "height": 206
        },
        "id": "ns5IU5JMS6Ov",
        "outputId": "aca714a6-8b39-4989-ce5e-2386342df43d"
      },
      "execution_count": 16,
      "outputs": [
        {
          "output_type": "display_data",
          "data": {
            "text/plain": [
              "<IPython.core.display.HTML object>"
            ],
            "text/html": [
              "\n",
              "  <style>\n",
              "    pre {\n",
              "        white-space: pre-wrap;\n",
              "    }\n",
              "  </style>\n",
              "  "
            ]
          },
          "metadata": {}
        },
        {
          "output_type": "execute_result",
          "data": {
            "text/plain": [
              "   actual_class\n",
              "0             0\n",
              "1             0\n",
              "2             0\n",
              "3             0\n",
              "4             0"
            ],
            "text/html": [
              "\n",
              "  <div id=\"df-90a5bcc9-8489-4791-b6e7-1d0a2650bdb5\">\n",
              "    <div class=\"colab-df-container\">\n",
              "      <div>\n",
              "<style scoped>\n",
              "    .dataframe tbody tr th:only-of-type {\n",
              "        vertical-align: middle;\n",
              "    }\n",
              "\n",
              "    .dataframe tbody tr th {\n",
              "        vertical-align: top;\n",
              "    }\n",
              "\n",
              "    .dataframe thead th {\n",
              "        text-align: right;\n",
              "    }\n",
              "</style>\n",
              "<table border=\"1\" class=\"dataframe\">\n",
              "  <thead>\n",
              "    <tr style=\"text-align: right;\">\n",
              "      <th></th>\n",
              "      <th>actual_class</th>\n",
              "    </tr>\n",
              "  </thead>\n",
              "  <tbody>\n",
              "    <tr>\n",
              "      <th>0</th>\n",
              "      <td>0</td>\n",
              "    </tr>\n",
              "    <tr>\n",
              "      <th>1</th>\n",
              "      <td>0</td>\n",
              "    </tr>\n",
              "    <tr>\n",
              "      <th>2</th>\n",
              "      <td>0</td>\n",
              "    </tr>\n",
              "    <tr>\n",
              "      <th>3</th>\n",
              "      <td>0</td>\n",
              "    </tr>\n",
              "    <tr>\n",
              "      <th>4</th>\n",
              "      <td>0</td>\n",
              "    </tr>\n",
              "  </tbody>\n",
              "</table>\n",
              "</div>\n",
              "      <button class=\"colab-df-convert\" onclick=\"convertToInteractive('df-90a5bcc9-8489-4791-b6e7-1d0a2650bdb5')\"\n",
              "              title=\"Convert this dataframe to an interactive table.\"\n",
              "              style=\"display:none;\">\n",
              "        \n",
              "  <svg xmlns=\"http://www.w3.org/2000/svg\" height=\"24px\"viewBox=\"0 0 24 24\"\n",
              "       width=\"24px\">\n",
              "    <path d=\"M0 0h24v24H0V0z\" fill=\"none\"/>\n",
              "    <path d=\"M18.56 5.44l.94 2.06.94-2.06 2.06-.94-2.06-.94-.94-2.06-.94 2.06-2.06.94zm-11 1L8.5 8.5l.94-2.06 2.06-.94-2.06-.94L8.5 2.5l-.94 2.06-2.06.94zm10 10l.94 2.06.94-2.06 2.06-.94-2.06-.94-.94-2.06-.94 2.06-2.06.94z\"/><path d=\"M17.41 7.96l-1.37-1.37c-.4-.4-.92-.59-1.43-.59-.52 0-1.04.2-1.43.59L10.3 9.45l-7.72 7.72c-.78.78-.78 2.05 0 2.83L4 21.41c.39.39.9.59 1.41.59.51 0 1.02-.2 1.41-.59l7.78-7.78 2.81-2.81c.8-.78.8-2.07 0-2.86zM5.41 20L4 18.59l7.72-7.72 1.47 1.35L5.41 20z\"/>\n",
              "  </svg>\n",
              "      </button>\n",
              "      \n",
              "  <style>\n",
              "    .colab-df-container {\n",
              "      display:flex;\n",
              "      flex-wrap:wrap;\n",
              "      gap: 12px;\n",
              "    }\n",
              "\n",
              "    .colab-df-convert {\n",
              "      background-color: #E8F0FE;\n",
              "      border: none;\n",
              "      border-radius: 50%;\n",
              "      cursor: pointer;\n",
              "      display: none;\n",
              "      fill: #1967D2;\n",
              "      height: 32px;\n",
              "      padding: 0 0 0 0;\n",
              "      width: 32px;\n",
              "    }\n",
              "\n",
              "    .colab-df-convert:hover {\n",
              "      background-color: #E2EBFA;\n",
              "      box-shadow: 0px 1px 2px rgba(60, 64, 67, 0.3), 0px 1px 3px 1px rgba(60, 64, 67, 0.15);\n",
              "      fill: #174EA6;\n",
              "    }\n",
              "\n",
              "    [theme=dark] .colab-df-convert {\n",
              "      background-color: #3B4455;\n",
              "      fill: #D2E3FC;\n",
              "    }\n",
              "\n",
              "    [theme=dark] .colab-df-convert:hover {\n",
              "      background-color: #434B5C;\n",
              "      box-shadow: 0px 1px 3px 1px rgba(0, 0, 0, 0.15);\n",
              "      filter: drop-shadow(0px 1px 2px rgba(0, 0, 0, 0.3));\n",
              "      fill: #FFFFFF;\n",
              "    }\n",
              "  </style>\n",
              "\n",
              "      <script>\n",
              "        const buttonEl =\n",
              "          document.querySelector('#df-90a5bcc9-8489-4791-b6e7-1d0a2650bdb5 button.colab-df-convert');\n",
              "        buttonEl.style.display =\n",
              "          google.colab.kernel.accessAllowed ? 'block' : 'none';\n",
              "\n",
              "        async function convertToInteractive(key) {\n",
              "          const element = document.querySelector('#df-90a5bcc9-8489-4791-b6e7-1d0a2650bdb5');\n",
              "          const dataTable =\n",
              "            await google.colab.kernel.invokeFunction('convertToInteractive',\n",
              "                                                     [key], {});\n",
              "          if (!dataTable) return;\n",
              "\n",
              "          const docLinkHtml = 'Like what you see? Visit the ' +\n",
              "            '<a target=\"_blank\" href=https://colab.research.google.com/notebooks/data_table.ipynb>data table notebook</a>'\n",
              "            + ' to learn more about interactive tables.';\n",
              "          element.innerHTML = '';\n",
              "          dataTable['output_type'] = 'display_data';\n",
              "          await google.colab.output.renderOutput(dataTable, element);\n",
              "          const docLink = document.createElement('div');\n",
              "          docLink.innerHTML = docLinkHtml;\n",
              "          element.appendChild(docLink);\n",
              "        }\n",
              "      </script>\n",
              "    </div>\n",
              "  </div>\n",
              "  "
            ]
          },
          "metadata": {},
          "execution_count": 16
        }
      ]
    },
    {
      "cell_type": "code",
      "source": [
        "mitbih_dirs = [d for d in weight_dirs if \"mitbih\" in d.name.lower()]\n",
        "pp.pprint(mitbih_dirs)\n"
      ],
      "metadata": {
        "colab": {
          "base_uri": "https://localhost:8080/",
          "height": 51
        },
        "id": "gaGOzMPhSMsA",
        "outputId": "e858592f-58bf-4e95-952d-29cc0efa4a33"
      },
      "execution_count": 17,
      "outputs": [
        {
          "output_type": "display_data",
          "data": {
            "text/plain": [
              "<IPython.core.display.HTML object>"
            ],
            "text/html": [
              "\n",
              "  <style>\n",
              "    pre {\n",
              "        white-space: pre-wrap;\n",
              "    }\n",
              "  </style>\n",
              "  "
            ]
          },
          "metadata": {}
        },
        {
          "output_type": "stream",
          "name": "stdout",
          "text": [
            "[PosixPath('/content/drive/MyDrive/ETHZ-2022-S/ML-healthcare-projects/project1/MITBIH_weights'),\n",
            " PosixPath('/content/drive/MyDrive/ETHZ-2022-S/ML-healthcare-projects/project1/MITBIH_biGRU_weights')]\n"
          ]
        }
      ]
    },
    {
      "cell_type": "code",
      "source": [
        "mitbih_fitted_models = []\n",
        "\n",
        "for weight_dir in mitbih_dirs:\n",
        "\n",
        "    model_paths = [f for f in weight_dir.iterdir() if f.is_file() and f.suffix == \".h5\"]\n",
        "    mitbih_fitted_models.extend(model_paths)\n",
        "\n",
        "print(f\"found {len(mitbih_fitted_models)} total models to compute preds for MIT\")\n"
      ],
      "metadata": {
        "colab": {
          "base_uri": "https://localhost:8080/",
          "height": 34
        },
        "id": "Nxs390JrTh49",
        "outputId": "0d83d515-34df-4e62-99a3-71ddef498145"
      },
      "execution_count": 18,
      "outputs": [
        {
          "output_type": "display_data",
          "data": {
            "text/plain": [
              "<IPython.core.display.HTML object>"
            ],
            "text/html": [
              "\n",
              "  <style>\n",
              "    pre {\n",
              "        white-space: pre-wrap;\n",
              "    }\n",
              "  </style>\n",
              "  "
            ]
          },
          "metadata": {}
        },
        {
          "output_type": "stream",
          "name": "stdout",
          "text": [
            "found 18 total models to compute preds for MIT\n"
          ]
        }
      ]
    },
    {
      "cell_type": "markdown",
      "source": [
        "### loop through all files, store filename as column"
      ],
      "metadata": {
        "id": "n2ADYv-3TO44"
      }
    },
    {
      "cell_type": "code",
      "source": [
        "import gc\n",
        "from tqdm.auto import tqdm\n",
        "from keras.models import load_model\n",
        "\n",
        "pbar = tqdm(desc=\"computing model predictions\", \n",
        "            total=len(mitbih_fitted_models)\n",
        "        )\n",
        "\n",
        "for mpath in mitbih_fitted_models:\n",
        "\n",
        "    try:\n",
        "        model_name = mpath.stem\n",
        "        src_dir = mpath.parent.name\n",
        "        model = load_model(mpath)\n",
        "        pred_test = model.predict(X_test)\n",
        "        pred_test = np.argmax(pred_test, axis=-1)\n",
        "\n",
        "        MIT_df[f\"{model_name}_{src_dir}_preds\"] = pred_test\n",
        "\n",
        "        del model\n",
        "        del pred_test\n",
        "    except Exception as e:\n",
        "        print(f\"\\nUnable to generate predictions for {mpath.name}, skipping\")\n",
        "        print(f\"Error printout as follows:{e}\")\n",
        "    gc.collect()\n",
        "    pbar.update(1)\n",
        "pbar.close()"
      ],
      "metadata": {
        "colab": {
          "base_uri": "https://localhost:8080/",
          "height": 49,
          "referenced_widgets": [
            "2beb0c2f6f2344e5b039057cecaffc13",
            "bfdd642171cd422ca79da8bb776217bc",
            "998bd35bea7b41698f1bc9e180800b0f",
            "8902b77033c54a6cb730c712c462058b",
            "ce319adf66c74fe9a71a413cdd606fca",
            "9bbba3ba05b7493aa4eaa6ebeda2bcc7",
            "a1c04cf5876245bcb45b5030d390387a",
            "c470c7e884da48a4aa97eaeb395c4bc4",
            "b95698c3a02848a0ab45c447be9d44cb",
            "017f1f5c546245c6b8d3422cb1e25a3d",
            "78b615ba81854171ac24b739aad51028"
          ]
        },
        "id": "KvzcMTXYSQWF",
        "outputId": "9bfbf19a-a1ce-46d1-a468-6ae643e13fe2"
      },
      "execution_count": 19,
      "outputs": [
        {
          "output_type": "display_data",
          "data": {
            "text/plain": [
              "<IPython.core.display.HTML object>"
            ],
            "text/html": [
              "\n",
              "  <style>\n",
              "    pre {\n",
              "        white-space: pre-wrap;\n",
              "    }\n",
              "  </style>\n",
              "  "
            ]
          },
          "metadata": {}
        },
        {
          "output_type": "display_data",
          "data": {
            "text/plain": [
              "computing model predictions:   0%|          | 0/18 [00:00<?, ?it/s]"
            ],
            "application/vnd.jupyter.widget-view+json": {
              "version_major": 2,
              "version_minor": 0,
              "model_id": "2beb0c2f6f2344e5b039057cecaffc13"
            }
          },
          "metadata": {}
        }
      ]
    },
    {
      "cell_type": "code",
      "source": [
        "\n",
        "mit_df_base = mit_out_path / \"MITBIH_testset_model_predictions\"\n",
        "\n",
        "MIT_df.to_csv(mit_df_base.with_suffix('.csv'), index=False)\n",
        "MIT_df.to_excel(mit_df_base.with_suffix('.xlsx'), index=False)"
      ],
      "metadata": {
        "colab": {
          "base_uri": "https://localhost:8080/",
          "height": 17
        },
        "id": "ZmXfKk-aWFqn",
        "outputId": "05d19913-8378-4956-d4a6-0cf2ed3b0d7d"
      },
      "execution_count": 20,
      "outputs": [
        {
          "output_type": "display_data",
          "data": {
            "text/plain": [
              "<IPython.core.display.HTML object>"
            ],
            "text/html": [
              "\n",
              "  <style>\n",
              "    pre {\n",
              "        white-space: pre-wrap;\n",
              "    }\n",
              "  </style>\n",
              "  "
            ]
          },
          "metadata": {}
        }
      ]
    },
    {
      "cell_type": "code",
      "source": [
        "MIT_df.head()"
      ],
      "metadata": {
        "colab": {
          "base_uri": "https://localhost:8080/",
          "height": 270
        },
        "id": "wKFJL3q_X0AK",
        "outputId": "d14ea3c0-bc11-4662-a278-46b7e6e6c364"
      },
      "execution_count": 21,
      "outputs": [
        {
          "output_type": "display_data",
          "data": {
            "text/plain": [
              "<IPython.core.display.HTML object>"
            ],
            "text/html": [
              "\n",
              "  <style>\n",
              "    pre {\n",
              "        white-space: pre-wrap;\n",
              "    }\n",
              "  </style>\n",
              "  "
            ]
          },
          "metadata": {}
        },
        {
          "output_type": "execute_result",
          "data": {
            "text/plain": [
              "   actual_class  BIRNN10_mitbih_MITBIH_weights_preds  \\\n",
              "0             0                                    0   \n",
              "1             0                                    0   \n",
              "2             0                                    0   \n",
              "3             0                                    0   \n",
              "4             0                                    2   \n",
              "\n",
              "   BILSTM187_mitbih_MITBIH_weights_preds  BILSTM187_ptb_MITBIH_weights_preds  \\\n",
              "0                                      0                                   0   \n",
              "1                                      0                                   0   \n",
              "2                                      0                                   0   \n",
              "3                                      0                                   0   \n",
              "4                                      0                                   0   \n",
              "\n",
              "   BIRNN187_mitbih_MITBIH_weights_preds  BILSTM_mitbih_MITBIH_weights_preds  \\\n",
              "0                                     0                                   0   \n",
              "1                                     0                                   0   \n",
              "2                                     0                                   0   \n",
              "3                                     0                                   0   \n",
              "4                                     0                                   0   \n",
              "\n",
              "   CNN_mitbih_MITBIH_weights_preds  LTSM_mitbih_MITBIH_weights_preds  \\\n",
              "0                                0                                 0   \n",
              "1                                0                                 0   \n",
              "2                                0                                 0   \n",
              "3                                0                                 0   \n",
              "4                                0                                 0   \n",
              "\n",
              "   BidirGRU_MITBIH_weights_preds  RNN_mitbih_MITBIH_weights_preds  \\\n",
              "0                              0                                0   \n",
              "1                              0                                0   \n",
              "2                              0                                0   \n",
              "3                              0                                0   \n",
              "4                              0                                0   \n",
              "\n",
              "   GRU_mitbih_MITBIH_weights_preds  SIMPLE_RNN_mitbih_MITBIH_weights_preds  \\\n",
              "0                                0                                       0   \n",
              "1                                0                                       4   \n",
              "2                                0                                       0   \n",
              "3                                0                                       0   \n",
              "4                                0                                       0   \n",
              "\n",
              "   CNN_mitbih_MITBIH_biGRU_weights_preds  \\\n",
              "0                                      0   \n",
              "1                                      0   \n",
              "2                                      0   \n",
              "3                                      0   \n",
              "4                                      0   \n",
              "\n",
              "   RNN_mitbih_MITBIH_biGRU_weights_preds  BidirGRU_MITBIH_biGRU_weights_preds  \\\n",
              "0                                      0                                    0   \n",
              "1                                      0                                    0   \n",
              "2                                      0                                    0   \n",
              "3                                      0                                    0   \n",
              "4                                      0                                    0   \n",
              "\n",
              "   BidirGRU_BS=1024_MITBIH_biGRU_weights_preds  \\\n",
              "0                                            0   \n",
              "1                                            0   \n",
              "2                                            0   \n",
              "3                                            0   \n",
              "4                                            0   \n",
              "\n",
              "   BILSTM10_mitbih_MITBIH_biGRU_weights_preds  \\\n",
              "0                                           0   \n",
              "1                                           0   \n",
              "2                                           0   \n",
              "3                                           0   \n",
              "4                                           0   \n",
              "\n",
              "   BILSTM187_mitbih_MITBIH_biGRU_weights_preds  \\\n",
              "0                                            0   \n",
              "1                                            0   \n",
              "2                                            0   \n",
              "3                                            0   \n",
              "4                                            0   \n",
              "\n",
              "   BIRNN187_mitbih_MITBIH_biGRU_weights_preds  \n",
              "0                                           0  \n",
              "1                                           0  \n",
              "2                                           0  \n",
              "3                                           0  \n",
              "4                                           0  "
            ],
            "text/html": [
              "\n",
              "  <div id=\"df-0ca6ce40-e490-4970-8c19-229b5c58111a\">\n",
              "    <div class=\"colab-df-container\">\n",
              "      <div>\n",
              "<style scoped>\n",
              "    .dataframe tbody tr th:only-of-type {\n",
              "        vertical-align: middle;\n",
              "    }\n",
              "\n",
              "    .dataframe tbody tr th {\n",
              "        vertical-align: top;\n",
              "    }\n",
              "\n",
              "    .dataframe thead th {\n",
              "        text-align: right;\n",
              "    }\n",
              "</style>\n",
              "<table border=\"1\" class=\"dataframe\">\n",
              "  <thead>\n",
              "    <tr style=\"text-align: right;\">\n",
              "      <th></th>\n",
              "      <th>actual_class</th>\n",
              "      <th>BIRNN10_mitbih_MITBIH_weights_preds</th>\n",
              "      <th>BILSTM187_mitbih_MITBIH_weights_preds</th>\n",
              "      <th>BILSTM187_ptb_MITBIH_weights_preds</th>\n",
              "      <th>BIRNN187_mitbih_MITBIH_weights_preds</th>\n",
              "      <th>BILSTM_mitbih_MITBIH_weights_preds</th>\n",
              "      <th>CNN_mitbih_MITBIH_weights_preds</th>\n",
              "      <th>LTSM_mitbih_MITBIH_weights_preds</th>\n",
              "      <th>BidirGRU_MITBIH_weights_preds</th>\n",
              "      <th>RNN_mitbih_MITBIH_weights_preds</th>\n",
              "      <th>GRU_mitbih_MITBIH_weights_preds</th>\n",
              "      <th>SIMPLE_RNN_mitbih_MITBIH_weights_preds</th>\n",
              "      <th>CNN_mitbih_MITBIH_biGRU_weights_preds</th>\n",
              "      <th>RNN_mitbih_MITBIH_biGRU_weights_preds</th>\n",
              "      <th>BidirGRU_MITBIH_biGRU_weights_preds</th>\n",
              "      <th>BidirGRU_BS=1024_MITBIH_biGRU_weights_preds</th>\n",
              "      <th>BILSTM10_mitbih_MITBIH_biGRU_weights_preds</th>\n",
              "      <th>BILSTM187_mitbih_MITBIH_biGRU_weights_preds</th>\n",
              "      <th>BIRNN187_mitbih_MITBIH_biGRU_weights_preds</th>\n",
              "    </tr>\n",
              "  </thead>\n",
              "  <tbody>\n",
              "    <tr>\n",
              "      <th>0</th>\n",
              "      <td>0</td>\n",
              "      <td>0</td>\n",
              "      <td>0</td>\n",
              "      <td>0</td>\n",
              "      <td>0</td>\n",
              "      <td>0</td>\n",
              "      <td>0</td>\n",
              "      <td>0</td>\n",
              "      <td>0</td>\n",
              "      <td>0</td>\n",
              "      <td>0</td>\n",
              "      <td>0</td>\n",
              "      <td>0</td>\n",
              "      <td>0</td>\n",
              "      <td>0</td>\n",
              "      <td>0</td>\n",
              "      <td>0</td>\n",
              "      <td>0</td>\n",
              "      <td>0</td>\n",
              "    </tr>\n",
              "    <tr>\n",
              "      <th>1</th>\n",
              "      <td>0</td>\n",
              "      <td>0</td>\n",
              "      <td>0</td>\n",
              "      <td>0</td>\n",
              "      <td>0</td>\n",
              "      <td>0</td>\n",
              "      <td>0</td>\n",
              "      <td>0</td>\n",
              "      <td>0</td>\n",
              "      <td>0</td>\n",
              "      <td>0</td>\n",
              "      <td>4</td>\n",
              "      <td>0</td>\n",
              "      <td>0</td>\n",
              "      <td>0</td>\n",
              "      <td>0</td>\n",
              "      <td>0</td>\n",
              "      <td>0</td>\n",
              "      <td>0</td>\n",
              "    </tr>\n",
              "    <tr>\n",
              "      <th>2</th>\n",
              "      <td>0</td>\n",
              "      <td>0</td>\n",
              "      <td>0</td>\n",
              "      <td>0</td>\n",
              "      <td>0</td>\n",
              "      <td>0</td>\n",
              "      <td>0</td>\n",
              "      <td>0</td>\n",
              "      <td>0</td>\n",
              "      <td>0</td>\n",
              "      <td>0</td>\n",
              "      <td>0</td>\n",
              "      <td>0</td>\n",
              "      <td>0</td>\n",
              "      <td>0</td>\n",
              "      <td>0</td>\n",
              "      <td>0</td>\n",
              "      <td>0</td>\n",
              "      <td>0</td>\n",
              "    </tr>\n",
              "    <tr>\n",
              "      <th>3</th>\n",
              "      <td>0</td>\n",
              "      <td>0</td>\n",
              "      <td>0</td>\n",
              "      <td>0</td>\n",
              "      <td>0</td>\n",
              "      <td>0</td>\n",
              "      <td>0</td>\n",
              "      <td>0</td>\n",
              "      <td>0</td>\n",
              "      <td>0</td>\n",
              "      <td>0</td>\n",
              "      <td>0</td>\n",
              "      <td>0</td>\n",
              "      <td>0</td>\n",
              "      <td>0</td>\n",
              "      <td>0</td>\n",
              "      <td>0</td>\n",
              "      <td>0</td>\n",
              "      <td>0</td>\n",
              "    </tr>\n",
              "    <tr>\n",
              "      <th>4</th>\n",
              "      <td>0</td>\n",
              "      <td>2</td>\n",
              "      <td>0</td>\n",
              "      <td>0</td>\n",
              "      <td>0</td>\n",
              "      <td>0</td>\n",
              "      <td>0</td>\n",
              "      <td>0</td>\n",
              "      <td>0</td>\n",
              "      <td>0</td>\n",
              "      <td>0</td>\n",
              "      <td>0</td>\n",
              "      <td>0</td>\n",
              "      <td>0</td>\n",
              "      <td>0</td>\n",
              "      <td>0</td>\n",
              "      <td>0</td>\n",
              "      <td>0</td>\n",
              "      <td>0</td>\n",
              "    </tr>\n",
              "  </tbody>\n",
              "</table>\n",
              "</div>\n",
              "      <button class=\"colab-df-convert\" onclick=\"convertToInteractive('df-0ca6ce40-e490-4970-8c19-229b5c58111a')\"\n",
              "              title=\"Convert this dataframe to an interactive table.\"\n",
              "              style=\"display:none;\">\n",
              "        \n",
              "  <svg xmlns=\"http://www.w3.org/2000/svg\" height=\"24px\"viewBox=\"0 0 24 24\"\n",
              "       width=\"24px\">\n",
              "    <path d=\"M0 0h24v24H0V0z\" fill=\"none\"/>\n",
              "    <path d=\"M18.56 5.44l.94 2.06.94-2.06 2.06-.94-2.06-.94-.94-2.06-.94 2.06-2.06.94zm-11 1L8.5 8.5l.94-2.06 2.06-.94-2.06-.94L8.5 2.5l-.94 2.06-2.06.94zm10 10l.94 2.06.94-2.06 2.06-.94-2.06-.94-.94-2.06-.94 2.06-2.06.94z\"/><path d=\"M17.41 7.96l-1.37-1.37c-.4-.4-.92-.59-1.43-.59-.52 0-1.04.2-1.43.59L10.3 9.45l-7.72 7.72c-.78.78-.78 2.05 0 2.83L4 21.41c.39.39.9.59 1.41.59.51 0 1.02-.2 1.41-.59l7.78-7.78 2.81-2.81c.8-.78.8-2.07 0-2.86zM5.41 20L4 18.59l7.72-7.72 1.47 1.35L5.41 20z\"/>\n",
              "  </svg>\n",
              "      </button>\n",
              "      \n",
              "  <style>\n",
              "    .colab-df-container {\n",
              "      display:flex;\n",
              "      flex-wrap:wrap;\n",
              "      gap: 12px;\n",
              "    }\n",
              "\n",
              "    .colab-df-convert {\n",
              "      background-color: #E8F0FE;\n",
              "      border: none;\n",
              "      border-radius: 50%;\n",
              "      cursor: pointer;\n",
              "      display: none;\n",
              "      fill: #1967D2;\n",
              "      height: 32px;\n",
              "      padding: 0 0 0 0;\n",
              "      width: 32px;\n",
              "    }\n",
              "\n",
              "    .colab-df-convert:hover {\n",
              "      background-color: #E2EBFA;\n",
              "      box-shadow: 0px 1px 2px rgba(60, 64, 67, 0.3), 0px 1px 3px 1px rgba(60, 64, 67, 0.15);\n",
              "      fill: #174EA6;\n",
              "    }\n",
              "\n",
              "    [theme=dark] .colab-df-convert {\n",
              "      background-color: #3B4455;\n",
              "      fill: #D2E3FC;\n",
              "    }\n",
              "\n",
              "    [theme=dark] .colab-df-convert:hover {\n",
              "      background-color: #434B5C;\n",
              "      box-shadow: 0px 1px 3px 1px rgba(0, 0, 0, 0.15);\n",
              "      filter: drop-shadow(0px 1px 2px rgba(0, 0, 0, 0.3));\n",
              "      fill: #FFFFFF;\n",
              "    }\n",
              "  </style>\n",
              "\n",
              "      <script>\n",
              "        const buttonEl =\n",
              "          document.querySelector('#df-0ca6ce40-e490-4970-8c19-229b5c58111a button.colab-df-convert');\n",
              "        buttonEl.style.display =\n",
              "          google.colab.kernel.accessAllowed ? 'block' : 'none';\n",
              "\n",
              "        async function convertToInteractive(key) {\n",
              "          const element = document.querySelector('#df-0ca6ce40-e490-4970-8c19-229b5c58111a');\n",
              "          const dataTable =\n",
              "            await google.colab.kernel.invokeFunction('convertToInteractive',\n",
              "                                                     [key], {});\n",
              "          if (!dataTable) return;\n",
              "\n",
              "          const docLinkHtml = 'Like what you see? Visit the ' +\n",
              "            '<a target=\"_blank\" href=https://colab.research.google.com/notebooks/data_table.ipynb>data table notebook</a>'\n",
              "            + ' to learn more about interactive tables.';\n",
              "          element.innerHTML = '';\n",
              "          dataTable['output_type'] = 'display_data';\n",
              "          await google.colab.output.renderOutput(dataTable, element);\n",
              "          const docLink = document.createElement('div');\n",
              "          docLink.innerHTML = docLinkHtml;\n",
              "          element.appendChild(docLink);\n",
              "        }\n",
              "      </script>\n",
              "    </div>\n",
              "  </div>\n",
              "  "
            ]
          },
          "metadata": {},
          "execution_count": 21
        }
      ]
    },
    {
      "cell_type": "markdown",
      "source": [
        "### re-compute metrics for MITBIH\n",
        "\n"
      ],
      "metadata": {
        "id": "vEtxq4cYTrMr"
      }
    },
    {
      "cell_type": "code",
      "source": [
        "from sklearn.metrics import balanced_accuracy_score, roc_auc_score, accuracy_score\n",
        "from sklearn.metrics import f1_score, matthews_corrcoef\n",
        "\n",
        "mit_metric_cols = [\"model_filename\", \"balanced_accuracy_score\", \"accuracy\",\n",
        "                   \"f1_score\", \"matthews_corrcoef\"]\n",
        "MIT_metrics = pd.DataFrame(columns=mit_metric_cols)\n",
        "\n",
        "trained_models = list(MIT_df.columns)\n",
        "trained_models.remove('actual_class')\n",
        "\n",
        "for trained_model in trained_models:\n",
        "\n",
        "    y_true = MIT_df.actual_class.values\n",
        "    y_pred = MIT_df[trained_model].values\n",
        "    _bas = balanced_accuracy_score(MIT_df.actual_class, MIT_df[trained_model])\n",
        "    _acc = accuracy_score(MIT_df.actual_class, MIT_df[trained_model])\n",
        "    _f1 = f1_score(y_true, y_pred, average='macro')\n",
        "    _mcc = matthews_corrcoef(y_true, y_pred)\n",
        "    _this_result = [trained_model, _bas, _acc, _f1, _mcc]\n",
        "    _df = pd.DataFrame(columns=mit_metric_cols)\n",
        "    _df.loc[0] = _this_result\n",
        "    MIT_metrics = pd.concat([MIT_metrics, _df], axis=0)\n",
        "\n",
        "\n",
        "MIT_metrics.sort_values(\n",
        "                        by='balanced_accuracy_score',\n",
        "                        ascending=False,\n",
        "                        inplace=True,\n",
        "                    )\n",
        "MIT_metrics.head(10)"
      ],
      "metadata": {
        "colab": {
          "base_uri": "https://localhost:8080/",
          "height": 363
        },
        "id": "hhXWNMAgTuPp",
        "outputId": "52cf6956-a0b5-42f5-dbdb-4767f2d36cb4"
      },
      "execution_count": 23,
      "outputs": [
        {
          "output_type": "display_data",
          "data": {
            "text/plain": [
              "<IPython.core.display.HTML object>"
            ],
            "text/html": [
              "\n",
              "  <style>\n",
              "    pre {\n",
              "        white-space: pre-wrap;\n",
              "    }\n",
              "  </style>\n",
              "  "
            ]
          },
          "metadata": {}
        },
        {
          "output_type": "execute_result",
          "data": {
            "text/plain": [
              "                                model_filename  balanced_accuracy_score  \\\n",
              "0  BidirGRU_BS=1024_MITBIH_biGRU_weights_preds                 0.903850   \n",
              "0        BILSTM187_mitbih_MITBIH_weights_preds                 0.897573   \n",
              "0  BILSTM187_mitbih_MITBIH_biGRU_weights_preds                 0.885654   \n",
              "0              GRU_mitbih_MITBIH_weights_preds                 0.856317   \n",
              "0        CNN_mitbih_MITBIH_biGRU_weights_preds                 0.847873   \n",
              "0              CNN_mitbih_MITBIH_weights_preds                 0.832914   \n",
              "0             LTSM_mitbih_MITBIH_weights_preds                 0.826110   \n",
              "0       SIMPLE_RNN_mitbih_MITBIH_weights_preds                 0.753695   \n",
              "0           BILSTM_mitbih_MITBIH_weights_preds                 0.657343   \n",
              "0         BIRNN187_mitbih_MITBIH_weights_preds                 0.577934   \n",
              "\n",
              "   accuracy  f1_score  matthews_corrcoef  \n",
              "0  0.987119  0.924779           0.957312  \n",
              "0  0.985931  0.916335           0.953345  \n",
              "0  0.984561  0.910498           0.948679  \n",
              "0  0.978988  0.888228           0.929742  \n",
              "0  0.975745  0.873976           0.918878  \n",
              "0  0.974420  0.863830           0.914186  \n",
              "0  0.970857  0.852444           0.902062  \n",
              "0  0.954961  0.771623           0.847488  \n",
              "0  0.952448  0.716062           0.835487  \n",
              "0  0.930020  0.616283           0.754012  "
            ],
            "text/html": [
              "\n",
              "  <div id=\"df-7e129a74-fd53-4339-acd5-cee198fc9fa6\">\n",
              "    <div class=\"colab-df-container\">\n",
              "      <div>\n",
              "<style scoped>\n",
              "    .dataframe tbody tr th:only-of-type {\n",
              "        vertical-align: middle;\n",
              "    }\n",
              "\n",
              "    .dataframe tbody tr th {\n",
              "        vertical-align: top;\n",
              "    }\n",
              "\n",
              "    .dataframe thead th {\n",
              "        text-align: right;\n",
              "    }\n",
              "</style>\n",
              "<table border=\"1\" class=\"dataframe\">\n",
              "  <thead>\n",
              "    <tr style=\"text-align: right;\">\n",
              "      <th></th>\n",
              "      <th>model_filename</th>\n",
              "      <th>balanced_accuracy_score</th>\n",
              "      <th>accuracy</th>\n",
              "      <th>f1_score</th>\n",
              "      <th>matthews_corrcoef</th>\n",
              "    </tr>\n",
              "  </thead>\n",
              "  <tbody>\n",
              "    <tr>\n",
              "      <th>0</th>\n",
              "      <td>BidirGRU_BS=1024_MITBIH_biGRU_weights_preds</td>\n",
              "      <td>0.903850</td>\n",
              "      <td>0.987119</td>\n",
              "      <td>0.924779</td>\n",
              "      <td>0.957312</td>\n",
              "    </tr>\n",
              "    <tr>\n",
              "      <th>0</th>\n",
              "      <td>BILSTM187_mitbih_MITBIH_weights_preds</td>\n",
              "      <td>0.897573</td>\n",
              "      <td>0.985931</td>\n",
              "      <td>0.916335</td>\n",
              "      <td>0.953345</td>\n",
              "    </tr>\n",
              "    <tr>\n",
              "      <th>0</th>\n",
              "      <td>BILSTM187_mitbih_MITBIH_biGRU_weights_preds</td>\n",
              "      <td>0.885654</td>\n",
              "      <td>0.984561</td>\n",
              "      <td>0.910498</td>\n",
              "      <td>0.948679</td>\n",
              "    </tr>\n",
              "    <tr>\n",
              "      <th>0</th>\n",
              "      <td>GRU_mitbih_MITBIH_weights_preds</td>\n",
              "      <td>0.856317</td>\n",
              "      <td>0.978988</td>\n",
              "      <td>0.888228</td>\n",
              "      <td>0.929742</td>\n",
              "    </tr>\n",
              "    <tr>\n",
              "      <th>0</th>\n",
              "      <td>CNN_mitbih_MITBIH_biGRU_weights_preds</td>\n",
              "      <td>0.847873</td>\n",
              "      <td>0.975745</td>\n",
              "      <td>0.873976</td>\n",
              "      <td>0.918878</td>\n",
              "    </tr>\n",
              "    <tr>\n",
              "      <th>0</th>\n",
              "      <td>CNN_mitbih_MITBIH_weights_preds</td>\n",
              "      <td>0.832914</td>\n",
              "      <td>0.974420</td>\n",
              "      <td>0.863830</td>\n",
              "      <td>0.914186</td>\n",
              "    </tr>\n",
              "    <tr>\n",
              "      <th>0</th>\n",
              "      <td>LTSM_mitbih_MITBIH_weights_preds</td>\n",
              "      <td>0.826110</td>\n",
              "      <td>0.970857</td>\n",
              "      <td>0.852444</td>\n",
              "      <td>0.902062</td>\n",
              "    </tr>\n",
              "    <tr>\n",
              "      <th>0</th>\n",
              "      <td>SIMPLE_RNN_mitbih_MITBIH_weights_preds</td>\n",
              "      <td>0.753695</td>\n",
              "      <td>0.954961</td>\n",
              "      <td>0.771623</td>\n",
              "      <td>0.847488</td>\n",
              "    </tr>\n",
              "    <tr>\n",
              "      <th>0</th>\n",
              "      <td>BILSTM_mitbih_MITBIH_weights_preds</td>\n",
              "      <td>0.657343</td>\n",
              "      <td>0.952448</td>\n",
              "      <td>0.716062</td>\n",
              "      <td>0.835487</td>\n",
              "    </tr>\n",
              "    <tr>\n",
              "      <th>0</th>\n",
              "      <td>BIRNN187_mitbih_MITBIH_weights_preds</td>\n",
              "      <td>0.577934</td>\n",
              "      <td>0.930020</td>\n",
              "      <td>0.616283</td>\n",
              "      <td>0.754012</td>\n",
              "    </tr>\n",
              "  </tbody>\n",
              "</table>\n",
              "</div>\n",
              "      <button class=\"colab-df-convert\" onclick=\"convertToInteractive('df-7e129a74-fd53-4339-acd5-cee198fc9fa6')\"\n",
              "              title=\"Convert this dataframe to an interactive table.\"\n",
              "              style=\"display:none;\">\n",
              "        \n",
              "  <svg xmlns=\"http://www.w3.org/2000/svg\" height=\"24px\"viewBox=\"0 0 24 24\"\n",
              "       width=\"24px\">\n",
              "    <path d=\"M0 0h24v24H0V0z\" fill=\"none\"/>\n",
              "    <path d=\"M18.56 5.44l.94 2.06.94-2.06 2.06-.94-2.06-.94-.94-2.06-.94 2.06-2.06.94zm-11 1L8.5 8.5l.94-2.06 2.06-.94-2.06-.94L8.5 2.5l-.94 2.06-2.06.94zm10 10l.94 2.06.94-2.06 2.06-.94-2.06-.94-.94-2.06-.94 2.06-2.06.94z\"/><path d=\"M17.41 7.96l-1.37-1.37c-.4-.4-.92-.59-1.43-.59-.52 0-1.04.2-1.43.59L10.3 9.45l-7.72 7.72c-.78.78-.78 2.05 0 2.83L4 21.41c.39.39.9.59 1.41.59.51 0 1.02-.2 1.41-.59l7.78-7.78 2.81-2.81c.8-.78.8-2.07 0-2.86zM5.41 20L4 18.59l7.72-7.72 1.47 1.35L5.41 20z\"/>\n",
              "  </svg>\n",
              "      </button>\n",
              "      \n",
              "  <style>\n",
              "    .colab-df-container {\n",
              "      display:flex;\n",
              "      flex-wrap:wrap;\n",
              "      gap: 12px;\n",
              "    }\n",
              "\n",
              "    .colab-df-convert {\n",
              "      background-color: #E8F0FE;\n",
              "      border: none;\n",
              "      border-radius: 50%;\n",
              "      cursor: pointer;\n",
              "      display: none;\n",
              "      fill: #1967D2;\n",
              "      height: 32px;\n",
              "      padding: 0 0 0 0;\n",
              "      width: 32px;\n",
              "    }\n",
              "\n",
              "    .colab-df-convert:hover {\n",
              "      background-color: #E2EBFA;\n",
              "      box-shadow: 0px 1px 2px rgba(60, 64, 67, 0.3), 0px 1px 3px 1px rgba(60, 64, 67, 0.15);\n",
              "      fill: #174EA6;\n",
              "    }\n",
              "\n",
              "    [theme=dark] .colab-df-convert {\n",
              "      background-color: #3B4455;\n",
              "      fill: #D2E3FC;\n",
              "    }\n",
              "\n",
              "    [theme=dark] .colab-df-convert:hover {\n",
              "      background-color: #434B5C;\n",
              "      box-shadow: 0px 1px 3px 1px rgba(0, 0, 0, 0.15);\n",
              "      filter: drop-shadow(0px 1px 2px rgba(0, 0, 0, 0.3));\n",
              "      fill: #FFFFFF;\n",
              "    }\n",
              "  </style>\n",
              "\n",
              "      <script>\n",
              "        const buttonEl =\n",
              "          document.querySelector('#df-7e129a74-fd53-4339-acd5-cee198fc9fa6 button.colab-df-convert');\n",
              "        buttonEl.style.display =\n",
              "          google.colab.kernel.accessAllowed ? 'block' : 'none';\n",
              "\n",
              "        async function convertToInteractive(key) {\n",
              "          const element = document.querySelector('#df-7e129a74-fd53-4339-acd5-cee198fc9fa6');\n",
              "          const dataTable =\n",
              "            await google.colab.kernel.invokeFunction('convertToInteractive',\n",
              "                                                     [key], {});\n",
              "          if (!dataTable) return;\n",
              "\n",
              "          const docLinkHtml = 'Like what you see? Visit the ' +\n",
              "            '<a target=\"_blank\" href=https://colab.research.google.com/notebooks/data_table.ipynb>data table notebook</a>'\n",
              "            + ' to learn more about interactive tables.';\n",
              "          element.innerHTML = '';\n",
              "          dataTable['output_type'] = 'display_data';\n",
              "          await google.colab.output.renderOutput(dataTable, element);\n",
              "          const docLink = document.createElement('div');\n",
              "          docLink.innerHTML = docLinkHtml;\n",
              "          element.appendChild(docLink);\n",
              "        }\n",
              "      </script>\n",
              "    </div>\n",
              "  </div>\n",
              "  "
            ]
          },
          "metadata": {},
          "execution_count": 23
        }
      ]
    },
    {
      "cell_type": "code",
      "source": [
        "mit_metrics_base = metric_comparison_dir / \"MITBIH_trained_model_metrics\"\n",
        "MIT_metrics.to_csv(mit_metrics_base.with_suffix('.csv'), index=False)\n",
        "MIT_metrics.to_excel(mit_metrics_base.with_suffix('.xlsx'), index=False)"
      ],
      "metadata": {
        "id": "9gi2lGXgWnZY",
        "colab": {
          "base_uri": "https://localhost:8080/",
          "height": 17
        },
        "outputId": "8b2ff129-fef7-4ea8-c544-df091d18ca21"
      },
      "execution_count": 24,
      "outputs": [
        {
          "output_type": "display_data",
          "data": {
            "text/plain": [
              "<IPython.core.display.HTML object>"
            ],
            "text/html": [
              "\n",
              "  <style>\n",
              "    pre {\n",
              "        white-space: pre-wrap;\n",
              "    }\n",
              "  </style>\n",
              "  "
            ]
          },
          "metadata": {}
        }
      ]
    },
    {
      "cell_type": "markdown",
      "source": [
        "# PTB"
      ],
      "metadata": {
        "id": "YoAeMkiqc2OZ"
      }
    },
    {
      "cell_type": "code",
      "source": [
        "def load_ptb(base_path):\n",
        "    df_1 = pd.read_csv(os.path.join(base_path,\"data/ptbdb_normal.csv\"),\n",
        "                           header=None)\n",
        "    df_2 = pd.read_csv(os.path.join(base_path,\"data/ptbdb_abnormal.csv\"),\n",
        "                          header=None)\n",
        "    df = pd.concat([df_1, df_2])\n",
        "\n",
        "    df_train, df_test = train_test_split(df, test_size=0.2, random_state=1337, stratify=df[187])\n",
        "\n",
        "    Y = np.array(df_train[187].values).astype(np.int8)\n",
        "    X = np.array(df_train[list(range(187))].values)[..., np.newaxis]\n",
        "\n",
        "    Y_test = np.array(df_test[187].values).astype(np.int8)\n",
        "    X_test = np.array(df_test[list(range(187))].values)[..., np.newaxis]\n",
        "    \n",
        "\n",
        "    return X, X_test, Y, Y_test"
      ],
      "metadata": {
        "id": "oib78w6nc2Td",
        "colab": {
          "base_uri": "https://localhost:8080/",
          "height": 17
        },
        "outputId": "5c9db4bd-9c95-47d0-f219-42080d13e499"
      },
      "execution_count": 25,
      "outputs": [
        {
          "output_type": "display_data",
          "data": {
            "text/plain": [
              "<IPython.core.display.HTML object>"
            ],
            "text/html": [
              "\n",
              "  <style>\n",
              "    pre {\n",
              "        white-space: pre-wrap;\n",
              "    }\n",
              "  </style>\n",
              "  "
            ]
          },
          "metadata": {}
        }
      ]
    },
    {
      "cell_type": "code",
      "source": [
        "try:\n",
        "    X_ptb, X_test_ptb, Y_ptb, Y_test_ptb = load_ptb(base_path=path)\n",
        "except Exception as e:\n",
        "    print(f\"unable to load data from base path in drive folder because:\\n\\t{e}\")\n",
        "    print(f\"\\ngoing to try backup:\\n\\t{backup_peter}\")\n",
        "    X_ptb, X_test_ptb, Y_ptb, Y_test_ptb = load_ptb(base_path=backup_peter)"
      ],
      "metadata": {
        "id": "uzu2kCZxX1VD",
        "colab": {
          "base_uri": "https://localhost:8080/",
          "height": 17
        },
        "outputId": "217fb2b3-f31b-4d46-f31d-3d611370cf07"
      },
      "execution_count": 26,
      "outputs": [
        {
          "output_type": "display_data",
          "data": {
            "text/plain": [
              "<IPython.core.display.HTML object>"
            ],
            "text/html": [
              "\n",
              "  <style>\n",
              "    pre {\n",
              "        white-space: pre-wrap;\n",
              "    }\n",
              "  </style>\n",
              "  "
            ]
          },
          "metadata": {}
        }
      ]
    },
    {
      "cell_type": "code",
      "source": [
        "X_test_ptb.shape"
      ],
      "metadata": {
        "id": "EuYkIGWddfhA",
        "colab": {
          "base_uri": "https://localhost:8080/",
          "height": 34
        },
        "outputId": "d758207e-9cac-492d-d9d8-f50f3c65218e"
      },
      "execution_count": 27,
      "outputs": [
        {
          "output_type": "display_data",
          "data": {
            "text/plain": [
              "<IPython.core.display.HTML object>"
            ],
            "text/html": [
              "\n",
              "  <style>\n",
              "    pre {\n",
              "        white-space: pre-wrap;\n",
              "    }\n",
              "  </style>\n",
              "  "
            ]
          },
          "metadata": {}
        },
        {
          "output_type": "execute_result",
          "data": {
            "text/plain": [
              "(2911, 187, 1)"
            ]
          },
          "metadata": {},
          "execution_count": 27
        }
      ]
    },
    {
      "cell_type": "code",
      "source": [
        "ptb_out_path = Path(output_path) / \"PTB_ensemble\"\n",
        "ptb_out_path.mkdir(exist_ok=True)"
      ],
      "metadata": {
        "id": "JrnolpOUd1AB",
        "colab": {
          "base_uri": "https://localhost:8080/",
          "height": 17
        },
        "outputId": "ff60711c-19df-4318-fbe3-7eabf061c3ba"
      },
      "execution_count": 28,
      "outputs": [
        {
          "output_type": "display_data",
          "data": {
            "text/plain": [
              "<IPython.core.display.HTML object>"
            ],
            "text/html": [
              "\n",
              "  <style>\n",
              "    pre {\n",
              "        white-space: pre-wrap;\n",
              "    }\n",
              "  </style>\n",
              "  "
            ]
          },
          "metadata": {}
        }
      ]
    },
    {
      "cell_type": "code",
      "source": [
        "PTB_df = pd.DataFrame(Y_test_ptb, columns=['actual_class'])\n",
        "PTB_df.head()"
      ],
      "metadata": {
        "id": "ND3BtA1JeiJw",
        "colab": {
          "base_uri": "https://localhost:8080/",
          "height": 206
        },
        "outputId": "d567231d-7842-4411-9949-c915f46d2bfe"
      },
      "execution_count": 29,
      "outputs": [
        {
          "output_type": "display_data",
          "data": {
            "text/plain": [
              "<IPython.core.display.HTML object>"
            ],
            "text/html": [
              "\n",
              "  <style>\n",
              "    pre {\n",
              "        white-space: pre-wrap;\n",
              "    }\n",
              "  </style>\n",
              "  "
            ]
          },
          "metadata": {}
        },
        {
          "output_type": "execute_result",
          "data": {
            "text/plain": [
              "   actual_class\n",
              "0             0\n",
              "1             1\n",
              "2             0\n",
              "3             1\n",
              "4             1"
            ],
            "text/html": [
              "\n",
              "  <div id=\"df-1e59dacd-1b06-4edc-a242-14fcde0a5375\">\n",
              "    <div class=\"colab-df-container\">\n",
              "      <div>\n",
              "<style scoped>\n",
              "    .dataframe tbody tr th:only-of-type {\n",
              "        vertical-align: middle;\n",
              "    }\n",
              "\n",
              "    .dataframe tbody tr th {\n",
              "        vertical-align: top;\n",
              "    }\n",
              "\n",
              "    .dataframe thead th {\n",
              "        text-align: right;\n",
              "    }\n",
              "</style>\n",
              "<table border=\"1\" class=\"dataframe\">\n",
              "  <thead>\n",
              "    <tr style=\"text-align: right;\">\n",
              "      <th></th>\n",
              "      <th>actual_class</th>\n",
              "    </tr>\n",
              "  </thead>\n",
              "  <tbody>\n",
              "    <tr>\n",
              "      <th>0</th>\n",
              "      <td>0</td>\n",
              "    </tr>\n",
              "    <tr>\n",
              "      <th>1</th>\n",
              "      <td>1</td>\n",
              "    </tr>\n",
              "    <tr>\n",
              "      <th>2</th>\n",
              "      <td>0</td>\n",
              "    </tr>\n",
              "    <tr>\n",
              "      <th>3</th>\n",
              "      <td>1</td>\n",
              "    </tr>\n",
              "    <tr>\n",
              "      <th>4</th>\n",
              "      <td>1</td>\n",
              "    </tr>\n",
              "  </tbody>\n",
              "</table>\n",
              "</div>\n",
              "      <button class=\"colab-df-convert\" onclick=\"convertToInteractive('df-1e59dacd-1b06-4edc-a242-14fcde0a5375')\"\n",
              "              title=\"Convert this dataframe to an interactive table.\"\n",
              "              style=\"display:none;\">\n",
              "        \n",
              "  <svg xmlns=\"http://www.w3.org/2000/svg\" height=\"24px\"viewBox=\"0 0 24 24\"\n",
              "       width=\"24px\">\n",
              "    <path d=\"M0 0h24v24H0V0z\" fill=\"none\"/>\n",
              "    <path d=\"M18.56 5.44l.94 2.06.94-2.06 2.06-.94-2.06-.94-.94-2.06-.94 2.06-2.06.94zm-11 1L8.5 8.5l.94-2.06 2.06-.94-2.06-.94L8.5 2.5l-.94 2.06-2.06.94zm10 10l.94 2.06.94-2.06 2.06-.94-2.06-.94-.94-2.06-.94 2.06-2.06.94z\"/><path d=\"M17.41 7.96l-1.37-1.37c-.4-.4-.92-.59-1.43-.59-.52 0-1.04.2-1.43.59L10.3 9.45l-7.72 7.72c-.78.78-.78 2.05 0 2.83L4 21.41c.39.39.9.59 1.41.59.51 0 1.02-.2 1.41-.59l7.78-7.78 2.81-2.81c.8-.78.8-2.07 0-2.86zM5.41 20L4 18.59l7.72-7.72 1.47 1.35L5.41 20z\"/>\n",
              "  </svg>\n",
              "      </button>\n",
              "      \n",
              "  <style>\n",
              "    .colab-df-container {\n",
              "      display:flex;\n",
              "      flex-wrap:wrap;\n",
              "      gap: 12px;\n",
              "    }\n",
              "\n",
              "    .colab-df-convert {\n",
              "      background-color: #E8F0FE;\n",
              "      border: none;\n",
              "      border-radius: 50%;\n",
              "      cursor: pointer;\n",
              "      display: none;\n",
              "      fill: #1967D2;\n",
              "      height: 32px;\n",
              "      padding: 0 0 0 0;\n",
              "      width: 32px;\n",
              "    }\n",
              "\n",
              "    .colab-df-convert:hover {\n",
              "      background-color: #E2EBFA;\n",
              "      box-shadow: 0px 1px 2px rgba(60, 64, 67, 0.3), 0px 1px 3px 1px rgba(60, 64, 67, 0.15);\n",
              "      fill: #174EA6;\n",
              "    }\n",
              "\n",
              "    [theme=dark] .colab-df-convert {\n",
              "      background-color: #3B4455;\n",
              "      fill: #D2E3FC;\n",
              "    }\n",
              "\n",
              "    [theme=dark] .colab-df-convert:hover {\n",
              "      background-color: #434B5C;\n",
              "      box-shadow: 0px 1px 3px 1px rgba(0, 0, 0, 0.15);\n",
              "      filter: drop-shadow(0px 1px 2px rgba(0, 0, 0, 0.3));\n",
              "      fill: #FFFFFF;\n",
              "    }\n",
              "  </style>\n",
              "\n",
              "      <script>\n",
              "        const buttonEl =\n",
              "          document.querySelector('#df-1e59dacd-1b06-4edc-a242-14fcde0a5375 button.colab-df-convert');\n",
              "        buttonEl.style.display =\n",
              "          google.colab.kernel.accessAllowed ? 'block' : 'none';\n",
              "\n",
              "        async function convertToInteractive(key) {\n",
              "          const element = document.querySelector('#df-1e59dacd-1b06-4edc-a242-14fcde0a5375');\n",
              "          const dataTable =\n",
              "            await google.colab.kernel.invokeFunction('convertToInteractive',\n",
              "                                                     [key], {});\n",
              "          if (!dataTable) return;\n",
              "\n",
              "          const docLinkHtml = 'Like what you see? Visit the ' +\n",
              "            '<a target=\"_blank\" href=https://colab.research.google.com/notebooks/data_table.ipynb>data table notebook</a>'\n",
              "            + ' to learn more about interactive tables.';\n",
              "          element.innerHTML = '';\n",
              "          dataTable['output_type'] = 'display_data';\n",
              "          await google.colab.output.renderOutput(dataTable, element);\n",
              "          const docLink = document.createElement('div');\n",
              "          docLink.innerHTML = docLinkHtml;\n",
              "          element.appendChild(docLink);\n",
              "        }\n",
              "      </script>\n",
              "    </div>\n",
              "  </div>\n",
              "  "
            ]
          },
          "metadata": {},
          "execution_count": 29
        }
      ]
    },
    {
      "cell_type": "code",
      "source": [
        "PTB_df.shape"
      ],
      "metadata": {
        "id": "AXKu3VwrhGh-",
        "colab": {
          "base_uri": "https://localhost:8080/",
          "height": 34
        },
        "outputId": "a5212ec9-3c3c-445c-b7f8-e58bc22c0d44"
      },
      "execution_count": 30,
      "outputs": [
        {
          "output_type": "display_data",
          "data": {
            "text/plain": [
              "<IPython.core.display.HTML object>"
            ],
            "text/html": [
              "\n",
              "  <style>\n",
              "    pre {\n",
              "        white-space: pre-wrap;\n",
              "    }\n",
              "  </style>\n",
              "  "
            ]
          },
          "metadata": {}
        },
        {
          "output_type": "execute_result",
          "data": {
            "text/plain": [
              "(2911, 1)"
            ]
          },
          "metadata": {},
          "execution_count": 30
        }
      ]
    },
    {
      "cell_type": "code",
      "source": [
        "ptb_dirs = [d for d in weight_dirs if \"ptb\" in d.name.lower()]\n",
        "pp.pprint(ptb_dirs)\n"
      ],
      "metadata": {
        "id": "EKfZpKzPeiJw",
        "colab": {
          "base_uri": "https://localhost:8080/",
          "height": 34
        },
        "outputId": "7538e2a8-e3e7-435f-e04c-2fc094efee7a"
      },
      "execution_count": 31,
      "outputs": [
        {
          "output_type": "display_data",
          "data": {
            "text/plain": [
              "<IPython.core.display.HTML object>"
            ],
            "text/html": [
              "\n",
              "  <style>\n",
              "    pre {\n",
              "        white-space: pre-wrap;\n",
              "    }\n",
              "  </style>\n",
              "  "
            ]
          },
          "metadata": {}
        },
        {
          "output_type": "stream",
          "name": "stdout",
          "text": [
            "[PosixPath('/content/drive/MyDrive/ETHZ-2022-S/ML-healthcare-projects/project1/PTB_weights')]\n"
          ]
        }
      ]
    },
    {
      "cell_type": "code",
      "source": [
        "ptb_fitted_models = []\n",
        "\n",
        "for weight_dir in ptb_dirs:\n",
        "\n",
        "    model_paths = [f for f in weight_dir.iterdir() if f.is_file() and f.suffix == \".h5\"]\n",
        "    ptb_fitted_models.extend(model_paths)\n",
        "\n",
        "print(f\"found {len(ptb_fitted_models)} total models to compute preds for MIT\")\n"
      ],
      "metadata": {
        "id": "mltZtkFQeiJx",
        "colab": {
          "base_uri": "https://localhost:8080/",
          "height": 34
        },
        "outputId": "f0134109-7586-42de-f0a3-604b6d8f477f"
      },
      "execution_count": 32,
      "outputs": [
        {
          "output_type": "display_data",
          "data": {
            "text/plain": [
              "<IPython.core.display.HTML object>"
            ],
            "text/html": [
              "\n",
              "  <style>\n",
              "    pre {\n",
              "        white-space: pre-wrap;\n",
              "    }\n",
              "  </style>\n",
              "  "
            ]
          },
          "metadata": {}
        },
        {
          "output_type": "stream",
          "name": "stdout",
          "text": [
            "found 5 total models to compute preds for MIT\n"
          ]
        }
      ]
    },
    {
      "cell_type": "markdown",
      "source": [
        "### loop through all files, store filename as column"
      ],
      "metadata": {
        "id": "hJQ2w4eLeiJy"
      }
    },
    {
      "cell_type": "code",
      "source": [
        "import gc\n",
        "from tqdm.auto import tqdm\n",
        "from keras.models import load_model\n",
        "\n",
        "pbar = tqdm(desc=\"computing model predictions\", \n",
        "            total=len(ptb_fitted_models)\n",
        "        )\n",
        "\n",
        "for mpath in ptb_fitted_models:\n",
        "\n",
        "    try:\n",
        "        model_name = mpath.stem\n",
        "        model = load_model(mpath)\n",
        "        PTB_pred_test= model.predict(X_test_ptb)\n",
        "        pred_test = np.argmax(PTB_pred_test, axis=-1)\n",
        "\n",
        "        PTB_df[f\"{model_name}_preds\"] = pred_test\n",
        "\n",
        "        del model\n",
        "        del pred_test\n",
        "    except Exception as e:\n",
        "        print(f\"\\nUnable to generate predictions for {mpath.name}, skipping\")\n",
        "        print(f\"Error printout as follows:{e}\")\n",
        "    gc.collect()\n",
        "    pbar.update(1)\n",
        "pbar.close()"
      ],
      "metadata": {
        "id": "KNK-LudaeiJz",
        "colab": {
          "base_uri": "https://localhost:8080/",
          "height": 49,
          "referenced_widgets": [
            "6bd46e91ec3d4ad49c1ebfbb0895e412",
            "e14e5cbef7bb4631abb1bc257fffdc27",
            "0d4098f1edea4c349fa55066c769be80",
            "36cb71c1c9f546a0980666c95722adf7",
            "02bab37536fb47bbb62bea56a67ad451",
            "227f5c32d32b4321b45896973a6eeb2c",
            "415ca97563494d8bb343b5e24a1c53ef",
            "ff76d209225b4aeda7a404c24ca066bb",
            "6c735c07e9b54243b756b18e212c566c",
            "d1d00e0efa50472c8f93d035bce5ad39",
            "7c0e330dd1d84417ac1861d128dd2f09"
          ]
        },
        "outputId": "3a75ce13-77c9-497f-aab1-d94fc2068405"
      },
      "execution_count": 33,
      "outputs": [
        {
          "output_type": "display_data",
          "data": {
            "text/plain": [
              "<IPython.core.display.HTML object>"
            ],
            "text/html": [
              "\n",
              "  <style>\n",
              "    pre {\n",
              "        white-space: pre-wrap;\n",
              "    }\n",
              "  </style>\n",
              "  "
            ]
          },
          "metadata": {}
        },
        {
          "output_type": "display_data",
          "data": {
            "text/plain": [
              "computing model predictions:   0%|          | 0/5 [00:00<?, ?it/s]"
            ],
            "application/vnd.jupyter.widget-view+json": {
              "version_major": 2,
              "version_minor": 0,
              "model_id": "6bd46e91ec3d4ad49c1ebfbb0895e412"
            }
          },
          "metadata": {}
        }
      ]
    },
    {
      "cell_type": "code",
      "source": [
        "\n",
        "PTB_df_base = ptb_out_path / \"ptb_testset_model_predictions\"\n",
        "\n",
        "PTB_df.to_csv(PTB_df_base.with_suffix('.csv'), index=False)\n",
        "PTB_df.to_excel(PTB_df_base.with_suffix('.xlsx'), index=False)"
      ],
      "metadata": {
        "id": "pxEFaGWIeiJ0",
        "colab": {
          "base_uri": "https://localhost:8080/",
          "height": 17
        },
        "outputId": "50789eae-a12a-4426-9cb9-665e3989adad"
      },
      "execution_count": 34,
      "outputs": [
        {
          "output_type": "display_data",
          "data": {
            "text/plain": [
              "<IPython.core.display.HTML object>"
            ],
            "text/html": [
              "\n",
              "  <style>\n",
              "    pre {\n",
              "        white-space: pre-wrap;\n",
              "    }\n",
              "  </style>\n",
              "  "
            ]
          },
          "metadata": {}
        }
      ]
    },
    {
      "cell_type": "code",
      "source": [
        "PTB_df.head()"
      ],
      "metadata": {
        "id": "AxYR8hOSeiJ0",
        "colab": {
          "base_uri": "https://localhost:8080/",
          "height": 206
        },
        "outputId": "04ddc197-999a-4b8a-a722-d2864d3974e7"
      },
      "execution_count": 35,
      "outputs": [
        {
          "output_type": "display_data",
          "data": {
            "text/plain": [
              "<IPython.core.display.HTML object>"
            ],
            "text/html": [
              "\n",
              "  <style>\n",
              "    pre {\n",
              "        white-space: pre-wrap;\n",
              "    }\n",
              "  </style>\n",
              "  "
            ]
          },
          "metadata": {}
        },
        {
          "output_type": "execute_result",
          "data": {
            "text/plain": [
              "   actual_class  BILSTM187_ptb-2_preds  BidirGRU_ptb_preds  CNN_PTB_preds  \\\n",
              "0             0                      0                   0              0   \n",
              "1             1                      1                   1              1   \n",
              "2             0                      0                   0              0   \n",
              "3             1                      1                   1              1   \n",
              "4             1                      1                   1              1   \n",
              "\n",
              "   GRU_ptb_preds  RNN_PTB_preds  \n",
              "0              0              1  \n",
              "1              1              1  \n",
              "2              0              1  \n",
              "3              1              1  \n",
              "4              1              1  "
            ],
            "text/html": [
              "\n",
              "  <div id=\"df-3eccf75c-b17e-40a0-a896-74422c5a1b96\">\n",
              "    <div class=\"colab-df-container\">\n",
              "      <div>\n",
              "<style scoped>\n",
              "    .dataframe tbody tr th:only-of-type {\n",
              "        vertical-align: middle;\n",
              "    }\n",
              "\n",
              "    .dataframe tbody tr th {\n",
              "        vertical-align: top;\n",
              "    }\n",
              "\n",
              "    .dataframe thead th {\n",
              "        text-align: right;\n",
              "    }\n",
              "</style>\n",
              "<table border=\"1\" class=\"dataframe\">\n",
              "  <thead>\n",
              "    <tr style=\"text-align: right;\">\n",
              "      <th></th>\n",
              "      <th>actual_class</th>\n",
              "      <th>BILSTM187_ptb-2_preds</th>\n",
              "      <th>BidirGRU_ptb_preds</th>\n",
              "      <th>CNN_PTB_preds</th>\n",
              "      <th>GRU_ptb_preds</th>\n",
              "      <th>RNN_PTB_preds</th>\n",
              "    </tr>\n",
              "  </thead>\n",
              "  <tbody>\n",
              "    <tr>\n",
              "      <th>0</th>\n",
              "      <td>0</td>\n",
              "      <td>0</td>\n",
              "      <td>0</td>\n",
              "      <td>0</td>\n",
              "      <td>0</td>\n",
              "      <td>1</td>\n",
              "    </tr>\n",
              "    <tr>\n",
              "      <th>1</th>\n",
              "      <td>1</td>\n",
              "      <td>1</td>\n",
              "      <td>1</td>\n",
              "      <td>1</td>\n",
              "      <td>1</td>\n",
              "      <td>1</td>\n",
              "    </tr>\n",
              "    <tr>\n",
              "      <th>2</th>\n",
              "      <td>0</td>\n",
              "      <td>0</td>\n",
              "      <td>0</td>\n",
              "      <td>0</td>\n",
              "      <td>0</td>\n",
              "      <td>1</td>\n",
              "    </tr>\n",
              "    <tr>\n",
              "      <th>3</th>\n",
              "      <td>1</td>\n",
              "      <td>1</td>\n",
              "      <td>1</td>\n",
              "      <td>1</td>\n",
              "      <td>1</td>\n",
              "      <td>1</td>\n",
              "    </tr>\n",
              "    <tr>\n",
              "      <th>4</th>\n",
              "      <td>1</td>\n",
              "      <td>1</td>\n",
              "      <td>1</td>\n",
              "      <td>1</td>\n",
              "      <td>1</td>\n",
              "      <td>1</td>\n",
              "    </tr>\n",
              "  </tbody>\n",
              "</table>\n",
              "</div>\n",
              "      <button class=\"colab-df-convert\" onclick=\"convertToInteractive('df-3eccf75c-b17e-40a0-a896-74422c5a1b96')\"\n",
              "              title=\"Convert this dataframe to an interactive table.\"\n",
              "              style=\"display:none;\">\n",
              "        \n",
              "  <svg xmlns=\"http://www.w3.org/2000/svg\" height=\"24px\"viewBox=\"0 0 24 24\"\n",
              "       width=\"24px\">\n",
              "    <path d=\"M0 0h24v24H0V0z\" fill=\"none\"/>\n",
              "    <path d=\"M18.56 5.44l.94 2.06.94-2.06 2.06-.94-2.06-.94-.94-2.06-.94 2.06-2.06.94zm-11 1L8.5 8.5l.94-2.06 2.06-.94-2.06-.94L8.5 2.5l-.94 2.06-2.06.94zm10 10l.94 2.06.94-2.06 2.06-.94-2.06-.94-.94-2.06-.94 2.06-2.06.94z\"/><path d=\"M17.41 7.96l-1.37-1.37c-.4-.4-.92-.59-1.43-.59-.52 0-1.04.2-1.43.59L10.3 9.45l-7.72 7.72c-.78.78-.78 2.05 0 2.83L4 21.41c.39.39.9.59 1.41.59.51 0 1.02-.2 1.41-.59l7.78-7.78 2.81-2.81c.8-.78.8-2.07 0-2.86zM5.41 20L4 18.59l7.72-7.72 1.47 1.35L5.41 20z\"/>\n",
              "  </svg>\n",
              "      </button>\n",
              "      \n",
              "  <style>\n",
              "    .colab-df-container {\n",
              "      display:flex;\n",
              "      flex-wrap:wrap;\n",
              "      gap: 12px;\n",
              "    }\n",
              "\n",
              "    .colab-df-convert {\n",
              "      background-color: #E8F0FE;\n",
              "      border: none;\n",
              "      border-radius: 50%;\n",
              "      cursor: pointer;\n",
              "      display: none;\n",
              "      fill: #1967D2;\n",
              "      height: 32px;\n",
              "      padding: 0 0 0 0;\n",
              "      width: 32px;\n",
              "    }\n",
              "\n",
              "    .colab-df-convert:hover {\n",
              "      background-color: #E2EBFA;\n",
              "      box-shadow: 0px 1px 2px rgba(60, 64, 67, 0.3), 0px 1px 3px 1px rgba(60, 64, 67, 0.15);\n",
              "      fill: #174EA6;\n",
              "    }\n",
              "\n",
              "    [theme=dark] .colab-df-convert {\n",
              "      background-color: #3B4455;\n",
              "      fill: #D2E3FC;\n",
              "    }\n",
              "\n",
              "    [theme=dark] .colab-df-convert:hover {\n",
              "      background-color: #434B5C;\n",
              "      box-shadow: 0px 1px 3px 1px rgba(0, 0, 0, 0.15);\n",
              "      filter: drop-shadow(0px 1px 2px rgba(0, 0, 0, 0.3));\n",
              "      fill: #FFFFFF;\n",
              "    }\n",
              "  </style>\n",
              "\n",
              "      <script>\n",
              "        const buttonEl =\n",
              "          document.querySelector('#df-3eccf75c-b17e-40a0-a896-74422c5a1b96 button.colab-df-convert');\n",
              "        buttonEl.style.display =\n",
              "          google.colab.kernel.accessAllowed ? 'block' : 'none';\n",
              "\n",
              "        async function convertToInteractive(key) {\n",
              "          const element = document.querySelector('#df-3eccf75c-b17e-40a0-a896-74422c5a1b96');\n",
              "          const dataTable =\n",
              "            await google.colab.kernel.invokeFunction('convertToInteractive',\n",
              "                                                     [key], {});\n",
              "          if (!dataTable) return;\n",
              "\n",
              "          const docLinkHtml = 'Like what you see? Visit the ' +\n",
              "            '<a target=\"_blank\" href=https://colab.research.google.com/notebooks/data_table.ipynb>data table notebook</a>'\n",
              "            + ' to learn more about interactive tables.';\n",
              "          element.innerHTML = '';\n",
              "          dataTable['output_type'] = 'display_data';\n",
              "          await google.colab.output.renderOutput(dataTable, element);\n",
              "          const docLink = document.createElement('div');\n",
              "          docLink.innerHTML = docLinkHtml;\n",
              "          element.appendChild(docLink);\n",
              "        }\n",
              "      </script>\n",
              "    </div>\n",
              "  </div>\n",
              "  "
            ]
          },
          "metadata": {},
          "execution_count": 35
        }
      ]
    },
    {
      "cell_type": "markdown",
      "source": [
        "## re-compute the metrics \n"
      ],
      "metadata": {
        "id": "pia0M9du4LeV"
      }
    },
    {
      "cell_type": "code",
      "source": [
        "from sklearn.metrics import balanced_accuracy_score, roc_auc_score, accuracy_score\n",
        "\n",
        "ptb_metric_cols = [\"model_filename\", \"balanced_accuracy_score\", \"accuracy\",\n",
        "                    \"roc_auc_score\", \"f1_score\", \"matthews_corrcoef\"]\n",
        "ptb_metrics = pd.DataFrame(columns=ptb_metric_cols)\n",
        "\n",
        "ptb_trained_models = list(PTB_df.columns)\n",
        "ptb_trained_models.remove('actual_class')\n",
        "\n",
        "for trained_model in ptb_trained_models:\n",
        "\n",
        "    y_true = PTB_df.actual_class.values\n",
        "    y_pred = PTB_df[trained_model].values\n",
        "    _bas = balanced_accuracy_score(y_true, y_pred)\n",
        "    _acc = accuracy_score(y_true, y_pred)\n",
        "    _rocauc = roc_auc_score(y_true, y_pred, )\n",
        "    _f1 = f1_score(y_true, y_pred)\n",
        "    _mcc = matthews_corrcoef(y_true, y_pred)\n",
        "    _this_result = [trained_model, _bas, _acc, _rocauc, _f1, _mcc]\n",
        "    _df = pd.DataFrame(columns=ptb_metric_cols)\n",
        "    _df.loc[0] = _this_result\n",
        "    ptb_metrics = pd.concat([ptb_metrics, _df], axis=0)\n",
        "\n",
        "ptb_metrics.sort_values(\n",
        "                        by='roc_auc_score',\n",
        "                        ascending=False,\n",
        "                        inplace=True,\n",
        "                    )\n",
        "ptb_metrics.head(10)"
      ],
      "metadata": {
        "colab": {
          "base_uri": "https://localhost:8080/",
          "height": 206
        },
        "outputId": "570155f3-3366-4184-800a-80f5771aca60",
        "id": "M2bPXI0R4Lea"
      },
      "execution_count": 39,
      "outputs": [
        {
          "output_type": "display_data",
          "data": {
            "text/plain": [
              "<IPython.core.display.HTML object>"
            ],
            "text/html": [
              "\n",
              "  <style>\n",
              "    pre {\n",
              "        white-space: pre-wrap;\n",
              "    }\n",
              "  </style>\n",
              "  "
            ]
          },
          "metadata": {}
        },
        {
          "output_type": "execute_result",
          "data": {
            "text/plain": [
              "          model_filename  balanced_accuracy_score  accuracy  roc_auc_score  \\\n",
              "0          GRU_ptb_preds                 0.983929  0.988320       0.983929   \n",
              "0     BidirGRU_ptb_preds                 0.983120  0.986603       0.983120   \n",
              "0  BILSTM187_ptb-2_preds                 0.980836  0.983854       0.980836   \n",
              "0          CNN_PTB_preds                 0.898384  0.918585       0.898384   \n",
              "0          RNN_PTB_preds                 0.595476  0.726554       0.595476   \n",
              "\n",
              "   f1_score  matthews_corrcoef  \n",
              "0  0.991928           0.970833  \n",
              "0  0.990725           0.966607  \n",
              "0  0.988807           0.959857  \n",
              "0  0.943639           0.797071  \n",
              "0  0.824670           0.231881  "
            ],
            "text/html": [
              "\n",
              "  <div id=\"df-170866bf-d768-4c5f-a48c-33d25593959d\">\n",
              "    <div class=\"colab-df-container\">\n",
              "      <div>\n",
              "<style scoped>\n",
              "    .dataframe tbody tr th:only-of-type {\n",
              "        vertical-align: middle;\n",
              "    }\n",
              "\n",
              "    .dataframe tbody tr th {\n",
              "        vertical-align: top;\n",
              "    }\n",
              "\n",
              "    .dataframe thead th {\n",
              "        text-align: right;\n",
              "    }\n",
              "</style>\n",
              "<table border=\"1\" class=\"dataframe\">\n",
              "  <thead>\n",
              "    <tr style=\"text-align: right;\">\n",
              "      <th></th>\n",
              "      <th>model_filename</th>\n",
              "      <th>balanced_accuracy_score</th>\n",
              "      <th>accuracy</th>\n",
              "      <th>roc_auc_score</th>\n",
              "      <th>f1_score</th>\n",
              "      <th>matthews_corrcoef</th>\n",
              "    </tr>\n",
              "  </thead>\n",
              "  <tbody>\n",
              "    <tr>\n",
              "      <th>0</th>\n",
              "      <td>GRU_ptb_preds</td>\n",
              "      <td>0.983929</td>\n",
              "      <td>0.988320</td>\n",
              "      <td>0.983929</td>\n",
              "      <td>0.991928</td>\n",
              "      <td>0.970833</td>\n",
              "    </tr>\n",
              "    <tr>\n",
              "      <th>0</th>\n",
              "      <td>BidirGRU_ptb_preds</td>\n",
              "      <td>0.983120</td>\n",
              "      <td>0.986603</td>\n",
              "      <td>0.983120</td>\n",
              "      <td>0.990725</td>\n",
              "      <td>0.966607</td>\n",
              "    </tr>\n",
              "    <tr>\n",
              "      <th>0</th>\n",
              "      <td>BILSTM187_ptb-2_preds</td>\n",
              "      <td>0.980836</td>\n",
              "      <td>0.983854</td>\n",
              "      <td>0.980836</td>\n",
              "      <td>0.988807</td>\n",
              "      <td>0.959857</td>\n",
              "    </tr>\n",
              "    <tr>\n",
              "      <th>0</th>\n",
              "      <td>CNN_PTB_preds</td>\n",
              "      <td>0.898384</td>\n",
              "      <td>0.918585</td>\n",
              "      <td>0.898384</td>\n",
              "      <td>0.943639</td>\n",
              "      <td>0.797071</td>\n",
              "    </tr>\n",
              "    <tr>\n",
              "      <th>0</th>\n",
              "      <td>RNN_PTB_preds</td>\n",
              "      <td>0.595476</td>\n",
              "      <td>0.726554</td>\n",
              "      <td>0.595476</td>\n",
              "      <td>0.824670</td>\n",
              "      <td>0.231881</td>\n",
              "    </tr>\n",
              "  </tbody>\n",
              "</table>\n",
              "</div>\n",
              "      <button class=\"colab-df-convert\" onclick=\"convertToInteractive('df-170866bf-d768-4c5f-a48c-33d25593959d')\"\n",
              "              title=\"Convert this dataframe to an interactive table.\"\n",
              "              style=\"display:none;\">\n",
              "        \n",
              "  <svg xmlns=\"http://www.w3.org/2000/svg\" height=\"24px\"viewBox=\"0 0 24 24\"\n",
              "       width=\"24px\">\n",
              "    <path d=\"M0 0h24v24H0V0z\" fill=\"none\"/>\n",
              "    <path d=\"M18.56 5.44l.94 2.06.94-2.06 2.06-.94-2.06-.94-.94-2.06-.94 2.06-2.06.94zm-11 1L8.5 8.5l.94-2.06 2.06-.94-2.06-.94L8.5 2.5l-.94 2.06-2.06.94zm10 10l.94 2.06.94-2.06 2.06-.94-2.06-.94-.94-2.06-.94 2.06-2.06.94z\"/><path d=\"M17.41 7.96l-1.37-1.37c-.4-.4-.92-.59-1.43-.59-.52 0-1.04.2-1.43.59L10.3 9.45l-7.72 7.72c-.78.78-.78 2.05 0 2.83L4 21.41c.39.39.9.59 1.41.59.51 0 1.02-.2 1.41-.59l7.78-7.78 2.81-2.81c.8-.78.8-2.07 0-2.86zM5.41 20L4 18.59l7.72-7.72 1.47 1.35L5.41 20z\"/>\n",
              "  </svg>\n",
              "      </button>\n",
              "      \n",
              "  <style>\n",
              "    .colab-df-container {\n",
              "      display:flex;\n",
              "      flex-wrap:wrap;\n",
              "      gap: 12px;\n",
              "    }\n",
              "\n",
              "    .colab-df-convert {\n",
              "      background-color: #E8F0FE;\n",
              "      border: none;\n",
              "      border-radius: 50%;\n",
              "      cursor: pointer;\n",
              "      display: none;\n",
              "      fill: #1967D2;\n",
              "      height: 32px;\n",
              "      padding: 0 0 0 0;\n",
              "      width: 32px;\n",
              "    }\n",
              "\n",
              "    .colab-df-convert:hover {\n",
              "      background-color: #E2EBFA;\n",
              "      box-shadow: 0px 1px 2px rgba(60, 64, 67, 0.3), 0px 1px 3px 1px rgba(60, 64, 67, 0.15);\n",
              "      fill: #174EA6;\n",
              "    }\n",
              "\n",
              "    [theme=dark] .colab-df-convert {\n",
              "      background-color: #3B4455;\n",
              "      fill: #D2E3FC;\n",
              "    }\n",
              "\n",
              "    [theme=dark] .colab-df-convert:hover {\n",
              "      background-color: #434B5C;\n",
              "      box-shadow: 0px 1px 3px 1px rgba(0, 0, 0, 0.15);\n",
              "      filter: drop-shadow(0px 1px 2px rgba(0, 0, 0, 0.3));\n",
              "      fill: #FFFFFF;\n",
              "    }\n",
              "  </style>\n",
              "\n",
              "      <script>\n",
              "        const buttonEl =\n",
              "          document.querySelector('#df-170866bf-d768-4c5f-a48c-33d25593959d button.colab-df-convert');\n",
              "        buttonEl.style.display =\n",
              "          google.colab.kernel.accessAllowed ? 'block' : 'none';\n",
              "\n",
              "        async function convertToInteractive(key) {\n",
              "          const element = document.querySelector('#df-170866bf-d768-4c5f-a48c-33d25593959d');\n",
              "          const dataTable =\n",
              "            await google.colab.kernel.invokeFunction('convertToInteractive',\n",
              "                                                     [key], {});\n",
              "          if (!dataTable) return;\n",
              "\n",
              "          const docLinkHtml = 'Like what you see? Visit the ' +\n",
              "            '<a target=\"_blank\" href=https://colab.research.google.com/notebooks/data_table.ipynb>data table notebook</a>'\n",
              "            + ' to learn more about interactive tables.';\n",
              "          element.innerHTML = '';\n",
              "          dataTable['output_type'] = 'display_data';\n",
              "          await google.colab.output.renderOutput(dataTable, element);\n",
              "          const docLink = document.createElement('div');\n",
              "          docLink.innerHTML = docLinkHtml;\n",
              "          element.appendChild(docLink);\n",
              "        }\n",
              "      </script>\n",
              "    </div>\n",
              "  </div>\n",
              "  "
            ]
          },
          "metadata": {},
          "execution_count": 39
        }
      ]
    },
    {
      "cell_type": "code",
      "source": [
        "ptb_metrics_base = metric_comparison_dir  / \"ptb_trained_model_metrics\"\n",
        "ptb_metrics.to_csv(ptb_metrics_base.with_suffix('.csv'), index=False)\n",
        "ptb_metrics.to_excel(ptb_metrics_base.with_suffix('.xlsx'), index=False)"
      ],
      "metadata": {
        "colab": {
          "base_uri": "https://localhost:8080/",
          "height": 17
        },
        "outputId": "8dca68a0-30ca-4efd-9818-f879794aab88",
        "id": "QIbwQeai4Lee"
      },
      "execution_count": 40,
      "outputs": [
        {
          "output_type": "display_data",
          "data": {
            "text/plain": [
              "<IPython.core.display.HTML object>"
            ],
            "text/html": [
              "\n",
              "  <style>\n",
              "    pre {\n",
              "        white-space: pre-wrap;\n",
              "    }\n",
              "  </style>\n",
              "  "
            ]
          },
          "metadata": {}
        }
      ]
    },
    {
      "cell_type": "markdown",
      "source": [
        "---"
      ],
      "metadata": {
        "id": "_lzkqlYegY3l"
      }
    },
    {
      "cell_type": "markdown",
      "source": [
        "_NOTE: ensembling tests moved to separate notebooks_\n"
      ],
      "metadata": {
        "id": "LhKE8CgYXIiV"
      }
    },
    {
      "cell_type": "markdown",
      "source": [
        "# Plots - Visual Comparison\n",
        "\n",
        "\n",
        "**note that this just compares the individual models work. It does not include autoML baselines OR ensembles completed on the individual model predictions for a given dataset**\n",
        "\n"
      ],
      "metadata": {
        "id": "jPMOsUwWd_tp"
      }
    },
    {
      "cell_type": "code",
      "source": [
        "plot_height =  480#@param {type:\"number\"}\n",
        "plot_width = int(plot_height * 1.61)"
      ],
      "metadata": {
        "colab": {
          "base_uri": "https://localhost:8080/",
          "height": 17
        },
        "cellView": "form",
        "id": "qUTv7y7rll9F",
        "outputId": "066310e0-165b-48bb-bba1-bbff836c7b4c"
      },
      "execution_count": 67,
      "outputs": [
        {
          "output_type": "display_data",
          "data": {
            "text/plain": [
              "<IPython.core.display.HTML object>"
            ],
            "text/html": [
              "\n",
              "  <style>\n",
              "    pre {\n",
              "        white-space: pre-wrap;\n",
              "    }\n",
              "  </style>\n",
              "  "
            ]
          },
          "metadata": {}
        }
      ]
    },
    {
      "cell_type": "markdown",
      "source": [
        "## MITBIH plots"
      ],
      "metadata": {
        "id": "Ya5F8P41ldjy"
      }
    },
    {
      "cell_type": "code",
      "source": [
        "MIT_metrics.columns\n",
        "\n",
        "MIT_plot = MIT_metrics[MIT_metrics['balanced_accuracy_score'] >= 0.4]"
      ],
      "metadata": {
        "colab": {
          "base_uri": "https://localhost:8080/",
          "height": 17
        },
        "id": "D8E4w6avke-1",
        "outputId": "6a28e265-9ca6-4531-9371-c6d65cb4df25"
      },
      "execution_count": 46,
      "outputs": [
        {
          "output_type": "display_data",
          "data": {
            "text/plain": [
              "<IPython.core.display.HTML object>"
            ],
            "text/html": [
              "\n",
              "  <style>\n",
              "    pre {\n",
              "        white-space: pre-wrap;\n",
              "    }\n",
              "  </style>\n",
              "  "
            ]
          },
          "metadata": {}
        }
      ]
    },
    {
      "cell_type": "code",
      "source": [
        "mit_scatter = px.scatter(MIT_plot,\n",
        "                         x='f1_score',\n",
        "                         y='balanced_accuracy_score', \n",
        "                         color='model_filename',\n",
        "                         title=\"MITBIH - F1 Score & Balanced Accuracy - Individual Models - Scatter (All)\",\n",
        "                         template='ggplot2', \n",
        "                         hover_data=list(MIT_plot.columns),\n",
        "                         height=plot_height, width=plot_width,\n",
        "                         )\n",
        "\n",
        "mit_scatter.show()"
      ],
      "metadata": {
        "colab": {
          "base_uri": "https://localhost:8080/",
          "height": 497
        },
        "id": "D65sgNZJeQc5",
        "outputId": "2b9444b8-e0de-4c50-fba9-9a6bb3c0f0f6"
      },
      "execution_count": 68,
      "outputs": [
        {
          "output_type": "display_data",
          "data": {
            "text/plain": [
              "<IPython.core.display.HTML object>"
            ],
            "text/html": [
              "\n",
              "  <style>\n",
              "    pre {\n",
              "        white-space: pre-wrap;\n",
              "    }\n",
              "  </style>\n",
              "  "
            ]
          },
          "metadata": {}
        },
        {
          "output_type": "display_data",
          "data": {
            "text/html": [
              "<html>\n",
              "<head><meta charset=\"utf-8\" /></head>\n",
              "<body>\n",
              "    <div>            <script src=\"https://cdnjs.cloudflare.com/ajax/libs/mathjax/2.7.5/MathJax.js?config=TeX-AMS-MML_SVG\"></script><script type=\"text/javascript\">if (window.MathJax) {MathJax.Hub.Config({SVG: {font: \"STIX-Web\"}});}</script>                <script type=\"text/javascript\">window.PlotlyConfig = {MathJaxConfig: 'local'};</script>\n",
              "        <script src=\"https://cdn.plot.ly/plotly-2.9.0.min.js\"></script>                <div id=\"7db0a515-52e9-4bea-ac15-0d669f971249\" class=\"plotly-graph-div\" style=\"height:480px; width:772px;\"></div>            <script type=\"text/javascript\">                                    window.PLOTLYENV=window.PLOTLYENV || {};                                    if (document.getElementById(\"7db0a515-52e9-4bea-ac15-0d669f971249\")) {                    Plotly.newPlot(                        \"7db0a515-52e9-4bea-ac15-0d669f971249\",                        [{\"customdata\":[[\"BidirGRU_BS=1024_MITBIH_biGRU_weights_preds\",0.9871185821304587,0.957311507919293]],\"hovertemplate\":\"model_filename=%{customdata[0]}<br>f1_score=%{x}<br>balanced_accuracy_score=%{y}<br>accuracy=%{customdata[1]}<br>matthews_corrcoef=%{customdata[2]}<extra></extra>\",\"legendgroup\":\"BidirGRU_BS=1024_MITBIH_biGRU_weights_preds\",\"marker\":{\"color\":\"#F8766D\",\"symbol\":\"circle\"},\"mode\":\"markers\",\"name\":\"BidirGRU_BS=1024_MITBIH_biGRU_weights_preds\",\"orientation\":\"v\",\"showlegend\":true,\"x\":[0.9247785679882142],\"xaxis\":\"x\",\"y\":[0.9038502447454684],\"yaxis\":\"y\",\"type\":\"scatter\"},{\"customdata\":[[\"BILSTM187_mitbih_MITBIH_weights_preds\",0.9859309336744017,0.9533450413269955]],\"hovertemplate\":\"model_filename=%{customdata[0]}<br>f1_score=%{x}<br>balanced_accuracy_score=%{y}<br>accuracy=%{customdata[1]}<br>matthews_corrcoef=%{customdata[2]}<extra></extra>\",\"legendgroup\":\"BILSTM187_mitbih_MITBIH_weights_preds\",\"marker\":{\"color\":\"#A3A500\",\"symbol\":\"circle\"},\"mode\":\"markers\",\"name\":\"BILSTM187_mitbih_MITBIH_weights_preds\",\"orientation\":\"v\",\"showlegend\":true,\"x\":[0.9163345770572539],\"xaxis\":\"x\",\"y\":[0.8975729497533749],\"yaxis\":\"y\",\"type\":\"scatter\"},{\"customdata\":[[\"BILSTM187_mitbih_MITBIH_biGRU_weights_preds\",0.9845605700712589,0.9486790567025004]],\"hovertemplate\":\"model_filename=%{customdata[0]}<br>f1_score=%{x}<br>balanced_accuracy_score=%{y}<br>accuracy=%{customdata[1]}<br>matthews_corrcoef=%{customdata[2]}<extra></extra>\",\"legendgroup\":\"BILSTM187_mitbih_MITBIH_biGRU_weights_preds\",\"marker\":{\"color\":\"#00BF7D\",\"symbol\":\"circle\"},\"mode\":\"markers\",\"name\":\"BILSTM187_mitbih_MITBIH_biGRU_weights_preds\",\"orientation\":\"v\",\"showlegend\":true,\"x\":[0.9104976848481081],\"xaxis\":\"x\",\"y\":[0.8856538925486467],\"yaxis\":\"y\",\"type\":\"scatter\"},{\"customdata\":[[\"GRU_mitbih_MITBIH_weights_preds\",0.9789877580851453,0.929741581387028]],\"hovertemplate\":\"model_filename=%{customdata[0]}<br>f1_score=%{x}<br>balanced_accuracy_score=%{y}<br>accuracy=%{customdata[1]}<br>matthews_corrcoef=%{customdata[2]}<extra></extra>\",\"legendgroup\":\"GRU_mitbih_MITBIH_weights_preds\",\"marker\":{\"color\":\"#00B0F6\",\"symbol\":\"circle\"},\"mode\":\"markers\",\"name\":\"GRU_mitbih_MITBIH_weights_preds\",\"orientation\":\"v\",\"showlegend\":true,\"x\":[0.8882279762685119],\"xaxis\":\"x\",\"y\":[0.8563174189814159],\"yaxis\":\"y\",\"type\":\"scatter\"},{\"customdata\":[[\"CNN_mitbih_MITBIH_biGRU_weights_preds\",0.9757445642243742,0.9188782481009926]],\"hovertemplate\":\"model_filename=%{customdata[0]}<br>f1_score=%{x}<br>balanced_accuracy_score=%{y}<br>accuracy=%{customdata[1]}<br>matthews_corrcoef=%{customdata[2]}<extra></extra>\",\"legendgroup\":\"CNN_mitbih_MITBIH_biGRU_weights_preds\",\"marker\":{\"color\":\"#E76BF3\",\"symbol\":\"circle\"},\"mode\":\"markers\",\"name\":\"CNN_mitbih_MITBIH_biGRU_weights_preds\",\"orientation\":\"v\",\"showlegend\":true,\"x\":[0.8739764315520855],\"xaxis\":\"x\",\"y\":[0.8478730878183471],\"yaxis\":\"y\",\"type\":\"scatter\"},{\"customdata\":[[\"CNN_mitbih_MITBIH_weights_preds\",0.9744198794080029,0.9141863899957146]],\"hovertemplate\":\"model_filename=%{customdata[0]}<br>f1_score=%{x}<br>balanced_accuracy_score=%{y}<br>accuracy=%{customdata[1]}<br>matthews_corrcoef=%{customdata[2]}<extra></extra>\",\"legendgroup\":\"CNN_mitbih_MITBIH_weights_preds\",\"marker\":{\"color\":\"#F8766D\",\"symbol\":\"circle\"},\"mode\":\"markers\",\"name\":\"CNN_mitbih_MITBIH_weights_preds\",\"orientation\":\"v\",\"showlegend\":true,\"x\":[0.8638296783291999],\"xaxis\":\"x\",\"y\":[0.8329139160857055],\"yaxis\":\"y\",\"type\":\"scatter\"},{\"customdata\":[[\"LTSM_mitbih_MITBIH_weights_preds\",0.9708569340398319,0.9020618266044944]],\"hovertemplate\":\"model_filename=%{customdata[0]}<br>f1_score=%{x}<br>balanced_accuracy_score=%{y}<br>accuracy=%{customdata[1]}<br>matthews_corrcoef=%{customdata[2]}<extra></extra>\",\"legendgroup\":\"LTSM_mitbih_MITBIH_weights_preds\",\"marker\":{\"color\":\"#A3A500\",\"symbol\":\"circle\"},\"mode\":\"markers\",\"name\":\"LTSM_mitbih_MITBIH_weights_preds\",\"orientation\":\"v\",\"showlegend\":true,\"x\":[0.8524442325602617],\"xaxis\":\"x\",\"y\":[0.8261099009899127],\"yaxis\":\"y\",\"type\":\"scatter\"},{\"customdata\":[[\"SIMPLE_RNN_mitbih_MITBIH_weights_preds\",0.9549607162433765,0.8474881441125122]],\"hovertemplate\":\"model_filename=%{customdata[0]}<br>f1_score=%{x}<br>balanced_accuracy_score=%{y}<br>accuracy=%{customdata[1]}<br>matthews_corrcoef=%{customdata[2]}<extra></extra>\",\"legendgroup\":\"SIMPLE_RNN_mitbih_MITBIH_weights_preds\",\"marker\":{\"color\":\"#00BF7D\",\"symbol\":\"circle\"},\"mode\":\"markers\",\"name\":\"SIMPLE_RNN_mitbih_MITBIH_weights_preds\",\"orientation\":\"v\",\"showlegend\":true,\"x\":[0.7716234850140811],\"xaxis\":\"x\",\"y\":[0.7536954187875319],\"yaxis\":\"y\",\"type\":\"scatter\"},{\"customdata\":[[\"BILSTM_mitbih_MITBIH_weights_preds\",0.9524483829709482,0.8354867493404948]],\"hovertemplate\":\"model_filename=%{customdata[0]}<br>f1_score=%{x}<br>balanced_accuracy_score=%{y}<br>accuracy=%{customdata[1]}<br>matthews_corrcoef=%{customdata[2]}<extra></extra>\",\"legendgroup\":\"BILSTM_mitbih_MITBIH_weights_preds\",\"marker\":{\"color\":\"#00B0F6\",\"symbol\":\"circle\"},\"mode\":\"markers\",\"name\":\"BILSTM_mitbih_MITBIH_weights_preds\",\"orientation\":\"v\",\"showlegend\":true,\"x\":[0.7160623197087354],\"xaxis\":\"x\",\"y\":[0.6573433022506142],\"yaxis\":\"y\",\"type\":\"scatter\"},{\"customdata\":[[\"BIRNN187_mitbih_MITBIH_weights_preds\",0.9300200986661794,0.7540117608000284]],\"hovertemplate\":\"model_filename=%{customdata[0]}<br>f1_score=%{x}<br>balanced_accuracy_score=%{y}<br>accuracy=%{customdata[1]}<br>matthews_corrcoef=%{customdata[2]}<extra></extra>\",\"legendgroup\":\"BIRNN187_mitbih_MITBIH_weights_preds\",\"marker\":{\"color\":\"#E76BF3\",\"symbol\":\"circle\"},\"mode\":\"markers\",\"name\":\"BIRNN187_mitbih_MITBIH_weights_preds\",\"orientation\":\"v\",\"showlegend\":true,\"x\":[0.6162829579721304],\"xaxis\":\"x\",\"y\":[0.5779338075685911],\"yaxis\":\"y\",\"type\":\"scatter\"},{\"customdata\":[[\"RNN_mitbih_MITBIH_biGRU_weights_preds\",0.929654668372008,0.7497581686917232]],\"hovertemplate\":\"model_filename=%{customdata[0]}<br>f1_score=%{x}<br>balanced_accuracy_score=%{y}<br>accuracy=%{customdata[1]}<br>matthews_corrcoef=%{customdata[2]}<extra></extra>\",\"legendgroup\":\"RNN_mitbih_MITBIH_biGRU_weights_preds\",\"marker\":{\"color\":\"#F8766D\",\"symbol\":\"circle\"},\"mode\":\"markers\",\"name\":\"RNN_mitbih_MITBIH_biGRU_weights_preds\",\"orientation\":\"v\",\"showlegend\":true,\"x\":[0.6078152127867309],\"xaxis\":\"x\",\"y\":[0.5561785175832606],\"yaxis\":\"y\",\"type\":\"scatter\"},{\"customdata\":[[\"BidirGRU_MITBIH_weights_preds\",0.9359583409464645,0.7726782395066017]],\"hovertemplate\":\"model_filename=%{customdata[0]}<br>f1_score=%{x}<br>balanced_accuracy_score=%{y}<br>accuracy=%{customdata[1]}<br>matthews_corrcoef=%{customdata[2]}<extra></extra>\",\"legendgroup\":\"BidirGRU_MITBIH_weights_preds\",\"marker\":{\"color\":\"#A3A500\",\"symbol\":\"circle\"},\"mode\":\"markers\",\"name\":\"BidirGRU_MITBIH_weights_preds\",\"orientation\":\"v\",\"showlegend\":true,\"x\":[0.5750313546007909],\"xaxis\":\"x\",\"y\":[0.5362450657966464],\"yaxis\":\"y\",\"type\":\"scatter\"},{\"customdata\":[[\"BidirGRU_MITBIH_biGRU_weights_preds\",0.9298830623058651,0.7500463999864788]],\"hovertemplate\":\"model_filename=%{customdata[0]}<br>f1_score=%{x}<br>balanced_accuracy_score=%{y}<br>accuracy=%{customdata[1]}<br>matthews_corrcoef=%{customdata[2]}<extra></extra>\",\"legendgroup\":\"BidirGRU_MITBIH_biGRU_weights_preds\",\"marker\":{\"color\":\"#00BF7D\",\"symbol\":\"circle\"},\"mode\":\"markers\",\"name\":\"BidirGRU_MITBIH_biGRU_weights_preds\",\"orientation\":\"v\",\"showlegend\":true,\"x\":[0.5710219816128614],\"xaxis\":\"x\",\"y\":[0.5307456485194285],\"yaxis\":\"y\",\"type\":\"scatter\"},{\"customdata\":[[\"BIRNN10_mitbih_MITBIH_weights_preds\",0.9236707473049516,0.7256149008752992]],\"hovertemplate\":\"model_filename=%{customdata[0]}<br>f1_score=%{x}<br>balanced_accuracy_score=%{y}<br>accuracy=%{customdata[1]}<br>matthews_corrcoef=%{customdata[2]}<extra></extra>\",\"legendgroup\":\"BIRNN10_mitbih_MITBIH_weights_preds\",\"marker\":{\"color\":\"#00B0F6\",\"symbol\":\"circle\"},\"mode\":\"markers\",\"name\":\"BIRNN10_mitbih_MITBIH_weights_preds\",\"orientation\":\"v\",\"showlegend\":true,\"x\":[0.5465114103074671],\"xaxis\":\"x\",\"y\":[0.5143747810448643],\"yaxis\":\"y\",\"type\":\"scatter\"},{\"customdata\":[[\"RNN_mitbih_MITBIH_weights_preds\",0.9191485474145806,0.707648987093133]],\"hovertemplate\":\"model_filename=%{customdata[0]}<br>f1_score=%{x}<br>balanced_accuracy_score=%{y}<br>accuracy=%{customdata[1]}<br>matthews_corrcoef=%{customdata[2]}<extra></extra>\",\"legendgroup\":\"RNN_mitbih_MITBIH_weights_preds\",\"marker\":{\"color\":\"#E76BF3\",\"symbol\":\"circle\"},\"mode\":\"markers\",\"name\":\"RNN_mitbih_MITBIH_weights_preds\",\"orientation\":\"v\",\"showlegend\":true,\"x\":[0.5256253196721415],\"xaxis\":\"x\",\"y\":[0.49937419686915874],\"yaxis\":\"y\",\"type\":\"scatter\"},{\"customdata\":[[\"BIRNN187_mitbih_MITBIH_biGRU_weights_preds\",0.9228485291430659,0.7206485021276984]],\"hovertemplate\":\"model_filename=%{customdata[0]}<br>f1_score=%{x}<br>balanced_accuracy_score=%{y}<br>accuracy=%{customdata[1]}<br>matthews_corrcoef=%{customdata[2]}<extra></extra>\",\"legendgroup\":\"BIRNN187_mitbih_MITBIH_biGRU_weights_preds\",\"marker\":{\"color\":\"#F8766D\",\"symbol\":\"circle\"},\"mode\":\"markers\",\"name\":\"BIRNN187_mitbih_MITBIH_biGRU_weights_preds\",\"orientation\":\"v\",\"showlegend\":true,\"x\":[0.5073136548178429],\"xaxis\":\"x\",\"y\":[0.48506079331223545],\"yaxis\":\"y\",\"type\":\"scatter\"}],                        {\"template\":{\"data\":{\"barpolar\":[{\"marker\":{\"line\":{\"color\":\"rgb(237,237,237)\",\"width\":0.5},\"pattern\":{\"fillmode\":\"overlay\",\"size\":10,\"solidity\":0.2}},\"type\":\"barpolar\"}],\"bar\":[{\"error_x\":{\"color\":\"rgb(51,51,51)\"},\"error_y\":{\"color\":\"rgb(51,51,51)\"},\"marker\":{\"line\":{\"color\":\"rgb(237,237,237)\",\"width\":0.5},\"pattern\":{\"fillmode\":\"overlay\",\"size\":10,\"solidity\":0.2}},\"type\":\"bar\"}],\"carpet\":[{\"aaxis\":{\"endlinecolor\":\"rgb(51,51,51)\",\"gridcolor\":\"white\",\"linecolor\":\"white\",\"minorgridcolor\":\"white\",\"startlinecolor\":\"rgb(51,51,51)\"},\"baxis\":{\"endlinecolor\":\"rgb(51,51,51)\",\"gridcolor\":\"white\",\"linecolor\":\"white\",\"minorgridcolor\":\"white\",\"startlinecolor\":\"rgb(51,51,51)\"},\"type\":\"carpet\"}],\"choropleth\":[{\"colorbar\":{\"outlinewidth\":0,\"tickcolor\":\"rgb(237,237,237)\",\"ticklen\":6,\"ticks\":\"inside\"},\"type\":\"choropleth\"}],\"contourcarpet\":[{\"colorbar\":{\"outlinewidth\":0,\"tickcolor\":\"rgb(237,237,237)\",\"ticklen\":6,\"ticks\":\"inside\"},\"type\":\"contourcarpet\"}],\"contour\":[{\"colorbar\":{\"outlinewidth\":0,\"tickcolor\":\"rgb(237,237,237)\",\"ticklen\":6,\"ticks\":\"inside\"},\"colorscale\":[[0,\"rgb(20,44,66)\"],[1,\"rgb(90,179,244)\"]],\"type\":\"contour\"}],\"heatmapgl\":[{\"colorbar\":{\"outlinewidth\":0,\"tickcolor\":\"rgb(237,237,237)\",\"ticklen\":6,\"ticks\":\"inside\"},\"colorscale\":[[0,\"rgb(20,44,66)\"],[1,\"rgb(90,179,244)\"]],\"type\":\"heatmapgl\"}],\"heatmap\":[{\"colorbar\":{\"outlinewidth\":0,\"tickcolor\":\"rgb(237,237,237)\",\"ticklen\":6,\"ticks\":\"inside\"},\"colorscale\":[[0,\"rgb(20,44,66)\"],[1,\"rgb(90,179,244)\"]],\"type\":\"heatmap\"}],\"histogram2dcontour\":[{\"colorbar\":{\"outlinewidth\":0,\"tickcolor\":\"rgb(237,237,237)\",\"ticklen\":6,\"ticks\":\"inside\"},\"colorscale\":[[0,\"rgb(20,44,66)\"],[1,\"rgb(90,179,244)\"]],\"type\":\"histogram2dcontour\"}],\"histogram2d\":[{\"colorbar\":{\"outlinewidth\":0,\"tickcolor\":\"rgb(237,237,237)\",\"ticklen\":6,\"ticks\":\"inside\"},\"colorscale\":[[0,\"rgb(20,44,66)\"],[1,\"rgb(90,179,244)\"]],\"type\":\"histogram2d\"}],\"histogram\":[{\"marker\":{\"pattern\":{\"fillmode\":\"overlay\",\"size\":10,\"solidity\":0.2}},\"type\":\"histogram\"}],\"mesh3d\":[{\"colorbar\":{\"outlinewidth\":0,\"tickcolor\":\"rgb(237,237,237)\",\"ticklen\":6,\"ticks\":\"inside\"},\"type\":\"mesh3d\"}],\"parcoords\":[{\"line\":{\"colorbar\":{\"outlinewidth\":0,\"tickcolor\":\"rgb(237,237,237)\",\"ticklen\":6,\"ticks\":\"inside\"}},\"type\":\"parcoords\"}],\"pie\":[{\"automargin\":true,\"type\":\"pie\"}],\"scatter3d\":[{\"line\":{\"colorbar\":{\"outlinewidth\":0,\"tickcolor\":\"rgb(237,237,237)\",\"ticklen\":6,\"ticks\":\"inside\"}},\"marker\":{\"colorbar\":{\"outlinewidth\":0,\"tickcolor\":\"rgb(237,237,237)\",\"ticklen\":6,\"ticks\":\"inside\"}},\"type\":\"scatter3d\"}],\"scattercarpet\":[{\"marker\":{\"colorbar\":{\"outlinewidth\":0,\"tickcolor\":\"rgb(237,237,237)\",\"ticklen\":6,\"ticks\":\"inside\"}},\"type\":\"scattercarpet\"}],\"scattergeo\":[{\"marker\":{\"colorbar\":{\"outlinewidth\":0,\"tickcolor\":\"rgb(237,237,237)\",\"ticklen\":6,\"ticks\":\"inside\"}},\"type\":\"scattergeo\"}],\"scattergl\":[{\"marker\":{\"colorbar\":{\"outlinewidth\":0,\"tickcolor\":\"rgb(237,237,237)\",\"ticklen\":6,\"ticks\":\"inside\"}},\"type\":\"scattergl\"}],\"scattermapbox\":[{\"marker\":{\"colorbar\":{\"outlinewidth\":0,\"tickcolor\":\"rgb(237,237,237)\",\"ticklen\":6,\"ticks\":\"inside\"}},\"type\":\"scattermapbox\"}],\"scatterpolargl\":[{\"marker\":{\"colorbar\":{\"outlinewidth\":0,\"tickcolor\":\"rgb(237,237,237)\",\"ticklen\":6,\"ticks\":\"inside\"}},\"type\":\"scatterpolargl\"}],\"scatterpolar\":[{\"marker\":{\"colorbar\":{\"outlinewidth\":0,\"tickcolor\":\"rgb(237,237,237)\",\"ticklen\":6,\"ticks\":\"inside\"}},\"type\":\"scatterpolar\"}],\"scatter\":[{\"marker\":{\"colorbar\":{\"outlinewidth\":0,\"tickcolor\":\"rgb(237,237,237)\",\"ticklen\":6,\"ticks\":\"inside\"}},\"type\":\"scatter\"}],\"scatterternary\":[{\"marker\":{\"colorbar\":{\"outlinewidth\":0,\"tickcolor\":\"rgb(237,237,237)\",\"ticklen\":6,\"ticks\":\"inside\"}},\"type\":\"scatterternary\"}],\"surface\":[{\"colorbar\":{\"outlinewidth\":0,\"tickcolor\":\"rgb(237,237,237)\",\"ticklen\":6,\"ticks\":\"inside\"},\"colorscale\":[[0,\"rgb(20,44,66)\"],[1,\"rgb(90,179,244)\"]],\"type\":\"surface\"}],\"table\":[{\"cells\":{\"fill\":{\"color\":\"rgb(237,237,237)\"},\"line\":{\"color\":\"white\"}},\"header\":{\"fill\":{\"color\":\"rgb(217,217,217)\"},\"line\":{\"color\":\"white\"}},\"type\":\"table\"}]},\"layout\":{\"annotationdefaults\":{\"arrowhead\":0,\"arrowwidth\":1},\"autotypenumbers\":\"strict\",\"coloraxis\":{\"colorbar\":{\"outlinewidth\":0,\"tickcolor\":\"rgb(237,237,237)\",\"ticklen\":6,\"ticks\":\"inside\"}},\"colorscale\":{\"sequential\":[[0,\"rgb(20,44,66)\"],[1,\"rgb(90,179,244)\"]],\"sequentialminus\":[[0,\"rgb(20,44,66)\"],[1,\"rgb(90,179,244)\"]]},\"colorway\":[\"#F8766D\",\"#A3A500\",\"#00BF7D\",\"#00B0F6\",\"#E76BF3\"],\"font\":{\"color\":\"rgb(51,51,51)\"},\"geo\":{\"bgcolor\":\"white\",\"lakecolor\":\"white\",\"landcolor\":\"rgb(237,237,237)\",\"showlakes\":true,\"showland\":true,\"subunitcolor\":\"white\"},\"hoverlabel\":{\"align\":\"left\"},\"hovermode\":\"closest\",\"paper_bgcolor\":\"white\",\"plot_bgcolor\":\"rgb(237,237,237)\",\"polar\":{\"angularaxis\":{\"gridcolor\":\"white\",\"linecolor\":\"white\",\"showgrid\":true,\"tickcolor\":\"rgb(51,51,51)\",\"ticks\":\"outside\"},\"bgcolor\":\"rgb(237,237,237)\",\"radialaxis\":{\"gridcolor\":\"white\",\"linecolor\":\"white\",\"showgrid\":true,\"tickcolor\":\"rgb(51,51,51)\",\"ticks\":\"outside\"}},\"scene\":{\"xaxis\":{\"backgroundcolor\":\"rgb(237,237,237)\",\"gridcolor\":\"white\",\"gridwidth\":2,\"linecolor\":\"white\",\"showbackground\":true,\"showgrid\":true,\"tickcolor\":\"rgb(51,51,51)\",\"ticks\":\"outside\",\"zerolinecolor\":\"white\"},\"yaxis\":{\"backgroundcolor\":\"rgb(237,237,237)\",\"gridcolor\":\"white\",\"gridwidth\":2,\"linecolor\":\"white\",\"showbackground\":true,\"showgrid\":true,\"tickcolor\":\"rgb(51,51,51)\",\"ticks\":\"outside\",\"zerolinecolor\":\"white\"},\"zaxis\":{\"backgroundcolor\":\"rgb(237,237,237)\",\"gridcolor\":\"white\",\"gridwidth\":2,\"linecolor\":\"white\",\"showbackground\":true,\"showgrid\":true,\"tickcolor\":\"rgb(51,51,51)\",\"ticks\":\"outside\",\"zerolinecolor\":\"white\"}},\"shapedefaults\":{\"fillcolor\":\"black\",\"line\":{\"width\":0},\"opacity\":0.3},\"ternary\":{\"aaxis\":{\"gridcolor\":\"white\",\"linecolor\":\"white\",\"showgrid\":true,\"tickcolor\":\"rgb(51,51,51)\",\"ticks\":\"outside\"},\"baxis\":{\"gridcolor\":\"white\",\"linecolor\":\"white\",\"showgrid\":true,\"tickcolor\":\"rgb(51,51,51)\",\"ticks\":\"outside\"},\"bgcolor\":\"rgb(237,237,237)\",\"caxis\":{\"gridcolor\":\"white\",\"linecolor\":\"white\",\"showgrid\":true,\"tickcolor\":\"rgb(51,51,51)\",\"ticks\":\"outside\"}},\"xaxis\":{\"automargin\":true,\"gridcolor\":\"white\",\"linecolor\":\"white\",\"showgrid\":true,\"tickcolor\":\"rgb(51,51,51)\",\"ticks\":\"outside\",\"title\":{\"standoff\":15},\"zerolinecolor\":\"white\"},\"yaxis\":{\"automargin\":true,\"gridcolor\":\"white\",\"linecolor\":\"white\",\"showgrid\":true,\"tickcolor\":\"rgb(51,51,51)\",\"ticks\":\"outside\",\"title\":{\"standoff\":15},\"zerolinecolor\":\"white\"}}},\"xaxis\":{\"anchor\":\"y\",\"domain\":[0.0,1.0],\"title\":{\"text\":\"f1_score\"}},\"yaxis\":{\"anchor\":\"x\",\"domain\":[0.0,1.0],\"title\":{\"text\":\"balanced_accuracy_score\"}},\"legend\":{\"title\":{\"text\":\"model_filename\"},\"tracegroupgap\":0},\"title\":{\"text\":\"MITBIH - F1 Score & Balanced Accuracy - Individual Models - Scatter (All)\"},\"height\":480,\"width\":772},                        {\"responsive\": true}                    ).then(function(){\n",
              "                            \n",
              "var gd = document.getElementById('7db0a515-52e9-4bea-ac15-0d669f971249');\n",
              "var x = new MutationObserver(function (mutations, observer) {{\n",
              "        var display = window.getComputedStyle(gd).display;\n",
              "        if (!display || display === 'none') {{\n",
              "            console.log([gd, 'removed!']);\n",
              "            Plotly.purge(gd);\n",
              "            observer.disconnect();\n",
              "        }}\n",
              "}});\n",
              "\n",
              "// Listen for the removal of the full notebook cells\n",
              "var notebookContainer = gd.closest('#notebook-container');\n",
              "if (notebookContainer) {{\n",
              "    x.observe(notebookContainer, {childList: true});\n",
              "}}\n",
              "\n",
              "// Listen for the clearing of the current output cell\n",
              "var outputEl = gd.closest('.output');\n",
              "if (outputEl) {{\n",
              "    x.observe(outputEl, {childList: true});\n",
              "}}\n",
              "\n",
              "                        })                };                            </script>        </div>\n",
              "</body>\n",
              "</html>"
            ]
          },
          "metadata": {}
        }
      ]
    },
    {
      "cell_type": "code",
      "source": [
        "MIT_top = MIT_plot[MIT_plot.balanced_accuracy_score >= 0.75]\n",
        "mit_scatter_best = px.scatter(MIT_top,\n",
        "                         x='f1_score',\n",
        "                         y='balanced_accuracy_score', \n",
        "                         color='model_filename',\n",
        "                         title=\"MITBIH - F1 Score & Balanced Accuracy - Individual Models - Scatter (Best)\",\n",
        "                         template='seaborn', \n",
        "                         hover_data=list(MIT_top.columns),\n",
        "                         height=plot_height, width=plot_width,\n",
        "                         )\n",
        "\n",
        "mit_scatter_best.show()"
      ],
      "metadata": {
        "colab": {
          "base_uri": "https://localhost:8080/",
          "height": 497
        },
        "id": "3_Uzts9kmCLB",
        "outputId": "82e5d0e5-a698-449f-f42e-b86e0ba01cad"
      },
      "execution_count": 69,
      "outputs": [
        {
          "output_type": "display_data",
          "data": {
            "text/plain": [
              "<IPython.core.display.HTML object>"
            ],
            "text/html": [
              "\n",
              "  <style>\n",
              "    pre {\n",
              "        white-space: pre-wrap;\n",
              "    }\n",
              "  </style>\n",
              "  "
            ]
          },
          "metadata": {}
        },
        {
          "output_type": "display_data",
          "data": {
            "text/html": [
              "<html>\n",
              "<head><meta charset=\"utf-8\" /></head>\n",
              "<body>\n",
              "    <div>            <script src=\"https://cdnjs.cloudflare.com/ajax/libs/mathjax/2.7.5/MathJax.js?config=TeX-AMS-MML_SVG\"></script><script type=\"text/javascript\">if (window.MathJax) {MathJax.Hub.Config({SVG: {font: \"STIX-Web\"}});}</script>                <script type=\"text/javascript\">window.PlotlyConfig = {MathJaxConfig: 'local'};</script>\n",
              "        <script src=\"https://cdn.plot.ly/plotly-2.9.0.min.js\"></script>                <div id=\"e7eb199e-5d7d-4b4b-b472-27059a563d1a\" class=\"plotly-graph-div\" style=\"height:480px; width:772px;\"></div>            <script type=\"text/javascript\">                                    window.PLOTLYENV=window.PLOTLYENV || {};                                    if (document.getElementById(\"e7eb199e-5d7d-4b4b-b472-27059a563d1a\")) {                    Plotly.newPlot(                        \"e7eb199e-5d7d-4b4b-b472-27059a563d1a\",                        [{\"customdata\":[[\"BidirGRU_BS=1024_MITBIH_biGRU_weights_preds\",0.9871185821304587,0.957311507919293]],\"hovertemplate\":\"model_filename=%{customdata[0]}<br>f1_score=%{x}<br>balanced_accuracy_score=%{y}<br>accuracy=%{customdata[1]}<br>matthews_corrcoef=%{customdata[2]}<extra></extra>\",\"legendgroup\":\"BidirGRU_BS=1024_MITBIH_biGRU_weights_preds\",\"marker\":{\"color\":\"rgb(76,114,176)\",\"symbol\":\"circle\"},\"mode\":\"markers\",\"name\":\"BidirGRU_BS=1024_MITBIH_biGRU_weights_preds\",\"orientation\":\"v\",\"showlegend\":true,\"x\":[0.9247785679882142],\"xaxis\":\"x\",\"y\":[0.9038502447454684],\"yaxis\":\"y\",\"type\":\"scatter\"},{\"customdata\":[[\"BILSTM187_mitbih_MITBIH_weights_preds\",0.9859309336744017,0.9533450413269955]],\"hovertemplate\":\"model_filename=%{customdata[0]}<br>f1_score=%{x}<br>balanced_accuracy_score=%{y}<br>accuracy=%{customdata[1]}<br>matthews_corrcoef=%{customdata[2]}<extra></extra>\",\"legendgroup\":\"BILSTM187_mitbih_MITBIH_weights_preds\",\"marker\":{\"color\":\"rgb(221,132,82)\",\"symbol\":\"circle\"},\"mode\":\"markers\",\"name\":\"BILSTM187_mitbih_MITBIH_weights_preds\",\"orientation\":\"v\",\"showlegend\":true,\"x\":[0.9163345770572539],\"xaxis\":\"x\",\"y\":[0.8975729497533749],\"yaxis\":\"y\",\"type\":\"scatter\"},{\"customdata\":[[\"BILSTM187_mitbih_MITBIH_biGRU_weights_preds\",0.9845605700712589,0.9486790567025004]],\"hovertemplate\":\"model_filename=%{customdata[0]}<br>f1_score=%{x}<br>balanced_accuracy_score=%{y}<br>accuracy=%{customdata[1]}<br>matthews_corrcoef=%{customdata[2]}<extra></extra>\",\"legendgroup\":\"BILSTM187_mitbih_MITBIH_biGRU_weights_preds\",\"marker\":{\"color\":\"rgb(85,168,104)\",\"symbol\":\"circle\"},\"mode\":\"markers\",\"name\":\"BILSTM187_mitbih_MITBIH_biGRU_weights_preds\",\"orientation\":\"v\",\"showlegend\":true,\"x\":[0.9104976848481081],\"xaxis\":\"x\",\"y\":[0.8856538925486467],\"yaxis\":\"y\",\"type\":\"scatter\"},{\"customdata\":[[\"GRU_mitbih_MITBIH_weights_preds\",0.9789877580851453,0.929741581387028]],\"hovertemplate\":\"model_filename=%{customdata[0]}<br>f1_score=%{x}<br>balanced_accuracy_score=%{y}<br>accuracy=%{customdata[1]}<br>matthews_corrcoef=%{customdata[2]}<extra></extra>\",\"legendgroup\":\"GRU_mitbih_MITBIH_weights_preds\",\"marker\":{\"color\":\"rgb(196,78,82)\",\"symbol\":\"circle\"},\"mode\":\"markers\",\"name\":\"GRU_mitbih_MITBIH_weights_preds\",\"orientation\":\"v\",\"showlegend\":true,\"x\":[0.8882279762685119],\"xaxis\":\"x\",\"y\":[0.8563174189814159],\"yaxis\":\"y\",\"type\":\"scatter\"},{\"customdata\":[[\"CNN_mitbih_MITBIH_biGRU_weights_preds\",0.9757445642243742,0.9188782481009926]],\"hovertemplate\":\"model_filename=%{customdata[0]}<br>f1_score=%{x}<br>balanced_accuracy_score=%{y}<br>accuracy=%{customdata[1]}<br>matthews_corrcoef=%{customdata[2]}<extra></extra>\",\"legendgroup\":\"CNN_mitbih_MITBIH_biGRU_weights_preds\",\"marker\":{\"color\":\"rgb(129,114,179)\",\"symbol\":\"circle\"},\"mode\":\"markers\",\"name\":\"CNN_mitbih_MITBIH_biGRU_weights_preds\",\"orientation\":\"v\",\"showlegend\":true,\"x\":[0.8739764315520855],\"xaxis\":\"x\",\"y\":[0.8478730878183471],\"yaxis\":\"y\",\"type\":\"scatter\"},{\"customdata\":[[\"CNN_mitbih_MITBIH_weights_preds\",0.9744198794080029,0.9141863899957146]],\"hovertemplate\":\"model_filename=%{customdata[0]}<br>f1_score=%{x}<br>balanced_accuracy_score=%{y}<br>accuracy=%{customdata[1]}<br>matthews_corrcoef=%{customdata[2]}<extra></extra>\",\"legendgroup\":\"CNN_mitbih_MITBIH_weights_preds\",\"marker\":{\"color\":\"rgb(147,120,96)\",\"symbol\":\"circle\"},\"mode\":\"markers\",\"name\":\"CNN_mitbih_MITBIH_weights_preds\",\"orientation\":\"v\",\"showlegend\":true,\"x\":[0.8638296783291999],\"xaxis\":\"x\",\"y\":[0.8329139160857055],\"yaxis\":\"y\",\"type\":\"scatter\"},{\"customdata\":[[\"LTSM_mitbih_MITBIH_weights_preds\",0.9708569340398319,0.9020618266044944]],\"hovertemplate\":\"model_filename=%{customdata[0]}<br>f1_score=%{x}<br>balanced_accuracy_score=%{y}<br>accuracy=%{customdata[1]}<br>matthews_corrcoef=%{customdata[2]}<extra></extra>\",\"legendgroup\":\"LTSM_mitbih_MITBIH_weights_preds\",\"marker\":{\"color\":\"rgb(218,139,195)\",\"symbol\":\"circle\"},\"mode\":\"markers\",\"name\":\"LTSM_mitbih_MITBIH_weights_preds\",\"orientation\":\"v\",\"showlegend\":true,\"x\":[0.8524442325602617],\"xaxis\":\"x\",\"y\":[0.8261099009899127],\"yaxis\":\"y\",\"type\":\"scatter\"},{\"customdata\":[[\"SIMPLE_RNN_mitbih_MITBIH_weights_preds\",0.9549607162433765,0.8474881441125122]],\"hovertemplate\":\"model_filename=%{customdata[0]}<br>f1_score=%{x}<br>balanced_accuracy_score=%{y}<br>accuracy=%{customdata[1]}<br>matthews_corrcoef=%{customdata[2]}<extra></extra>\",\"legendgroup\":\"SIMPLE_RNN_mitbih_MITBIH_weights_preds\",\"marker\":{\"color\":\"rgb(140,140,140)\",\"symbol\":\"circle\"},\"mode\":\"markers\",\"name\":\"SIMPLE_RNN_mitbih_MITBIH_weights_preds\",\"orientation\":\"v\",\"showlegend\":true,\"x\":[0.7716234850140811],\"xaxis\":\"x\",\"y\":[0.7536954187875319],\"yaxis\":\"y\",\"type\":\"scatter\"}],                        {\"template\":{\"data\":{\"barpolar\":[{\"marker\":{\"line\":{\"color\":\"rgb(234,234,242)\",\"width\":0.5},\"pattern\":{\"fillmode\":\"overlay\",\"size\":10,\"solidity\":0.2}},\"type\":\"barpolar\"}],\"bar\":[{\"error_x\":{\"color\":\"rgb(36,36,36)\"},\"error_y\":{\"color\":\"rgb(36,36,36)\"},\"marker\":{\"line\":{\"color\":\"rgb(234,234,242)\",\"width\":0.5},\"pattern\":{\"fillmode\":\"overlay\",\"size\":10,\"solidity\":0.2}},\"type\":\"bar\"}],\"carpet\":[{\"aaxis\":{\"endlinecolor\":\"rgb(36,36,36)\",\"gridcolor\":\"white\",\"linecolor\":\"white\",\"minorgridcolor\":\"white\",\"startlinecolor\":\"rgb(36,36,36)\"},\"baxis\":{\"endlinecolor\":\"rgb(36,36,36)\",\"gridcolor\":\"white\",\"linecolor\":\"white\",\"minorgridcolor\":\"white\",\"startlinecolor\":\"rgb(36,36,36)\"},\"type\":\"carpet\"}],\"choropleth\":[{\"colorbar\":{\"outlinewidth\":0,\"tickcolor\":\"rgb(36,36,36)\",\"ticklen\":8,\"ticks\":\"outside\",\"tickwidth\":2},\"type\":\"choropleth\"}],\"contourcarpet\":[{\"colorbar\":{\"outlinewidth\":0,\"tickcolor\":\"rgb(36,36,36)\",\"ticklen\":8,\"ticks\":\"outside\",\"tickwidth\":2},\"type\":\"contourcarpet\"}],\"contour\":[{\"colorbar\":{\"outlinewidth\":0,\"tickcolor\":\"rgb(36,36,36)\",\"ticklen\":8,\"ticks\":\"outside\",\"tickwidth\":2},\"colorscale\":[[0.0,\"rgb(2,4,25)\"],[0.06274509803921569,\"rgb(24,15,41)\"],[0.12549019607843137,\"rgb(47,23,57)\"],[0.18823529411764706,\"rgb(71,28,72)\"],[0.25098039215686274,\"rgb(97,30,82)\"],[0.3137254901960784,\"rgb(123,30,89)\"],[0.3764705882352941,\"rgb(150,27,91)\"],[0.4392156862745098,\"rgb(177,22,88)\"],[0.5019607843137255,\"rgb(203,26,79)\"],[0.5647058823529412,\"rgb(223,47,67)\"],[0.6274509803921569,\"rgb(236,76,61)\"],[0.6901960784313725,\"rgb(242,107,73)\"],[0.7529411764705882,\"rgb(244,135,95)\"],[0.8156862745098039,\"rgb(245,162,122)\"],[0.8784313725490196,\"rgb(246,188,153)\"],[0.9411764705882353,\"rgb(247,212,187)\"],[1.0,\"rgb(250,234,220)\"]],\"type\":\"contour\"}],\"heatmapgl\":[{\"colorbar\":{\"outlinewidth\":0,\"tickcolor\":\"rgb(36,36,36)\",\"ticklen\":8,\"ticks\":\"outside\",\"tickwidth\":2},\"colorscale\":[[0.0,\"rgb(2,4,25)\"],[0.06274509803921569,\"rgb(24,15,41)\"],[0.12549019607843137,\"rgb(47,23,57)\"],[0.18823529411764706,\"rgb(71,28,72)\"],[0.25098039215686274,\"rgb(97,30,82)\"],[0.3137254901960784,\"rgb(123,30,89)\"],[0.3764705882352941,\"rgb(150,27,91)\"],[0.4392156862745098,\"rgb(177,22,88)\"],[0.5019607843137255,\"rgb(203,26,79)\"],[0.5647058823529412,\"rgb(223,47,67)\"],[0.6274509803921569,\"rgb(236,76,61)\"],[0.6901960784313725,\"rgb(242,107,73)\"],[0.7529411764705882,\"rgb(244,135,95)\"],[0.8156862745098039,\"rgb(245,162,122)\"],[0.8784313725490196,\"rgb(246,188,153)\"],[0.9411764705882353,\"rgb(247,212,187)\"],[1.0,\"rgb(250,234,220)\"]],\"type\":\"heatmapgl\"}],\"heatmap\":[{\"colorbar\":{\"outlinewidth\":0,\"tickcolor\":\"rgb(36,36,36)\",\"ticklen\":8,\"ticks\":\"outside\",\"tickwidth\":2},\"colorscale\":[[0.0,\"rgb(2,4,25)\"],[0.06274509803921569,\"rgb(24,15,41)\"],[0.12549019607843137,\"rgb(47,23,57)\"],[0.18823529411764706,\"rgb(71,28,72)\"],[0.25098039215686274,\"rgb(97,30,82)\"],[0.3137254901960784,\"rgb(123,30,89)\"],[0.3764705882352941,\"rgb(150,27,91)\"],[0.4392156862745098,\"rgb(177,22,88)\"],[0.5019607843137255,\"rgb(203,26,79)\"],[0.5647058823529412,\"rgb(223,47,67)\"],[0.6274509803921569,\"rgb(236,76,61)\"],[0.6901960784313725,\"rgb(242,107,73)\"],[0.7529411764705882,\"rgb(244,135,95)\"],[0.8156862745098039,\"rgb(245,162,122)\"],[0.8784313725490196,\"rgb(246,188,153)\"],[0.9411764705882353,\"rgb(247,212,187)\"],[1.0,\"rgb(250,234,220)\"]],\"type\":\"heatmap\"}],\"histogram2dcontour\":[{\"colorbar\":{\"outlinewidth\":0,\"tickcolor\":\"rgb(36,36,36)\",\"ticklen\":8,\"ticks\":\"outside\",\"tickwidth\":2},\"colorscale\":[[0.0,\"rgb(2,4,25)\"],[0.06274509803921569,\"rgb(24,15,41)\"],[0.12549019607843137,\"rgb(47,23,57)\"],[0.18823529411764706,\"rgb(71,28,72)\"],[0.25098039215686274,\"rgb(97,30,82)\"],[0.3137254901960784,\"rgb(123,30,89)\"],[0.3764705882352941,\"rgb(150,27,91)\"],[0.4392156862745098,\"rgb(177,22,88)\"],[0.5019607843137255,\"rgb(203,26,79)\"],[0.5647058823529412,\"rgb(223,47,67)\"],[0.6274509803921569,\"rgb(236,76,61)\"],[0.6901960784313725,\"rgb(242,107,73)\"],[0.7529411764705882,\"rgb(244,135,95)\"],[0.8156862745098039,\"rgb(245,162,122)\"],[0.8784313725490196,\"rgb(246,188,153)\"],[0.9411764705882353,\"rgb(247,212,187)\"],[1.0,\"rgb(250,234,220)\"]],\"type\":\"histogram2dcontour\"}],\"histogram2d\":[{\"colorbar\":{\"outlinewidth\":0,\"tickcolor\":\"rgb(36,36,36)\",\"ticklen\":8,\"ticks\":\"outside\",\"tickwidth\":2},\"colorscale\":[[0.0,\"rgb(2,4,25)\"],[0.06274509803921569,\"rgb(24,15,41)\"],[0.12549019607843137,\"rgb(47,23,57)\"],[0.18823529411764706,\"rgb(71,28,72)\"],[0.25098039215686274,\"rgb(97,30,82)\"],[0.3137254901960784,\"rgb(123,30,89)\"],[0.3764705882352941,\"rgb(150,27,91)\"],[0.4392156862745098,\"rgb(177,22,88)\"],[0.5019607843137255,\"rgb(203,26,79)\"],[0.5647058823529412,\"rgb(223,47,67)\"],[0.6274509803921569,\"rgb(236,76,61)\"],[0.6901960784313725,\"rgb(242,107,73)\"],[0.7529411764705882,\"rgb(244,135,95)\"],[0.8156862745098039,\"rgb(245,162,122)\"],[0.8784313725490196,\"rgb(246,188,153)\"],[0.9411764705882353,\"rgb(247,212,187)\"],[1.0,\"rgb(250,234,220)\"]],\"type\":\"histogram2d\"}],\"histogram\":[{\"marker\":{\"pattern\":{\"fillmode\":\"overlay\",\"size\":10,\"solidity\":0.2}},\"type\":\"histogram\"}],\"mesh3d\":[{\"colorbar\":{\"outlinewidth\":0,\"tickcolor\":\"rgb(36,36,36)\",\"ticklen\":8,\"ticks\":\"outside\",\"tickwidth\":2},\"type\":\"mesh3d\"}],\"parcoords\":[{\"line\":{\"colorbar\":{\"outlinewidth\":0,\"tickcolor\":\"rgb(36,36,36)\",\"ticklen\":8,\"ticks\":\"outside\",\"tickwidth\":2}},\"type\":\"parcoords\"}],\"pie\":[{\"automargin\":true,\"type\":\"pie\"}],\"scatter3d\":[{\"line\":{\"colorbar\":{\"outlinewidth\":0,\"tickcolor\":\"rgb(36,36,36)\",\"ticklen\":8,\"ticks\":\"outside\",\"tickwidth\":2}},\"marker\":{\"colorbar\":{\"outlinewidth\":0,\"tickcolor\":\"rgb(36,36,36)\",\"ticklen\":8,\"ticks\":\"outside\",\"tickwidth\":2}},\"type\":\"scatter3d\"}],\"scattercarpet\":[{\"marker\":{\"colorbar\":{\"outlinewidth\":0,\"tickcolor\":\"rgb(36,36,36)\",\"ticklen\":8,\"ticks\":\"outside\",\"tickwidth\":2}},\"type\":\"scattercarpet\"}],\"scattergeo\":[{\"marker\":{\"colorbar\":{\"outlinewidth\":0,\"tickcolor\":\"rgb(36,36,36)\",\"ticklen\":8,\"ticks\":\"outside\",\"tickwidth\":2}},\"type\":\"scattergeo\"}],\"scattergl\":[{\"marker\":{\"colorbar\":{\"outlinewidth\":0,\"tickcolor\":\"rgb(36,36,36)\",\"ticklen\":8,\"ticks\":\"outside\",\"tickwidth\":2}},\"type\":\"scattergl\"}],\"scattermapbox\":[{\"marker\":{\"colorbar\":{\"outlinewidth\":0,\"tickcolor\":\"rgb(36,36,36)\",\"ticklen\":8,\"ticks\":\"outside\",\"tickwidth\":2}},\"type\":\"scattermapbox\"}],\"scatterpolargl\":[{\"marker\":{\"colorbar\":{\"outlinewidth\":0,\"tickcolor\":\"rgb(36,36,36)\",\"ticklen\":8,\"ticks\":\"outside\",\"tickwidth\":2}},\"type\":\"scatterpolargl\"}],\"scatterpolar\":[{\"marker\":{\"colorbar\":{\"outlinewidth\":0,\"tickcolor\":\"rgb(36,36,36)\",\"ticklen\":8,\"ticks\":\"outside\",\"tickwidth\":2}},\"type\":\"scatterpolar\"}],\"scatter\":[{\"marker\":{\"colorbar\":{\"outlinewidth\":0,\"tickcolor\":\"rgb(36,36,36)\",\"ticklen\":8,\"ticks\":\"outside\",\"tickwidth\":2}},\"type\":\"scatter\"}],\"scatterternary\":[{\"marker\":{\"colorbar\":{\"outlinewidth\":0,\"tickcolor\":\"rgb(36,36,36)\",\"ticklen\":8,\"ticks\":\"outside\",\"tickwidth\":2}},\"type\":\"scatterternary\"}],\"surface\":[{\"colorbar\":{\"outlinewidth\":0,\"tickcolor\":\"rgb(36,36,36)\",\"ticklen\":8,\"ticks\":\"outside\",\"tickwidth\":2},\"colorscale\":[[0.0,\"rgb(2,4,25)\"],[0.06274509803921569,\"rgb(24,15,41)\"],[0.12549019607843137,\"rgb(47,23,57)\"],[0.18823529411764706,\"rgb(71,28,72)\"],[0.25098039215686274,\"rgb(97,30,82)\"],[0.3137254901960784,\"rgb(123,30,89)\"],[0.3764705882352941,\"rgb(150,27,91)\"],[0.4392156862745098,\"rgb(177,22,88)\"],[0.5019607843137255,\"rgb(203,26,79)\"],[0.5647058823529412,\"rgb(223,47,67)\"],[0.6274509803921569,\"rgb(236,76,61)\"],[0.6901960784313725,\"rgb(242,107,73)\"],[0.7529411764705882,\"rgb(244,135,95)\"],[0.8156862745098039,\"rgb(245,162,122)\"],[0.8784313725490196,\"rgb(246,188,153)\"],[0.9411764705882353,\"rgb(247,212,187)\"],[1.0,\"rgb(250,234,220)\"]],\"type\":\"surface\"}],\"table\":[{\"cells\":{\"fill\":{\"color\":\"rgb(231,231,240)\"},\"line\":{\"color\":\"white\"}},\"header\":{\"fill\":{\"color\":\"rgb(183,183,191)\"},\"line\":{\"color\":\"white\"}},\"type\":\"table\"}]},\"layout\":{\"annotationdefaults\":{\"arrowcolor\":\"rgb(67,103,167)\"},\"autotypenumbers\":\"strict\",\"coloraxis\":{\"colorbar\":{\"outlinewidth\":0,\"tickcolor\":\"rgb(36,36,36)\",\"ticklen\":8,\"ticks\":\"outside\",\"tickwidth\":2}},\"colorscale\":{\"sequential\":[[0.0,\"rgb(2,4,25)\"],[0.06274509803921569,\"rgb(24,15,41)\"],[0.12549019607843137,\"rgb(47,23,57)\"],[0.18823529411764706,\"rgb(71,28,72)\"],[0.25098039215686274,\"rgb(97,30,82)\"],[0.3137254901960784,\"rgb(123,30,89)\"],[0.3764705882352941,\"rgb(150,27,91)\"],[0.4392156862745098,\"rgb(177,22,88)\"],[0.5019607843137255,\"rgb(203,26,79)\"],[0.5647058823529412,\"rgb(223,47,67)\"],[0.6274509803921569,\"rgb(236,76,61)\"],[0.6901960784313725,\"rgb(242,107,73)\"],[0.7529411764705882,\"rgb(244,135,95)\"],[0.8156862745098039,\"rgb(245,162,122)\"],[0.8784313725490196,\"rgb(246,188,153)\"],[0.9411764705882353,\"rgb(247,212,187)\"],[1.0,\"rgb(250,234,220)\"]],\"sequentialminus\":[[0.0,\"rgb(2,4,25)\"],[0.06274509803921569,\"rgb(24,15,41)\"],[0.12549019607843137,\"rgb(47,23,57)\"],[0.18823529411764706,\"rgb(71,28,72)\"],[0.25098039215686274,\"rgb(97,30,82)\"],[0.3137254901960784,\"rgb(123,30,89)\"],[0.3764705882352941,\"rgb(150,27,91)\"],[0.4392156862745098,\"rgb(177,22,88)\"],[0.5019607843137255,\"rgb(203,26,79)\"],[0.5647058823529412,\"rgb(223,47,67)\"],[0.6274509803921569,\"rgb(236,76,61)\"],[0.6901960784313725,\"rgb(242,107,73)\"],[0.7529411764705882,\"rgb(244,135,95)\"],[0.8156862745098039,\"rgb(245,162,122)\"],[0.8784313725490196,\"rgb(246,188,153)\"],[0.9411764705882353,\"rgb(247,212,187)\"],[1.0,\"rgb(250,234,220)\"]]},\"colorway\":[\"rgb(76,114,176)\",\"rgb(221,132,82)\",\"rgb(85,168,104)\",\"rgb(196,78,82)\",\"rgb(129,114,179)\",\"rgb(147,120,96)\",\"rgb(218,139,195)\",\"rgb(140,140,140)\",\"rgb(204,185,116)\",\"rgb(100,181,205)\"],\"font\":{\"color\":\"rgb(36,36,36)\"},\"geo\":{\"bgcolor\":\"white\",\"lakecolor\":\"white\",\"landcolor\":\"rgb(234,234,242)\",\"showlakes\":true,\"showland\":true,\"subunitcolor\":\"white\"},\"hoverlabel\":{\"align\":\"left\"},\"hovermode\":\"closest\",\"paper_bgcolor\":\"white\",\"plot_bgcolor\":\"rgb(234,234,242)\",\"polar\":{\"angularaxis\":{\"gridcolor\":\"white\",\"linecolor\":\"white\",\"showgrid\":true,\"ticks\":\"\"},\"bgcolor\":\"rgb(234,234,242)\",\"radialaxis\":{\"gridcolor\":\"white\",\"linecolor\":\"white\",\"showgrid\":true,\"ticks\":\"\"}},\"scene\":{\"xaxis\":{\"backgroundcolor\":\"rgb(234,234,242)\",\"gridcolor\":\"white\",\"gridwidth\":2,\"linecolor\":\"white\",\"showbackground\":true,\"showgrid\":true,\"ticks\":\"\",\"zerolinecolor\":\"white\"},\"yaxis\":{\"backgroundcolor\":\"rgb(234,234,242)\",\"gridcolor\":\"white\",\"gridwidth\":2,\"linecolor\":\"white\",\"showbackground\":true,\"showgrid\":true,\"ticks\":\"\",\"zerolinecolor\":\"white\"},\"zaxis\":{\"backgroundcolor\":\"rgb(234,234,242)\",\"gridcolor\":\"white\",\"gridwidth\":2,\"linecolor\":\"white\",\"showbackground\":true,\"showgrid\":true,\"ticks\":\"\",\"zerolinecolor\":\"white\"}},\"shapedefaults\":{\"fillcolor\":\"rgb(67,103,167)\",\"line\":{\"width\":0},\"opacity\":0.5},\"ternary\":{\"aaxis\":{\"gridcolor\":\"white\",\"linecolor\":\"white\",\"showgrid\":true,\"ticks\":\"\"},\"baxis\":{\"gridcolor\":\"white\",\"linecolor\":\"white\",\"showgrid\":true,\"ticks\":\"\"},\"bgcolor\":\"rgb(234,234,242)\",\"caxis\":{\"gridcolor\":\"white\",\"linecolor\":\"white\",\"showgrid\":true,\"ticks\":\"\"}},\"xaxis\":{\"automargin\":true,\"gridcolor\":\"white\",\"linecolor\":\"white\",\"showgrid\":true,\"ticks\":\"\",\"title\":{\"standoff\":15},\"zerolinecolor\":\"white\"},\"yaxis\":{\"automargin\":true,\"gridcolor\":\"white\",\"linecolor\":\"white\",\"showgrid\":true,\"ticks\":\"\",\"title\":{\"standoff\":15},\"zerolinecolor\":\"white\"}}},\"xaxis\":{\"anchor\":\"y\",\"domain\":[0.0,1.0],\"title\":{\"text\":\"f1_score\"}},\"yaxis\":{\"anchor\":\"x\",\"domain\":[0.0,1.0],\"title\":{\"text\":\"balanced_accuracy_score\"}},\"legend\":{\"title\":{\"text\":\"model_filename\"},\"tracegroupgap\":0},\"title\":{\"text\":\"MITBIH - F1 Score & Balanced Accuracy - Individual Models - Scatter (Best)\"},\"height\":480,\"width\":772},                        {\"responsive\": true}                    ).then(function(){\n",
              "                            \n",
              "var gd = document.getElementById('e7eb199e-5d7d-4b4b-b472-27059a563d1a');\n",
              "var x = new MutationObserver(function (mutations, observer) {{\n",
              "        var display = window.getComputedStyle(gd).display;\n",
              "        if (!display || display === 'none') {{\n",
              "            console.log([gd, 'removed!']);\n",
              "            Plotly.purge(gd);\n",
              "            observer.disconnect();\n",
              "        }}\n",
              "}});\n",
              "\n",
              "// Listen for the removal of the full notebook cells\n",
              "var notebookContainer = gd.closest('#notebook-container');\n",
              "if (notebookContainer) {{\n",
              "    x.observe(notebookContainer, {childList: true});\n",
              "}}\n",
              "\n",
              "// Listen for the clearing of the current output cell\n",
              "var outputEl = gd.closest('.output');\n",
              "if (outputEl) {{\n",
              "    x.observe(outputEl, {childList: true});\n",
              "}}\n",
              "\n",
              "                        })                };                            </script>        </div>\n",
              "</body>\n",
              "</html>"
            ]
          },
          "metadata": {}
        }
      ]
    },
    {
      "cell_type": "code",
      "source": [
        "#@title model performance - balanced acc\n",
        "\n",
        "mit_t5_df = MIT_top.iloc[:5,:]\n",
        "\n",
        "def fix_names(text:str):\n",
        "\n",
        "    return text.replace('_weights_preds','')\n",
        "mit_t5_df['balanced_accuracy_score'] = mit_t5_df['balanced_accuracy_score'].apply(round,args=(3,))\n",
        "\n",
        "mit_t5_df['model_filename'] = mit_t5_df['model_filename'].apply(fix_names)\n",
        "top5_mit = px.bar(mit_t5_df,\n",
        "                  x='model_filename',\n",
        "                    y='balanced_accuracy_score', \n",
        "                    color='model_filename',\n",
        "                  template='seaborn',\n",
        "                hover_data=list(mit_t5_df.columns),\n",
        "                text='balanced_accuracy_score',\n",
        "                title=\"Top Single-Model Performance on MITBIH - Balanced Accuracy\",\n",
        "                height=plot_height, width=plot_width,\n",
        "\n",
        ")\n",
        "top5_mit.show()"
      ],
      "metadata": {
        "colab": {
          "base_uri": "https://localhost:8080/",
          "height": 809
        },
        "cellView": "form",
        "id": "3m59DY6mmozj",
        "outputId": "769fcda8-6e45-4c50-84ed-aed3df885e86"
      },
      "execution_count": 71,
      "outputs": [
        {
          "output_type": "display_data",
          "data": {
            "text/plain": [
              "<IPython.core.display.HTML object>"
            ],
            "text/html": [
              "\n",
              "  <style>\n",
              "    pre {\n",
              "        white-space: pre-wrap;\n",
              "    }\n",
              "  </style>\n",
              "  "
            ]
          },
          "metadata": {}
        },
        {
          "output_type": "stream",
          "name": "stderr",
          "text": [
            "/usr/local/lib/python3.7/dist-packages/ipykernel_launcher.py:8: SettingWithCopyWarning:\n",
            "\n",
            "\n",
            "A value is trying to be set on a copy of a slice from a DataFrame.\n",
            "Try using .loc[row_indexer,col_indexer] = value instead\n",
            "\n",
            "See the caveats in the documentation: https://pandas.pydata.org/pandas-docs/stable/user_guide/indexing.html#returning-a-view-versus-a-copy\n",
            "\n",
            "/usr/local/lib/python3.7/dist-packages/ipykernel_launcher.py:10: SettingWithCopyWarning:\n",
            "\n",
            "\n",
            "A value is trying to be set on a copy of a slice from a DataFrame.\n",
            "Try using .loc[row_indexer,col_indexer] = value instead\n",
            "\n",
            "See the caveats in the documentation: https://pandas.pydata.org/pandas-docs/stable/user_guide/indexing.html#returning-a-view-versus-a-copy\n",
            "\n"
          ]
        },
        {
          "output_type": "display_data",
          "data": {
            "text/html": [
              "<html>\n",
              "<head><meta charset=\"utf-8\" /></head>\n",
              "<body>\n",
              "    <div>            <script src=\"https://cdnjs.cloudflare.com/ajax/libs/mathjax/2.7.5/MathJax.js?config=TeX-AMS-MML_SVG\"></script><script type=\"text/javascript\">if (window.MathJax) {MathJax.Hub.Config({SVG: {font: \"STIX-Web\"}});}</script>                <script type=\"text/javascript\">window.PlotlyConfig = {MathJaxConfig: 'local'};</script>\n",
              "        <script src=\"https://cdn.plot.ly/plotly-2.9.0.min.js\"></script>                <div id=\"1ef3c908-3bad-4ed0-be6c-e6b937030468\" class=\"plotly-graph-div\" style=\"height:480px; width:772px;\"></div>            <script type=\"text/javascript\">                                    window.PLOTLYENV=window.PLOTLYENV || {};                                    if (document.getElementById(\"1ef3c908-3bad-4ed0-be6c-e6b937030468\")) {                    Plotly.newPlot(                        \"1ef3c908-3bad-4ed0-be6c-e6b937030468\",                        [{\"alignmentgroup\":\"True\",\"customdata\":[[0.9871185821304587,0.9247785679882142,0.957311507919293]],\"hovertemplate\":\"model_filename=%{x}<br>balanced_accuracy_score=%{text}<br>accuracy=%{customdata[0]}<br>f1_score=%{customdata[1]}<br>matthews_corrcoef=%{customdata[2]}<extra></extra>\",\"legendgroup\":\"BidirGRU_BS=1024_MITBIH_biGRU\",\"marker\":{\"color\":\"rgb(76,114,176)\",\"pattern\":{\"shape\":\"\"}},\"name\":\"BidirGRU_BS=1024_MITBIH_biGRU\",\"offsetgroup\":\"BidirGRU_BS=1024_MITBIH_biGRU\",\"orientation\":\"v\",\"showlegend\":true,\"text\":[0.904],\"textposition\":\"auto\",\"x\":[\"BidirGRU_BS=1024_MITBIH_biGRU\"],\"xaxis\":\"x\",\"y\":[0.904],\"yaxis\":\"y\",\"type\":\"bar\"},{\"alignmentgroup\":\"True\",\"customdata\":[[0.9859309336744017,0.9163345770572539,0.9533450413269955]],\"hovertemplate\":\"model_filename=%{x}<br>balanced_accuracy_score=%{text}<br>accuracy=%{customdata[0]}<br>f1_score=%{customdata[1]}<br>matthews_corrcoef=%{customdata[2]}<extra></extra>\",\"legendgroup\":\"BILSTM187_mitbih_MITBIH\",\"marker\":{\"color\":\"rgb(221,132,82)\",\"pattern\":{\"shape\":\"\"}},\"name\":\"BILSTM187_mitbih_MITBIH\",\"offsetgroup\":\"BILSTM187_mitbih_MITBIH\",\"orientation\":\"v\",\"showlegend\":true,\"text\":[0.898],\"textposition\":\"auto\",\"x\":[\"BILSTM187_mitbih_MITBIH\"],\"xaxis\":\"x\",\"y\":[0.898],\"yaxis\":\"y\",\"type\":\"bar\"},{\"alignmentgroup\":\"True\",\"customdata\":[[0.9845605700712589,0.9104976848481081,0.9486790567025004]],\"hovertemplate\":\"model_filename=%{x}<br>balanced_accuracy_score=%{text}<br>accuracy=%{customdata[0]}<br>f1_score=%{customdata[1]}<br>matthews_corrcoef=%{customdata[2]}<extra></extra>\",\"legendgroup\":\"BILSTM187_mitbih_MITBIH_biGRU\",\"marker\":{\"color\":\"rgb(85,168,104)\",\"pattern\":{\"shape\":\"\"}},\"name\":\"BILSTM187_mitbih_MITBIH_biGRU\",\"offsetgroup\":\"BILSTM187_mitbih_MITBIH_biGRU\",\"orientation\":\"v\",\"showlegend\":true,\"text\":[0.886],\"textposition\":\"auto\",\"x\":[\"BILSTM187_mitbih_MITBIH_biGRU\"],\"xaxis\":\"x\",\"y\":[0.886],\"yaxis\":\"y\",\"type\":\"bar\"},{\"alignmentgroup\":\"True\",\"customdata\":[[0.9789877580851453,0.8882279762685119,0.929741581387028]],\"hovertemplate\":\"model_filename=%{x}<br>balanced_accuracy_score=%{text}<br>accuracy=%{customdata[0]}<br>f1_score=%{customdata[1]}<br>matthews_corrcoef=%{customdata[2]}<extra></extra>\",\"legendgroup\":\"GRU_mitbih_MITBIH\",\"marker\":{\"color\":\"rgb(196,78,82)\",\"pattern\":{\"shape\":\"\"}},\"name\":\"GRU_mitbih_MITBIH\",\"offsetgroup\":\"GRU_mitbih_MITBIH\",\"orientation\":\"v\",\"showlegend\":true,\"text\":[0.856],\"textposition\":\"auto\",\"x\":[\"GRU_mitbih_MITBIH\"],\"xaxis\":\"x\",\"y\":[0.856],\"yaxis\":\"y\",\"type\":\"bar\"},{\"alignmentgroup\":\"True\",\"customdata\":[[0.9757445642243742,0.8739764315520855,0.9188782481009926]],\"hovertemplate\":\"model_filename=%{x}<br>balanced_accuracy_score=%{text}<br>accuracy=%{customdata[0]}<br>f1_score=%{customdata[1]}<br>matthews_corrcoef=%{customdata[2]}<extra></extra>\",\"legendgroup\":\"CNN_mitbih_MITBIH_biGRU\",\"marker\":{\"color\":\"rgb(129,114,179)\",\"pattern\":{\"shape\":\"\"}},\"name\":\"CNN_mitbih_MITBIH_biGRU\",\"offsetgroup\":\"CNN_mitbih_MITBIH_biGRU\",\"orientation\":\"v\",\"showlegend\":true,\"text\":[0.848],\"textposition\":\"auto\",\"x\":[\"CNN_mitbih_MITBIH_biGRU\"],\"xaxis\":\"x\",\"y\":[0.848],\"yaxis\":\"y\",\"type\":\"bar\"}],                        {\"template\":{\"data\":{\"barpolar\":[{\"marker\":{\"line\":{\"color\":\"rgb(234,234,242)\",\"width\":0.5},\"pattern\":{\"fillmode\":\"overlay\",\"size\":10,\"solidity\":0.2}},\"type\":\"barpolar\"}],\"bar\":[{\"error_x\":{\"color\":\"rgb(36,36,36)\"},\"error_y\":{\"color\":\"rgb(36,36,36)\"},\"marker\":{\"line\":{\"color\":\"rgb(234,234,242)\",\"width\":0.5},\"pattern\":{\"fillmode\":\"overlay\",\"size\":10,\"solidity\":0.2}},\"type\":\"bar\"}],\"carpet\":[{\"aaxis\":{\"endlinecolor\":\"rgb(36,36,36)\",\"gridcolor\":\"white\",\"linecolor\":\"white\",\"minorgridcolor\":\"white\",\"startlinecolor\":\"rgb(36,36,36)\"},\"baxis\":{\"endlinecolor\":\"rgb(36,36,36)\",\"gridcolor\":\"white\",\"linecolor\":\"white\",\"minorgridcolor\":\"white\",\"startlinecolor\":\"rgb(36,36,36)\"},\"type\":\"carpet\"}],\"choropleth\":[{\"colorbar\":{\"outlinewidth\":0,\"tickcolor\":\"rgb(36,36,36)\",\"ticklen\":8,\"ticks\":\"outside\",\"tickwidth\":2},\"type\":\"choropleth\"}],\"contourcarpet\":[{\"colorbar\":{\"outlinewidth\":0,\"tickcolor\":\"rgb(36,36,36)\",\"ticklen\":8,\"ticks\":\"outside\",\"tickwidth\":2},\"type\":\"contourcarpet\"}],\"contour\":[{\"colorbar\":{\"outlinewidth\":0,\"tickcolor\":\"rgb(36,36,36)\",\"ticklen\":8,\"ticks\":\"outside\",\"tickwidth\":2},\"colorscale\":[[0.0,\"rgb(2,4,25)\"],[0.06274509803921569,\"rgb(24,15,41)\"],[0.12549019607843137,\"rgb(47,23,57)\"],[0.18823529411764706,\"rgb(71,28,72)\"],[0.25098039215686274,\"rgb(97,30,82)\"],[0.3137254901960784,\"rgb(123,30,89)\"],[0.3764705882352941,\"rgb(150,27,91)\"],[0.4392156862745098,\"rgb(177,22,88)\"],[0.5019607843137255,\"rgb(203,26,79)\"],[0.5647058823529412,\"rgb(223,47,67)\"],[0.6274509803921569,\"rgb(236,76,61)\"],[0.6901960784313725,\"rgb(242,107,73)\"],[0.7529411764705882,\"rgb(244,135,95)\"],[0.8156862745098039,\"rgb(245,162,122)\"],[0.8784313725490196,\"rgb(246,188,153)\"],[0.9411764705882353,\"rgb(247,212,187)\"],[1.0,\"rgb(250,234,220)\"]],\"type\":\"contour\"}],\"heatmapgl\":[{\"colorbar\":{\"outlinewidth\":0,\"tickcolor\":\"rgb(36,36,36)\",\"ticklen\":8,\"ticks\":\"outside\",\"tickwidth\":2},\"colorscale\":[[0.0,\"rgb(2,4,25)\"],[0.06274509803921569,\"rgb(24,15,41)\"],[0.12549019607843137,\"rgb(47,23,57)\"],[0.18823529411764706,\"rgb(71,28,72)\"],[0.25098039215686274,\"rgb(97,30,82)\"],[0.3137254901960784,\"rgb(123,30,89)\"],[0.3764705882352941,\"rgb(150,27,91)\"],[0.4392156862745098,\"rgb(177,22,88)\"],[0.5019607843137255,\"rgb(203,26,79)\"],[0.5647058823529412,\"rgb(223,47,67)\"],[0.6274509803921569,\"rgb(236,76,61)\"],[0.6901960784313725,\"rgb(242,107,73)\"],[0.7529411764705882,\"rgb(244,135,95)\"],[0.8156862745098039,\"rgb(245,162,122)\"],[0.8784313725490196,\"rgb(246,188,153)\"],[0.9411764705882353,\"rgb(247,212,187)\"],[1.0,\"rgb(250,234,220)\"]],\"type\":\"heatmapgl\"}],\"heatmap\":[{\"colorbar\":{\"outlinewidth\":0,\"tickcolor\":\"rgb(36,36,36)\",\"ticklen\":8,\"ticks\":\"outside\",\"tickwidth\":2},\"colorscale\":[[0.0,\"rgb(2,4,25)\"],[0.06274509803921569,\"rgb(24,15,41)\"],[0.12549019607843137,\"rgb(47,23,57)\"],[0.18823529411764706,\"rgb(71,28,72)\"],[0.25098039215686274,\"rgb(97,30,82)\"],[0.3137254901960784,\"rgb(123,30,89)\"],[0.3764705882352941,\"rgb(150,27,91)\"],[0.4392156862745098,\"rgb(177,22,88)\"],[0.5019607843137255,\"rgb(203,26,79)\"],[0.5647058823529412,\"rgb(223,47,67)\"],[0.6274509803921569,\"rgb(236,76,61)\"],[0.6901960784313725,\"rgb(242,107,73)\"],[0.7529411764705882,\"rgb(244,135,95)\"],[0.8156862745098039,\"rgb(245,162,122)\"],[0.8784313725490196,\"rgb(246,188,153)\"],[0.9411764705882353,\"rgb(247,212,187)\"],[1.0,\"rgb(250,234,220)\"]],\"type\":\"heatmap\"}],\"histogram2dcontour\":[{\"colorbar\":{\"outlinewidth\":0,\"tickcolor\":\"rgb(36,36,36)\",\"ticklen\":8,\"ticks\":\"outside\",\"tickwidth\":2},\"colorscale\":[[0.0,\"rgb(2,4,25)\"],[0.06274509803921569,\"rgb(24,15,41)\"],[0.12549019607843137,\"rgb(47,23,57)\"],[0.18823529411764706,\"rgb(71,28,72)\"],[0.25098039215686274,\"rgb(97,30,82)\"],[0.3137254901960784,\"rgb(123,30,89)\"],[0.3764705882352941,\"rgb(150,27,91)\"],[0.4392156862745098,\"rgb(177,22,88)\"],[0.5019607843137255,\"rgb(203,26,79)\"],[0.5647058823529412,\"rgb(223,47,67)\"],[0.6274509803921569,\"rgb(236,76,61)\"],[0.6901960784313725,\"rgb(242,107,73)\"],[0.7529411764705882,\"rgb(244,135,95)\"],[0.8156862745098039,\"rgb(245,162,122)\"],[0.8784313725490196,\"rgb(246,188,153)\"],[0.9411764705882353,\"rgb(247,212,187)\"],[1.0,\"rgb(250,234,220)\"]],\"type\":\"histogram2dcontour\"}],\"histogram2d\":[{\"colorbar\":{\"outlinewidth\":0,\"tickcolor\":\"rgb(36,36,36)\",\"ticklen\":8,\"ticks\":\"outside\",\"tickwidth\":2},\"colorscale\":[[0.0,\"rgb(2,4,25)\"],[0.06274509803921569,\"rgb(24,15,41)\"],[0.12549019607843137,\"rgb(47,23,57)\"],[0.18823529411764706,\"rgb(71,28,72)\"],[0.25098039215686274,\"rgb(97,30,82)\"],[0.3137254901960784,\"rgb(123,30,89)\"],[0.3764705882352941,\"rgb(150,27,91)\"],[0.4392156862745098,\"rgb(177,22,88)\"],[0.5019607843137255,\"rgb(203,26,79)\"],[0.5647058823529412,\"rgb(223,47,67)\"],[0.6274509803921569,\"rgb(236,76,61)\"],[0.6901960784313725,\"rgb(242,107,73)\"],[0.7529411764705882,\"rgb(244,135,95)\"],[0.8156862745098039,\"rgb(245,162,122)\"],[0.8784313725490196,\"rgb(246,188,153)\"],[0.9411764705882353,\"rgb(247,212,187)\"],[1.0,\"rgb(250,234,220)\"]],\"type\":\"histogram2d\"}],\"histogram\":[{\"marker\":{\"pattern\":{\"fillmode\":\"overlay\",\"size\":10,\"solidity\":0.2}},\"type\":\"histogram\"}],\"mesh3d\":[{\"colorbar\":{\"outlinewidth\":0,\"tickcolor\":\"rgb(36,36,36)\",\"ticklen\":8,\"ticks\":\"outside\",\"tickwidth\":2},\"type\":\"mesh3d\"}],\"parcoords\":[{\"line\":{\"colorbar\":{\"outlinewidth\":0,\"tickcolor\":\"rgb(36,36,36)\",\"ticklen\":8,\"ticks\":\"outside\",\"tickwidth\":2}},\"type\":\"parcoords\"}],\"pie\":[{\"automargin\":true,\"type\":\"pie\"}],\"scatter3d\":[{\"line\":{\"colorbar\":{\"outlinewidth\":0,\"tickcolor\":\"rgb(36,36,36)\",\"ticklen\":8,\"ticks\":\"outside\",\"tickwidth\":2}},\"marker\":{\"colorbar\":{\"outlinewidth\":0,\"tickcolor\":\"rgb(36,36,36)\",\"ticklen\":8,\"ticks\":\"outside\",\"tickwidth\":2}},\"type\":\"scatter3d\"}],\"scattercarpet\":[{\"marker\":{\"colorbar\":{\"outlinewidth\":0,\"tickcolor\":\"rgb(36,36,36)\",\"ticklen\":8,\"ticks\":\"outside\",\"tickwidth\":2}},\"type\":\"scattercarpet\"}],\"scattergeo\":[{\"marker\":{\"colorbar\":{\"outlinewidth\":0,\"tickcolor\":\"rgb(36,36,36)\",\"ticklen\":8,\"ticks\":\"outside\",\"tickwidth\":2}},\"type\":\"scattergeo\"}],\"scattergl\":[{\"marker\":{\"colorbar\":{\"outlinewidth\":0,\"tickcolor\":\"rgb(36,36,36)\",\"ticklen\":8,\"ticks\":\"outside\",\"tickwidth\":2}},\"type\":\"scattergl\"}],\"scattermapbox\":[{\"marker\":{\"colorbar\":{\"outlinewidth\":0,\"tickcolor\":\"rgb(36,36,36)\",\"ticklen\":8,\"ticks\":\"outside\",\"tickwidth\":2}},\"type\":\"scattermapbox\"}],\"scatterpolargl\":[{\"marker\":{\"colorbar\":{\"outlinewidth\":0,\"tickcolor\":\"rgb(36,36,36)\",\"ticklen\":8,\"ticks\":\"outside\",\"tickwidth\":2}},\"type\":\"scatterpolargl\"}],\"scatterpolar\":[{\"marker\":{\"colorbar\":{\"outlinewidth\":0,\"tickcolor\":\"rgb(36,36,36)\",\"ticklen\":8,\"ticks\":\"outside\",\"tickwidth\":2}},\"type\":\"scatterpolar\"}],\"scatter\":[{\"marker\":{\"colorbar\":{\"outlinewidth\":0,\"tickcolor\":\"rgb(36,36,36)\",\"ticklen\":8,\"ticks\":\"outside\",\"tickwidth\":2}},\"type\":\"scatter\"}],\"scatterternary\":[{\"marker\":{\"colorbar\":{\"outlinewidth\":0,\"tickcolor\":\"rgb(36,36,36)\",\"ticklen\":8,\"ticks\":\"outside\",\"tickwidth\":2}},\"type\":\"scatterternary\"}],\"surface\":[{\"colorbar\":{\"outlinewidth\":0,\"tickcolor\":\"rgb(36,36,36)\",\"ticklen\":8,\"ticks\":\"outside\",\"tickwidth\":2},\"colorscale\":[[0.0,\"rgb(2,4,25)\"],[0.06274509803921569,\"rgb(24,15,41)\"],[0.12549019607843137,\"rgb(47,23,57)\"],[0.18823529411764706,\"rgb(71,28,72)\"],[0.25098039215686274,\"rgb(97,30,82)\"],[0.3137254901960784,\"rgb(123,30,89)\"],[0.3764705882352941,\"rgb(150,27,91)\"],[0.4392156862745098,\"rgb(177,22,88)\"],[0.5019607843137255,\"rgb(203,26,79)\"],[0.5647058823529412,\"rgb(223,47,67)\"],[0.6274509803921569,\"rgb(236,76,61)\"],[0.6901960784313725,\"rgb(242,107,73)\"],[0.7529411764705882,\"rgb(244,135,95)\"],[0.8156862745098039,\"rgb(245,162,122)\"],[0.8784313725490196,\"rgb(246,188,153)\"],[0.9411764705882353,\"rgb(247,212,187)\"],[1.0,\"rgb(250,234,220)\"]],\"type\":\"surface\"}],\"table\":[{\"cells\":{\"fill\":{\"color\":\"rgb(231,231,240)\"},\"line\":{\"color\":\"white\"}},\"header\":{\"fill\":{\"color\":\"rgb(183,183,191)\"},\"line\":{\"color\":\"white\"}},\"type\":\"table\"}]},\"layout\":{\"annotationdefaults\":{\"arrowcolor\":\"rgb(67,103,167)\"},\"autotypenumbers\":\"strict\",\"coloraxis\":{\"colorbar\":{\"outlinewidth\":0,\"tickcolor\":\"rgb(36,36,36)\",\"ticklen\":8,\"ticks\":\"outside\",\"tickwidth\":2}},\"colorscale\":{\"sequential\":[[0.0,\"rgb(2,4,25)\"],[0.06274509803921569,\"rgb(24,15,41)\"],[0.12549019607843137,\"rgb(47,23,57)\"],[0.18823529411764706,\"rgb(71,28,72)\"],[0.25098039215686274,\"rgb(97,30,82)\"],[0.3137254901960784,\"rgb(123,30,89)\"],[0.3764705882352941,\"rgb(150,27,91)\"],[0.4392156862745098,\"rgb(177,22,88)\"],[0.5019607843137255,\"rgb(203,26,79)\"],[0.5647058823529412,\"rgb(223,47,67)\"],[0.6274509803921569,\"rgb(236,76,61)\"],[0.6901960784313725,\"rgb(242,107,73)\"],[0.7529411764705882,\"rgb(244,135,95)\"],[0.8156862745098039,\"rgb(245,162,122)\"],[0.8784313725490196,\"rgb(246,188,153)\"],[0.9411764705882353,\"rgb(247,212,187)\"],[1.0,\"rgb(250,234,220)\"]],\"sequentialminus\":[[0.0,\"rgb(2,4,25)\"],[0.06274509803921569,\"rgb(24,15,41)\"],[0.12549019607843137,\"rgb(47,23,57)\"],[0.18823529411764706,\"rgb(71,28,72)\"],[0.25098039215686274,\"rgb(97,30,82)\"],[0.3137254901960784,\"rgb(123,30,89)\"],[0.3764705882352941,\"rgb(150,27,91)\"],[0.4392156862745098,\"rgb(177,22,88)\"],[0.5019607843137255,\"rgb(203,26,79)\"],[0.5647058823529412,\"rgb(223,47,67)\"],[0.6274509803921569,\"rgb(236,76,61)\"],[0.6901960784313725,\"rgb(242,107,73)\"],[0.7529411764705882,\"rgb(244,135,95)\"],[0.8156862745098039,\"rgb(245,162,122)\"],[0.8784313725490196,\"rgb(246,188,153)\"],[0.9411764705882353,\"rgb(247,212,187)\"],[1.0,\"rgb(250,234,220)\"]]},\"colorway\":[\"rgb(76,114,176)\",\"rgb(221,132,82)\",\"rgb(85,168,104)\",\"rgb(196,78,82)\",\"rgb(129,114,179)\",\"rgb(147,120,96)\",\"rgb(218,139,195)\",\"rgb(140,140,140)\",\"rgb(204,185,116)\",\"rgb(100,181,205)\"],\"font\":{\"color\":\"rgb(36,36,36)\"},\"geo\":{\"bgcolor\":\"white\",\"lakecolor\":\"white\",\"landcolor\":\"rgb(234,234,242)\",\"showlakes\":true,\"showland\":true,\"subunitcolor\":\"white\"},\"hoverlabel\":{\"align\":\"left\"},\"hovermode\":\"closest\",\"paper_bgcolor\":\"white\",\"plot_bgcolor\":\"rgb(234,234,242)\",\"polar\":{\"angularaxis\":{\"gridcolor\":\"white\",\"linecolor\":\"white\",\"showgrid\":true,\"ticks\":\"\"},\"bgcolor\":\"rgb(234,234,242)\",\"radialaxis\":{\"gridcolor\":\"white\",\"linecolor\":\"white\",\"showgrid\":true,\"ticks\":\"\"}},\"scene\":{\"xaxis\":{\"backgroundcolor\":\"rgb(234,234,242)\",\"gridcolor\":\"white\",\"gridwidth\":2,\"linecolor\":\"white\",\"showbackground\":true,\"showgrid\":true,\"ticks\":\"\",\"zerolinecolor\":\"white\"},\"yaxis\":{\"backgroundcolor\":\"rgb(234,234,242)\",\"gridcolor\":\"white\",\"gridwidth\":2,\"linecolor\":\"white\",\"showbackground\":true,\"showgrid\":true,\"ticks\":\"\",\"zerolinecolor\":\"white\"},\"zaxis\":{\"backgroundcolor\":\"rgb(234,234,242)\",\"gridcolor\":\"white\",\"gridwidth\":2,\"linecolor\":\"white\",\"showbackground\":true,\"showgrid\":true,\"ticks\":\"\",\"zerolinecolor\":\"white\"}},\"shapedefaults\":{\"fillcolor\":\"rgb(67,103,167)\",\"line\":{\"width\":0},\"opacity\":0.5},\"ternary\":{\"aaxis\":{\"gridcolor\":\"white\",\"linecolor\":\"white\",\"showgrid\":true,\"ticks\":\"\"},\"baxis\":{\"gridcolor\":\"white\",\"linecolor\":\"white\",\"showgrid\":true,\"ticks\":\"\"},\"bgcolor\":\"rgb(234,234,242)\",\"caxis\":{\"gridcolor\":\"white\",\"linecolor\":\"white\",\"showgrid\":true,\"ticks\":\"\"}},\"xaxis\":{\"automargin\":true,\"gridcolor\":\"white\",\"linecolor\":\"white\",\"showgrid\":true,\"ticks\":\"\",\"title\":{\"standoff\":15},\"zerolinecolor\":\"white\"},\"yaxis\":{\"automargin\":true,\"gridcolor\":\"white\",\"linecolor\":\"white\",\"showgrid\":true,\"ticks\":\"\",\"title\":{\"standoff\":15},\"zerolinecolor\":\"white\"}}},\"xaxis\":{\"anchor\":\"y\",\"domain\":[0.0,1.0],\"title\":{\"text\":\"model_filename\"},\"categoryorder\":\"array\",\"categoryarray\":[\"BidirGRU_BS=1024_MITBIH_biGRU\",\"BILSTM187_mitbih_MITBIH\",\"BILSTM187_mitbih_MITBIH_biGRU\",\"GRU_mitbih_MITBIH\",\"CNN_mitbih_MITBIH_biGRU\"]},\"yaxis\":{\"anchor\":\"x\",\"domain\":[0.0,1.0],\"title\":{\"text\":\"balanced_accuracy_score\"}},\"legend\":{\"title\":{\"text\":\"model_filename\"},\"tracegroupgap\":0},\"title\":{\"text\":\"Top Single-Model Performance on MITBIH - Balanced Accuracy\"},\"barmode\":\"relative\",\"height\":480,\"width\":772},                        {\"responsive\": true}                    ).then(function(){\n",
              "                            \n",
              "var gd = document.getElementById('1ef3c908-3bad-4ed0-be6c-e6b937030468');\n",
              "var x = new MutationObserver(function (mutations, observer) {{\n",
              "        var display = window.getComputedStyle(gd).display;\n",
              "        if (!display || display === 'none') {{\n",
              "            console.log([gd, 'removed!']);\n",
              "            Plotly.purge(gd);\n",
              "            observer.disconnect();\n",
              "        }}\n",
              "}});\n",
              "\n",
              "// Listen for the removal of the full notebook cells\n",
              "var notebookContainer = gd.closest('#notebook-container');\n",
              "if (notebookContainer) {{\n",
              "    x.observe(notebookContainer, {childList: true});\n",
              "}}\n",
              "\n",
              "// Listen for the clearing of the current output cell\n",
              "var outputEl = gd.closest('.output');\n",
              "if (outputEl) {{\n",
              "    x.observe(outputEl, {childList: true});\n",
              "}}\n",
              "\n",
              "                        })                };                            </script>        </div>\n",
              "</body>\n",
              "</html>"
            ]
          },
          "metadata": {}
        }
      ]
    },
    {
      "cell_type": "code",
      "source": [
        "_top5base = metric_comparison_dir / 'MITBIH_top5_models'\n",
        "top5_mit.write_html(_top5base.with_suffix('.html'))\n",
        "top5_mit.write_image(_top5base.with_suffix('.png'))"
      ],
      "metadata": {
        "colab": {
          "base_uri": "https://localhost:8080/",
          "height": 17
        },
        "id": "_fGTE7xRqsNi",
        "outputId": "9fc1a4d8-1fda-4a91-9cea-a72188322d73"
      },
      "execution_count": 73,
      "outputs": [
        {
          "output_type": "display_data",
          "data": {
            "text/plain": [
              "<IPython.core.display.HTML object>"
            ],
            "text/html": [
              "\n",
              "  <style>\n",
              "    pre {\n",
              "        white-space: pre-wrap;\n",
              "    }\n",
              "  </style>\n",
              "  "
            ]
          },
          "metadata": {}
        }
      ]
    },
    {
      "cell_type": "markdown",
      "source": [
        "## PTB plots\n"
      ],
      "metadata": {
        "id": "7Yr3u9jmoAzX"
      }
    },
    {
      "cell_type": "code",
      "source": [
        "ptb_plot = ptb_metrics\n",
        "ptb_plot['balanced_accuracy_score'] = ptb_plot['balanced_accuracy_score'].apply(round,args=(3,))\n",
        "top5_ptb = px.bar(ptb_plot,\n",
        "                  x='model_filename',\n",
        "                    y='balanced_accuracy_score', \n",
        "                    color='model_filename',\n",
        "                  template='ggplot2',\n",
        "                  title=\"Top Single-Model Performance on PTB DB - ROC AUC\",\n",
        "                  hover_data=list(mit_t5_df.columns),\n",
        "                  text='balanced_accuracy_score',\n",
        "                height=plot_height, width=plot_width,\n",
        "\n",
        ")\n",
        "top5_ptb.show()"
      ],
      "metadata": {
        "colab": {
          "base_uri": "https://localhost:8080/",
          "height": 497
        },
        "id": "1Kk_Sz49oC7i",
        "outputId": "c4aa1696-41ac-4199-e828-7c31abdf91e1"
      },
      "execution_count": 72,
      "outputs": [
        {
          "output_type": "display_data",
          "data": {
            "text/plain": [
              "<IPython.core.display.HTML object>"
            ],
            "text/html": [
              "\n",
              "  <style>\n",
              "    pre {\n",
              "        white-space: pre-wrap;\n",
              "    }\n",
              "  </style>\n",
              "  "
            ]
          },
          "metadata": {}
        },
        {
          "output_type": "display_data",
          "data": {
            "text/html": [
              "<html>\n",
              "<head><meta charset=\"utf-8\" /></head>\n",
              "<body>\n",
              "    <div>            <script src=\"https://cdnjs.cloudflare.com/ajax/libs/mathjax/2.7.5/MathJax.js?config=TeX-AMS-MML_SVG\"></script><script type=\"text/javascript\">if (window.MathJax) {MathJax.Hub.Config({SVG: {font: \"STIX-Web\"}});}</script>                <script type=\"text/javascript\">window.PlotlyConfig = {MathJaxConfig: 'local'};</script>\n",
              "        <script src=\"https://cdn.plot.ly/plotly-2.9.0.min.js\"></script>                <div id=\"eed43dfe-cd43-4043-b9c2-0562ccc39029\" class=\"plotly-graph-div\" style=\"height:480px; width:772px;\"></div>            <script type=\"text/javascript\">                                    window.PLOTLYENV=window.PLOTLYENV || {};                                    if (document.getElementById(\"eed43dfe-cd43-4043-b9c2-0562ccc39029\")) {                    Plotly.newPlot(                        \"eed43dfe-cd43-4043-b9c2-0562ccc39029\",                        [{\"alignmentgroup\":\"True\",\"customdata\":[[0.9883201648917898,0.9919278252611586,0.9708329868409153]],\"hovertemplate\":\"model_filename=%{x}<br>balanced_accuracy_score=%{text}<br>accuracy=%{customdata[0]}<br>f1_score=%{customdata[1]}<br>matthews_corrcoef=%{customdata[2]}<extra></extra>\",\"legendgroup\":\"GRU_ptb_preds\",\"marker\":{\"color\":\"#F8766D\",\"pattern\":{\"shape\":\"\"}},\"name\":\"GRU_ptb_preds\",\"offsetgroup\":\"GRU_ptb_preds\",\"orientation\":\"v\",\"showlegend\":true,\"text\":[0.984],\"textposition\":\"auto\",\"x\":[\"GRU_ptb_preds\"],\"xaxis\":\"x\",\"y\":[0.984],\"yaxis\":\"y\",\"type\":\"bar\"},{\"alignmentgroup\":\"True\",\"customdata\":[[0.9866025420817588,0.9907253269916766,0.9666069478319045]],\"hovertemplate\":\"model_filename=%{x}<br>balanced_accuracy_score=%{text}<br>accuracy=%{customdata[0]}<br>f1_score=%{customdata[1]}<br>matthews_corrcoef=%{customdata[2]}<extra></extra>\",\"legendgroup\":\"BidirGRU_ptb_preds\",\"marker\":{\"color\":\"#A3A500\",\"pattern\":{\"shape\":\"\"}},\"name\":\"BidirGRU_ptb_preds\",\"offsetgroup\":\"BidirGRU_ptb_preds\",\"orientation\":\"v\",\"showlegend\":true,\"text\":[0.983],\"textposition\":\"auto\",\"x\":[\"BidirGRU_ptb_preds\"],\"xaxis\":\"x\",\"y\":[0.983],\"yaxis\":\"y\",\"type\":\"bar\"},{\"alignmentgroup\":\"True\",\"customdata\":[[0.9838543455857094,0.988806858775899,0.9598570441539797]],\"hovertemplate\":\"model_filename=%{x}<br>balanced_accuracy_score=%{text}<br>accuracy=%{customdata[0]}<br>f1_score=%{customdata[1]}<br>matthews_corrcoef=%{customdata[2]}<extra></extra>\",\"legendgroup\":\"BILSTM187_ptb-2_preds\",\"marker\":{\"color\":\"#00BF7D\",\"pattern\":{\"shape\":\"\"}},\"name\":\"BILSTM187_ptb-2_preds\",\"offsetgroup\":\"BILSTM187_ptb-2_preds\",\"orientation\":\"v\",\"showlegend\":true,\"text\":[0.981],\"textposition\":\"auto\",\"x\":[\"BILSTM187_ptb-2_preds\"],\"xaxis\":\"x\",\"y\":[0.981],\"yaxis\":\"y\",\"type\":\"bar\"},{\"alignmentgroup\":\"True\",\"customdata\":[[0.9185846788045345,0.9436385255648038,0.7970711295992947]],\"hovertemplate\":\"model_filename=%{x}<br>balanced_accuracy_score=%{text}<br>accuracy=%{customdata[0]}<br>f1_score=%{customdata[1]}<br>matthews_corrcoef=%{customdata[2]}<extra></extra>\",\"legendgroup\":\"CNN_PTB_preds\",\"marker\":{\"color\":\"#00B0F6\",\"pattern\":{\"shape\":\"\"}},\"name\":\"CNN_PTB_preds\",\"offsetgroup\":\"CNN_PTB_preds\",\"orientation\":\"v\",\"showlegend\":true,\"text\":[0.898],\"textposition\":\"auto\",\"x\":[\"CNN_PTB_preds\"],\"xaxis\":\"x\",\"y\":[0.898],\"yaxis\":\"y\",\"type\":\"bar\"},{\"alignmentgroup\":\"True\",\"customdata\":[[0.7265544486430779,0.824669603524229,0.2318812596053182]],\"hovertemplate\":\"model_filename=%{x}<br>balanced_accuracy_score=%{text}<br>accuracy=%{customdata[0]}<br>f1_score=%{customdata[1]}<br>matthews_corrcoef=%{customdata[2]}<extra></extra>\",\"legendgroup\":\"RNN_PTB_preds\",\"marker\":{\"color\":\"#E76BF3\",\"pattern\":{\"shape\":\"\"}},\"name\":\"RNN_PTB_preds\",\"offsetgroup\":\"RNN_PTB_preds\",\"orientation\":\"v\",\"showlegend\":true,\"text\":[0.595],\"textposition\":\"auto\",\"x\":[\"RNN_PTB_preds\"],\"xaxis\":\"x\",\"y\":[0.595],\"yaxis\":\"y\",\"type\":\"bar\"}],                        {\"template\":{\"data\":{\"barpolar\":[{\"marker\":{\"line\":{\"color\":\"rgb(237,237,237)\",\"width\":0.5},\"pattern\":{\"fillmode\":\"overlay\",\"size\":10,\"solidity\":0.2}},\"type\":\"barpolar\"}],\"bar\":[{\"error_x\":{\"color\":\"rgb(51,51,51)\"},\"error_y\":{\"color\":\"rgb(51,51,51)\"},\"marker\":{\"line\":{\"color\":\"rgb(237,237,237)\",\"width\":0.5},\"pattern\":{\"fillmode\":\"overlay\",\"size\":10,\"solidity\":0.2}},\"type\":\"bar\"}],\"carpet\":[{\"aaxis\":{\"endlinecolor\":\"rgb(51,51,51)\",\"gridcolor\":\"white\",\"linecolor\":\"white\",\"minorgridcolor\":\"white\",\"startlinecolor\":\"rgb(51,51,51)\"},\"baxis\":{\"endlinecolor\":\"rgb(51,51,51)\",\"gridcolor\":\"white\",\"linecolor\":\"white\",\"minorgridcolor\":\"white\",\"startlinecolor\":\"rgb(51,51,51)\"},\"type\":\"carpet\"}],\"choropleth\":[{\"colorbar\":{\"outlinewidth\":0,\"tickcolor\":\"rgb(237,237,237)\",\"ticklen\":6,\"ticks\":\"inside\"},\"type\":\"choropleth\"}],\"contourcarpet\":[{\"colorbar\":{\"outlinewidth\":0,\"tickcolor\":\"rgb(237,237,237)\",\"ticklen\":6,\"ticks\":\"inside\"},\"type\":\"contourcarpet\"}],\"contour\":[{\"colorbar\":{\"outlinewidth\":0,\"tickcolor\":\"rgb(237,237,237)\",\"ticklen\":6,\"ticks\":\"inside\"},\"colorscale\":[[0,\"rgb(20,44,66)\"],[1,\"rgb(90,179,244)\"]],\"type\":\"contour\"}],\"heatmapgl\":[{\"colorbar\":{\"outlinewidth\":0,\"tickcolor\":\"rgb(237,237,237)\",\"ticklen\":6,\"ticks\":\"inside\"},\"colorscale\":[[0,\"rgb(20,44,66)\"],[1,\"rgb(90,179,244)\"]],\"type\":\"heatmapgl\"}],\"heatmap\":[{\"colorbar\":{\"outlinewidth\":0,\"tickcolor\":\"rgb(237,237,237)\",\"ticklen\":6,\"ticks\":\"inside\"},\"colorscale\":[[0,\"rgb(20,44,66)\"],[1,\"rgb(90,179,244)\"]],\"type\":\"heatmap\"}],\"histogram2dcontour\":[{\"colorbar\":{\"outlinewidth\":0,\"tickcolor\":\"rgb(237,237,237)\",\"ticklen\":6,\"ticks\":\"inside\"},\"colorscale\":[[0,\"rgb(20,44,66)\"],[1,\"rgb(90,179,244)\"]],\"type\":\"histogram2dcontour\"}],\"histogram2d\":[{\"colorbar\":{\"outlinewidth\":0,\"tickcolor\":\"rgb(237,237,237)\",\"ticklen\":6,\"ticks\":\"inside\"},\"colorscale\":[[0,\"rgb(20,44,66)\"],[1,\"rgb(90,179,244)\"]],\"type\":\"histogram2d\"}],\"histogram\":[{\"marker\":{\"pattern\":{\"fillmode\":\"overlay\",\"size\":10,\"solidity\":0.2}},\"type\":\"histogram\"}],\"mesh3d\":[{\"colorbar\":{\"outlinewidth\":0,\"tickcolor\":\"rgb(237,237,237)\",\"ticklen\":6,\"ticks\":\"inside\"},\"type\":\"mesh3d\"}],\"parcoords\":[{\"line\":{\"colorbar\":{\"outlinewidth\":0,\"tickcolor\":\"rgb(237,237,237)\",\"ticklen\":6,\"ticks\":\"inside\"}},\"type\":\"parcoords\"}],\"pie\":[{\"automargin\":true,\"type\":\"pie\"}],\"scatter3d\":[{\"line\":{\"colorbar\":{\"outlinewidth\":0,\"tickcolor\":\"rgb(237,237,237)\",\"ticklen\":6,\"ticks\":\"inside\"}},\"marker\":{\"colorbar\":{\"outlinewidth\":0,\"tickcolor\":\"rgb(237,237,237)\",\"ticklen\":6,\"ticks\":\"inside\"}},\"type\":\"scatter3d\"}],\"scattercarpet\":[{\"marker\":{\"colorbar\":{\"outlinewidth\":0,\"tickcolor\":\"rgb(237,237,237)\",\"ticklen\":6,\"ticks\":\"inside\"}},\"type\":\"scattercarpet\"}],\"scattergeo\":[{\"marker\":{\"colorbar\":{\"outlinewidth\":0,\"tickcolor\":\"rgb(237,237,237)\",\"ticklen\":6,\"ticks\":\"inside\"}},\"type\":\"scattergeo\"}],\"scattergl\":[{\"marker\":{\"colorbar\":{\"outlinewidth\":0,\"tickcolor\":\"rgb(237,237,237)\",\"ticklen\":6,\"ticks\":\"inside\"}},\"type\":\"scattergl\"}],\"scattermapbox\":[{\"marker\":{\"colorbar\":{\"outlinewidth\":0,\"tickcolor\":\"rgb(237,237,237)\",\"ticklen\":6,\"ticks\":\"inside\"}},\"type\":\"scattermapbox\"}],\"scatterpolargl\":[{\"marker\":{\"colorbar\":{\"outlinewidth\":0,\"tickcolor\":\"rgb(237,237,237)\",\"ticklen\":6,\"ticks\":\"inside\"}},\"type\":\"scatterpolargl\"}],\"scatterpolar\":[{\"marker\":{\"colorbar\":{\"outlinewidth\":0,\"tickcolor\":\"rgb(237,237,237)\",\"ticklen\":6,\"ticks\":\"inside\"}},\"type\":\"scatterpolar\"}],\"scatter\":[{\"marker\":{\"colorbar\":{\"outlinewidth\":0,\"tickcolor\":\"rgb(237,237,237)\",\"ticklen\":6,\"ticks\":\"inside\"}},\"type\":\"scatter\"}],\"scatterternary\":[{\"marker\":{\"colorbar\":{\"outlinewidth\":0,\"tickcolor\":\"rgb(237,237,237)\",\"ticklen\":6,\"ticks\":\"inside\"}},\"type\":\"scatterternary\"}],\"surface\":[{\"colorbar\":{\"outlinewidth\":0,\"tickcolor\":\"rgb(237,237,237)\",\"ticklen\":6,\"ticks\":\"inside\"},\"colorscale\":[[0,\"rgb(20,44,66)\"],[1,\"rgb(90,179,244)\"]],\"type\":\"surface\"}],\"table\":[{\"cells\":{\"fill\":{\"color\":\"rgb(237,237,237)\"},\"line\":{\"color\":\"white\"}},\"header\":{\"fill\":{\"color\":\"rgb(217,217,217)\"},\"line\":{\"color\":\"white\"}},\"type\":\"table\"}]},\"layout\":{\"annotationdefaults\":{\"arrowhead\":0,\"arrowwidth\":1},\"autotypenumbers\":\"strict\",\"coloraxis\":{\"colorbar\":{\"outlinewidth\":0,\"tickcolor\":\"rgb(237,237,237)\",\"ticklen\":6,\"ticks\":\"inside\"}},\"colorscale\":{\"sequential\":[[0,\"rgb(20,44,66)\"],[1,\"rgb(90,179,244)\"]],\"sequentialminus\":[[0,\"rgb(20,44,66)\"],[1,\"rgb(90,179,244)\"]]},\"colorway\":[\"#F8766D\",\"#A3A500\",\"#00BF7D\",\"#00B0F6\",\"#E76BF3\"],\"font\":{\"color\":\"rgb(51,51,51)\"},\"geo\":{\"bgcolor\":\"white\",\"lakecolor\":\"white\",\"landcolor\":\"rgb(237,237,237)\",\"showlakes\":true,\"showland\":true,\"subunitcolor\":\"white\"},\"hoverlabel\":{\"align\":\"left\"},\"hovermode\":\"closest\",\"paper_bgcolor\":\"white\",\"plot_bgcolor\":\"rgb(237,237,237)\",\"polar\":{\"angularaxis\":{\"gridcolor\":\"white\",\"linecolor\":\"white\",\"showgrid\":true,\"tickcolor\":\"rgb(51,51,51)\",\"ticks\":\"outside\"},\"bgcolor\":\"rgb(237,237,237)\",\"radialaxis\":{\"gridcolor\":\"white\",\"linecolor\":\"white\",\"showgrid\":true,\"tickcolor\":\"rgb(51,51,51)\",\"ticks\":\"outside\"}},\"scene\":{\"xaxis\":{\"backgroundcolor\":\"rgb(237,237,237)\",\"gridcolor\":\"white\",\"gridwidth\":2,\"linecolor\":\"white\",\"showbackground\":true,\"showgrid\":true,\"tickcolor\":\"rgb(51,51,51)\",\"ticks\":\"outside\",\"zerolinecolor\":\"white\"},\"yaxis\":{\"backgroundcolor\":\"rgb(237,237,237)\",\"gridcolor\":\"white\",\"gridwidth\":2,\"linecolor\":\"white\",\"showbackground\":true,\"showgrid\":true,\"tickcolor\":\"rgb(51,51,51)\",\"ticks\":\"outside\",\"zerolinecolor\":\"white\"},\"zaxis\":{\"backgroundcolor\":\"rgb(237,237,237)\",\"gridcolor\":\"white\",\"gridwidth\":2,\"linecolor\":\"white\",\"showbackground\":true,\"showgrid\":true,\"tickcolor\":\"rgb(51,51,51)\",\"ticks\":\"outside\",\"zerolinecolor\":\"white\"}},\"shapedefaults\":{\"fillcolor\":\"black\",\"line\":{\"width\":0},\"opacity\":0.3},\"ternary\":{\"aaxis\":{\"gridcolor\":\"white\",\"linecolor\":\"white\",\"showgrid\":true,\"tickcolor\":\"rgb(51,51,51)\",\"ticks\":\"outside\"},\"baxis\":{\"gridcolor\":\"white\",\"linecolor\":\"white\",\"showgrid\":true,\"tickcolor\":\"rgb(51,51,51)\",\"ticks\":\"outside\"},\"bgcolor\":\"rgb(237,237,237)\",\"caxis\":{\"gridcolor\":\"white\",\"linecolor\":\"white\",\"showgrid\":true,\"tickcolor\":\"rgb(51,51,51)\",\"ticks\":\"outside\"}},\"xaxis\":{\"automargin\":true,\"gridcolor\":\"white\",\"linecolor\":\"white\",\"showgrid\":true,\"tickcolor\":\"rgb(51,51,51)\",\"ticks\":\"outside\",\"title\":{\"standoff\":15},\"zerolinecolor\":\"white\"},\"yaxis\":{\"automargin\":true,\"gridcolor\":\"white\",\"linecolor\":\"white\",\"showgrid\":true,\"tickcolor\":\"rgb(51,51,51)\",\"ticks\":\"outside\",\"title\":{\"standoff\":15},\"zerolinecolor\":\"white\"}}},\"xaxis\":{\"anchor\":\"y\",\"domain\":[0.0,1.0],\"title\":{\"text\":\"model_filename\"},\"categoryorder\":\"array\",\"categoryarray\":[\"GRU_ptb_preds\",\"BidirGRU_ptb_preds\",\"BILSTM187_ptb-2_preds\",\"CNN_PTB_preds\",\"RNN_PTB_preds\"]},\"yaxis\":{\"anchor\":\"x\",\"domain\":[0.0,1.0],\"title\":{\"text\":\"balanced_accuracy_score\"}},\"legend\":{\"title\":{\"text\":\"model_filename\"},\"tracegroupgap\":0},\"title\":{\"text\":\"Top Single-Model Performance on PTB DB - ROC AUC\"},\"barmode\":\"relative\",\"height\":480,\"width\":772},                        {\"responsive\": true}                    ).then(function(){\n",
              "                            \n",
              "var gd = document.getElementById('eed43dfe-cd43-4043-b9c2-0562ccc39029');\n",
              "var x = new MutationObserver(function (mutations, observer) {{\n",
              "        var display = window.getComputedStyle(gd).display;\n",
              "        if (!display || display === 'none') {{\n",
              "            console.log([gd, 'removed!']);\n",
              "            Plotly.purge(gd);\n",
              "            observer.disconnect();\n",
              "        }}\n",
              "}});\n",
              "\n",
              "// Listen for the removal of the full notebook cells\n",
              "var notebookContainer = gd.closest('#notebook-container');\n",
              "if (notebookContainer) {{\n",
              "    x.observe(notebookContainer, {childList: true});\n",
              "}}\n",
              "\n",
              "// Listen for the clearing of the current output cell\n",
              "var outputEl = gd.closest('.output');\n",
              "if (outputEl) {{\n",
              "    x.observe(outputEl, {childList: true});\n",
              "}}\n",
              "\n",
              "                        })                };                            </script>        </div>\n",
              "</body>\n",
              "</html>"
            ]
          },
          "metadata": {}
        }
      ]
    },
    {
      "cell_type": "code",
      "source": [
        "_top5base_PTB = metric_comparison_dir / 'PTBDB_top_models'\n",
        "top5_ptb.write_html(_top5base_PTB.with_suffix('.html'))\n",
        "top5_ptb.write_image(_top5base_PTB.with_suffix('.png'))"
      ],
      "metadata": {
        "colab": {
          "base_uri": "https://localhost:8080/",
          "height": 17
        },
        "id": "kIzpZ_mZrJVa",
        "outputId": "041f3e5e-cd23-4541-856e-635eee52d09a"
      },
      "execution_count": 74,
      "outputs": [
        {
          "output_type": "display_data",
          "data": {
            "text/plain": [
              "<IPython.core.display.HTML object>"
            ],
            "text/html": [
              "\n",
              "  <style>\n",
              "    pre {\n",
              "        white-space: pre-wrap;\n",
              "    }\n",
              "  </style>\n",
              "  "
            ]
          },
          "metadata": {}
        }
      ]
    },
    {
      "cell_type": "markdown",
      "source": [
        "# End - Print where stuff is"
      ],
      "metadata": {
        "id": "XX5dfbs6eRse"
      }
    },
    {
      "cell_type": "code",
      "source": [
        "#@markdown <font color=\"orange\"> NOTE: here are printed where the outputs of this notebook are located </font>\n",
        "\n",
        "print(f\"TOP-LEVEL folder for outputs is:\\n\\t{Path(output_path).resolve()}\")\n",
        "\n",
        "print(f\"plots and data for INDIVIDUALLY trained models are in\\n\\t{metric_comparison_dir.resolve()}\")"
      ],
      "metadata": {
        "colab": {
          "base_uri": "https://localhost:8080/",
          "height": 86
        },
        "cellView": "form",
        "id": "oPEw8md1eTr1",
        "outputId": "aa6a7349-d931-4f73-a7d2-40c0a11ddab0"
      },
      "execution_count": 76,
      "outputs": [
        {
          "output_type": "display_data",
          "data": {
            "text/plain": [
              "<IPython.core.display.HTML object>"
            ],
            "text/html": [
              "\n",
              "  <style>\n",
              "    pre {\n",
              "        white-space: pre-wrap;\n",
              "    }\n",
              "  </style>\n",
              "  "
            ]
          },
          "metadata": {}
        },
        {
          "output_type": "stream",
          "name": "stdout",
          "text": [
            "TOP-LEVEL folder for outputs is:\n",
            "\t/content/drive/MyDrive/ETHZ-2022-S/ML-healthcare-projects/project1/Trained-Results-Analysis\n",
            "plots and data for INDIVIDUALLY trained models are in\n",
            "\t/content/drive/MyDrive/ETHZ-2022-S/ML-healthcare-projects/project1/Trained-Results-Analysis/single-model-performance\n"
          ]
        }
      ]
    },
    {
      "cell_type": "code",
      "source": [
        ""
      ],
      "metadata": {
        "id": "2qcLD9uPra0x"
      },
      "execution_count": null,
      "outputs": []
    }
  ]
}