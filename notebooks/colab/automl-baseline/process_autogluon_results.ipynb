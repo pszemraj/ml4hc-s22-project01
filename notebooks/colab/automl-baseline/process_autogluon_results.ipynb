{
  "nbformat": 4,
  "nbformat_minor": 0,
  "metadata": {
    "colab": {
      "name": "process_autogluon_results.ipynb",
      "provenance": [],
      "authorship_tag": "ABX9TyMFjRrV0I8KehhxSX8Kwm7g",
      "include_colab_link": true
    },
    "kernelspec": {
      "name": "python3",
      "display_name": "Python 3"
    },
    "language_info": {
      "name": "python"
    }
  },
  "cells": [
    {
      "cell_type": "markdown",
      "metadata": {
        "id": "view-in-github",
        "colab_type": "text"
      },
      "source": [
        "<a href=\"https://colab.research.google.com/github/pszemraj/ml4hc-s22-project01/blob/autogluon-results/notebooks/colab/automl-baseline/process_autogluon_results.ipynb\" target=\"_parent\"><img src=\"https://colab.research.google.com/assets/colab-badge.svg\" alt=\"Open In Colab\"/></a>"
      ]
    },
    {
      "cell_type": "markdown",
      "source": [
        "#process_autogluon_results\n",
        "\n",
        "- cleans up the dataframes a bit for the report\n"
      ],
      "metadata": {
        "id": "T5aUKikZEGVb"
      }
    },
    {
      "cell_type": "markdown",
      "source": [
        "# setup"
      ],
      "metadata": {
        "id": "wXLJIlYVDffL"
      }
    },
    {
      "cell_type": "code",
      "execution_count": 1,
      "metadata": {
        "cellView": "form",
        "id": "LrDWdEzv3LaX"
      },
      "outputs": [],
      "source": [
        "#@markdown add auto-Colab formatting with `IPython.display`\n",
        "from IPython.display import HTML, display\n",
        "# colab formatting\n",
        "def set_css():\n",
        "    display(\n",
        "        HTML(\n",
        "            \"\"\"\n",
        "  <style>\n",
        "    pre {\n",
        "        white-space: pre-wrap;\n",
        "    }\n",
        "  </style>\n",
        "  \"\"\"\n",
        "        )\n",
        "    )\n",
        "\n",
        "get_ipython().events.register(\"pre_run_cell\", set_css)"
      ]
    },
    {
      "cell_type": "code",
      "source": [
        "!nvidia-smi"
      ],
      "metadata": {
        "colab": {
          "base_uri": "https://localhost:8080/",
          "height": 69
        },
        "id": "In_50y_iV5Pl",
        "outputId": "4c367512-c73f-493d-a191-eb88f24efee9"
      },
      "execution_count": 2,
      "outputs": [
        {
          "output_type": "display_data",
          "data": {
            "text/plain": [
              "<IPython.core.display.HTML object>"
            ],
            "text/html": [
              "\n",
              "  <style>\n",
              "    pre {\n",
              "        white-space: pre-wrap;\n",
              "    }\n",
              "  </style>\n",
              "  "
            ]
          },
          "metadata": {}
        },
        {
          "output_type": "stream",
          "name": "stdout",
          "text": [
            "NVIDIA-SMI has failed because it couldn't communicate with the NVIDIA driver. Make sure that the latest NVIDIA driver is installed and running.\n",
            "\n"
          ]
        }
      ]
    },
    {
      "cell_type": "code",
      "source": [
        "!pip install -U plotly orca kaleido -q\n",
        "import plotly.express as px"
      ],
      "metadata": {
        "colab": {
          "base_uri": "https://localhost:8080/",
          "height": 86
        },
        "id": "6G8rwRO5cgwZ",
        "outputId": "0fdae60f-5d72-4f48-904d-0c58dcc5161d"
      },
      "execution_count": 3,
      "outputs": [
        {
          "output_type": "display_data",
          "data": {
            "text/plain": [
              "<IPython.core.display.HTML object>"
            ],
            "text/html": [
              "\n",
              "  <style>\n",
              "    pre {\n",
              "        white-space: pre-wrap;\n",
              "    }\n",
              "  </style>\n",
              "  "
            ]
          },
          "metadata": {}
        },
        {
          "output_type": "stream",
          "name": "stdout",
          "text": [
            "\u001b[K     |████████████████████████████████| 27.7 MB 76.4 MB/s \n",
            "\u001b[K     |████████████████████████████████| 244 kB 36.1 MB/s \n",
            "\u001b[K     |████████████████████████████████| 79.9 MB 88 kB/s \n",
            "\u001b[K     |████████████████████████████████| 4.3 MB 44.5 MB/s \n",
            "\u001b[?25h"
          ]
        }
      ]
    },
    {
      "cell_type": "code",
      "source": [
        "import numpy as np \n",
        "import pandas as pd\n",
        "from pathlib import Path\n",
        "import os"
      ],
      "metadata": {
        "colab": {
          "base_uri": "https://localhost:8080/",
          "height": 17
        },
        "id": "GhhVr2zhFIq2",
        "outputId": "c124c60c-2f2b-4363-a30f-731e43284d48"
      },
      "execution_count": 4,
      "outputs": [
        {
          "output_type": "display_data",
          "data": {
            "text/plain": [
              "<IPython.core.display.HTML object>"
            ],
            "text/html": [
              "\n",
              "  <style>\n",
              "    pre {\n",
              "        white-space: pre-wrap;\n",
              "    }\n",
              "  </style>\n",
              "  "
            ]
          },
          "metadata": {}
        }
      ]
    },
    {
      "cell_type": "code",
      "source": [
        "#@title mount drive\n",
        "from google.colab import drive\n",
        "\n",
        "drive_base_str = '/content/drive'\n",
        "drive.mount(drive_base_str)\n"
      ],
      "metadata": {
        "colab": {
          "base_uri": "https://localhost:8080/",
          "height": 34
        },
        "cellView": "form",
        "id": "OhgWnXl6hi4z",
        "outputId": "ea4a1eb5-ac0f-483f-d27a-4e9e2f6f4157"
      },
      "execution_count": 5,
      "outputs": [
        {
          "output_type": "display_data",
          "data": {
            "text/plain": [
              "<IPython.core.display.HTML object>"
            ],
            "text/html": [
              "\n",
              "  <style>\n",
              "    pre {\n",
              "        white-space: pre-wrap;\n",
              "    }\n",
              "  </style>\n",
              "  "
            ]
          },
          "metadata": {}
        },
        {
          "output_type": "stream",
          "name": "stdout",
          "text": [
            "Mounted at /content/drive\n"
          ]
        }
      ]
    },
    {
      "cell_type": "code",
      "source": [
        "#@markdown determine root\n",
        "import os\n",
        "from pathlib import Path\n",
        "peter_base = Path('/content/drive/MyDrive/ETHZ-2022-S/ML-healthcare-projects/project1/gluon-autoML/')\n",
        "\n",
        "if peter_base.exists() and peter_base.is_dir():\n",
        "    path = str(peter_base.resolve())\n",
        "else:\n",
        "    # original\n",
        "    path = '/content/drive/MyDrive/ETH/'\n",
        "\n",
        "print(f\"base drive dir is:\\n{path}\")"
      ],
      "metadata": {
        "colab": {
          "base_uri": "https://localhost:8080/",
          "height": 51
        },
        "id": "X7kshRAnTUBC",
        "outputId": "b3794d34-e508-4c62-a532-c0d52805e553",
        "cellView": "form"
      },
      "execution_count": 6,
      "outputs": [
        {
          "output_type": "display_data",
          "data": {
            "text/plain": [
              "<IPython.core.display.HTML object>"
            ],
            "text/html": [
              "\n",
              "  <style>\n",
              "    pre {\n",
              "        white-space: pre-wrap;\n",
              "    }\n",
              "  </style>\n",
              "  "
            ]
          },
          "metadata": {}
        },
        {
          "output_type": "stream",
          "name": "stdout",
          "text": [
            "base drive dir is:\n",
            "/content/drive/MyDrive/ETHZ-2022-S/ML-healthcare-projects/project1/gluon-autoML\n"
          ]
        }
      ]
    },
    {
      "cell_type": "markdown",
      "source": [
        "## define folder for outputs"
      ],
      "metadata": {
        "id": "ZzWEPEMbDqur"
      }
    },
    {
      "cell_type": "code",
      "source": [
        "_out_dir_name = \"Formatted-results-report\" #@param {type:\"string\"}\n",
        "\n",
        "output_path = os.path.join(path, _out_dir_name)\n",
        "os.makedirs(output_path, exist_ok=True)\n",
        "print(f\"notebook outputs will be stored in:\\n{output_path}\")"
      ],
      "metadata": {
        "colab": {
          "base_uri": "https://localhost:8080/",
          "height": 51
        },
        "id": "T9tc9HEtDszM",
        "outputId": "1f8f8ba4-dba9-470c-e12c-e430e5c3185e",
        "cellView": "form"
      },
      "execution_count": 7,
      "outputs": [
        {
          "output_type": "display_data",
          "data": {
            "text/plain": [
              "<IPython.core.display.HTML object>"
            ],
            "text/html": [
              "\n",
              "  <style>\n",
              "    pre {\n",
              "        white-space: pre-wrap;\n",
              "    }\n",
              "  </style>\n",
              "  "
            ]
          },
          "metadata": {}
        },
        {
          "output_type": "stream",
          "name": "stdout",
          "text": [
            "notebook outputs will be stored in:\n",
            "/content/drive/MyDrive/ETHZ-2022-S/ML-healthcare-projects/project1/gluon-autoML/Formatted-results-report\n"
          ]
        }
      ]
    },
    {
      "cell_type": "code",
      "source": [
        "_out = Path(output_path)\n",
        "_src = Path(path)"
      ],
      "metadata": {
        "colab": {
          "base_uri": "https://localhost:8080/",
          "height": 17
        },
        "id": "03e4wk4lE9Ng",
        "outputId": "3dd605d6-13d6-466d-a1f1-6f152ddbd631"
      },
      "execution_count": 8,
      "outputs": [
        {
          "output_type": "display_data",
          "data": {
            "text/plain": [
              "<IPython.core.display.HTML object>"
            ],
            "text/html": [
              "\n",
              "  <style>\n",
              "    pre {\n",
              "        white-space: pre-wrap;\n",
              "    }\n",
              "  </style>\n",
              "  "
            ]
          },
          "metadata": {}
        }
      ]
    },
    {
      "cell_type": "markdown",
      "source": [
        "##load data"
      ],
      "metadata": {
        "id": "y1EAg45-Dl13"
      }
    },
    {
      "cell_type": "markdown",
      "source": [
        "### MIT"
      ],
      "metadata": {
        "id": "61sb4l3JFbsC"
      }
    },
    {
      "cell_type": "code",
      "source": [
        "data_dir = _src / \"final-results\"\n",
        "\n",
        "csv_files = {f.stem:f for f in data_dir.iterdir() if f.is_file() and f.suffix=='.csv'}\n",
        "\n",
        "print(csv_files)"
      ],
      "metadata": {
        "colab": {
          "base_uri": "https://localhost:8080/",
          "height": 69
        },
        "id": "OvqbrZdMFchy",
        "outputId": "18ec98b3-89c4-4a5a-af34-f8c5d0d13d8e"
      },
      "execution_count": 10,
      "outputs": [
        {
          "output_type": "display_data",
          "data": {
            "text/plain": [
              "<IPython.core.display.HTML object>"
            ],
            "text/html": [
              "\n",
              "  <style>\n",
              "    pre {\n",
              "        white-space: pre-wrap;\n",
              "    }\n",
              "  </style>\n",
              "  "
            ]
          },
          "metadata": {}
        },
        {
          "output_type": "stream",
          "name": "stdout",
          "text": [
            "{'mitbih_autogluon_results': PosixPath('/content/drive/MyDrive/ETHZ-2022-S/ML-healthcare-projects/project1/gluon-autoML/final-results/mitbih_autogluon_results.csv'), 'ptbdb_autogluon_results': PosixPath('/content/drive/MyDrive/ETHZ-2022-S/ML-healthcare-projects/project1/gluon-autoML/final-results/ptbdb_autogluon_results.csv')}\n"
          ]
        }
      ]
    },
    {
      "cell_type": "code",
      "source": [
        "mit_ag = pd.read_csv(csv_files['mitbih_autogluon_results'])\n",
        "mit_ag.info()\n"
      ],
      "metadata": {
        "colab": {
          "base_uri": "https://localhost:8080/",
          "height": 364
        },
        "id": "MgwktbiuGLJP",
        "outputId": "4b64b851-a352-4b7e-8b5f-dec809ccb03e"
      },
      "execution_count": 11,
      "outputs": [
        {
          "output_type": "display_data",
          "data": {
            "text/plain": [
              "<IPython.core.display.HTML object>"
            ],
            "text/html": [
              "\n",
              "  <style>\n",
              "    pre {\n",
              "        white-space: pre-wrap;\n",
              "    }\n",
              "  </style>\n",
              "  "
            ]
          },
          "metadata": {}
        },
        {
          "output_type": "stream",
          "name": "stdout",
          "text": [
            "<class 'pandas.core.frame.DataFrame'>\n",
            "RangeIndex: 20 entries, 0 to 19\n",
            "Data columns (total 13 columns):\n",
            " #   Column                   Non-Null Count  Dtype  \n",
            "---  ------                   --------------  -----  \n",
            " 0   Unnamed: 0               20 non-null     int64  \n",
            " 1   model                    20 non-null     object \n",
            " 2   score_test               20 non-null     float64\n",
            " 3   score_val                20 non-null     float64\n",
            " 4   pred_time_test           20 non-null     float64\n",
            " 5   pred_time_val            20 non-null     float64\n",
            " 6   fit_time                 20 non-null     float64\n",
            " 7   pred_time_test_marginal  20 non-null     float64\n",
            " 8   pred_time_val_marginal   20 non-null     float64\n",
            " 9   fit_time_marginal        20 non-null     float64\n",
            " 10  stack_level              20 non-null     int64  \n",
            " 11  can_infer                20 non-null     bool   \n",
            " 12  fit_order                20 non-null     int64  \n",
            "dtypes: bool(1), float64(8), int64(3), object(1)\n",
            "memory usage: 2.0+ KB\n"
          ]
        }
      ]
    },
    {
      "cell_type": "code",
      "source": [
        "mit_ag.sort_values(by='score_val', ascending=False, inplace=True)\n",
        "mit_ag.head()"
      ],
      "metadata": {
        "colab": {
          "base_uri": "https://localhost:8080/",
          "height": 287
        },
        "id": "uka9_1wDGci1",
        "outputId": "2183c0f6-e170-46b6-9f79-ab913975ee37"
      },
      "execution_count": 13,
      "outputs": [
        {
          "output_type": "display_data",
          "data": {
            "text/plain": [
              "<IPython.core.display.HTML object>"
            ],
            "text/html": [
              "\n",
              "  <style>\n",
              "    pre {\n",
              "        white-space: pre-wrap;\n",
              "    }\n",
              "  </style>\n",
              "  "
            ]
          },
          "metadata": {}
        },
        {
          "output_type": "execute_result",
          "data": {
            "text/plain": [
              "   Unnamed: 0                    model  score_test  score_val  pred_time_test  \\\n",
              "2           2      WeightedEnsemble_L3    0.987164   0.987756      389.968791   \n",
              "3           3          LightGBM_BAG_L2    0.987073   0.987505      365.506774   \n",
              "7           7           XGBoost_BAG_L2    0.986479   0.987493      365.984499   \n",
              "4           4   NeuralNetFastAI_BAG_L2    0.987027   0.987471      368.599604   \n",
              "1           1  RandomForestEntr_BAG_L2    0.987256   0.987402      364.258731   \n",
              "\n",
              "   pred_time_val     fit_time  pred_time_test_marginal  \\\n",
              "2     790.527368  8732.493713                 0.012632   \n",
              "3     736.025195  6830.926788                 2.180315   \n",
              "7     736.120318  6614.919820                 2.658040   \n",
              "4     738.069256  7185.616762                 5.273145   \n",
              "1     746.033134  6843.372016                 0.932272   \n",
              "\n",
              "   pred_time_val_marginal  fit_time_marginal  stack_level  can_infer  \\\n",
              "2                0.007183          12.085104            3       True   \n",
              "3                1.786115         259.455806            2       True   \n",
              "7                1.881239          43.448839            2       True   \n",
              "4                3.830176         614.145781            2       True   \n",
              "1               11.794054         271.901035            2       True   \n",
              "\n",
              "   fit_order  \n",
              "2         20  \n",
              "3         11  \n",
              "7         17  \n",
              "4          9  \n",
              "1         13  "
            ],
            "text/html": [
              "\n",
              "  <div id=\"df-b20f52c9-3bf1-4cd9-9355-42fbcd779d5f\">\n",
              "    <div class=\"colab-df-container\">\n",
              "      <div>\n",
              "<style scoped>\n",
              "    .dataframe tbody tr th:only-of-type {\n",
              "        vertical-align: middle;\n",
              "    }\n",
              "\n",
              "    .dataframe tbody tr th {\n",
              "        vertical-align: top;\n",
              "    }\n",
              "\n",
              "    .dataframe thead th {\n",
              "        text-align: right;\n",
              "    }\n",
              "</style>\n",
              "<table border=\"1\" class=\"dataframe\">\n",
              "  <thead>\n",
              "    <tr style=\"text-align: right;\">\n",
              "      <th></th>\n",
              "      <th>Unnamed: 0</th>\n",
              "      <th>model</th>\n",
              "      <th>score_test</th>\n",
              "      <th>score_val</th>\n",
              "      <th>pred_time_test</th>\n",
              "      <th>pred_time_val</th>\n",
              "      <th>fit_time</th>\n",
              "      <th>pred_time_test_marginal</th>\n",
              "      <th>pred_time_val_marginal</th>\n",
              "      <th>fit_time_marginal</th>\n",
              "      <th>stack_level</th>\n",
              "      <th>can_infer</th>\n",
              "      <th>fit_order</th>\n",
              "    </tr>\n",
              "  </thead>\n",
              "  <tbody>\n",
              "    <tr>\n",
              "      <th>2</th>\n",
              "      <td>2</td>\n",
              "      <td>WeightedEnsemble_L3</td>\n",
              "      <td>0.987164</td>\n",
              "      <td>0.987756</td>\n",
              "      <td>389.968791</td>\n",
              "      <td>790.527368</td>\n",
              "      <td>8732.493713</td>\n",
              "      <td>0.012632</td>\n",
              "      <td>0.007183</td>\n",
              "      <td>12.085104</td>\n",
              "      <td>3</td>\n",
              "      <td>True</td>\n",
              "      <td>20</td>\n",
              "    </tr>\n",
              "    <tr>\n",
              "      <th>3</th>\n",
              "      <td>3</td>\n",
              "      <td>LightGBM_BAG_L2</td>\n",
              "      <td>0.987073</td>\n",
              "      <td>0.987505</td>\n",
              "      <td>365.506774</td>\n",
              "      <td>736.025195</td>\n",
              "      <td>6830.926788</td>\n",
              "      <td>2.180315</td>\n",
              "      <td>1.786115</td>\n",
              "      <td>259.455806</td>\n",
              "      <td>2</td>\n",
              "      <td>True</td>\n",
              "      <td>11</td>\n",
              "    </tr>\n",
              "    <tr>\n",
              "      <th>7</th>\n",
              "      <td>7</td>\n",
              "      <td>XGBoost_BAG_L2</td>\n",
              "      <td>0.986479</td>\n",
              "      <td>0.987493</td>\n",
              "      <td>365.984499</td>\n",
              "      <td>736.120318</td>\n",
              "      <td>6614.919820</td>\n",
              "      <td>2.658040</td>\n",
              "      <td>1.881239</td>\n",
              "      <td>43.448839</td>\n",
              "      <td>2</td>\n",
              "      <td>True</td>\n",
              "      <td>17</td>\n",
              "    </tr>\n",
              "    <tr>\n",
              "      <th>4</th>\n",
              "      <td>4</td>\n",
              "      <td>NeuralNetFastAI_BAG_L2</td>\n",
              "      <td>0.987027</td>\n",
              "      <td>0.987471</td>\n",
              "      <td>368.599604</td>\n",
              "      <td>738.069256</td>\n",
              "      <td>7185.616762</td>\n",
              "      <td>5.273145</td>\n",
              "      <td>3.830176</td>\n",
              "      <td>614.145781</td>\n",
              "      <td>2</td>\n",
              "      <td>True</td>\n",
              "      <td>9</td>\n",
              "    </tr>\n",
              "    <tr>\n",
              "      <th>1</th>\n",
              "      <td>1</td>\n",
              "      <td>RandomForestEntr_BAG_L2</td>\n",
              "      <td>0.987256</td>\n",
              "      <td>0.987402</td>\n",
              "      <td>364.258731</td>\n",
              "      <td>746.033134</td>\n",
              "      <td>6843.372016</td>\n",
              "      <td>0.932272</td>\n",
              "      <td>11.794054</td>\n",
              "      <td>271.901035</td>\n",
              "      <td>2</td>\n",
              "      <td>True</td>\n",
              "      <td>13</td>\n",
              "    </tr>\n",
              "  </tbody>\n",
              "</table>\n",
              "</div>\n",
              "      <button class=\"colab-df-convert\" onclick=\"convertToInteractive('df-b20f52c9-3bf1-4cd9-9355-42fbcd779d5f')\"\n",
              "              title=\"Convert this dataframe to an interactive table.\"\n",
              "              style=\"display:none;\">\n",
              "        \n",
              "  <svg xmlns=\"http://www.w3.org/2000/svg\" height=\"24px\"viewBox=\"0 0 24 24\"\n",
              "       width=\"24px\">\n",
              "    <path d=\"M0 0h24v24H0V0z\" fill=\"none\"/>\n",
              "    <path d=\"M18.56 5.44l.94 2.06.94-2.06 2.06-.94-2.06-.94-.94-2.06-.94 2.06-2.06.94zm-11 1L8.5 8.5l.94-2.06 2.06-.94-2.06-.94L8.5 2.5l-.94 2.06-2.06.94zm10 10l.94 2.06.94-2.06 2.06-.94-2.06-.94-.94-2.06-.94 2.06-2.06.94z\"/><path d=\"M17.41 7.96l-1.37-1.37c-.4-.4-.92-.59-1.43-.59-.52 0-1.04.2-1.43.59L10.3 9.45l-7.72 7.72c-.78.78-.78 2.05 0 2.83L4 21.41c.39.39.9.59 1.41.59.51 0 1.02-.2 1.41-.59l7.78-7.78 2.81-2.81c.8-.78.8-2.07 0-2.86zM5.41 20L4 18.59l7.72-7.72 1.47 1.35L5.41 20z\"/>\n",
              "  </svg>\n",
              "      </button>\n",
              "      \n",
              "  <style>\n",
              "    .colab-df-container {\n",
              "      display:flex;\n",
              "      flex-wrap:wrap;\n",
              "      gap: 12px;\n",
              "    }\n",
              "\n",
              "    .colab-df-convert {\n",
              "      background-color: #E8F0FE;\n",
              "      border: none;\n",
              "      border-radius: 50%;\n",
              "      cursor: pointer;\n",
              "      display: none;\n",
              "      fill: #1967D2;\n",
              "      height: 32px;\n",
              "      padding: 0 0 0 0;\n",
              "      width: 32px;\n",
              "    }\n",
              "\n",
              "    .colab-df-convert:hover {\n",
              "      background-color: #E2EBFA;\n",
              "      box-shadow: 0px 1px 2px rgba(60, 64, 67, 0.3), 0px 1px 3px 1px rgba(60, 64, 67, 0.15);\n",
              "      fill: #174EA6;\n",
              "    }\n",
              "\n",
              "    [theme=dark] .colab-df-convert {\n",
              "      background-color: #3B4455;\n",
              "      fill: #D2E3FC;\n",
              "    }\n",
              "\n",
              "    [theme=dark] .colab-df-convert:hover {\n",
              "      background-color: #434B5C;\n",
              "      box-shadow: 0px 1px 3px 1px rgba(0, 0, 0, 0.15);\n",
              "      filter: drop-shadow(0px 1px 2px rgba(0, 0, 0, 0.3));\n",
              "      fill: #FFFFFF;\n",
              "    }\n",
              "  </style>\n",
              "\n",
              "      <script>\n",
              "        const buttonEl =\n",
              "          document.querySelector('#df-b20f52c9-3bf1-4cd9-9355-42fbcd779d5f button.colab-df-convert');\n",
              "        buttonEl.style.display =\n",
              "          google.colab.kernel.accessAllowed ? 'block' : 'none';\n",
              "\n",
              "        async function convertToInteractive(key) {\n",
              "          const element = document.querySelector('#df-b20f52c9-3bf1-4cd9-9355-42fbcd779d5f');\n",
              "          const dataTable =\n",
              "            await google.colab.kernel.invokeFunction('convertToInteractive',\n",
              "                                                     [key], {});\n",
              "          if (!dataTable) return;\n",
              "\n",
              "          const docLinkHtml = 'Like what you see? Visit the ' +\n",
              "            '<a target=\"_blank\" href=https://colab.research.google.com/notebooks/data_table.ipynb>data table notebook</a>'\n",
              "            + ' to learn more about interactive tables.';\n",
              "          element.innerHTML = '';\n",
              "          dataTable['output_type'] = 'display_data';\n",
              "          await google.colab.output.renderOutput(dataTable, element);\n",
              "          const docLink = document.createElement('div');\n",
              "          docLink.innerHTML = docLinkHtml;\n",
              "          element.appendChild(docLink);\n",
              "        }\n",
              "      </script>\n",
              "    </div>\n",
              "  </div>\n",
              "  "
            ]
          },
          "metadata": {},
          "execution_count": 13
        }
      ]
    },
    {
      "cell_type": "code",
      "source": [
        "orig_cols = list(mit_ag.columns)\n",
        "new_cols = []\n",
        "for i, col in enumerate(orig_cols):\n",
        "    col = col.lower()\n",
        "    if 'unnamed' in col:\n",
        "        new_cols.append(f\"delete_me_{i}\")\n",
        "        continue\n",
        "    col = col.replace('score', 'accuracy')\n",
        "    new_cols.append(col)\n",
        "\n",
        "mit_ag.columns = new_cols"
      ],
      "metadata": {
        "colab": {
          "base_uri": "https://localhost:8080/",
          "height": 17
        },
        "id": "ksu2J8msGjBb",
        "outputId": "51a32930-8960-4913-e76a-b01ef7bffa52"
      },
      "execution_count": 14,
      "outputs": [
        {
          "output_type": "display_data",
          "data": {
            "text/plain": [
              "<IPython.core.display.HTML object>"
            ],
            "text/html": [
              "\n",
              "  <style>\n",
              "    pre {\n",
              "        white-space: pre-wrap;\n",
              "    }\n",
              "  </style>\n",
              "  "
            ]
          },
          "metadata": {}
        }
      ]
    },
    {
      "cell_type": "code",
      "source": [
        "mit_ag.columns"
      ],
      "metadata": {
        "colab": {
          "base_uri": "https://localhost:8080/",
          "height": 103
        },
        "id": "g6X0B0ccIGTR",
        "outputId": "838c62d9-5f1d-4662-b676-4e8c404d2b10"
      },
      "execution_count": 15,
      "outputs": [
        {
          "output_type": "display_data",
          "data": {
            "text/plain": [
              "<IPython.core.display.HTML object>"
            ],
            "text/html": [
              "\n",
              "  <style>\n",
              "    pre {\n",
              "        white-space: pre-wrap;\n",
              "    }\n",
              "  </style>\n",
              "  "
            ]
          },
          "metadata": {}
        },
        {
          "output_type": "execute_result",
          "data": {
            "text/plain": [
              "Index(['delete_me_0', 'model', 'accuracy_test', 'accuracy_val',\n",
              "       'pred_time_test', 'pred_time_val', 'fit_time',\n",
              "       'pred_time_test_marginal', 'pred_time_val_marginal',\n",
              "       'fit_time_marginal', 'stack_level', 'can_infer', 'fit_order'],\n",
              "      dtype='object')"
            ]
          },
          "metadata": {},
          "execution_count": 15
        }
      ]
    },
    {
      "cell_type": "code",
      "source": [
        "try:\n",
        "    del mit_ag['delete_me_0']\n",
        "except Exception as e:\n",
        "    print(f'skipping delete - {e}')"
      ],
      "metadata": {
        "colab": {
          "base_uri": "https://localhost:8080/",
          "height": 17
        },
        "id": "mqG1x-zyIISU",
        "outputId": "0009882f-3e22-4241-8aa0-219c840b3691"
      },
      "execution_count": 17,
      "outputs": [
        {
          "output_type": "display_data",
          "data": {
            "text/plain": [
              "<IPython.core.display.HTML object>"
            ],
            "text/html": [
              "\n",
              "  <style>\n",
              "    pre {\n",
              "        white-space: pre-wrap;\n",
              "    }\n",
              "  </style>\n",
              "  "
            ]
          },
          "metadata": {}
        }
      ]
    },
    {
      "cell_type": "code",
      "source": [
        "mit_ag.reset_index(drop=True, inplace=True)\n",
        "mit_ag.head()"
      ],
      "metadata": {
        "colab": {
          "base_uri": "https://localhost:8080/",
          "height": 270
        },
        "id": "mL3-MXNbISUh",
        "outputId": "d1dfec8a-547d-44db-bd92-3fca6a86e149"
      },
      "execution_count": 19,
      "outputs": [
        {
          "output_type": "display_data",
          "data": {
            "text/plain": [
              "<IPython.core.display.HTML object>"
            ],
            "text/html": [
              "\n",
              "  <style>\n",
              "    pre {\n",
              "        white-space: pre-wrap;\n",
              "    }\n",
              "  </style>\n",
              "  "
            ]
          },
          "metadata": {}
        },
        {
          "output_type": "execute_result",
          "data": {
            "text/plain": [
              "                     model  accuracy_test  accuracy_val  pred_time_test  \\\n",
              "0      WeightedEnsemble_L3       0.987164      0.987756      389.968791   \n",
              "1          LightGBM_BAG_L2       0.987073      0.987505      365.506774   \n",
              "2           XGBoost_BAG_L2       0.986479      0.987493      365.984499   \n",
              "3   NeuralNetFastAI_BAG_L2       0.987027      0.987471      368.599604   \n",
              "4  RandomForestEntr_BAG_L2       0.987256      0.987402      364.258731   \n",
              "\n",
              "   pred_time_val     fit_time  pred_time_test_marginal  \\\n",
              "0     790.527368  8732.493713                 0.012632   \n",
              "1     736.025195  6830.926788                 2.180315   \n",
              "2     736.120318  6614.919820                 2.658040   \n",
              "3     738.069256  7185.616762                 5.273145   \n",
              "4     746.033134  6843.372016                 0.932272   \n",
              "\n",
              "   pred_time_val_marginal  fit_time_marginal  stack_level  can_infer  \\\n",
              "0                0.007183          12.085104            3       True   \n",
              "1                1.786115         259.455806            2       True   \n",
              "2                1.881239          43.448839            2       True   \n",
              "3                3.830176         614.145781            2       True   \n",
              "4               11.794054         271.901035            2       True   \n",
              "\n",
              "   fit_order  \n",
              "0         20  \n",
              "1         11  \n",
              "2         17  \n",
              "3          9  \n",
              "4         13  "
            ],
            "text/html": [
              "\n",
              "  <div id=\"df-f39abd7a-0db8-47c1-bf47-ab01707ef88f\">\n",
              "    <div class=\"colab-df-container\">\n",
              "      <div>\n",
              "<style scoped>\n",
              "    .dataframe tbody tr th:only-of-type {\n",
              "        vertical-align: middle;\n",
              "    }\n",
              "\n",
              "    .dataframe tbody tr th {\n",
              "        vertical-align: top;\n",
              "    }\n",
              "\n",
              "    .dataframe thead th {\n",
              "        text-align: right;\n",
              "    }\n",
              "</style>\n",
              "<table border=\"1\" class=\"dataframe\">\n",
              "  <thead>\n",
              "    <tr style=\"text-align: right;\">\n",
              "      <th></th>\n",
              "      <th>model</th>\n",
              "      <th>accuracy_test</th>\n",
              "      <th>accuracy_val</th>\n",
              "      <th>pred_time_test</th>\n",
              "      <th>pred_time_val</th>\n",
              "      <th>fit_time</th>\n",
              "      <th>pred_time_test_marginal</th>\n",
              "      <th>pred_time_val_marginal</th>\n",
              "      <th>fit_time_marginal</th>\n",
              "      <th>stack_level</th>\n",
              "      <th>can_infer</th>\n",
              "      <th>fit_order</th>\n",
              "    </tr>\n",
              "  </thead>\n",
              "  <tbody>\n",
              "    <tr>\n",
              "      <th>0</th>\n",
              "      <td>WeightedEnsemble_L3</td>\n",
              "      <td>0.987164</td>\n",
              "      <td>0.987756</td>\n",
              "      <td>389.968791</td>\n",
              "      <td>790.527368</td>\n",
              "      <td>8732.493713</td>\n",
              "      <td>0.012632</td>\n",
              "      <td>0.007183</td>\n",
              "      <td>12.085104</td>\n",
              "      <td>3</td>\n",
              "      <td>True</td>\n",
              "      <td>20</td>\n",
              "    </tr>\n",
              "    <tr>\n",
              "      <th>1</th>\n",
              "      <td>LightGBM_BAG_L2</td>\n",
              "      <td>0.987073</td>\n",
              "      <td>0.987505</td>\n",
              "      <td>365.506774</td>\n",
              "      <td>736.025195</td>\n",
              "      <td>6830.926788</td>\n",
              "      <td>2.180315</td>\n",
              "      <td>1.786115</td>\n",
              "      <td>259.455806</td>\n",
              "      <td>2</td>\n",
              "      <td>True</td>\n",
              "      <td>11</td>\n",
              "    </tr>\n",
              "    <tr>\n",
              "      <th>2</th>\n",
              "      <td>XGBoost_BAG_L2</td>\n",
              "      <td>0.986479</td>\n",
              "      <td>0.987493</td>\n",
              "      <td>365.984499</td>\n",
              "      <td>736.120318</td>\n",
              "      <td>6614.919820</td>\n",
              "      <td>2.658040</td>\n",
              "      <td>1.881239</td>\n",
              "      <td>43.448839</td>\n",
              "      <td>2</td>\n",
              "      <td>True</td>\n",
              "      <td>17</td>\n",
              "    </tr>\n",
              "    <tr>\n",
              "      <th>3</th>\n",
              "      <td>NeuralNetFastAI_BAG_L2</td>\n",
              "      <td>0.987027</td>\n",
              "      <td>0.987471</td>\n",
              "      <td>368.599604</td>\n",
              "      <td>738.069256</td>\n",
              "      <td>7185.616762</td>\n",
              "      <td>5.273145</td>\n",
              "      <td>3.830176</td>\n",
              "      <td>614.145781</td>\n",
              "      <td>2</td>\n",
              "      <td>True</td>\n",
              "      <td>9</td>\n",
              "    </tr>\n",
              "    <tr>\n",
              "      <th>4</th>\n",
              "      <td>RandomForestEntr_BAG_L2</td>\n",
              "      <td>0.987256</td>\n",
              "      <td>0.987402</td>\n",
              "      <td>364.258731</td>\n",
              "      <td>746.033134</td>\n",
              "      <td>6843.372016</td>\n",
              "      <td>0.932272</td>\n",
              "      <td>11.794054</td>\n",
              "      <td>271.901035</td>\n",
              "      <td>2</td>\n",
              "      <td>True</td>\n",
              "      <td>13</td>\n",
              "    </tr>\n",
              "  </tbody>\n",
              "</table>\n",
              "</div>\n",
              "      <button class=\"colab-df-convert\" onclick=\"convertToInteractive('df-f39abd7a-0db8-47c1-bf47-ab01707ef88f')\"\n",
              "              title=\"Convert this dataframe to an interactive table.\"\n",
              "              style=\"display:none;\">\n",
              "        \n",
              "  <svg xmlns=\"http://www.w3.org/2000/svg\" height=\"24px\"viewBox=\"0 0 24 24\"\n",
              "       width=\"24px\">\n",
              "    <path d=\"M0 0h24v24H0V0z\" fill=\"none\"/>\n",
              "    <path d=\"M18.56 5.44l.94 2.06.94-2.06 2.06-.94-2.06-.94-.94-2.06-.94 2.06-2.06.94zm-11 1L8.5 8.5l.94-2.06 2.06-.94-2.06-.94L8.5 2.5l-.94 2.06-2.06.94zm10 10l.94 2.06.94-2.06 2.06-.94-2.06-.94-.94-2.06-.94 2.06-2.06.94z\"/><path d=\"M17.41 7.96l-1.37-1.37c-.4-.4-.92-.59-1.43-.59-.52 0-1.04.2-1.43.59L10.3 9.45l-7.72 7.72c-.78.78-.78 2.05 0 2.83L4 21.41c.39.39.9.59 1.41.59.51 0 1.02-.2 1.41-.59l7.78-7.78 2.81-2.81c.8-.78.8-2.07 0-2.86zM5.41 20L4 18.59l7.72-7.72 1.47 1.35L5.41 20z\"/>\n",
              "  </svg>\n",
              "      </button>\n",
              "      \n",
              "  <style>\n",
              "    .colab-df-container {\n",
              "      display:flex;\n",
              "      flex-wrap:wrap;\n",
              "      gap: 12px;\n",
              "    }\n",
              "\n",
              "    .colab-df-convert {\n",
              "      background-color: #E8F0FE;\n",
              "      border: none;\n",
              "      border-radius: 50%;\n",
              "      cursor: pointer;\n",
              "      display: none;\n",
              "      fill: #1967D2;\n",
              "      height: 32px;\n",
              "      padding: 0 0 0 0;\n",
              "      width: 32px;\n",
              "    }\n",
              "\n",
              "    .colab-df-convert:hover {\n",
              "      background-color: #E2EBFA;\n",
              "      box-shadow: 0px 1px 2px rgba(60, 64, 67, 0.3), 0px 1px 3px 1px rgba(60, 64, 67, 0.15);\n",
              "      fill: #174EA6;\n",
              "    }\n",
              "\n",
              "    [theme=dark] .colab-df-convert {\n",
              "      background-color: #3B4455;\n",
              "      fill: #D2E3FC;\n",
              "    }\n",
              "\n",
              "    [theme=dark] .colab-df-convert:hover {\n",
              "      background-color: #434B5C;\n",
              "      box-shadow: 0px 1px 3px 1px rgba(0, 0, 0, 0.15);\n",
              "      filter: drop-shadow(0px 1px 2px rgba(0, 0, 0, 0.3));\n",
              "      fill: #FFFFFF;\n",
              "    }\n",
              "  </style>\n",
              "\n",
              "      <script>\n",
              "        const buttonEl =\n",
              "          document.querySelector('#df-f39abd7a-0db8-47c1-bf47-ab01707ef88f button.colab-df-convert');\n",
              "        buttonEl.style.display =\n",
              "          google.colab.kernel.accessAllowed ? 'block' : 'none';\n",
              "\n",
              "        async function convertToInteractive(key) {\n",
              "          const element = document.querySelector('#df-f39abd7a-0db8-47c1-bf47-ab01707ef88f');\n",
              "          const dataTable =\n",
              "            await google.colab.kernel.invokeFunction('convertToInteractive',\n",
              "                                                     [key], {});\n",
              "          if (!dataTable) return;\n",
              "\n",
              "          const docLinkHtml = 'Like what you see? Visit the ' +\n",
              "            '<a target=\"_blank\" href=https://colab.research.google.com/notebooks/data_table.ipynb>data table notebook</a>'\n",
              "            + ' to learn more about interactive tables.';\n",
              "          element.innerHTML = '';\n",
              "          dataTable['output_type'] = 'display_data';\n",
              "          await google.colab.output.renderOutput(dataTable, element);\n",
              "          const docLink = document.createElement('div');\n",
              "          docLink.innerHTML = docLinkHtml;\n",
              "          element.appendChild(docLink);\n",
              "        }\n",
              "      </script>\n",
              "    </div>\n",
              "  </div>\n",
              "  "
            ]
          },
          "metadata": {},
          "execution_count": 19
        }
      ]
    },
    {
      "cell_type": "code",
      "source": [
        ""
      ],
      "metadata": {
        "id": "rr04xkMwITNn"
      },
      "execution_count": null,
      "outputs": []
    },
    {
      "cell_type": "markdown",
      "source": [
        "#### save mit-gluon-reformat"
      ],
      "metadata": {
        "id": "ZNQQMINgIrZH"
      }
    },
    {
      "cell_type": "code",
      "source": [
        "mit_ag.to_csv(_out / \"MITBIH_autogluon_baseline_results_Accuracy.csv\", index=False)"
      ],
      "metadata": {
        "colab": {
          "base_uri": "https://localhost:8080/",
          "height": 17
        },
        "id": "vKrIrKhbItZV",
        "outputId": "b96bd6a3-1615-4848-e21e-75330fdc62a8"
      },
      "execution_count": 25,
      "outputs": [
        {
          "output_type": "display_data",
          "data": {
            "text/plain": [
              "<IPython.core.display.HTML object>"
            ],
            "text/html": [
              "\n",
              "  <style>\n",
              "    pre {\n",
              "        white-space: pre-wrap;\n",
              "    }\n",
              "  </style>\n",
              "  "
            ]
          },
          "metadata": {}
        }
      ]
    },
    {
      "cell_type": "markdown",
      "source": [
        "## PTB reformat"
      ],
      "metadata": {
        "id": "S2SjsFxFJF-r"
      }
    },
    {
      "cell_type": "code",
      "source": [
        "ptb_ag = pd.read_csv(csv_files['ptbdb_autogluon_results']).convert_dtypes()\n",
        "ptb_ag.info()"
      ],
      "metadata": {
        "colab": {
          "base_uri": "https://localhost:8080/",
          "height": 364
        },
        "id": "RkeKd8sgI-0l",
        "outputId": "bd3aaa9d-a457-4141-bb34-ffc83a0ecf06"
      },
      "execution_count": 21,
      "outputs": [
        {
          "output_type": "display_data",
          "data": {
            "text/plain": [
              "<IPython.core.display.HTML object>"
            ],
            "text/html": [
              "\n",
              "  <style>\n",
              "    pre {\n",
              "        white-space: pre-wrap;\n",
              "    }\n",
              "  </style>\n",
              "  "
            ]
          },
          "metadata": {}
        },
        {
          "output_type": "stream",
          "name": "stdout",
          "text": [
            "<class 'pandas.core.frame.DataFrame'>\n",
            "RangeIndex: 26 entries, 0 to 25\n",
            "Data columns (total 13 columns):\n",
            " #   Column                   Non-Null Count  Dtype  \n",
            "---  ------                   --------------  -----  \n",
            " 0   Unnamed: 0               26 non-null     Int64  \n",
            " 1   model                    26 non-null     string \n",
            " 2   score_test               26 non-null     Float64\n",
            " 3   score_val                26 non-null     Float64\n",
            " 4   pred_time_test           26 non-null     Float64\n",
            " 5   pred_time_val            26 non-null     Float64\n",
            " 6   fit_time                 26 non-null     Float64\n",
            " 7   pred_time_test_marginal  26 non-null     Float64\n",
            " 8   pred_time_val_marginal   26 non-null     Float64\n",
            " 9   fit_time_marginal        26 non-null     Float64\n",
            " 10  stack_level              26 non-null     Int64  \n",
            " 11  can_infer                26 non-null     boolean\n",
            " 12  fit_order                26 non-null     Int64  \n",
            "dtypes: Float64(8), Int64(3), boolean(1), string(1)\n",
            "memory usage: 2.9 KB\n"
          ]
        }
      ]
    },
    {
      "cell_type": "code",
      "source": [
        "ptb_ag.sort_values(by='score_val', ascending=False, inplace=True)\n",
        "ptb_ag.head()"
      ],
      "metadata": {
        "colab": {
          "base_uri": "https://localhost:8080/",
          "height": 287
        },
        "id": "6Bsuuy7sJTVg",
        "outputId": "e2083e89-c948-4ba4-85ed-33ec5aece2cc"
      },
      "execution_count": 22,
      "outputs": [
        {
          "output_type": "display_data",
          "data": {
            "text/plain": [
              "<IPython.core.display.HTML object>"
            ],
            "text/html": [
              "\n",
              "  <style>\n",
              "    pre {\n",
              "        white-space: pre-wrap;\n",
              "    }\n",
              "  </style>\n",
              "  "
            ]
          },
          "metadata": {}
        },
        {
          "output_type": "execute_result",
          "data": {
            "text/plain": [
              "    Unnamed: 0                   model  score_test  score_val  pred_time_test  \\\n",
              "21          21     WeightedEnsemble_L3         1.0   0.991153       56.442027   \n",
              "17          17         LightGBM_BAG_L2         1.0   0.990981        53.88617   \n",
              "22          22  NeuralNetFastAI_BAG_L2         1.0   0.990981       59.402995   \n",
              "20          20    LightGBMLarge_BAG_L2         1.0   0.990637       55.223274   \n",
              "11          11     WeightedEnsemble_L2         1.0    0.98995       22.309041   \n",
              "\n",
              "    pred_time_val     fit_time  pred_time_test_marginal  \\\n",
              "21      55.951196  7574.346129                   0.0027   \n",
              "17      54.051606   6467.99865                 1.216053   \n",
              "22      60.666399  6712.757208                 6.732878   \n",
              "20      54.916638  7117.574319                 2.553157   \n",
              "11      19.853544  2162.411832                 0.007025   \n",
              "\n",
              "    pred_time_val_marginal  fit_time_marginal  stack_level  can_infer  \\\n",
              "21                0.017853           4.621803            3       True   \n",
              "17                1.016706         452.150008            2       True   \n",
              "22                7.631498         696.908567            2       True   \n",
              "20                1.881737        1101.725677            2       True   \n",
              "11                0.017502           5.212323            2       True   \n",
              "\n",
              "    fit_order  \n",
              "21         26  \n",
              "17         16  \n",
              "22         22  \n",
              "20         25  \n",
              "11         14  "
            ],
            "text/html": [
              "\n",
              "  <div id=\"df-e1143b72-778c-4521-8338-fc22def1f681\">\n",
              "    <div class=\"colab-df-container\">\n",
              "      <div>\n",
              "<style scoped>\n",
              "    .dataframe tbody tr th:only-of-type {\n",
              "        vertical-align: middle;\n",
              "    }\n",
              "\n",
              "    .dataframe tbody tr th {\n",
              "        vertical-align: top;\n",
              "    }\n",
              "\n",
              "    .dataframe thead th {\n",
              "        text-align: right;\n",
              "    }\n",
              "</style>\n",
              "<table border=\"1\" class=\"dataframe\">\n",
              "  <thead>\n",
              "    <tr style=\"text-align: right;\">\n",
              "      <th></th>\n",
              "      <th>Unnamed: 0</th>\n",
              "      <th>model</th>\n",
              "      <th>score_test</th>\n",
              "      <th>score_val</th>\n",
              "      <th>pred_time_test</th>\n",
              "      <th>pred_time_val</th>\n",
              "      <th>fit_time</th>\n",
              "      <th>pred_time_test_marginal</th>\n",
              "      <th>pred_time_val_marginal</th>\n",
              "      <th>fit_time_marginal</th>\n",
              "      <th>stack_level</th>\n",
              "      <th>can_infer</th>\n",
              "      <th>fit_order</th>\n",
              "    </tr>\n",
              "  </thead>\n",
              "  <tbody>\n",
              "    <tr>\n",
              "      <th>21</th>\n",
              "      <td>21</td>\n",
              "      <td>WeightedEnsemble_L3</td>\n",
              "      <td>1.0</td>\n",
              "      <td>0.991153</td>\n",
              "      <td>56.442027</td>\n",
              "      <td>55.951196</td>\n",
              "      <td>7574.346129</td>\n",
              "      <td>0.0027</td>\n",
              "      <td>0.017853</td>\n",
              "      <td>4.621803</td>\n",
              "      <td>3</td>\n",
              "      <td>True</td>\n",
              "      <td>26</td>\n",
              "    </tr>\n",
              "    <tr>\n",
              "      <th>17</th>\n",
              "      <td>17</td>\n",
              "      <td>LightGBM_BAG_L2</td>\n",
              "      <td>1.0</td>\n",
              "      <td>0.990981</td>\n",
              "      <td>53.88617</td>\n",
              "      <td>54.051606</td>\n",
              "      <td>6467.99865</td>\n",
              "      <td>1.216053</td>\n",
              "      <td>1.016706</td>\n",
              "      <td>452.150008</td>\n",
              "      <td>2</td>\n",
              "      <td>True</td>\n",
              "      <td>16</td>\n",
              "    </tr>\n",
              "    <tr>\n",
              "      <th>22</th>\n",
              "      <td>22</td>\n",
              "      <td>NeuralNetFastAI_BAG_L2</td>\n",
              "      <td>1.0</td>\n",
              "      <td>0.990981</td>\n",
              "      <td>59.402995</td>\n",
              "      <td>60.666399</td>\n",
              "      <td>6712.757208</td>\n",
              "      <td>6.732878</td>\n",
              "      <td>7.631498</td>\n",
              "      <td>696.908567</td>\n",
              "      <td>2</td>\n",
              "      <td>True</td>\n",
              "      <td>22</td>\n",
              "    </tr>\n",
              "    <tr>\n",
              "      <th>20</th>\n",
              "      <td>20</td>\n",
              "      <td>LightGBMLarge_BAG_L2</td>\n",
              "      <td>1.0</td>\n",
              "      <td>0.990637</td>\n",
              "      <td>55.223274</td>\n",
              "      <td>54.916638</td>\n",
              "      <td>7117.574319</td>\n",
              "      <td>2.553157</td>\n",
              "      <td>1.881737</td>\n",
              "      <td>1101.725677</td>\n",
              "      <td>2</td>\n",
              "      <td>True</td>\n",
              "      <td>25</td>\n",
              "    </tr>\n",
              "    <tr>\n",
              "      <th>11</th>\n",
              "      <td>11</td>\n",
              "      <td>WeightedEnsemble_L2</td>\n",
              "      <td>1.0</td>\n",
              "      <td>0.98995</td>\n",
              "      <td>22.309041</td>\n",
              "      <td>19.853544</td>\n",
              "      <td>2162.411832</td>\n",
              "      <td>0.007025</td>\n",
              "      <td>0.017502</td>\n",
              "      <td>5.212323</td>\n",
              "      <td>2</td>\n",
              "      <td>True</td>\n",
              "      <td>14</td>\n",
              "    </tr>\n",
              "  </tbody>\n",
              "</table>\n",
              "</div>\n",
              "      <button class=\"colab-df-convert\" onclick=\"convertToInteractive('df-e1143b72-778c-4521-8338-fc22def1f681')\"\n",
              "              title=\"Convert this dataframe to an interactive table.\"\n",
              "              style=\"display:none;\">\n",
              "        \n",
              "  <svg xmlns=\"http://www.w3.org/2000/svg\" height=\"24px\"viewBox=\"0 0 24 24\"\n",
              "       width=\"24px\">\n",
              "    <path d=\"M0 0h24v24H0V0z\" fill=\"none\"/>\n",
              "    <path d=\"M18.56 5.44l.94 2.06.94-2.06 2.06-.94-2.06-.94-.94-2.06-.94 2.06-2.06.94zm-11 1L8.5 8.5l.94-2.06 2.06-.94-2.06-.94L8.5 2.5l-.94 2.06-2.06.94zm10 10l.94 2.06.94-2.06 2.06-.94-2.06-.94-.94-2.06-.94 2.06-2.06.94z\"/><path d=\"M17.41 7.96l-1.37-1.37c-.4-.4-.92-.59-1.43-.59-.52 0-1.04.2-1.43.59L10.3 9.45l-7.72 7.72c-.78.78-.78 2.05 0 2.83L4 21.41c.39.39.9.59 1.41.59.51 0 1.02-.2 1.41-.59l7.78-7.78 2.81-2.81c.8-.78.8-2.07 0-2.86zM5.41 20L4 18.59l7.72-7.72 1.47 1.35L5.41 20z\"/>\n",
              "  </svg>\n",
              "      </button>\n",
              "      \n",
              "  <style>\n",
              "    .colab-df-container {\n",
              "      display:flex;\n",
              "      flex-wrap:wrap;\n",
              "      gap: 12px;\n",
              "    }\n",
              "\n",
              "    .colab-df-convert {\n",
              "      background-color: #E8F0FE;\n",
              "      border: none;\n",
              "      border-radius: 50%;\n",
              "      cursor: pointer;\n",
              "      display: none;\n",
              "      fill: #1967D2;\n",
              "      height: 32px;\n",
              "      padding: 0 0 0 0;\n",
              "      width: 32px;\n",
              "    }\n",
              "\n",
              "    .colab-df-convert:hover {\n",
              "      background-color: #E2EBFA;\n",
              "      box-shadow: 0px 1px 2px rgba(60, 64, 67, 0.3), 0px 1px 3px 1px rgba(60, 64, 67, 0.15);\n",
              "      fill: #174EA6;\n",
              "    }\n",
              "\n",
              "    [theme=dark] .colab-df-convert {\n",
              "      background-color: #3B4455;\n",
              "      fill: #D2E3FC;\n",
              "    }\n",
              "\n",
              "    [theme=dark] .colab-df-convert:hover {\n",
              "      background-color: #434B5C;\n",
              "      box-shadow: 0px 1px 3px 1px rgba(0, 0, 0, 0.15);\n",
              "      filter: drop-shadow(0px 1px 2px rgba(0, 0, 0, 0.3));\n",
              "      fill: #FFFFFF;\n",
              "    }\n",
              "  </style>\n",
              "\n",
              "      <script>\n",
              "        const buttonEl =\n",
              "          document.querySelector('#df-e1143b72-778c-4521-8338-fc22def1f681 button.colab-df-convert');\n",
              "        buttonEl.style.display =\n",
              "          google.colab.kernel.accessAllowed ? 'block' : 'none';\n",
              "\n",
              "        async function convertToInteractive(key) {\n",
              "          const element = document.querySelector('#df-e1143b72-778c-4521-8338-fc22def1f681');\n",
              "          const dataTable =\n",
              "            await google.colab.kernel.invokeFunction('convertToInteractive',\n",
              "                                                     [key], {});\n",
              "          if (!dataTable) return;\n",
              "\n",
              "          const docLinkHtml = 'Like what you see? Visit the ' +\n",
              "            '<a target=\"_blank\" href=https://colab.research.google.com/notebooks/data_table.ipynb>data table notebook</a>'\n",
              "            + ' to learn more about interactive tables.';\n",
              "          element.innerHTML = '';\n",
              "          dataTable['output_type'] = 'display_data';\n",
              "          await google.colab.output.renderOutput(dataTable, element);\n",
              "          const docLink = document.createElement('div');\n",
              "          docLink.innerHTML = docLinkHtml;\n",
              "          element.appendChild(docLink);\n",
              "        }\n",
              "      </script>\n",
              "    </div>\n",
              "  </div>\n",
              "  "
            ]
          },
          "metadata": {},
          "execution_count": 22
        }
      ]
    },
    {
      "cell_type": "code",
      "source": [
        "orig_cols = list(ptb_ag.columns)\n",
        "new_cols = []\n",
        "for i, col in enumerate(orig_cols):\n",
        "    col = col.lower()\n",
        "    if 'unnamed' in col:\n",
        "        new_cols.append(f\"delete_me_{i}\")\n",
        "        continue\n",
        "    col = col.replace('score', 'roc_auc')\n",
        "    new_cols.append(col)\n",
        "\n",
        "ptb_ag.columns = new_cols\n",
        "print(f'the columns for the ptb results are now:\\n{ptb_ag.columns}')"
      ],
      "metadata": {
        "colab": {
          "base_uri": "https://localhost:8080/",
          "height": 121
        },
        "id": "bL7xfJVqJfoZ",
        "outputId": "661ba039-1a34-4f08-d7a9-120e7d522ece"
      },
      "execution_count": 23,
      "outputs": [
        {
          "output_type": "display_data",
          "data": {
            "text/plain": [
              "<IPython.core.display.HTML object>"
            ],
            "text/html": [
              "\n",
              "  <style>\n",
              "    pre {\n",
              "        white-space: pre-wrap;\n",
              "    }\n",
              "  </style>\n",
              "  "
            ]
          },
          "metadata": {}
        },
        {
          "output_type": "stream",
          "name": "stdout",
          "text": [
            "the columns for the ptb results are now:\n",
            "Index(['delete_me_0', 'model', 'roc_auc_test', 'roc_auc_val', 'pred_time_test',\n",
            "       'pred_time_val', 'fit_time', 'pred_time_test_marginal',\n",
            "       'pred_time_val_marginal', 'fit_time_marginal', 'stack_level',\n",
            "       'can_infer', 'fit_order'],\n",
            "      dtype='object')\n"
          ]
        }
      ]
    },
    {
      "cell_type": "code",
      "source": [
        "try:\n",
        "    del ptb_ag['delete_me_0']\n",
        "except Exception as e:\n",
        "    print(f'skipping delete - {e}')\n",
        "\n",
        "\n",
        "ptb_ag.reset_index(drop=True, inplace=True)\n",
        "ptb_ag.head()"
      ],
      "metadata": {
        "colab": {
          "base_uri": "https://localhost:8080/",
          "height": 270
        },
        "id": "IwdsSP53J90I",
        "outputId": "b694a0d1-b2ee-4a94-f99f-f1cb9e5a9bcb"
      },
      "execution_count": 24,
      "outputs": [
        {
          "output_type": "display_data",
          "data": {
            "text/plain": [
              "<IPython.core.display.HTML object>"
            ],
            "text/html": [
              "\n",
              "  <style>\n",
              "    pre {\n",
              "        white-space: pre-wrap;\n",
              "    }\n",
              "  </style>\n",
              "  "
            ]
          },
          "metadata": {}
        },
        {
          "output_type": "execute_result",
          "data": {
            "text/plain": [
              "                    model  roc_auc_test  roc_auc_val  pred_time_test  \\\n",
              "0     WeightedEnsemble_L3           1.0     0.991153       56.442027   \n",
              "1         LightGBM_BAG_L2           1.0     0.990981        53.88617   \n",
              "2  NeuralNetFastAI_BAG_L2           1.0     0.990981       59.402995   \n",
              "3    LightGBMLarge_BAG_L2           1.0     0.990637       55.223274   \n",
              "4     WeightedEnsemble_L2           1.0      0.98995       22.309041   \n",
              "\n",
              "   pred_time_val     fit_time  pred_time_test_marginal  \\\n",
              "0      55.951196  7574.346129                   0.0027   \n",
              "1      54.051606   6467.99865                 1.216053   \n",
              "2      60.666399  6712.757208                 6.732878   \n",
              "3      54.916638  7117.574319                 2.553157   \n",
              "4      19.853544  2162.411832                 0.007025   \n",
              "\n",
              "   pred_time_val_marginal  fit_time_marginal  stack_level  can_infer  \\\n",
              "0                0.017853           4.621803            3       True   \n",
              "1                1.016706         452.150008            2       True   \n",
              "2                7.631498         696.908567            2       True   \n",
              "3                1.881737        1101.725677            2       True   \n",
              "4                0.017502           5.212323            2       True   \n",
              "\n",
              "   fit_order  \n",
              "0         26  \n",
              "1         16  \n",
              "2         22  \n",
              "3         25  \n",
              "4         14  "
            ],
            "text/html": [
              "\n",
              "  <div id=\"df-93c92f94-6288-4631-a428-5d16ff512603\">\n",
              "    <div class=\"colab-df-container\">\n",
              "      <div>\n",
              "<style scoped>\n",
              "    .dataframe tbody tr th:only-of-type {\n",
              "        vertical-align: middle;\n",
              "    }\n",
              "\n",
              "    .dataframe tbody tr th {\n",
              "        vertical-align: top;\n",
              "    }\n",
              "\n",
              "    .dataframe thead th {\n",
              "        text-align: right;\n",
              "    }\n",
              "</style>\n",
              "<table border=\"1\" class=\"dataframe\">\n",
              "  <thead>\n",
              "    <tr style=\"text-align: right;\">\n",
              "      <th></th>\n",
              "      <th>model</th>\n",
              "      <th>roc_auc_test</th>\n",
              "      <th>roc_auc_val</th>\n",
              "      <th>pred_time_test</th>\n",
              "      <th>pred_time_val</th>\n",
              "      <th>fit_time</th>\n",
              "      <th>pred_time_test_marginal</th>\n",
              "      <th>pred_time_val_marginal</th>\n",
              "      <th>fit_time_marginal</th>\n",
              "      <th>stack_level</th>\n",
              "      <th>can_infer</th>\n",
              "      <th>fit_order</th>\n",
              "    </tr>\n",
              "  </thead>\n",
              "  <tbody>\n",
              "    <tr>\n",
              "      <th>0</th>\n",
              "      <td>WeightedEnsemble_L3</td>\n",
              "      <td>1.0</td>\n",
              "      <td>0.991153</td>\n",
              "      <td>56.442027</td>\n",
              "      <td>55.951196</td>\n",
              "      <td>7574.346129</td>\n",
              "      <td>0.0027</td>\n",
              "      <td>0.017853</td>\n",
              "      <td>4.621803</td>\n",
              "      <td>3</td>\n",
              "      <td>True</td>\n",
              "      <td>26</td>\n",
              "    </tr>\n",
              "    <tr>\n",
              "      <th>1</th>\n",
              "      <td>LightGBM_BAG_L2</td>\n",
              "      <td>1.0</td>\n",
              "      <td>0.990981</td>\n",
              "      <td>53.88617</td>\n",
              "      <td>54.051606</td>\n",
              "      <td>6467.99865</td>\n",
              "      <td>1.216053</td>\n",
              "      <td>1.016706</td>\n",
              "      <td>452.150008</td>\n",
              "      <td>2</td>\n",
              "      <td>True</td>\n",
              "      <td>16</td>\n",
              "    </tr>\n",
              "    <tr>\n",
              "      <th>2</th>\n",
              "      <td>NeuralNetFastAI_BAG_L2</td>\n",
              "      <td>1.0</td>\n",
              "      <td>0.990981</td>\n",
              "      <td>59.402995</td>\n",
              "      <td>60.666399</td>\n",
              "      <td>6712.757208</td>\n",
              "      <td>6.732878</td>\n",
              "      <td>7.631498</td>\n",
              "      <td>696.908567</td>\n",
              "      <td>2</td>\n",
              "      <td>True</td>\n",
              "      <td>22</td>\n",
              "    </tr>\n",
              "    <tr>\n",
              "      <th>3</th>\n",
              "      <td>LightGBMLarge_BAG_L2</td>\n",
              "      <td>1.0</td>\n",
              "      <td>0.990637</td>\n",
              "      <td>55.223274</td>\n",
              "      <td>54.916638</td>\n",
              "      <td>7117.574319</td>\n",
              "      <td>2.553157</td>\n",
              "      <td>1.881737</td>\n",
              "      <td>1101.725677</td>\n",
              "      <td>2</td>\n",
              "      <td>True</td>\n",
              "      <td>25</td>\n",
              "    </tr>\n",
              "    <tr>\n",
              "      <th>4</th>\n",
              "      <td>WeightedEnsemble_L2</td>\n",
              "      <td>1.0</td>\n",
              "      <td>0.98995</td>\n",
              "      <td>22.309041</td>\n",
              "      <td>19.853544</td>\n",
              "      <td>2162.411832</td>\n",
              "      <td>0.007025</td>\n",
              "      <td>0.017502</td>\n",
              "      <td>5.212323</td>\n",
              "      <td>2</td>\n",
              "      <td>True</td>\n",
              "      <td>14</td>\n",
              "    </tr>\n",
              "  </tbody>\n",
              "</table>\n",
              "</div>\n",
              "      <button class=\"colab-df-convert\" onclick=\"convertToInteractive('df-93c92f94-6288-4631-a428-5d16ff512603')\"\n",
              "              title=\"Convert this dataframe to an interactive table.\"\n",
              "              style=\"display:none;\">\n",
              "        \n",
              "  <svg xmlns=\"http://www.w3.org/2000/svg\" height=\"24px\"viewBox=\"0 0 24 24\"\n",
              "       width=\"24px\">\n",
              "    <path d=\"M0 0h24v24H0V0z\" fill=\"none\"/>\n",
              "    <path d=\"M18.56 5.44l.94 2.06.94-2.06 2.06-.94-2.06-.94-.94-2.06-.94 2.06-2.06.94zm-11 1L8.5 8.5l.94-2.06 2.06-.94-2.06-.94L8.5 2.5l-.94 2.06-2.06.94zm10 10l.94 2.06.94-2.06 2.06-.94-2.06-.94-.94-2.06-.94 2.06-2.06.94z\"/><path d=\"M17.41 7.96l-1.37-1.37c-.4-.4-.92-.59-1.43-.59-.52 0-1.04.2-1.43.59L10.3 9.45l-7.72 7.72c-.78.78-.78 2.05 0 2.83L4 21.41c.39.39.9.59 1.41.59.51 0 1.02-.2 1.41-.59l7.78-7.78 2.81-2.81c.8-.78.8-2.07 0-2.86zM5.41 20L4 18.59l7.72-7.72 1.47 1.35L5.41 20z\"/>\n",
              "  </svg>\n",
              "      </button>\n",
              "      \n",
              "  <style>\n",
              "    .colab-df-container {\n",
              "      display:flex;\n",
              "      flex-wrap:wrap;\n",
              "      gap: 12px;\n",
              "    }\n",
              "\n",
              "    .colab-df-convert {\n",
              "      background-color: #E8F0FE;\n",
              "      border: none;\n",
              "      border-radius: 50%;\n",
              "      cursor: pointer;\n",
              "      display: none;\n",
              "      fill: #1967D2;\n",
              "      height: 32px;\n",
              "      padding: 0 0 0 0;\n",
              "      width: 32px;\n",
              "    }\n",
              "\n",
              "    .colab-df-convert:hover {\n",
              "      background-color: #E2EBFA;\n",
              "      box-shadow: 0px 1px 2px rgba(60, 64, 67, 0.3), 0px 1px 3px 1px rgba(60, 64, 67, 0.15);\n",
              "      fill: #174EA6;\n",
              "    }\n",
              "\n",
              "    [theme=dark] .colab-df-convert {\n",
              "      background-color: #3B4455;\n",
              "      fill: #D2E3FC;\n",
              "    }\n",
              "\n",
              "    [theme=dark] .colab-df-convert:hover {\n",
              "      background-color: #434B5C;\n",
              "      box-shadow: 0px 1px 3px 1px rgba(0, 0, 0, 0.15);\n",
              "      filter: drop-shadow(0px 1px 2px rgba(0, 0, 0, 0.3));\n",
              "      fill: #FFFFFF;\n",
              "    }\n",
              "  </style>\n",
              "\n",
              "      <script>\n",
              "        const buttonEl =\n",
              "          document.querySelector('#df-93c92f94-6288-4631-a428-5d16ff512603 button.colab-df-convert');\n",
              "        buttonEl.style.display =\n",
              "          google.colab.kernel.accessAllowed ? 'block' : 'none';\n",
              "\n",
              "        async function convertToInteractive(key) {\n",
              "          const element = document.querySelector('#df-93c92f94-6288-4631-a428-5d16ff512603');\n",
              "          const dataTable =\n",
              "            await google.colab.kernel.invokeFunction('convertToInteractive',\n",
              "                                                     [key], {});\n",
              "          if (!dataTable) return;\n",
              "\n",
              "          const docLinkHtml = 'Like what you see? Visit the ' +\n",
              "            '<a target=\"_blank\" href=https://colab.research.google.com/notebooks/data_table.ipynb>data table notebook</a>'\n",
              "            + ' to learn more about interactive tables.';\n",
              "          element.innerHTML = '';\n",
              "          dataTable['output_type'] = 'display_data';\n",
              "          await google.colab.output.renderOutput(dataTable, element);\n",
              "          const docLink = document.createElement('div');\n",
              "          docLink.innerHTML = docLinkHtml;\n",
              "          element.appendChild(docLink);\n",
              "        }\n",
              "      </script>\n",
              "    </div>\n",
              "  </div>\n",
              "  "
            ]
          },
          "metadata": {},
          "execution_count": 24
        }
      ]
    },
    {
      "cell_type": "code",
      "source": [
        "ptb_ag.to_csv(_out / \"PTBDB_autogluon_baseline_results_ROCAUC.csv\", index=False)\n"
      ],
      "metadata": {
        "colab": {
          "base_uri": "https://localhost:8080/",
          "height": 17
        },
        "id": "uMpL2mCIKMaJ",
        "outputId": "1a0d4ff6-663c-4ae7-a352-37278387bbdd"
      },
      "execution_count": 26,
      "outputs": [
        {
          "output_type": "display_data",
          "data": {
            "text/plain": [
              "<IPython.core.display.HTML object>"
            ],
            "text/html": [
              "\n",
              "  <style>\n",
              "    pre {\n",
              "        white-space: pre-wrap;\n",
              "    }\n",
              "  </style>\n",
              "  "
            ]
          },
          "metadata": {}
        }
      ]
    },
    {
      "cell_type": "code",
      "source": [
        "print(f'results are in {_out.resolve()}')"
      ],
      "metadata": {
        "colab": {
          "base_uri": "https://localhost:8080/",
          "height": 34
        },
        "id": "uoenwua9Knbz",
        "outputId": "acb7da93-0cde-4e22-ccd1-8eac57695a42"
      },
      "execution_count": 27,
      "outputs": [
        {
          "output_type": "display_data",
          "data": {
            "text/plain": [
              "<IPython.core.display.HTML object>"
            ],
            "text/html": [
              "\n",
              "  <style>\n",
              "    pre {\n",
              "        white-space: pre-wrap;\n",
              "    }\n",
              "  </style>\n",
              "  "
            ]
          },
          "metadata": {}
        },
        {
          "output_type": "stream",
          "name": "stdout",
          "text": [
            "results are in /content/drive/MyDrive/ETHZ-2022-S/ML-healthcare-projects/project1/gluon-autoML/Formatted-results-report\n"
          ]
        }
      ]
    },
    {
      "cell_type": "code",
      "source": [
        ""
      ],
      "metadata": {
        "id": "eePU0ux2KtCm"
      },
      "execution_count": null,
      "outputs": []
    }
  ]
}